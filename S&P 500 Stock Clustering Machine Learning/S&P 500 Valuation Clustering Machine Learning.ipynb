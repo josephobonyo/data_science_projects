{
 "cells": [
  {
   "cell_type": "markdown",
   "metadata": {},
   "source": [
    "# Clustering S&P 500 Stocks Based on Valuation Metrics"
   ]
  },
  {
   "cell_type": "markdown",
   "metadata": {},
   "source": [
    "## Import libraries and data\n",
    "Pandas allows us to import data, requests will allows us to retrieve data from the TD Ameritrade API and config is the python file in the project folder that contains my TD Ameritrade API client id."
   ]
  },
  {
   "cell_type": "code",
   "execution_count": 1,
   "metadata": {},
   "outputs": [],
   "source": [
    "import pandas as pd\n",
    "import requests\n",
    "from config import client_id"
   ]
  },
  {
   "cell_type": "markdown",
   "metadata": {},
   "source": [
    "CSV file download link: https://pkgstore.datahub.io/core/s-and-p-500-companies/constituents_csv/data/779b551ca54db43326b8035fca52cb1e/constituents_csv.csv"
   ]
  },
  {
   "cell_type": "code",
   "execution_count": 2,
   "metadata": {},
   "outputs": [
    {
     "data": {
      "text/plain": [
       "(505, 3)"
      ]
     },
     "execution_count": 2,
     "metadata": {},
     "output_type": "execute_result"
    }
   ],
   "source": [
    "path = 'constituents_csv.csv'\n",
    "stock_symbols = pd.read_csv(path)\n",
    "stock_symbols.shape"
   ]
  },
  {
   "cell_type": "markdown",
   "metadata": {},
   "source": [
    "Divide the list of stocks into 100s because TD Ameritrade's API will have errors if too many stocks are passed in at the same time."
   ]
  },
  {
   "cell_type": "code",
   "execution_count": 3,
   "metadata": {},
   "outputs": [
    {
     "data": {
      "text/html": [
       "<div>\n",
       "<style scoped>\n",
       "    .dataframe tbody tr th:only-of-type {\n",
       "        vertical-align: middle;\n",
       "    }\n",
       "\n",
       "    .dataframe tbody tr th {\n",
       "        vertical-align: top;\n",
       "    }\n",
       "\n",
       "    .dataframe thead th {\n",
       "        text-align: right;\n",
       "    }\n",
       "</style>\n",
       "<table border=\"1\" class=\"dataframe\">\n",
       "  <thead>\n",
       "    <tr style=\"text-align: right;\">\n",
       "      <th></th>\n",
       "      <th>Symbol</th>\n",
       "      <th>Name</th>\n",
       "      <th>Sector</th>\n",
       "    </tr>\n",
       "  </thead>\n",
       "  <tbody>\n",
       "    <tr>\n",
       "      <th>0</th>\n",
       "      <td>MMM</td>\n",
       "      <td>3M</td>\n",
       "      <td>Industrials</td>\n",
       "    </tr>\n",
       "    <tr>\n",
       "      <th>1</th>\n",
       "      <td>AOS</td>\n",
       "      <td>A. O. Smith</td>\n",
       "      <td>Industrials</td>\n",
       "    </tr>\n",
       "    <tr>\n",
       "      <th>2</th>\n",
       "      <td>ABT</td>\n",
       "      <td>Abbott Laboratories</td>\n",
       "      <td>Health Care</td>\n",
       "    </tr>\n",
       "    <tr>\n",
       "      <th>3</th>\n",
       "      <td>ABBV</td>\n",
       "      <td>AbbVie</td>\n",
       "      <td>Health Care</td>\n",
       "    </tr>\n",
       "    <tr>\n",
       "      <th>4</th>\n",
       "      <td>ABMD</td>\n",
       "      <td>Abiomed</td>\n",
       "      <td>Health Care</td>\n",
       "    </tr>\n",
       "    <tr>\n",
       "      <th>...</th>\n",
       "      <td>...</td>\n",
       "      <td>...</td>\n",
       "      <td>...</td>\n",
       "    </tr>\n",
       "    <tr>\n",
       "      <th>95</th>\n",
       "      <td>CE</td>\n",
       "      <td>Celanese</td>\n",
       "      <td>Materials</td>\n",
       "    </tr>\n",
       "    <tr>\n",
       "      <th>96</th>\n",
       "      <td>CNC</td>\n",
       "      <td>Centene Corporation</td>\n",
       "      <td>Health Care</td>\n",
       "    </tr>\n",
       "    <tr>\n",
       "      <th>97</th>\n",
       "      <td>CNP</td>\n",
       "      <td>CenterPoint Energy</td>\n",
       "      <td>Utilities</td>\n",
       "    </tr>\n",
       "    <tr>\n",
       "      <th>98</th>\n",
       "      <td>CERN</td>\n",
       "      <td>Cerner</td>\n",
       "      <td>Health Care</td>\n",
       "    </tr>\n",
       "    <tr>\n",
       "      <th>99</th>\n",
       "      <td>CF</td>\n",
       "      <td>CF Industries</td>\n",
       "      <td>Materials</td>\n",
       "    </tr>\n",
       "  </tbody>\n",
       "</table>\n",
       "<p>100 rows × 3 columns</p>\n",
       "</div>"
      ],
      "text/plain": [
       "   Symbol                 Name       Sector\n",
       "0     MMM                   3M  Industrials\n",
       "1     AOS          A. O. Smith  Industrials\n",
       "2     ABT  Abbott Laboratories  Health Care\n",
       "3    ABBV               AbbVie  Health Care\n",
       "4    ABMD              Abiomed  Health Care\n",
       "..    ...                  ...          ...\n",
       "95     CE             Celanese    Materials\n",
       "96    CNC  Centene Corporation  Health Care\n",
       "97    CNP   CenterPoint Energy    Utilities\n",
       "98   CERN               Cerner  Health Care\n",
       "99     CF        CF Industries    Materials\n",
       "\n",
       "[100 rows x 3 columns]"
      ]
     },
     "execution_count": 3,
     "metadata": {},
     "output_type": "execute_result"
    }
   ],
   "source": [
    "# Define the size of the chunks\n",
    "n = 100\n",
    "\n",
    "# Break the dataframe into chunks\n",
    "symbols_chunk = [stock_symbols[i:i+n] for i in range(0, stock_symbols.shape[0], n)]\n",
    "symbols_chunk[0]"
   ]
  },
  {
   "cell_type": "code",
   "execution_count": 4,
   "metadata": {},
   "outputs": [
    {
     "data": {
      "text/plain": [
       "['MMM', 'AOS', 'ABT', 'ABBV', 'ABMD']"
      ]
     },
     "execution_count": 4,
     "metadata": {},
     "output_type": "execute_result"
    }
   ],
   "source": [
    "# Grab an example to see the chunk\n",
    "example_chunk = list(symbols_chunk[0]['Symbol'])\n",
    "\n",
    "example_chunk[:5]"
   ]
  },
  {
   "cell_type": "markdown",
   "metadata": {},
   "source": [
    "## Get a dataset of fundamentals from TD Ameritrade"
   ]
  },
  {
   "cell_type": "code",
   "execution_count": 5,
   "metadata": {},
   "outputs": [],
   "source": [
    "# define an endpoint, in this case we will use the instruments endpoint\n",
    "endpoint = r\"https://api.tdameritrade.com/v1/instruments\"\n",
    "\n",
    "# we need a place to store all of our data, so a dictionary will do.\n",
    "stock_dict = {}\n",
    "\n",
    "# loop through each chunk\n",
    "for chunk in symbols_chunk:\n",
    "    \n",
    "    # define the payload\n",
    "    payload = {'apikey':client_id,\n",
    "               'projection':'fundamental',\n",
    "               'symbol':list(chunk['Symbol'])}\n",
    "    \n",
    "    # make a request\n",
    "    content = requests.get(url = endpoint, params = payload)\n",
    "\n",
    "    # convert it dictionary object\n",
    "    data = content.json()\n",
    "\n",
    "    # the ones that do exist, loop through each stock, grab the data, and store it in the dictionary\n",
    "    try:\n",
    "        for stock in data:\n",
    "            stock_dict[data[stock]['cusip']] = data[stock]['fundamental']\n",
    "    except:\n",
    "        continue"
   ]
  },
  {
   "cell_type": "code",
   "execution_count": 6,
   "metadata": {},
   "outputs": [],
   "source": [
    "# Create dataframe in newly collected data\n",
    "stock_df = pd.DataFrame(stock_dict)\n",
    "\n",
    "# Save a csv copy of the dataset\n",
    "stock_df.to_csv('new_symbols.csv')"
   ]
  },
  {
   "cell_type": "markdown",
   "metadata": {},
   "source": [
    "## Preprocessing the data"
   ]
  },
  {
   "cell_type": "code",
   "execution_count": 7,
   "metadata": {},
   "outputs": [
    {
     "data": {
      "text/html": [
       "<div>\n",
       "<style scoped>\n",
       "    .dataframe tbody tr th:only-of-type {\n",
       "        vertical-align: middle;\n",
       "    }\n",
       "\n",
       "    .dataframe tbody tr th {\n",
       "        vertical-align: top;\n",
       "    }\n",
       "\n",
       "    .dataframe thead th {\n",
       "        text-align: right;\n",
       "    }\n",
       "</style>\n",
       "<table border=\"1\" class=\"dataframe\">\n",
       "  <thead>\n",
       "    <tr style=\"text-align: right;\">\n",
       "      <th></th>\n",
       "      <th>symbol</th>\n",
       "      <th>high52</th>\n",
       "      <th>low52</th>\n",
       "      <th>dividendAmount</th>\n",
       "      <th>dividendYield</th>\n",
       "      <th>dividendDate</th>\n",
       "      <th>peRatio</th>\n",
       "      <th>pegRatio</th>\n",
       "      <th>pbRatio</th>\n",
       "      <th>prRatio</th>\n",
       "      <th>...</th>\n",
       "      <th>bookValuePerShare</th>\n",
       "      <th>shortIntToFloat</th>\n",
       "      <th>shortIntDayToCover</th>\n",
       "      <th>divGrowthRate3Year</th>\n",
       "      <th>dividendPayAmount</th>\n",
       "      <th>dividendPayDate</th>\n",
       "      <th>beta</th>\n",
       "      <th>vol1DayAvg</th>\n",
       "      <th>vol10DayAvg</th>\n",
       "      <th>vol3MonthAvg</th>\n",
       "    </tr>\n",
       "  </thead>\n",
       "  <tbody>\n",
       "    <tr>\n",
       "      <th>14448C104</th>\n",
       "      <td>CARR</td>\n",
       "      <td>58.89</td>\n",
       "      <td>28.79</td>\n",
       "      <td>0.48</td>\n",
       "      <td>0.93</td>\n",
       "      <td>2021-06-23 00:00:00.000</td>\n",
       "      <td>18.39751</td>\n",
       "      <td>0.206672</td>\n",
       "      <td>6.63876</td>\n",
       "      <td>2.27269</td>\n",
       "      <td>...</td>\n",
       "      <td>0.0</td>\n",
       "      <td>0.0</td>\n",
       "      <td>0.0</td>\n",
       "      <td>0.0</td>\n",
       "      <td>0.12</td>\n",
       "      <td>2021-08-10 00:00:00.000</td>\n",
       "      <td>0.0</td>\n",
       "      <td>5879610.0</td>\n",
       "      <td>5879612.0</td>\n",
       "      <td>93667810.0</td>\n",
       "    </tr>\n",
       "    <tr>\n",
       "      <th>156782104</th>\n",
       "      <td>CERN</td>\n",
       "      <td>84.2</td>\n",
       "      <td>66.75</td>\n",
       "      <td>0.88</td>\n",
       "      <td>1.2</td>\n",
       "      <td>2021-09-24 00:00:00.000</td>\n",
       "      <td>32.153</td>\n",
       "      <td>0.854441</td>\n",
       "      <td>5.4556</td>\n",
       "      <td>3.86596</td>\n",
       "      <td>...</td>\n",
       "      <td>5.18097</td>\n",
       "      <td>0.0</td>\n",
       "      <td>0.0</td>\n",
       "      <td>0.0</td>\n",
       "      <td>0.22</td>\n",
       "      <td>2021-10-12 00:00:00.000</td>\n",
       "      <td>0.72149</td>\n",
       "      <td>2500170.0</td>\n",
       "      <td>2500168.0</td>\n",
       "      <td>47379160.0</td>\n",
       "    </tr>\n",
       "    <tr>\n",
       "      <th>037833100</th>\n",
       "      <td>AAPL</td>\n",
       "      <td>157.26</td>\n",
       "      <td>103.1</td>\n",
       "      <td>0.88</td>\n",
       "      <td>0.61</td>\n",
       "      <td>2021-08-06 00:00:00.000</td>\n",
       "      <td>28.08977</td>\n",
       "      <td>0.508559</td>\n",
       "      <td>36.94403</td>\n",
       "      <td>6.82958</td>\n",
       "      <td>...</td>\n",
       "      <td>0.0</td>\n",
       "      <td>0.0</td>\n",
       "      <td>0.0</td>\n",
       "      <td>0.0</td>\n",
       "      <td>0.22</td>\n",
       "      <td>2021-08-12 00:00:00.000</td>\n",
       "      <td>1.2196</td>\n",
       "      <td>96481690.0</td>\n",
       "      <td>96481691.0</td>\n",
       "      <td>1676171330.0</td>\n",
       "    </tr>\n",
       "    <tr>\n",
       "      <th>115637209</th>\n",
       "      <td>BF/B</td>\n",
       "      <td>82.24</td>\n",
       "      <td>67.74</td>\n",
       "      <td>0.718</td>\n",
       "      <td>1.04</td>\n",
       "      <td>2021-09-02 00:00:00.000</td>\n",
       "      <td>42.8444</td>\n",
       "      <td>0.0</td>\n",
       "      <td>12.26301</td>\n",
       "      <td>8.96737</td>\n",
       "      <td>...</td>\n",
       "      <td>9.92369</td>\n",
       "      <td>0.0</td>\n",
       "      <td>0.0</td>\n",
       "      <td>0.0</td>\n",
       "      <td>0.1795</td>\n",
       "      <td>2021-10-01 00:00:00.000</td>\n",
       "      <td>0.80284</td>\n",
       "      <td>1288230.0</td>\n",
       "      <td>1288226.0</td>\n",
       "      <td>18571040.0</td>\n",
       "    </tr>\n",
       "    <tr>\n",
       "      <th>031162100</th>\n",
       "      <td>AMGN</td>\n",
       "      <td>276.69</td>\n",
       "      <td>210.28</td>\n",
       "      <td>7.04</td>\n",
       "      <td>3.27</td>\n",
       "      <td>2021-08-16 00:00:00.000</td>\n",
       "      <td>21.89673</td>\n",
       "      <td>0.0</td>\n",
       "      <td>14.87439</td>\n",
       "      <td>4.7988</td>\n",
       "      <td>...</td>\n",
       "      <td>0.0</td>\n",
       "      <td>0.0</td>\n",
       "      <td>0.0</td>\n",
       "      <td>0.0</td>\n",
       "      <td>1.76</td>\n",
       "      <td>2021-09-08 00:00:00.000</td>\n",
       "      <td>0.67846</td>\n",
       "      <td>2850130.0</td>\n",
       "      <td>2850127.0</td>\n",
       "      <td>50764690.0</td>\n",
       "    </tr>\n",
       "  </tbody>\n",
       "</table>\n",
       "<p>5 rows × 46 columns</p>\n",
       "</div>"
      ],
      "text/plain": [
       "          symbol  high52   low52 dividendAmount dividendYield  \\\n",
       "14448C104   CARR   58.89   28.79           0.48          0.93   \n",
       "156782104   CERN    84.2   66.75           0.88           1.2   \n",
       "037833100   AAPL  157.26   103.1           0.88          0.61   \n",
       "115637209   BF/B   82.24   67.74          0.718          1.04   \n",
       "031162100   AMGN  276.69  210.28           7.04          3.27   \n",
       "\n",
       "                      dividendDate   peRatio  pegRatio   pbRatio  prRatio  \\\n",
       "14448C104  2021-06-23 00:00:00.000  18.39751  0.206672   6.63876  2.27269   \n",
       "156782104  2021-09-24 00:00:00.000    32.153  0.854441    5.4556  3.86596   \n",
       "037833100  2021-08-06 00:00:00.000  28.08977  0.508559  36.94403  6.82958   \n",
       "115637209  2021-09-02 00:00:00.000   42.8444       0.0  12.26301  8.96737   \n",
       "031162100  2021-08-16 00:00:00.000  21.89673       0.0  14.87439   4.7988   \n",
       "\n",
       "           ... bookValuePerShare shortIntToFloat shortIntDayToCover  \\\n",
       "14448C104  ...               0.0             0.0                0.0   \n",
       "156782104  ...           5.18097             0.0                0.0   \n",
       "037833100  ...               0.0             0.0                0.0   \n",
       "115637209  ...           9.92369             0.0                0.0   \n",
       "031162100  ...               0.0             0.0                0.0   \n",
       "\n",
       "          divGrowthRate3Year dividendPayAmount          dividendPayDate  \\\n",
       "14448C104                0.0              0.12  2021-08-10 00:00:00.000   \n",
       "156782104                0.0              0.22  2021-10-12 00:00:00.000   \n",
       "037833100                0.0              0.22  2021-08-12 00:00:00.000   \n",
       "115637209                0.0            0.1795  2021-10-01 00:00:00.000   \n",
       "031162100                0.0              1.76  2021-09-08 00:00:00.000   \n",
       "\n",
       "              beta  vol1DayAvg vol10DayAvg  vol3MonthAvg  \n",
       "14448C104      0.0   5879610.0   5879612.0    93667810.0  \n",
       "156782104  0.72149   2500170.0   2500168.0    47379160.0  \n",
       "037833100   1.2196  96481690.0  96481691.0  1676171330.0  \n",
       "115637209  0.80284   1288230.0   1288226.0    18571040.0  \n",
       "031162100  0.67846   2850130.0   2850127.0    50764690.0  \n",
       "\n",
       "[5 rows x 46 columns]"
      ]
     },
     "metadata": {},
     "output_type": "display_data"
    },
    {
     "data": {
      "text/plain": [
       "(505, 46)"
      ]
     },
     "metadata": {},
     "output_type": "display_data"
    }
   ],
   "source": [
    "# Transpose the data\n",
    "stock_df = stock_df.transpose()\n",
    "\n",
    "# Display data\n",
    "display(stock_df.head())\n",
    "\n",
    "# Display shape (There are over 500 stocks because some companies have different classes of shares)\n",
    "display(stock_df.shape)"
   ]
  },
  {
   "cell_type": "markdown",
   "metadata": {},
   "source": [
    "Choose only the desired valuation metrics to use for the analysis and drop any rows with missing data"
   ]
  },
  {
   "cell_type": "code",
   "execution_count": 8,
   "metadata": {},
   "outputs": [
    {
     "data": {
      "text/html": [
       "<div>\n",
       "<style scoped>\n",
       "    .dataframe tbody tr th:only-of-type {\n",
       "        vertical-align: middle;\n",
       "    }\n",
       "\n",
       "    .dataframe tbody tr th {\n",
       "        vertical-align: top;\n",
       "    }\n",
       "\n",
       "    .dataframe thead th {\n",
       "        text-align: right;\n",
       "    }\n",
       "</style>\n",
       "<table border=\"1\" class=\"dataframe\">\n",
       "  <thead>\n",
       "    <tr style=\"text-align: right;\">\n",
       "      <th></th>\n",
       "      <th>peRatio</th>\n",
       "      <th>pbRatio</th>\n",
       "      <th>pcfRatio</th>\n",
       "      <th>symbol</th>\n",
       "    </tr>\n",
       "  </thead>\n",
       "  <tbody>\n",
       "    <tr>\n",
       "      <th>14448C104</th>\n",
       "      <td>18.39751</td>\n",
       "      <td>6.63876</td>\n",
       "      <td>15.63314</td>\n",
       "      <td>CARR</td>\n",
       "    </tr>\n",
       "    <tr>\n",
       "      <th>156782104</th>\n",
       "      <td>32.153</td>\n",
       "      <td>5.4556</td>\n",
       "      <td>15.3638</td>\n",
       "      <td>CERN</td>\n",
       "    </tr>\n",
       "    <tr>\n",
       "      <th>037833100</th>\n",
       "      <td>28.08977</td>\n",
       "      <td>36.94403</td>\n",
       "      <td>24.2428</td>\n",
       "      <td>AAPL</td>\n",
       "    </tr>\n",
       "    <tr>\n",
       "      <th>115637209</th>\n",
       "      <td>42.8444</td>\n",
       "      <td>12.26301</td>\n",
       "      <td>38.21709</td>\n",
       "      <td>BF/B</td>\n",
       "    </tr>\n",
       "    <tr>\n",
       "      <th>031162100</th>\n",
       "      <td>21.89673</td>\n",
       "      <td>14.87439</td>\n",
       "      <td>13.26961</td>\n",
       "      <td>AMGN</td>\n",
       "    </tr>\n",
       "    <tr>\n",
       "      <th>...</th>\n",
       "      <td>...</td>\n",
       "      <td>...</td>\n",
       "      <td>...</td>\n",
       "      <td>...</td>\n",
       "    </tr>\n",
       "    <tr>\n",
       "      <th>98389B100</th>\n",
       "      <td>21.57844</td>\n",
       "      <td>2.30323</td>\n",
       "      <td>9.11655</td>\n",
       "      <td>XEL</td>\n",
       "    </tr>\n",
       "    <tr>\n",
       "      <th>98956P102</th>\n",
       "      <td>32.00308</td>\n",
       "      <td>2.36876</td>\n",
       "      <td>14.9444</td>\n",
       "      <td>ZBH</td>\n",
       "    </tr>\n",
       "    <tr>\n",
       "      <th>989701107</th>\n",
       "      <td>8.31711</td>\n",
       "      <td>1.18315</td>\n",
       "      <td>19.29858</td>\n",
       "      <td>ZION</td>\n",
       "    </tr>\n",
       "    <tr>\n",
       "      <th>98978V103</th>\n",
       "      <td>50.32862</td>\n",
       "      <td>21.9129</td>\n",
       "      <td>40.48768</td>\n",
       "      <td>ZTS</td>\n",
       "    </tr>\n",
       "    <tr>\n",
       "      <th>989207105</th>\n",
       "      <td>38.38766</td>\n",
       "      <td>11.20046</td>\n",
       "      <td>31.24764</td>\n",
       "      <td>ZBRA</td>\n",
       "    </tr>\n",
       "  </tbody>\n",
       "</table>\n",
       "<p>436 rows × 4 columns</p>\n",
       "</div>"
      ],
      "text/plain": [
       "            peRatio   pbRatio  pcfRatio symbol\n",
       "14448C104  18.39751   6.63876  15.63314   CARR\n",
       "156782104    32.153    5.4556   15.3638   CERN\n",
       "037833100  28.08977  36.94403   24.2428   AAPL\n",
       "115637209   42.8444  12.26301  38.21709   BF/B\n",
       "031162100  21.89673  14.87439  13.26961   AMGN\n",
       "...             ...       ...       ...    ...\n",
       "98389B100  21.57844   2.30323   9.11655    XEL\n",
       "98956P102  32.00308   2.36876   14.9444    ZBH\n",
       "989701107   8.31711   1.18315  19.29858   ZION\n",
       "98978V103  50.32862   21.9129  40.48768    ZTS\n",
       "989207105  38.38766  11.20046  31.24764   ZBRA\n",
       "\n",
       "[436 rows x 4 columns]"
      ]
     },
     "metadata": {},
     "output_type": "display_data"
    }
   ],
   "source": [
    "# Define the indicator list\n",
    "metrics_list = ['peRatio', 'pbRatio', 'pcfRatio', 'symbol']\n",
    "\n",
    "# Select only columns we need\n",
    "indicators_df = stock_df[metrics_list]\n",
    "\n",
    "# Remove missing values\n",
    "indicators_df = indicators_df[indicators_df[metrics_list] != 0]\n",
    "indicators_df = indicators_df.dropna(how = 'any')\n",
    "\n",
    "# Display clean data\n",
    "display(indicators_df)"
   ]
  },
  {
   "cell_type": "markdown",
   "metadata": {},
   "source": [
    "Set the symbol attribute as the index and change the rest of the dataframe to a float data type"
   ]
  },
  {
   "cell_type": "code",
   "execution_count": 9,
   "metadata": {},
   "outputs": [
    {
     "data": {
      "text/html": [
       "<div>\n",
       "<style scoped>\n",
       "    .dataframe tbody tr th:only-of-type {\n",
       "        vertical-align: middle;\n",
       "    }\n",
       "\n",
       "    .dataframe tbody tr th {\n",
       "        vertical-align: top;\n",
       "    }\n",
       "\n",
       "    .dataframe thead th {\n",
       "        text-align: right;\n",
       "    }\n",
       "</style>\n",
       "<table border=\"1\" class=\"dataframe\">\n",
       "  <thead>\n",
       "    <tr style=\"text-align: right;\">\n",
       "      <th></th>\n",
       "      <th>peRatio</th>\n",
       "      <th>pbRatio</th>\n",
       "      <th>pcfRatio</th>\n",
       "    </tr>\n",
       "    <tr>\n",
       "      <th>symbol</th>\n",
       "      <th></th>\n",
       "      <th></th>\n",
       "      <th></th>\n",
       "    </tr>\n",
       "  </thead>\n",
       "  <tbody>\n",
       "    <tr>\n",
       "      <th>CARR</th>\n",
       "      <td>18.39751</td>\n",
       "      <td>6.63876</td>\n",
       "      <td>15.63314</td>\n",
       "    </tr>\n",
       "    <tr>\n",
       "      <th>CERN</th>\n",
       "      <td>32.15300</td>\n",
       "      <td>5.45560</td>\n",
       "      <td>15.36380</td>\n",
       "    </tr>\n",
       "    <tr>\n",
       "      <th>AAPL</th>\n",
       "      <td>28.08977</td>\n",
       "      <td>36.94403</td>\n",
       "      <td>24.24280</td>\n",
       "    </tr>\n",
       "    <tr>\n",
       "      <th>BF/B</th>\n",
       "      <td>42.84440</td>\n",
       "      <td>12.26301</td>\n",
       "      <td>38.21709</td>\n",
       "    </tr>\n",
       "    <tr>\n",
       "      <th>AMGN</th>\n",
       "      <td>21.89673</td>\n",
       "      <td>14.87439</td>\n",
       "      <td>13.26961</td>\n",
       "    </tr>\n",
       "  </tbody>\n",
       "</table>\n",
       "</div>"
      ],
      "text/plain": [
       "         peRatio   pbRatio  pcfRatio\n",
       "symbol                              \n",
       "CARR    18.39751   6.63876  15.63314\n",
       "CERN    32.15300   5.45560  15.36380\n",
       "AAPL    28.08977  36.94403  24.24280\n",
       "BF/B    42.84440  12.26301  38.21709\n",
       "AMGN    21.89673  14.87439  13.26961"
      ]
     },
     "execution_count": 9,
     "metadata": {},
     "output_type": "execute_result"
    }
   ],
   "source": [
    "indicators_df = indicators_df.set_index('symbol')\n",
    "indicators_df = indicators_df.astype('float')\n",
    "indicators_df.head()"
   ]
  },
  {
   "cell_type": "markdown",
   "metadata": {},
   "source": [
    "Show info on datatypes and the new shape. Notice we now have 436 stocks instead of 505"
   ]
  },
  {
   "cell_type": "code",
   "execution_count": 10,
   "metadata": {},
   "outputs": [
    {
     "name": "stdout",
     "output_type": "stream",
     "text": [
      "<class 'pandas.core.frame.DataFrame'>\n",
      "Index: 436 entries, CARR to ZBRA\n",
      "Data columns (total 3 columns):\n",
      " #   Column    Non-Null Count  Dtype  \n",
      "---  ------    --------------  -----  \n",
      " 0   peRatio   436 non-null    float64\n",
      " 1   pbRatio   436 non-null    float64\n",
      " 2   pcfRatio  436 non-null    float64\n",
      "dtypes: float64(3)\n",
      "memory usage: 13.6+ KB\n"
     ]
    },
    {
     "data": {
      "text/plain": [
       "None"
      ]
     },
     "metadata": {},
     "output_type": "display_data"
    },
    {
     "data": {
      "text/plain": [
       "(436, 3)"
      ]
     },
     "metadata": {},
     "output_type": "display_data"
    }
   ],
   "source": [
    "display(indicators_df.info(), indicators_df.shape)"
   ]
  },
  {
   "cell_type": "markdown",
   "metadata": {},
   "source": [
    "### Descriptive statistics are showing extremely high max values compared to the mean. Data must be severly skewed. We will plot histograms to confirm, then deal with any outliers."
   ]
  },
  {
   "cell_type": "code",
   "execution_count": 11,
   "metadata": {},
   "outputs": [
    {
     "data": {
      "text/html": [
       "<div>\n",
       "<style scoped>\n",
       "    .dataframe tbody tr th:only-of-type {\n",
       "        vertical-align: middle;\n",
       "    }\n",
       "\n",
       "    .dataframe tbody tr th {\n",
       "        vertical-align: top;\n",
       "    }\n",
       "\n",
       "    .dataframe thead th {\n",
       "        text-align: right;\n",
       "    }\n",
       "</style>\n",
       "<table border=\"1\" class=\"dataframe\">\n",
       "  <thead>\n",
       "    <tr style=\"text-align: right;\">\n",
       "      <th></th>\n",
       "      <th>peRatio</th>\n",
       "      <th>pbRatio</th>\n",
       "      <th>pcfRatio</th>\n",
       "    </tr>\n",
       "  </thead>\n",
       "  <tbody>\n",
       "    <tr>\n",
       "      <th>count</th>\n",
       "      <td>436.000000</td>\n",
       "      <td>436.000000</td>\n",
       "      <td>436.000000</td>\n",
       "    </tr>\n",
       "    <tr>\n",
       "      <th>mean</th>\n",
       "      <td>44.853123</td>\n",
       "      <td>9.827881</td>\n",
       "      <td>22.080855</td>\n",
       "    </tr>\n",
       "    <tr>\n",
       "      <th>std</th>\n",
       "      <td>96.104993</td>\n",
       "      <td>19.886767</td>\n",
       "      <td>20.502538</td>\n",
       "    </tr>\n",
       "    <tr>\n",
       "      <th>min</th>\n",
       "      <td>5.287940</td>\n",
       "      <td>0.437170</td>\n",
       "      <td>2.079970</td>\n",
       "    </tr>\n",
       "    <tr>\n",
       "      <th>25%</th>\n",
       "      <td>17.646227</td>\n",
       "      <td>2.301530</td>\n",
       "      <td>10.128025</td>\n",
       "    </tr>\n",
       "    <tr>\n",
       "      <th>50%</th>\n",
       "      <td>26.937095</td>\n",
       "      <td>4.228245</td>\n",
       "      <td>17.469585</td>\n",
       "    </tr>\n",
       "    <tr>\n",
       "      <th>75%</th>\n",
       "      <td>42.607242</td>\n",
       "      <td>9.170210</td>\n",
       "      <td>25.194902</td>\n",
       "    </tr>\n",
       "    <tr>\n",
       "      <th>max</th>\n",
       "      <td>1337.011000</td>\n",
       "      <td>192.833500</td>\n",
       "      <td>227.659100</td>\n",
       "    </tr>\n",
       "  </tbody>\n",
       "</table>\n",
       "</div>"
      ],
      "text/plain": [
       "           peRatio     pbRatio    pcfRatio\n",
       "count   436.000000  436.000000  436.000000\n",
       "mean     44.853123    9.827881   22.080855\n",
       "std      96.104993   19.886767   20.502538\n",
       "min       5.287940    0.437170    2.079970\n",
       "25%      17.646227    2.301530   10.128025\n",
       "50%      26.937095    4.228245   17.469585\n",
       "75%      42.607242    9.170210   25.194902\n",
       "max    1337.011000  192.833500  227.659100"
      ]
     },
     "metadata": {},
     "output_type": "display_data"
    }
   ],
   "source": [
    "# Show descriptive statisitics \n",
    "display(indicators_df.describe())"
   ]
  },
  {
   "cell_type": "code",
   "execution_count": 12,
   "metadata": {},
   "outputs": [],
   "source": [
    "def save_fig(fig_id, tight_layout=True, fig_extension=\"png\", resolution=300):\n",
    "    path = fig_id + \".\" + fig_extension\n",
    "    print(\"Saving figure\", fig_id)\n",
    "    if tight_layout:\n",
    "        plt.tight_layout()\n",
    "    plt.savefig(path, format=fig_extension, dpi=resolution)"
   ]
  },
  {
   "cell_type": "markdown",
   "metadata": {},
   "source": [
    "Plotting three histograms on different subplots, we can see the data is severly skewed for all attributes."
   ]
  },
  {
   "cell_type": "code",
   "execution_count": 13,
   "metadata": {},
   "outputs": [
    {
     "name": "stdout",
     "output_type": "stream",
     "text": [
      "Saving figure hist_with_outliers\n"
     ]
    },
    {
     "data": {
      "image/png": "[encoded data removed]",
      "text/plain": [
       "<Figure size 2160x720 with 3 Axes>"
      ]
     },
     "metadata": {
      "needs_background": "light"
     },
     "output_type": "display_data"
    }
   ],
   "source": [
    "import matplotlib.pyplot as plt\n",
    "import seaborn as sns\n",
    "\n",
    "fig, (ax, ax1, ax2) = plt.subplots(1, 3, figsize=(30, 10))\n",
    "sns.histplot(x=indicators_df['peRatio'], ax=ax)\n",
    "sns.histplot(x=indicators_df['pbRatio'], ax=ax1)\n",
    "sns.histplot(x=indicators_df['pcfRatio'], ax=ax2)\n",
    "save_fig(fig_id='hist_with_outliers')"
   ]
  },
  {
   "cell_type": "markdown",
   "metadata": {},
   "source": [
    "Use the stats library to calculate z scores and the numpy library to make the values absolute."
   ]
  },
  {
   "cell_type": "code",
   "execution_count": 14,
   "metadata": {},
   "outputs": [
    {
     "name": "stdout",
     "output_type": "stream",
     "text": [
      "         peRatio   pbRatio  pcfRatio\n",
      "symbol                              \n",
      "CARR    0.275594  0.160548  0.314845\n",
      "CERN    0.132300  0.220111  0.327997\n",
      "AAPL    0.174628  1.365094  0.105569\n",
      "BF/B    0.020925  0.122590  0.787940\n",
      "AMGN    0.239142  0.254054  0.430257\n",
      "...          ...       ...       ...\n",
      "XEL     0.242458  0.378809  0.633053\n",
      "ZBH     0.133862  0.375510  0.348477\n",
      "ZION    0.380604  0.435197  0.135860\n",
      "ZTS     0.057040  0.608390  0.898814\n",
      "ZBRA    0.067352  0.069099  0.447618\n",
      "\n",
      "[436 rows x 3 columns]\n"
     ]
    }
   ],
   "source": [
    "from scipy import stats\n",
    "import numpy as np\n",
    "z = np.abs(stats.zscore(indicators_df))\n",
    "print(z)"
   ]
  },
  {
   "cell_type": "markdown",
   "metadata": {},
   "source": [
    "Filter the dataframe with z scores above 2 considered to be outliers and notice the change in the number of stocks, dropping down to 404."
   ]
  },
  {
   "cell_type": "code",
   "execution_count": 15,
   "metadata": {},
   "outputs": [
    {
     "data": {
      "text/plain": [
       "(404, 3)"
      ]
     },
     "execution_count": 15,
     "metadata": {},
     "output_type": "execute_result"
    }
   ],
   "source": [
    "indicators_df_o = indicators_df[(z < 2).all(axis=1)]\n",
    "indicators_df_o.shape"
   ]
  },
  {
   "cell_type": "code",
   "execution_count": 16,
   "metadata": {},
   "outputs": [
    {
     "name": "stdout",
     "output_type": "stream",
     "text": [
      "Saving figure hist_without_outliers\n"
     ]
    },
    {
     "data": {
      "image/png": "[encoded data removed]",
      "text/plain": [
       "<Figure size 2160x720 with 3 Axes>"
      ]
     },
     "metadata": {
      "needs_background": "light"
     },
     "output_type": "display_data"
    }
   ],
   "source": [
    "fig, (ax, ax1, ax2) = plt.subplots(1, 3, figsize=(30, 10))\n",
    "sns.histplot(x=indicators_df_o['peRatio'], ax=ax)\n",
    "sns.histplot(x=indicators_df_o['pbRatio'], ax=ax1)\n",
    "sns.histplot(x=indicators_df_o['pcfRatio'], ax=ax2)\n",
    "save_fig(fig_id='hist_without_outliers')"
   ]
  },
  {
   "cell_type": "markdown",
   "metadata": {},
   "source": [
    "Extreme values are much more manageable now."
   ]
  },
  {
   "cell_type": "code",
   "execution_count": 17,
   "metadata": {},
   "outputs": [
    {
     "data": {
      "text/html": [
       "<div>\n",
       "<style scoped>\n",
       "    .dataframe tbody tr th:only-of-type {\n",
       "        vertical-align: middle;\n",
       "    }\n",
       "\n",
       "    .dataframe tbody tr th {\n",
       "        vertical-align: top;\n",
       "    }\n",
       "\n",
       "    .dataframe thead th {\n",
       "        text-align: right;\n",
       "    }\n",
       "</style>\n",
       "<table border=\"1\" class=\"dataframe\">\n",
       "  <thead>\n",
       "    <tr style=\"text-align: right;\">\n",
       "      <th></th>\n",
       "      <th>peRatio</th>\n",
       "      <th>pbRatio</th>\n",
       "      <th>pcfRatio</th>\n",
       "    </tr>\n",
       "  </thead>\n",
       "  <tbody>\n",
       "    <tr>\n",
       "      <th>count</th>\n",
       "      <td>404.000000</td>\n",
       "      <td>404.000000</td>\n",
       "      <td>404.000000</td>\n",
       "    </tr>\n",
       "    <tr>\n",
       "      <th>mean</th>\n",
       "      <td>32.019606</td>\n",
       "      <td>6.450644</td>\n",
       "      <td>18.530625</td>\n",
       "    </tr>\n",
       "    <tr>\n",
       "      <th>std</th>\n",
       "      <td>25.971903</td>\n",
       "      <td>7.226710</td>\n",
       "      <td>11.079835</td>\n",
       "    </tr>\n",
       "    <tr>\n",
       "      <th>min</th>\n",
       "      <td>5.287940</td>\n",
       "      <td>0.437170</td>\n",
       "      <td>2.079970</td>\n",
       "    </tr>\n",
       "    <tr>\n",
       "      <th>25%</th>\n",
       "      <td>16.912128</td>\n",
       "      <td>2.227005</td>\n",
       "      <td>9.850373</td>\n",
       "    </tr>\n",
       "    <tr>\n",
       "      <th>50%</th>\n",
       "      <td>26.176415</td>\n",
       "      <td>3.922735</td>\n",
       "      <td>16.639880</td>\n",
       "    </tr>\n",
       "    <tr>\n",
       "      <th>75%</th>\n",
       "      <td>38.894905</td>\n",
       "      <td>7.804892</td>\n",
       "      <td>23.592257</td>\n",
       "    </tr>\n",
       "    <tr>\n",
       "      <th>max</th>\n",
       "      <td>222.551100</td>\n",
       "      <td>49.034200</td>\n",
       "      <td>62.529610</td>\n",
       "    </tr>\n",
       "  </tbody>\n",
       "</table>\n",
       "</div>"
      ],
      "text/plain": [
       "          peRatio     pbRatio    pcfRatio\n",
       "count  404.000000  404.000000  404.000000\n",
       "mean    32.019606    6.450644   18.530625\n",
       "std     25.971903    7.226710   11.079835\n",
       "min      5.287940    0.437170    2.079970\n",
       "25%     16.912128    2.227005    9.850373\n",
       "50%     26.176415    3.922735   16.639880\n",
       "75%     38.894905    7.804892   23.592257\n",
       "max    222.551100   49.034200   62.529610"
      ]
     },
     "execution_count": 17,
     "metadata": {},
     "output_type": "execute_result"
    }
   ],
   "source": [
    "# Describe the dataset again. \n",
    "indicators_df_o.describe()"
   ]
  },
  {
   "cell_type": "markdown",
   "metadata": {},
   "source": [
    "## Visualizing and scale the data\n",
    "mpl toolkits allows us to plot 3d scatter plots"
   ]
  },
  {
   "cell_type": "code",
   "execution_count": 18,
   "metadata": {},
   "outputs": [
    {
     "name": "stdout",
     "output_type": "stream",
     "text": [
      "Saving figure 3d_scatter\n"
     ]
    },
    {
     "data": {
      "image/png": "[encoded data removed]",
      "text/plain": [
       "<Figure size 576x576 with 1 Axes>"
      ]
     },
     "metadata": {
      "needs_background": "light"
     },
     "output_type": "display_data"
    }
   ],
   "source": [
    "from mpl_toolkits.mplot3d import Axes3D\n",
    "\n",
    "# Define our figure\n",
    "fig = plt.figure(figsize=(8, 8))\n",
    "ax = Axes3D(fig, auto_add_to_figure=False)\n",
    "fig.add_axes(ax)\n",
    "\n",
    "# Define the x, y, & z of our scatter plot, this will just be the data from our data frame.\n",
    "x = list(indicators_df_o.iloc[:,0])\n",
    "y = list(indicators_df_o.iloc[:,1])\n",
    "z = list(indicators_df_o.iloc[:,2])\n",
    "\n",
    "# Define the axis labels\n",
    "column_names = indicators_df.columns\n",
    "ax.set_xlabel(column_names[0])\n",
    "ax.set_ylabel(column_names[1])\n",
    "ax.set_zlabel(column_names[2])\n",
    "\n",
    "# Define the markers, and the color\n",
    "ax.scatter(x, y, z, c='royalBlue', marker='o')\n",
    "\n",
    "# Save plot\n",
    "save_fig(fig_id='3d_scatter', tight_layout=False)"
   ]
  },
  {
   "cell_type": "markdown",
   "metadata": {},
   "source": [
    "In order to prepare the data for the machine learning algorithm, it needs to be scaled. We will create instances of the min-max scaler, standard scaler, and robust scaler for demonstration but only use the robust scaler."
   ]
  },
  {
   "cell_type": "code",
   "execution_count": 19,
   "metadata": {},
   "outputs": [
    {
     "name": "stdout",
     "output_type": "stream",
     "text": [
      "Saving figure 3d_scaled\n"
     ]
    },
    {
     "data": {
      "image/png": "[encoded data removed]",
      "text/plain": [
       "<Figure size 576x576 with 1 Axes>"
      ]
     },
     "metadata": {
      "needs_background": "light"
     },
     "output_type": "display_data"
    }
   ],
   "source": [
    "from sklearn.preprocessing import Normalizer\n",
    "from sklearn.preprocessing import MinMaxScaler, StandardScaler, RobustScaler\n",
    "\n",
    "# for demonstration purposes, I will be creating all three instances of the scalers.\n",
    "min_max_scaler = MinMaxScaler()\n",
    "std_scaler = StandardScaler()\n",
    "robust_scaler = RobustScaler()\n",
    "\n",
    "# scale the data\n",
    "X_train_minmax = min_max_scaler.fit_transform(indicators_df_o)\n",
    "X_train_standard = std_scaler.fit_transform(indicators_df_o)\n",
    "X_train_robust = robust_scaler.fit_transform(indicators_df_o)\n",
    "\n",
    "# create a new plot\n",
    "fig = plt.figure(figsize=(8, 8))\n",
    "ax = Axes3D(fig, auto_add_to_figure=False)\n",
    "fig.add_axes(ax)\n",
    "\n",
    "# take the scaled data in this example.\n",
    "x = X_train_robust[:,0]\n",
    "y = X_train_robust[:,1]\n",
    "z = X_train_robust[:,2]\n",
    "\n",
    "# define the axes labels\n",
    "column_names = indicators_df_o.columns\n",
    "ax.set_xlabel(column_names[0])\n",
    "ax.set_ylabel(column_names[1])\n",
    "ax.set_zlabel(column_names[2])\n",
    "\n",
    "# create a new plot\n",
    "ax.scatter(x, y, z, c='royalBlue')\n",
    "\n",
    "save_fig(fig_id='3d_scaled', tight_layout=False)"
   ]
  },
  {
   "cell_type": "markdown",
   "metadata": {},
   "source": [
    "I will run PCA analysis to check if it is necessary to carry on will all three metrics. The results show that about 95% of the variance can be explained by just two variables. No need to carry on with all three."
   ]
  },
  {
   "cell_type": "code",
   "execution_count": 20,
   "metadata": {},
   "outputs": [
    {
     "data": {
      "text/plain": [
       "Text(0.5, 1.0, 'Explained Variance')"
      ]
     },
     "execution_count": 20,
     "metadata": {},
     "output_type": "execute_result"
    },
    {
     "data": {
      "image/png": "[encoded data removed]",
      "text/plain": [
       "<Figure size 432x288 with 1 Axes>"
      ]
     },
     "metadata": {
      "needs_background": "light"
     },
     "output_type": "display_data"
    }
   ],
   "source": [
    "from sklearn.decomposition import PCA\n",
    "\n",
    "# pass through the scaled data set into our PCA class object\n",
    "pca = PCA().fit(X_train_robust)\n",
    "\n",
    "# plot the Cumulative Summation of the Explained Variance\n",
    "plt.figure()\n",
    "plt.plot(np.cumsum(pca.explained_variance_ratio_))\n",
    "\n",
    "# define the labels & title\n",
    "plt.xlabel('Number of Components', fontsize = 15)\n",
    "plt.ylabel('Variance (%)', fontsize = 15) \n",
    "plt.title('Explained Variance', fontsize = 20)"
   ]
  },
  {
   "cell_type": "code",
   "execution_count": 21,
   "metadata": {},
   "outputs": [],
   "source": [
    "# create a PCA modified dataset\n",
    "pca_dataset = PCA(n_components=2).fit(X_train_robust).transform(X_train_robust)\n",
    "\n",
    "# store it in a new data frame\n",
    "pca_dataset= pd.DataFrame(data = pca_dataset, columns = ['principal component 1', 'principal component 2'])"
   ]
  },
  {
   "cell_type": "code",
   "execution_count": 22,
   "metadata": {},
   "outputs": [
    {
     "name": "stdout",
     "output_type": "stream",
     "text": [
      "Saving figure 2_comp_pca\n"
     ]
    },
    {
     "data": {
      "image/png": "[encoded data removed]",
      "text/plain": [
       "<Figure size 432x288 with 1 Axes>"
      ]
     },
     "metadata": {
      "needs_background": "light"
     },
     "output_type": "display_data"
    }
   ],
   "source": [
    "# define a figure\n",
    "plt.figure()\n",
    "\n",
    "# define the label and title\n",
    "plt.xlabel('Principal Component 1', fontsize = 15)\n",
    "plt.ylabel('Principal Component 2', fontsize = 15)\n",
    "plt.title('2 Component PCA', fontsize = 20)\n",
    "\n",
    "# plot the figure\n",
    "plt.scatter(pca_dataset['principal component 1'], pca_dataset['principal component 2'], c='royalBlue', s = 50)\n",
    "\n",
    "save_fig(fig_id='2_comp_pca', tight_layout=False)"
   ]
  },
  {
   "cell_type": "markdown",
   "metadata": {},
   "source": [
    "## Build and Run the Model\n",
    "The model will be built and run using both the original scaled data and the pca data. Silhouette scores will show us the distance between the clusters that resulted from the algorithm. The larger the clusters, the better the results. The PCA data below gives us better results."
   ]
  },
  {
   "cell_type": "code",
   "execution_count": 23,
   "metadata": {},
   "outputs": [
    {
     "name": "stdout",
     "output_type": "stream",
     "text": [
      "----------------------------------------------------------------------------------------------------\n",
      "Number of Clusters: 2\n",
      "Silhouette Score: 0.5357824264301079\n",
      "----------------------------------------------------------------------------------------------------\n",
      "Number of Clusters: 3\n",
      "Silhouette Score: 0.5592885913198473\n",
      "----------------------------------------------------------------------------------------------------\n",
      "Number of Clusters: 4\n",
      "Silhouette Score: 0.46507798829917024\n",
      "----------------------------------------------------------------------------------------------------\n",
      "Number of Clusters: 5\n",
      "Silhouette Score: 0.3943308823827475\n",
      "----------------------------------------------------------------------------------------------------\n",
      "Number of Clusters: 6\n",
      "Silhouette Score: 0.4082835582959722\n"
     ]
    }
   ],
   "source": [
    "from sklearn.cluster import KMeans\n",
    "from sklearn import metrics\n",
    "\n",
    "# Create a dictionary to store our scores\n",
    "results_dict = {}\n",
    "\n",
    "# Set number of clusters\n",
    "num_of_clusters = 7\n",
    "\n",
    "# Define the number of iterations we want to do\n",
    "for k in range (2, num_of_clusters): \n",
    "    \n",
    "    print('-' * 100)\n",
    "    \n",
    "    # Define the key for this iteration\n",
    "    results_dict[k] = {}\n",
    "    \n",
    "    # create an instance of the model, and fit the training data to it.\n",
    "    kmeans = KMeans(n_clusters=k, random_state=0).fit(X_train_robust)\n",
    "    \n",
    "    # Create an instance of the kmeans model\n",
    "    sil_score = metrics.silhouette_score(X_train_robust, kmeans.labels_, metric = 'euclidean')\n",
    "    \n",
    "    # Store the different metrics\n",
    "    results_dict[k]['silhouette_score'] = sil_score\n",
    "    results_dict[k]['inertia'] = kmeans.inertia_\n",
    "    results_dict[k]['score'] = kmeans.score\n",
    "    results_dict[k]['model'] = kmeans\n",
    "    \n",
    "    # Print the results    \n",
    "    print(\"Number of Clusters: {}\".format(k))\n",
    "    print('Silhouette Score:', sil_score)"
   ]
  },
  {
   "cell_type": "code",
   "execution_count": 24,
   "metadata": {},
   "outputs": [
    {
     "name": "stdout",
     "output_type": "stream",
     "text": [
      "----------------------------------------------------------------------------------------------------\n",
      "Number of Clusters: 2\n",
      "Silhouette Score: 0.5558694997380236\n",
      "----------------------------------------------------------------------------------------------------\n",
      "Number of Clusters: 3\n",
      "Silhouette Score: 0.5823143394100831\n",
      "----------------------------------------------------------------------------------------------------\n",
      "Number of Clusters: 4\n",
      "Silhouette Score: 0.4885206932655537\n",
      "----------------------------------------------------------------------------------------------------\n",
      "Number of Clusters: 5\n",
      "Silhouette Score: 0.43153712564515717\n",
      "----------------------------------------------------------------------------------------------------\n",
      "Number of Clusters: 6\n",
      "Silhouette Score: 0.45190639678872835\n"
     ]
    }
   ],
   "source": [
    "# define a dictionary that contains all of our relevant info.\n",
    "results_dict_pca = {}\n",
    "\n",
    "# define how many clusters we want to test up to.\n",
    "num_of_clusters = 7\n",
    "\n",
    "# run through each instance of K\n",
    "for k in range(2, num_of_clusters):\n",
    "    \n",
    "    print(\"-\"*100)\n",
    "    \n",
    "    # define the next dictionary to hold all the results of this run.\n",
    "    results_dict_pca[k] = {}\n",
    "\n",
    "    # create an instance of the model, and fit the training data to it.\n",
    "    kmeans = KMeans(n_clusters=k, random_state=0).fit(pca_dataset)\n",
    "    \n",
    "    # define the silhouette score\n",
    "    sil_score = metrics.silhouette_score(pca_dataset, kmeans.labels_, metric='euclidean')\n",
    "    \n",
    "    # store the different metrics\n",
    "    results_dict_pca[k]['silhouette_score'] = sil_score\n",
    "    results_dict_pca[k]['inertia'] = kmeans.inertia_\n",
    "    results_dict_pca[k]['score'] = kmeans.score\n",
    "    results_dict_pca[k]['model'] = kmeans\n",
    "    \n",
    "    # print the results    \n",
    "    print(\"Number of Clusters: {}\".format(k))\n",
    "    print('Silhouette Score:', sil_score)"
   ]
  },
  {
   "cell_type": "markdown",
   "metadata": {},
   "source": [
    "## Visualize the clusters\n",
    "I will visualize the data with 3 clusters since that gave us the highest silhouette score. The cluster on the left is very dense."
   ]
  },
  {
   "cell_type": "code",
   "execution_count": 25,
   "metadata": {},
   "outputs": [
    {
     "name": "stdout",
     "output_type": "stream",
     "text": [
      "Saving figure pca_clusters\n"
     ]
    },
    {
     "data": {
      "image/png": "[encoded data removed]",
      "text/plain": [
       "<Figure size 432x288 with 1 Axes>"
      ]
     },
     "metadata": {
      "needs_background": "light"
     },
     "output_type": "display_data"
    }
   ],
   "source": [
    "kmeans = KMeans(n_clusters= 3, random_state=0).fit(pca_dataset)\n",
    "\n",
    "# Adding the clusters to the original dataset to show which stock is in which cluster\n",
    "predict = kmeans.predict(pca_dataset)\n",
    "predict = pd.Series(predict)\n",
    "indicators_df_o = indicators_df_o.assign(pca_clusters=predict.values)\n",
    "                    \n",
    "# define the cluster centers\n",
    "cluster_centers = kmeans.cluster_centers_\n",
    "C1 = cluster_centers[:, 0]\n",
    "C2 = cluster_centers[:, 1]\n",
    "\n",
    "# create a new plot\n",
    "plt.figure()\n",
    "\n",
    "# take the scaled data in this example.\n",
    "x = pca_dataset['principal component 1']\n",
    "y = pca_dataset['principal component 2']\n",
    "\n",
    "# define the axes labels\n",
    "column_names = pca_dataset.columns\n",
    "plt.xlabel(column_names[0])\n",
    "plt.ylabel(column_names[1])\n",
    "\n",
    "# Visualize it:\n",
    "plt.scatter(x, y, c=kmeans.labels_.astype(float), cmap='winter')\n",
    "plt.scatter(C1, C2, marker=\"x\", color='r')\n",
    "\n",
    "# Plot the clustered data\n",
    "plt.title('Visualization of clustered data with {} clusters'.format(3), fontweight='bold')\n",
    "\n",
    "save_fig(fig_id='pca_clusters', tight_layout=False)"
   ]
  },
  {
   "cell_type": "markdown",
   "metadata": {},
   "source": [
    "Saving the dataset containing the stocks in their clusters"
   ]
  },
  {
   "cell_type": "code",
   "execution_count": 26,
   "metadata": {},
   "outputs": [],
   "source": [
    "indicators_df_o.to_csv('indicators_with_clusters.csv')"
   ]
  },
  {
   "cell_type": "markdown",
   "metadata": {},
   "source": [
    "Grouping and sorting the dataset by clusters and symbol"
   ]
  },
  {
   "cell_type": "code",
   "execution_count": 40,
   "metadata": {},
   "outputs": [
    {
     "data": {
      "text/html": [
       "<div>\n",
       "<style scoped>\n",
       "    .dataframe tbody tr th:only-of-type {\n",
       "        vertical-align: middle;\n",
       "    }\n",
       "\n",
       "    .dataframe tbody tr th {\n",
       "        vertical-align: top;\n",
       "    }\n",
       "\n",
       "    .dataframe thead th {\n",
       "        text-align: right;\n",
       "    }\n",
       "</style>\n",
       "<table border=\"1\" class=\"dataframe\">\n",
       "  <thead>\n",
       "    <tr style=\"text-align: right;\">\n",
       "      <th></th>\n",
       "      <th>peRatio</th>\n",
       "      <th>pbRatio</th>\n",
       "      <th>pcfRatio</th>\n",
       "      <th>pca_clusters</th>\n",
       "    </tr>\n",
       "    <tr>\n",
       "      <th>symbol</th>\n",
       "      <th></th>\n",
       "      <th></th>\n",
       "      <th></th>\n",
       "      <th></th>\n",
       "    </tr>\n",
       "  </thead>\n",
       "  <tbody>\n",
       "    <tr>\n",
       "      <th>KHC</th>\n",
       "      <td>21.34306</td>\n",
       "      <td>0.87915</td>\n",
       "      <td>14.54948</td>\n",
       "      <td>2</td>\n",
       "    </tr>\n",
       "    <tr>\n",
       "      <th>CLX</th>\n",
       "      <td>29.58888</td>\n",
       "      <td>48.92388</td>\n",
       "      <td>21.62699</td>\n",
       "      <td>1</td>\n",
       "    </tr>\n",
       "    <tr>\n",
       "      <th>GPN</th>\n",
       "      <td>54.10486</td>\n",
       "      <td>1.72280</td>\n",
       "      <td>19.04019</td>\n",
       "      <td>2</td>\n",
       "    </tr>\n",
       "    <tr>\n",
       "      <th>HIG</th>\n",
       "      <td>11.50318</td>\n",
       "      <td>1.32155</td>\n",
       "      <td>8.52194</td>\n",
       "      <td>2</td>\n",
       "    </tr>\n",
       "    <tr>\n",
       "      <th>EOG</th>\n",
       "      <td>22.40299</td>\n",
       "      <td>2.01908</td>\n",
       "      <td>7.82691</td>\n",
       "      <td>2</td>\n",
       "    </tr>\n",
       "  </tbody>\n",
       "</table>\n",
       "</div>"
      ],
      "text/plain": [
       "         peRatio   pbRatio  pcfRatio  pca_clusters\n",
       "symbol                                            \n",
       "KHC     21.34306   0.87915  14.54948             2\n",
       "CLX     29.58888  48.92388  21.62699             1\n",
       "GPN     54.10486   1.72280  19.04019             2\n",
       "HIG     11.50318   1.32155   8.52194             2\n",
       "EOG     22.40299   2.01908   7.82691             2"
      ]
     },
     "metadata": {},
     "output_type": "display_data"
    }
   ],
   "source": [
    "indicators_grouped = indicators_df_o.sort_values(by=['pca_clusters', 'symbol'])\n",
    "display(indicators_grouped.sample(5))\n",
    "indicators_grouped.to_csv('indicators_grouped.csv')"
   ]
  },
  {
   "cell_type": "markdown",
   "metadata": {},
   "source": [
    "### Using Plotly to display stock info when hovering over a point\n",
    "The yellow cluster contains value stocks like GM, BRK, KO, and INTC, while the other clusters contain more growth stocks like CRM, AMZN, ISRG, and MSFT. Next step would be to compare the average performance accross the different clusters."
   ]
  },
  {
   "cell_type": "code",
   "execution_count": 38,
   "metadata": {},
   "outputs": [
    {
     "data": {
      "application/vnd.plotly.v1+json": {
       "config": {
        "plotlyServerURL": "https://plot.ly"
       },
       "data": [
        {
         "customdata": [
          [
           "CARR"
          ],
          [
           "CERN"
          ],
          [
           "AAPL"
          ],
          [
           "BF/B"
          ],
          [
           "AMGN"
          ],
          [
           "LNT"
          ],
          [
           "CDW"
          ],
          [
           "BBY"
          ],
          [
           "AIG"
          ],
          [
           "BSX"
          ],
          [
           "ABBV"
          ],
          [
           "AAP"
          ],
          [
           "AIZ"
          ],
          [
           "ARE"
          ],
          [
           "KMX"
          ],
          [
           "ATVI"
          ],
          [
           "CNC"
          ],
          [
           "AJG"
          ],
          [
           "BLK"
          ],
          [
           "A"
          ],
          [
           "AMAT"
          ],
          [
           "BLL"
          ],
          [
           "CNP"
          ],
          [
           "BK"
          ],
          [
           "BR"
          ],
          [
           "ABT"
          ],
          [
           "ANSS"
          ],
          [
           "BDX"
          ],
          [
           "COG"
          ],
          [
           "COF"
          ],
          [
           "CE"
          ],
          [
           "CF"
          ],
          [
           "CBOE"
          ],
          [
           "ACN"
          ],
          [
           "CPB"
          ],
          [
           "CHRW"
          ],
          [
           "ALB"
          ],
          [
           "ANTM"
          ],
          [
           "ATO"
          ],
          [
           "AMZN"
          ],
          [
           "ALL"
          ],
          [
           "GOOGL"
          ],
          [
           "ANET"
          ],
          [
           "AMCR"
          ],
          [
           "ADI"
          ],
          [
           "ADM"
          ],
          [
           "ADP"
          ],
          [
           "BWA"
          ],
          [
           "AMD"
          ],
          [
           "AME"
          ],
          [
           "AEE"
          ],
          [
           "MO"
          ],
          [
           "AMP"
          ],
          [
           "ADSK"
          ],
          [
           "CTLT"
          ],
          [
           "AMT"
          ],
          [
           "CAH"
          ],
          [
           "MMM"
          ],
          [
           "AEP"
          ],
          [
           "AVB"
          ],
          [
           "CAT"
          ],
          [
           "ADBE"
          ],
          [
           "BXP"
          ],
          [
           "BIIB"
          ],
          [
           "AVGO"
          ],
          [
           "AVY"
          ],
          [
           "BRK/B"
          ],
          [
           "AKAM"
          ],
          [
           "CBRE"
          ],
          [
           "AWK"
          ],
          [
           "AON"
          ],
          [
           "GOOG"
          ],
          [
           "BAC"
          ],
          [
           "AOS"
          ],
          [
           "BIO"
          ],
          [
           "APTV"
          ],
          [
           "APD"
          ],
          [
           "AXP"
          ],
          [
           "APH"
          ],
          [
           "BAX"
          ],
          [
           "CDNS"
          ],
          [
           "ALLE"
          ],
          [
           "FRT"
          ],
          [
           "CLX"
          ],
          [
           "DFS"
          ],
          [
           "GLW"
          ],
          [
           "CMA"
          ],
          [
           "STZ"
          ],
          [
           "CME"
          ],
          [
           "CMI"
          ],
          [
           "DLTR"
          ],
          [
           "EQR"
          ],
          [
           "CMS"
          ],
          [
           "DOV"
          ],
          [
           "DOW"
          ],
          [
           "DXC"
          ],
          [
           "CTXS"
          ],
          [
           "EIX"
          ],
          [
           "CVS"
          ],
          [
           "C"
          ],
          [
           "CVX"
          ],
          [
           "DHI"
          ],
          [
           "D"
          ],
          [
           "CFG"
          ],
          [
           "FISV"
          ],
          [
           "F"
          ],
          [
           "DHR"
          ],
          [
           "FLT"
          ],
          [
           "FITB"
          ],
          [
           "FDX"
          ],
          [
           "FMC"
          ],
          [
           "CB"
          ],
          [
           "KO"
          ],
          [
           "ESS"
          ],
          [
           "COP"
          ],
          [
           "CI"
          ],
          [
           "ECL"
          ],
          [
           "CPRT"
          ],
          [
           "DRE"
          ],
          [
           "SCHW"
          ],
          [
           "DRI"
          ],
          [
           "CTAS"
          ],
          [
           "FAST"
          ],
          [
           "CHD"
          ],
          [
           "ETN"
          ],
          [
           "DD"
          ],
          [
           "CINF"
          ],
          [
           "DE"
          ],
          [
           "ETR"
          ],
          [
           "DG"
          ],
          [
           "EVRG"
          ],
          [
           "CTSH"
          ],
          [
           "XRAY"
          ],
          [
           "EA"
          ],
          [
           "ED"
          ],
          [
           "EMN"
          ],
          [
           "EL"
          ],
          [
           "CAG"
          ],
          [
           "EMR"
          ],
          [
           "DISCA"
          ],
          [
           "ES"
          ],
          [
           "EW"
          ],
          [
           "DTE"
          ],
          [
           "EBAY"
          ],
          [
           "DISCK"
          ],
          [
           "DISH"
          ],
          [
           "CRL"
          ],
          [
           "CHTR"
          ],
          [
           "FB"
          ],
          [
           "FE"
          ],
          [
           "CSCO"
          ],
          [
           "CTVA"
          ],
          [
           "EXPD"
          ],
          [
           "DLR"
          ],
          [
           "FFIV"
          ],
          [
           "COST"
          ],
          [
           "EFX"
          ],
          [
           "LLY"
          ],
          [
           "DUK"
          ],
          [
           "EOG"
          ],
          [
           "CCI"
          ],
          [
           "CSX"
          ],
          [
           "DVA"
          ],
          [
           "EXC"
          ],
          [
           "CMCSA"
          ],
          [
           "FRC"
          ],
          [
           "EQIX"
          ],
          [
           "DVN"
          ],
          [
           "EXR"
          ],
          [
           "IPG"
          ],
          [
           "HWM"
          ],
          [
           "HON"
          ],
          [
           "KMI"
          ],
          [
           "IP"
          ],
          [
           "IR"
          ],
          [
           "IT"
          ],
          [
           "IQV"
          ],
          [
           "JKHY"
          ],
          [
           "JCI"
          ],
          [
           "FCX"
          ],
          [
           "HPE"
          ],
          [
           "KEY"
          ],
          [
           "HSIC"
          ],
          [
           "INTU"
          ],
          [
           "IRM"
          ],
          [
           "FTV"
          ],
          [
           "J"
          ],
          [
           "K"
          ],
          [
           "FOXA"
          ],
          [
           "LYB"
          ],
          [
           "IBM"
          ],
          [
           "LRCX"
          ],
          [
           "LHX"
          ],
          [
           "KLAC"
          ],
          [
           "JNPR"
          ],
          [
           "JBHT"
          ],
          [
           "KR"
          ],
          [
           "HII"
          ],
          [
           "BEN"
          ],
          [
           "ICE"
          ],
          [
           "LIN"
          ],
          [
           "HAL"
          ],
          [
           "IPGP"
          ],
          [
           "INTC"
          ],
          [
           "GNRC"
          ],
          [
           "INCY"
          ],
          [
           "MTB"
          ],
          [
           "GPC"
          ],
          [
           "HAS"
          ],
          [
           "LH"
          ],
          [
           "LDOS"
          ],
          [
           "HRL"
          ],
          [
           "GPN"
          ],
          [
           "HBAN"
          ],
          [
           "MKTX"
          ],
          [
           "JNJ"
          ],
          [
           "KHC"
          ],
          [
           "GPS"
          ],
          [
           "LW"
          ],
          [
           "INFO"
          ],
          [
           "ITW"
          ],
          [
           "MLM"
          ],
          [
           "MMC"
          ],
          [
           "FOX"
          ],
          [
           "KIM"
          ],
          [
           "GIS"
          ],
          [
           "LKQ"
          ],
          [
           "IEX"
          ],
          [
           "JPM"
          ],
          [
           "IFF"
          ],
          [
           "IVZ"
          ],
          [
           "SJM"
          ],
          [
           "KEYS"
          ],
          [
           "GD"
          ],
          [
           "GE"
          ],
          [
           "HUM"
          ],
          [
           "GM"
          ],
          [
           "FBHS"
          ],
          [
           "GS"
          ],
          [
           "KSU"
          ],
          [
           "GRMN"
          ],
          [
           "LEG"
          ],
          [
           "HOLX"
          ],
          [
           "LMT"
          ],
          [
           "GILD"
          ],
          [
           "ISRG"
          ],
          [
           "NRG"
          ],
          [
           "PVH"
          ],
          [
           "PNC"
          ],
          [
           "PFE"
          ],
          [
           "RJF"
          ],
          [
           "MHK"
          ],
          [
           "PNR"
          ],
          [
           "PNW"
          ],
          [
           "NSC"
          ],
          [
           "OMC"
          ],
          [
           "RSG"
          ],
          [
           "NKE"
          ],
          [
           "PWR"
          ],
          [
           "MAA"
          ],
          [
           "DGX"
          ],
          [
           "RF"
          ],
          [
           "POOL"
          ],
          [
           "MCHP"
          ],
          [
           "PGR"
          ],
          [
           "RL"
          ],
          [
           "MRNA"
          ],
          [
           "PXD"
          ],
          [
           "MDLZ"
          ],
          [
           "PCAR"
          ],
          [
           "NDAQ"
          ],
          [
           "PPG"
          ],
          [
           "MRK"
          ],
          [
           "PPL"
          ],
          [
           "O"
          ],
          [
           "PENN"
          ],
          [
           "NTAP"
          ],
          [
           "PHM"
          ],
          [
           "QCOM"
          ],
          [
           "RTX"
          ],
          [
           "NUE"
          ],
          [
           "NFLX"
          ],
          [
           "MKC"
          ],
          [
           "NXPI"
          ],
          [
           "NEE"
          ],
          [
           "REG"
          ],
          [
           "NEM"
          ],
          [
           "MCO"
          ],
          [
           "REGN"
          ],
          [
           "ODFL"
          ],
          [
           "NVR"
          ],
          [
           "PRU"
          ],
          [
           "MDT"
          ],
          [
           "PSA"
          ],
          [
           "NWL"
          ],
          [
           "NTRS"
          ],
          [
           "NOC"
          ],
          [
           "MS"
          ],
          [
           "MU"
          ],
          [
           "NWS"
          ],
          [
           "PKG"
          ],
          [
           "ROL"
          ],
          [
           "PKI"
          ],
          [
           "ROK"
          ],
          [
           "NI"
          ],
          [
           "QRVO"
          ],
          [
           "NLSN"
          ],
          [
           "PTC"
          ],
          [
           "PBCT"
          ],
          [
           "PLD"
          ],
          [
           "MSFT"
          ],
          [
           "RHI"
          ],
          [
           "PYPL"
          ],
          [
           "MNST"
          ],
          [
           "OKE"
          ],
          [
           "NWSA"
          ],
          [
           "PEG"
          ],
          [
           "PAYX"
          ],
          [
           "PG"
          ],
          [
           "PH"
          ],
          [
           "PEP"
          ],
          [
           "TER"
          ],
          [
           "STE"
          ],
          [
           "SLB"
          ],
          [
           "TSCO"
          ],
          [
           "TFC"
          ],
          [
           "STT"
          ],
          [
           "STX"
          ],
          [
           "WDC"
          ],
          [
           "UPS"
          ],
          [
           "UHS"
          ],
          [
           "TFX"
          ],
          [
           "WMB"
          ],
          [
           "WLTW"
          ],
          [
           "UAA"
          ],
          [
           "WEC"
          ],
          [
           "VRSK"
          ],
          [
           "VIAC"
          ],
          [
           "WMT"
          ],
          [
           "TGT"
          ],
          [
           "SNA"
          ],
          [
           "TXN"
          ],
          [
           "URI"
          ],
          [
           "TXT"
          ],
          [
           "VTR"
          ],
          [
           "WFC"
          ],
          [
           "V"
          ],
          [
           "TPR"
          ],
          [
           "SO"
          ],
          [
           "COO"
          ],
          [
           "ULTA"
          ],
          [
           "USB"
          ],
          [
           "SWK"
          ],
          [
           "TWTR"
          ],
          [
           "GWW"
          ],
          [
           "HIG"
          ],
          [
           "VRTX"
          ],
          [
           "XYL"
          ],
          [
           "VMC"
          ],
          [
           "ROST"
          ],
          [
           "TTWO"
          ],
          [
           "TT"
          ],
          [
           "SPG"
          ],
          [
           "UA"
          ],
          [
           "VFC"
          ],
          [
           "XLNX"
          ],
          [
           "TRV"
          ],
          [
           "WHR"
          ],
          [
           "SYF"
          ],
          [
           "SHW"
          ],
          [
           "TJX"
          ],
          [
           "SYK"
          ],
          [
           "SIVB"
          ],
          [
           "TSN"
          ],
          [
           "HSY"
          ],
          [
           "ROP"
          ],
          [
           "SYY"
          ],
          [
           "TRMB"
          ],
          [
           "SNPS"
          ],
          [
           "WAB"
          ],
          [
           "CRM"
          ],
          [
           "TROW"
          ],
          [
           "VZ"
          ],
          [
           "WRB"
          ],
          [
           "SRE"
          ],
          [
           "UNH"
          ],
          [
           "UNM"
          ],
          [
           "UNP"
          ],
          [
           "WM"
          ],
          [
           "WBA"
          ],
          [
           "WU"
          ],
          [
           "WY"
          ],
          [
           "TDY"
          ],
          [
           "SWKS"
          ],
          [
           "TMUS"
          ],
          [
           "MOS"
          ],
          [
           "TMO"
          ],
          [
           "WST"
          ],
          [
           "TEL"
          ],
          [
           "XEL"
          ],
          [
           "ZBH"
          ],
          [
           "ZION"
          ],
          [
           "ZTS"
          ],
          [
           "ZBRA"
          ]
         ],
         "hovertemplate": "principal component 1=%{x}<br>principal component 2=%{y}<br>hover_data_0=%{customdata[0]}<br>color=%{marker.color}<extra></extra>",
         "legendgroup": "",
         "marker": {
          "color": [
           2,
           2,
           1,
           1,
           1,
           2,
           1,
           2,
           2,
           0,
           1,
           2,
           2,
           2,
           2,
           2,
           2,
           2,
           2,
           1,
           2,
           2,
           2,
           2,
           2,
           2,
           0,
           2,
           2,
           2,
           2,
           2,
           2,
           1,
           2,
           2,
           2,
           2,
           2,
           1,
           2,
           2,
           2,
           2,
           2,
           2,
           1,
           2,
           1,
           2,
           2,
           1,
           2,
           1,
           2,
           1,
           2,
           2,
           2,
           2,
           2,
           1,
           2,
           2,
           2,
           2,
           2,
           2,
           2,
           2,
           1,
           2,
           2,
           2,
           2,
           2,
           2,
           2,
           2,
           2,
           1,
           1,
           2,
           1,
           2,
           2,
           2,
           2,
           2,
           2,
           2,
           2,
           2,
           2,
           2,
           2,
           1,
           2,
           2,
           2,
           2,
           2,
           2,
           2,
           2,
           2,
           2,
           2,
           2,
           2,
           2,
           2,
           2,
           2,
           2,
           2,
           0,
           2,
           2,
           2,
           2,
           1,
           2,
           2,
           2,
           2,
           2,
           2,
           2,
           2,
           2,
           2,
           2,
           0,
           2,
           2,
           1,
           2,
           2,
           2,
           2,
           1,
           2,
           2,
           2,
           2,
           0,
           2,
           2,
           2,
           2,
           2,
           2,
           0,
           2,
           1,
           2,
           1,
           2,
           2,
           0,
           2,
           2,
           2,
           2,
           2,
           0,
           0,
           2,
           2,
           2,
           2,
           2,
           2,
           2,
           1,
           0,
           2,
           2,
           2,
           2,
           2,
           2,
           0,
           2,
           2,
           2,
           2,
           2,
           2,
           2,
           1,
           2,
           1,
           2,
           2,
           2,
           2,
           2,
           2,
           2,
           0,
           2,
           2,
           1,
           0,
           2,
           2,
           2,
           2,
           2,
           2,
           2,
           2,
           1,
           2,
           2,
           2,
           1,
           0,
           1,
           2,
           2,
           2,
           2,
           2,
           2,
           2,
           2,
           0,
           2,
           2,
           2,
           2,
           0,
           2,
           2,
           2,
           2,
           0,
           2,
           2,
           2,
           2,
           2,
           0,
           2,
           2,
           2,
           2,
           2,
           2,
           2,
           2,
           2,
           2,
           2,
           1,
           2,
           2,
           2,
           2,
           1,
           0,
           2,
           2,
           1,
           0,
           2,
           2,
           2,
           2,
           2,
           0,
           0,
           2,
           1,
           2,
           1,
           2,
           2,
           1,
           2,
           2,
           2,
           2,
           2,
           1,
           2,
           1,
           2,
           2,
           2,
           1,
           2,
           2,
           2,
           2,
           2,
           2,
           2,
           1,
           2,
           1,
           2,
           2,
           2,
           0,
           2,
           0,
           1,
           2,
           1,
           2,
           2,
           2,
           2,
           1,
           2,
           2,
           1,
           2,
           0,
           2,
           2,
           2,
           2,
           1,
           2,
           1,
           2,
           2,
           2,
           2,
           2,
           2,
           1,
           2,
           2,
           2,
           2,
           1,
           2,
           2,
           0,
           2,
           1,
           2,
           2,
           2,
           2,
           2,
           2,
           0,
           2,
           2,
           2,
           0,
           2,
           2,
           2,
           2,
           1,
           2,
           2,
           1,
           2,
           2,
           2,
           1,
           1,
           2,
           2,
           2,
           1,
           2,
           1,
           2,
           0,
           2,
           0,
           2,
           2,
           2,
           2,
           2,
           2,
           2,
           2,
           2,
           1,
           2,
           2,
           2,
           2,
           2,
           2,
           1,
           2,
           2,
           2,
           2,
           1,
           1
          ],
          "coloraxis": "coloraxis",
          "symbol": "circle"
         },
         "mode": "markers",
         "name": "",
         "orientation": "v",
         "showlegend": false,
         "type": "scatter",
         "x": [
          -0.4095882009485438,
          -0.22444425347364105,
          3.96781887995042,
          1.639521219919456,
          0.6515955789726808,
          -0.9613948013096947,
          2.3230227889831654,
          -0.9168130671075426,
          -1.6735539293507062,
          2.4400968574548614,
          0.8172729642692348,
          -0.6859245009477354,
          -0.9092801894941572,
          -0.6530500184250939,
          -0.6282023030698073,
          -0.6360886567157414,
          -0.16384477001988215,
          -0.25515970920494285,
          -0.5359200639525319,
          1.73133170935064,
          0.34681162464499593,
          0.406351575931905,
          -1.2423777744435793,
          -1.5051551352850607,
          0.7121595870597918,
          0.21466326771460087,
          2.177282102918581,
          -0.22427849026792596,
          -0.7265943294705662,
          -1.75646058594649,
          -1.3248026633101455,
          -0.9959020811649731,
          -0.3358382061449141,
          1.1502239760257473,
          -1.070666724895815,
          -0.4952304761193276,
          0.06248520093781413,
          -0.7771306993940713,
          -1.2778506754691925,
          2.03728165598412,
          -1.7492020182409753,
          0.31742415855404305,
          0.7812074085570256,
          -0.867429956389465,
          0.5406655968318527,
          -1.3255265581162003,
          1.3293344427722482,
          -1.5169463356173065,
          2.0022377052559754,
          0.04378808833241767,
          -1.028199886507204,
          2.327323477123596,
          -0.1302312272798982,
          6.324991761375795,
          0.5406416479327094,
          2.898160649489049,
          -0.2119136770601389,
          -0.4464777903765246,
          -1.2506793552207276,
          -0.5911003209248701,
          -0.3240954882720321,
          3.5617464345959298,
          0.06908756522762836,
          -0.6169409798708212,
          0.2902598364134551,
          0.2754100900626659,
          -1.7255406417028174,
          -0.4625523428124638,
          -0.4513832312138437,
          0.24507198935763555,
          1.3052792515389715,
          0.31742415855404305,
          -1.345659209063773,
          -0.23450606817719832,
          -1.6325054371842223,
          -0.02002052014967563,
          -0.3715617834567575,
          -0.6102709077445272,
          0.39686085185087827,
          -0.0032548507860054154,
          3.419822571254824,
          1.1280484456520619,
          0.45023505742804626,
          5.44777390109513,
          -1.4072058477549185,
          -0.5093532803437422,
          -1.5639708241655927,
          -0.007381479939827318,
          -0.12415491124216821,
          -0.989207346990088,
          -1.2395052851310153,
          -0.1627321675935072,
          -0.9774317318428208,
          -0.11897101040324581,
          -1.4341228776587727,
          -1.1801422290557775,
          5.291861374006624,
          -1.1038592841590915,
          -1.336002220105911,
          -1.7690920751692287,
          -0.4845891071220755,
          -1.4359061752114177,
          -0.8443088926611314,
          -1.646288540040683,
          0.17734335764333153,
          -1.4985840352942088,
          0.6351852865120344,
          -0.12030996206914833,
          -1.4883575371390456,
          -1.2720398061194824,
          -0.6848685541807694,
          -1.5220005088793653,
          0.6190020463486029,
          0.25778016064401443,
          -0.41159658268337374,
          -1.6125353855615958,
          1.5091569062808958,
          0.9003326497345936,
          -0.12398210413692523,
          -0.34101915653688913,
          0.03986276527519207,
          1.0323646612336752,
          0.932683603305722,
          -0.1283290124903973,
          -0.1630267480955481,
          -0.964162175610572,
          -1.65697870256206,
          -0.43661947763948616,
          -1.3242027610900942,
          -0.10448886071638211,
          -1.2766871693593176,
          -0.6227629920726611,
          -0.43045309260110637,
          0.9972050209093374,
          -1.2243083519259215,
          -0.39156483835819095,
          2.1752028253938342,
          -1.3535198387041512,
          -0.3097401652969882,
          -1.7049633546267735,
          -0.9855754932831139,
          2.38486040375557,
          -1.3242276588403956,
          -0.6617242241884688,
          -1.7049633546267735,
          -1.5646299174454494,
          1.5125007593418853,
          -0.01518734588855305,
          0.07177473258182604,
          -1.1531437233972748,
          -0.34510775956089734,
          -1.1014270874484904,
          -0.2164287513831367,
          1.0602898515638088,
          0.42717037319578743,
          1.3731616006081837,
          0.9029587752353576,
          3.9379123629719177,
          -1.0608437484280036,
          -1.146778764789535,
          1.723963929838533,
          -0.6262952883293355,
          -0.33500662181277097,
          -0.6219555896188159,
          -1.0257098560676776,
          -0.347489476995585,
          5.552255688256695,
          1.8090341582945637,
          0.5822400634591979,
          -0.7113097115330224,
          0.14487815175777485,
          0.3677306725214251,
          -1.2250191518809515,
          -1.0937841113353945,
          0.2331627847448269,
          6.2554577649022125,
          1.7348696644026322,
          0.8191186677471775,
          -0.4713905640162328,
          -1.0712207565371368,
          -1.5197167177767927,
          -1.5962934297616274,
          -0.949212334538386,
          3.595603129661194,
          0.06882059284186465,
          -1.015114021929123,
          -0.22323826043983863,
          -0.43563193208069523,
          -1.4469628897768465,
          -1.490730273395342,
          -0.6292275002222318,
          0.7255772882853608,
          -0.5979139114537931,
          1.2276322209795076,
          -0.19048479098824864,
          -0.13303162564663537,
          -0.884064591429768,
          -1.249415925889193,
          -1.4695028820657052,
          -0.6761557262455911,
          0.07663224873882417,
          1.722501536812407,
          0.02675703135259821,
          -1.3747696083016807,
          2.6113016577215133,
          1.126346197393292,
          -1.5310193583040872,
          -0.4929071444316133,
          -0.2873201255436433,
          -1.3573226109318886,
          -0.9736965270593425,
          -0.47407069268695184,
          -0.03291438415533591,
          -1.2349145971619715,
          2.716818844336005,
          -0.255355140865617,
          -1.1040134274995463,
          -1.2433583125253358,
          1.5011123626789893,
          1.7089104350386068,
          1.4872390616931996,
          -0.48458095548883795,
          0.3456548984981495,
          -1.4469628897768465,
          -0.7301204933826515,
          -0.9595095060937101,
          -1.1197901779629786,
          0.5502600838822348,
          -1.4625697157586772,
          1.8292047910385367,
          -1.5821684280616504,
          -1.2525366319483997,
          0.7466747962255835,
          -0.9441981817531321,
          3.082605777360083,
          -0.7029619985712161,
          -1.7964896720970467,
          -0.7856952375251597,
          -1.681500007880803,
          5.3088270816588645,
          -0.03971242212328971,
          -1.0075116340432269,
          -1.07736843740329,
          0.2773539833473268,
          -0.784075981418827,
          3.0676917786743387,
          -1.2862309475556806,
          -0.9833402343221216,
          -1.340680042546679,
          -0.8113546580552914,
          -1.1155680658396108,
          -1.482800638347027,
          -0.14734306470744354,
          -1.422917857803431,
          -0.6502401848485097,
          -1.0581440225064955,
          -0.20383009852735984,
          2.503662786112208,
          -0.4026020507027321,
          0.3308679313414317,
          -1.3501866964809328,
          -1.6812001818547153,
          2.386881305822797,
          1.9325134508787265,
          -1.2922229048761964,
          -0.09695957690454649,
          4.020264105360116,
          2.6256117601687694,
          -0.4537192503488827,
          -1.2054312155147664,
          -0.13094916351461125,
          -0.40355570968686383,
          0.14600958326642513,
          0.7457778935314893,
          0.5462047344953815,
          -0.6285240133877623,
          2.4571561229687777,
          -1.5749765598968155,
          0.9554028357019441,
          0.08419658963913598,
          -1.4577653475158743,
          2.1500742248672253,
          0.06264543516104037,
          0.828201970771178,
          0.34255741114470256,
          -0.05216929729509629,
          -1.2554592166113094,
          3.570141328514529,
          -1.0010092352474051,
          1.0811681230694599,
          -0.5475578163527628,
          -1.843167616770917,
          0.15728640903801644,
          1.2138003009472502,
          -1.2387176518027134,
          -1.1158593012061735,
          -0.9679114696095933,
          -1.3295517689279097,
          -1.2202161776390974,
          -0.6231160826047809,
          -0.8114599662660299,
          2.7721209653066468,
          -0.6982123471811341,
          0.959013442311145,
          -0.4958748235601514,
          -0.7074183212582987,
          -0.9484619817629077,
          1.7200883273657976,
          -0.9952476320266279,
          0.6425494286394707,
          1.6590551722426552,
          0.3096534928877895,
          3.023245558047648,
          0.6031670114953703,
          -0.8749883398601613,
          -0.6231160826047809,
          -1.0772368412071094,
          1.336844695791206,
          0.07016051919781974,
          -0.6502648053921957,
          0.8236988988270585,
          -0.10947840237158704,
          1.1381084028121362,
          -0.5418240354061905,
          0.6790277651194775,
          -1.3724391281298596,
          -1.488997138310151,
          2.248932706831076,
          -1.2141439875024465,
          1.0125807090722851,
          -1.4504000108458155,
          0.676774232287845,
          -0.905730346090931,
          -0.9919041243531012,
          -0.2947806065941408,
          -0.9179396806399702,
          1.5098520260821207,
          -1.64919718803681,
          0.024421190377672104,
          -0.2957811543151322,
          -1.0895293857582495,
          1.2309900208850855,
          -0.7549179788208303,
          -0.9056409776320975,
          2.180897549222128,
          -1.494403016419551,
          1.9913293541189812,
          -1.0684135004666895,
          -1.0621247677050747,
          -1.4301061672735365,
          0.49615902200555256,
          -1.3236169423824808,
          -1.0547584089859254,
          3.739994211965446,
          0.4188297103914597,
          -1.4863784355720224,
          -0.2050584592942955,
          1.5050900811195929,
          -0.2336319425544368,
          0.6238823719072365,
          -0.33236492131591905,
          0.37324406028546964,
          0.6607286267027483,
          -0.2947806065941408,
          0.40778390649253665,
          1.8010439512045318,
          -1.5283266627548686,
          -1.5318592755000449,
          -1.5082727460261915,
          3.0092379900282435,
          1.076020309628319,
          1.0155607856054736,
          -0.870297345503673,
          -1.456517632429594,
          1.04872014576383,
          0.40103862164022724,
          3.8602056924215615,
          0.6269080679995607,
          2.267348070834546,
          -0.5640664580821533,
          2.441549505312391,
          -0.637471097333226,
          -1.3553743840318033,
          -1.2299179538563247,
          -1.028892907459126,
          -0.12382957760612304,
          -1.801949289623862,
          -0.0057423718345544815,
          0.5152365531319786,
          -1.0553250012906863,
          1.8813295975675146,
          -1.2945123450306977,
          0.348746541841026,
          -0.4856093366963342,
          -0.6804703268150537,
          -1.6712610824209448,
          -0.03300161546007092,
          3.2344026656979468,
          -0.36868041385026556,
          -1.0900841159541095,
          -0.6347529330616875,
          -1.239931432042686,
          3.1284872675234596,
          1.1702098343591547
         ],
         "xaxis": "x",
         "y": [
          -0.5087399256113748,
          0.0866617657336423,
          -3.6931249357395144,
          -0.10652520904456415,
          -1.3990095962230569,
          0.09189822802728671,
          -2.261298242204852,
          -0.783050170741848,
          -0.1594160763064139,
          3.3864667660924574,
          -1.2020662280280283,
          -0.0773739157660026,
          0.2744564293733212,
          0.4314757721585162,
          -0.25331608139237094,
          0.013632173950124562,
          1.254857520305774,
          0.39204711170492157,
          0.08074579360094587,
          0.4728659080493138,
          -0.6873618598344148,
          -0.05073390167006946,
          -0.0407827070780061,
          -0.11789713757414653,
          -0.3285307437807677,
          0.1313219156812485,
          1.5165854647055093,
          0.684463072432861,
          0.1583176362561384,
          -0.39131716236889913,
          -0.731686648637743,
          -0.04276019290853991,
          0.2842568856653716,
          -0.19451307142815127,
          -0.45763817977686744,
          -0.44826977487439534,
          0.4829153110003489,
          0.11115715940988823,
          -0.008845832145391546,
          0.0038826411222020268,
          -0.4577437078494519,
          -0.15641242006994258,
          0.2957443194493153,
          -0.17566793127682703,
          0.541429390635473,
          -0.09118495976220177,
          -0.8748678736190548,
          -0.2055221101510091,
          -1.0130485635818365,
          0.35486577581940143,
          0.09244458313907136,
          -2.8869274844834463,
          0.10223529148288862,
          -4.005575449059825,
          0.5654078987021608,
          -1.0451697545996121,
          -0.5573973915834717,
          -0.625835687615795,
          -0.04368929859042076,
          0.3032134719058107,
          -0.25931269601530577,
          -0.7447262951220777,
          1.1947462713080266,
          -0.03583493030658378,
          -0.09633810642663561,
          -0.720376518721883,
          -0.40614937530725936,
          0.21591214312627002,
          0.0874720411261666,
          0.63162490194001,
          -0.8938834022031336,
          -0.15641242006994258,
          -0.09569335061070824,
          -0.22245303613475886,
          -0.49076502052015347,
          0.46941218681340646,
          0.14475779807266714,
          -0.31351867340055584,
          -0.052165325100268826,
          0.40184617658897176,
          0.20847725496390676,
          -1.2159965592343234,
          1.2386763604098017,
          -5.098250477849766,
          -0.5321693184601738,
          0.5861238700308246,
          -0.260138559125845,
          0.7077107906419614,
          0.6731232087885072,
          -0.37235122330999193,
          -0.28551850947264673,
          0.775434921276026,
          -0.04565238692632174,
          -0.13944997089170755,
          -0.41949699988181544,
          0.24800958800595105,
          -4.493832336652655,
          0.28909710183532333,
          -0.0697489987052235,
          -0.3024406114488616,
          1.1210333514066997,
          -0.3921011428903905,
          0.2059501397767094,
          -0.21773381487109084,
          1.5244113802917059,
          -0.13577182175294975,
          0.6135918024429146,
          -0.06750987240185018,
          -0.19137155982354717,
          -0.29842436236678477,
          -0.08746709534405912,
          -0.23692478443317322,
          -0.5160337062111285,
          1.0670143653825706,
          1.0815576187597007,
          -0.31186418244863057,
          0.7446816750238827,
          -0.07056399557801162,
          0.5793343579191472,
          0.41739025314832284,
          -0.07872977390933672,
          -0.23899699415696524,
          -0.2616428088184723,
          -0.13034314194034888,
          0.36701641175220606,
          0.4686658153881804,
          -0.4071151104555188,
          -0.49148940004144426,
          -0.09202441824905001,
          -0.6164965115784056,
          0.004760376230264827,
          0.060289650672288884,
          0.5684542963620685,
          1.1988786013927464,
          0.16884653275757075,
          0.8040181168333084,
          -1.0288911135182333,
          -0.20484692030416574,
          -0.23792833502116537,
          -0.21464173891890537,
          0.15993260986478336,
          0.016267924646233882,
          -0.07957715041944838,
          -0.017620226247561682,
          -0.21464173891890537,
          -0.28537204423307844,
          0.6315152645907218,
          0.06084369481528153,
          -0.2495446089634362,
          -0.1167558939315335,
          -0.2313178514251867,
          0.25531977685643353,
          -0.3817759291678735,
          2.35914954343225,
          0.5385031141795866,
          -0.18785087523490301,
          0.17076644166184327,
          -3.0884732054377504,
          0.2611510016479598,
          0.08500408632803584,
          1.1258050522429328,
          -0.2725338447900782,
          -1.0873927136135693,
          1.0153017574464227,
          -0.02094339594449704,
          0.3287728780227325,
          6.504494538767324,
          3.8616895830215463,
          0.05798727056197971,
          -0.2687006146016902,
          0.8359019352621894,
          -0.20465413531791804,
          0.16468214043112156,
          -0.06632185433044094,
          1.3009556769553632,
          -4.394801048750648,
          1.5025561434649928,
          0.018604042100288692,
          0.39645063709203,
          -0.325844364367687,
          -0.018977689164544627,
          -0.2738139893371447,
          -0.14014260839381204,
          0.8432454587379907,
          -1.0212705706205967,
          -0.1450382510486487,
          0.5819175375693036,
          -0.7721453087579156,
          -0.29996101767641536,
          -0.5421078522034999,
          -0.2774875461424668,
          -1.2088235438365595,
          0.4490182234745264,
          -1.2840287169008822,
          0.9548995585780283,
          -0.07946273031991671,
          0.08956470966297041,
          -0.5208431574156351,
          -0.1707592336739251,
          0.09560230802129863,
          0.9340227998069672,
          3.2958931930931343,
          0.7165057140519966,
          -0.3373953297814171,
          -0.16090619444347626,
          0.9567303928100804,
          -0.19817392777775636,
          -0.25528040001453406,
          0.18383921241938914,
          -0.41548506885806785,
          -0.1508040876604163,
          0.20864208716355856,
          1.3031560507600493,
          0.00299677703224577,
          0.029992712702482927,
          -0.23106876788249006,
          0.2620816214272156,
          -0.2952162616765497,
          -1.5565766080991597,
          1.9058781617736953,
          -1.7140255142225445,
          0.21333119784244658,
          -0.09815038524222569,
          -0.29996101767641536,
          0.3291084092361888,
          -0.2996916028494622,
          -0.14189451655000962,
          0.4252117006745296,
          -0.2890828962218107,
          3.227688462427182,
          -0.19030926035687684,
          -0.01630132849095348,
          0.09846559474332127,
          -0.22417803829559632,
          4.969837660020583,
          -0.024620162057092474,
          -0.4569931092163276,
          -0.25025380420807,
          -0.3767363445000795,
          6.083025769976868,
          -0.016458917774300637,
          -0.3578165577668136,
          -0.6859421259396767,
          -1.6477629312316942,
          -0.3208194959203323,
          1.3952820664078356,
          -0.6067224994002881,
          0.31719220979949164,
          -0.09370112091037963,
          -0.09731907453955835,
          -0.11368109407482718,
          -0.17978658738688416,
          -0.02530258902054867,
          -0.08195696923322025,
          -0.08985336457609451,
          -0.5654200140776695,
          0.3276317148261165,
          -0.9152099060106051,
          0.302463141636785,
          1.1031091457718123,
          -0.5018368685648048,
          -0.3166565167400472,
          -1.4835101130798551,
          1.9219501525669969,
          -0.4262955499122676,
          0.8555813237811006,
          -1.2543504805093004,
          4.9479213776958515,
          -0.11246427748968098,
          -0.17086717657924702,
          0.12455169906033499,
          -0.2175702994542044,
          0.3604277298787135,
          2.553475301841087,
          1.7801001024379381,
          0.08349976109469764,
          -2.776693301315475,
          -0.3856112013209339,
          -1.9656932759395698,
          1.4724190689152148,
          -0.3869992670936361,
          -0.4842671453171213,
          0.18128911289220734,
          0.7294677663030199,
          0.9036113069364025,
          1.1764284054672465,
          -0.06390953980399057,
          -2.8075216230674327,
          -0.5439446090413251,
          -0.011904949170807042,
          -0.4543633779944197,
          -0.34422644339591024,
          0.8738326307010157,
          -0.08086311250131752,
          -0.2340386653034949,
          -0.010668273811350508,
          -0.5759434235899773,
          -0.1741242026123047,
          0.0157188838192176,
          0.7672620252098501,
          -0.1315003781862677,
          -0.26655878921103016,
          -0.34307910534140074,
          -1.343610438309882,
          0.9019425354854392,
          -0.12488227763855997,
          0.2872658456501851,
          1.00672208354269,
          0.31644744564722344,
          1.533262883894251,
          -0.8023084583044772,
          -0.4355527112129241,
          0.47246329080575344,
          -0.07849392512796083,
          -0.2625056344562614,
          0.7672620252098501,
          0.0904650695844294,
          -0.5470178101480001,
          -0.31593915999844535,
          -0.14668424174696132,
          -1.0728102417479428,
          -0.46020314459232786,
          1.5545143557188204,
          0.5083967607184595,
          -0.775498774776716,
          -0.05826064622639089,
          -0.133067957263339,
          -3.383868264733585,
          0.09961623778047281,
          -1.2062648843487604,
          -0.2632394721462735,
          0.9249113213383584,
          0.16324563457888386,
          -0.018497459102862997,
          -0.01980466320977312,
          0.06044528705583161,
          0.045372378747536,
          -0.325015023876983,
          0.4559400585679973,
          -0.6638576852142164,
          -0.21749730956334992,
          -1.2501215721869265,
          -0.17665937719294836,
          0.08275872584620948,
          4.129366630764964,
          -0.11056256586453872,
          0.2211442368532938,
          -0.2844667378992563,
          0.03423296858031587,
          -0.561103871178655,
          -0.6109358074529895,
          -0.18928090767565658,
          -0.16151728237313176,
          3.8093997834839324,
          -0.8132838826093709,
          -0.18678217750253587,
          -0.05655736367977397,
          1.0447167665362747,
          0.4278687105262538,
          -0.46464877203887234,
          0.023880447435913884,
          -0.0028478354346287587,
          -0.997088589185095,
          -0.01980466320977312,
          -0.07440793810900931,
          0.16825554538867224,
          -0.22906623999133854,
          -0.5292387127576273,
          -0.38370198230865116,
          -2.184457558476548,
          -0.6521195737920925,
          0.6357593435450246,
          -0.17071439269040004,
          -0.22303112388724305,
          -1.305581196911431,
          0.8190397003495878,
          -0.6626643320279635,
          0.6065221177430961,
          1.157230740596435,
          0.6960253208462709,
          2.896708115330002,
          -0.51819426215837,
          -0.4293871510736765,
          -0.12522734435347835,
          0.09490521073509642,
          -0.026394605412518007,
          -0.26811256995731403,
          -0.6520825874898077,
          0.016543952490171723,
          0.1000722376138549,
          -3.438341237563756,
          -0.3169839578257093,
          1.0221282723632614,
          -0.32910434998402094,
          0.6307681469533132,
          -0.29643601322738933,
          -0.10583840297903306,
          0.3481247821368905,
          0.06914896792483281,
          0.03848479794712176,
          0.4441029735508723,
          -0.15332021857043965,
          -0.979535361145585,
          -0.20798052546733092
         ],
         "yaxis": "y"
        }
       ],
       "layout": {
        "coloraxis": {
         "colorbar": {
          "title": {
           "text": "color"
          }
         },
         "colorscale": [
          [
           0,
           "#0d0887"
          ],
          [
           0.1111111111111111,
           "#46039f"
          ],
          [
           0.2222222222222222,
           "#7201a8"
          ],
          [
           0.3333333333333333,
           "#9c179e"
          ],
          [
           0.4444444444444444,
           "#bd3786"
          ],
          [
           0.5555555555555556,
           "#d8576b"
          ],
          [
           0.6666666666666666,
           "#ed7953"
          ],
          [
           0.7777777777777778,
           "#fb9f3a"
          ],
          [
           0.8888888888888888,
           "#fdca26"
          ],
          [
           1,
           "#f0f921"
          ]
         ]
        },
        "legend": {
         "tracegroupgap": 0
        },
        "margin": {
         "t": 60
        },
        "template": {
         "data": {
          "bar": [
           {
            "error_x": {
             "color": "#2a3f5f"
            },
            "error_y": {
             "color": "#2a3f5f"
            },
            "marker": {
             "line": {
              "color": "#E5ECF6",
              "width": 0.5
             },
             "pattern": {
              "fillmode": "overlay",
              "size": 10,
              "solidity": 0.2
             }
            },
            "type": "bar"
           }
          ],
          "barpolar": [
           {
            "marker": {
             "line": {
              "color": "#E5ECF6",
              "width": 0.5
             },
             "pattern": {
              "fillmode": "overlay",
              "size": 10,
              "solidity": 0.2
             }
            },
            "type": "barpolar"
           }
          ],
          "carpet": [
           {
            "aaxis": {
             "endlinecolor": "#2a3f5f",
             "gridcolor": "white",
             "linecolor": "white",
             "minorgridcolor": "white",
             "startlinecolor": "#2a3f5f"
            },
            "baxis": {
             "endlinecolor": "#2a3f5f",
             "gridcolor": "white",
             "linecolor": "white",
             "minorgridcolor": "white",
             "startlinecolor": "#2a3f5f"
            },
            "type": "carpet"
           }
          ],
          "choropleth": [
           {
            "colorbar": {
             "outlinewidth": 0,
             "ticks": ""
            },
            "type": "choropleth"
           }
          ],
          "contour": [
           {
            "colorbar": {
             "outlinewidth": 0,
             "ticks": ""
            },
            "colorscale": [
             [
              0,
              "#0d0887"
             ],
             [
              0.1111111111111111,
              "#46039f"
             ],
             [
              0.2222222222222222,
              "#7201a8"
             ],
             [
              0.3333333333333333,
              "#9c179e"
             ],
             [
              0.4444444444444444,
              "#bd3786"
             ],
             [
              0.5555555555555556,
              "#d8576b"
             ],
             [
              0.6666666666666666,
              "#ed7953"
             ],
             [
              0.7777777777777778,
              "#fb9f3a"
             ],
             [
              0.8888888888888888,
              "#fdca26"
             ],
             [
              1,
              "#f0f921"
             ]
            ],
            "type": "contour"
           }
          ],
          "contourcarpet": [
           {
            "colorbar": {
             "outlinewidth": 0,
             "ticks": ""
            },
            "type": "contourcarpet"
           }
          ],
          "heatmap": [
           {
            "colorbar": {
             "outlinewidth": 0,
             "ticks": ""
            },
            "colorscale": [
             [
              0,
              "#0d0887"
             ],
             [
              0.1111111111111111,
              "#46039f"
             ],
             [
              0.2222222222222222,
              "#7201a8"
             ],
             [
              0.3333333333333333,
              "#9c179e"
             ],
             [
              0.4444444444444444,
              "#bd3786"
             ],
             [
              0.5555555555555556,
              "#d8576b"
             ],
             [
              0.6666666666666666,
              "#ed7953"
             ],
             [
              0.7777777777777778,
              "#fb9f3a"
             ],
             [
              0.8888888888888888,
              "#fdca26"
             ],
             [
              1,
              "#f0f921"
             ]
            ],
            "type": "heatmap"
           }
          ],
          "heatmapgl": [
           {
            "colorbar": {
             "outlinewidth": 0,
             "ticks": ""
            },
            "colorscale": [
             [
              0,
              "#0d0887"
             ],
             [
              0.1111111111111111,
              "#46039f"
             ],
             [
              0.2222222222222222,
              "#7201a8"
             ],
             [
              0.3333333333333333,
              "#9c179e"
             ],
             [
              0.4444444444444444,
              "#bd3786"
             ],
             [
              0.5555555555555556,
              "#d8576b"
             ],
             [
              0.6666666666666666,
              "#ed7953"
             ],
             [
              0.7777777777777778,
              "#fb9f3a"
             ],
             [
              0.8888888888888888,
              "#fdca26"
             ],
             [
              1,
              "#f0f921"
             ]
            ],
            "type": "heatmapgl"
           }
          ],
          "histogram": [
           {
            "marker": {
             "pattern": {
              "fillmode": "overlay",
              "size": 10,
              "solidity": 0.2
             }
            },
            "type": "histogram"
           }
          ],
          "histogram2d": [
           {
            "colorbar": {
             "outlinewidth": 0,
             "ticks": ""
            },
            "colorscale": [
             [
              0,
              "#0d0887"
             ],
             [
              0.1111111111111111,
              "#46039f"
             ],
             [
              0.2222222222222222,
              "#7201a8"
             ],
             [
              0.3333333333333333,
              "#9c179e"
             ],
             [
              0.4444444444444444,
              "#bd3786"
             ],
             [
              0.5555555555555556,
              "#d8576b"
             ],
             [
              0.6666666666666666,
              "#ed7953"
             ],
             [
              0.7777777777777778,
              "#fb9f3a"
             ],
             [
              0.8888888888888888,
              "#fdca26"
             ],
             [
              1,
              "#f0f921"
             ]
            ],
            "type": "histogram2d"
           }
          ],
          "histogram2dcontour": [
           {
            "colorbar": {
             "outlinewidth": 0,
             "ticks": ""
            },
            "colorscale": [
             [
              0,
              "#0d0887"
             ],
             [
              0.1111111111111111,
              "#46039f"
             ],
             [
              0.2222222222222222,
              "#7201a8"
             ],
             [
              0.3333333333333333,
              "#9c179e"
             ],
             [
              0.4444444444444444,
              "#bd3786"
             ],
             [
              0.5555555555555556,
              "#d8576b"
             ],
             [
              0.6666666666666666,
              "#ed7953"
             ],
             [
              0.7777777777777778,
              "#fb9f3a"
             ],
             [
              0.8888888888888888,
              "#fdca26"
             ],
             [
              1,
              "#f0f921"
             ]
            ],
            "type": "histogram2dcontour"
           }
          ],
          "mesh3d": [
           {
            "colorbar": {
             "outlinewidth": 0,
             "ticks": ""
            },
            "type": "mesh3d"
           }
          ],
          "parcoords": [
           {
            "line": {
             "colorbar": {
              "outlinewidth": 0,
              "ticks": ""
             }
            },
            "type": "parcoords"
           }
          ],
          "pie": [
           {
            "automargin": true,
            "type": "pie"
           }
          ],
          "scatter": [
           {
            "marker": {
             "colorbar": {
              "outlinewidth": 0,
              "ticks": ""
             }
            },
            "type": "scatter"
           }
          ],
          "scatter3d": [
           {
            "line": {
             "colorbar": {
              "outlinewidth": 0,
              "ticks": ""
             }
            },
            "marker": {
             "colorbar": {
              "outlinewidth": 0,
              "ticks": ""
             }
            },
            "type": "scatter3d"
           }
          ],
          "scattercarpet": [
           {
            "marker": {
             "colorbar": {
              "outlinewidth": 0,
              "ticks": ""
             }
            },
            "type": "scattercarpet"
           }
          ],
          "scattergeo": [
           {
            "marker": {
             "colorbar": {
              "outlinewidth": 0,
              "ticks": ""
             }
            },
            "type": "scattergeo"
           }
          ],
          "scattergl": [
           {
            "marker": {
             "colorbar": {
              "outlinewidth": 0,
              "ticks": ""
             }
            },
            "type": "scattergl"
           }
          ],
          "scattermapbox": [
           {
            "marker": {
             "colorbar": {
              "outlinewidth": 0,
              "ticks": ""
             }
            },
            "type": "scattermapbox"
           }
          ],
          "scatterpolar": [
           {
            "marker": {
             "colorbar": {
              "outlinewidth": 0,
              "ticks": ""
             }
            },
            "type": "scatterpolar"
           }
          ],
          "scatterpolargl": [
           {
            "marker": {
             "colorbar": {
              "outlinewidth": 0,
              "ticks": ""
             }
            },
            "type": "scatterpolargl"
           }
          ],
          "scatterternary": [
           {
            "marker": {
             "colorbar": {
              "outlinewidth": 0,
              "ticks": ""
             }
            },
            "type": "scatterternary"
           }
          ],
          "surface": [
           {
            "colorbar": {
             "outlinewidth": 0,
             "ticks": ""
            },
            "colorscale": [
             [
              0,
              "#0d0887"
             ],
             [
              0.1111111111111111,
              "#46039f"
             ],
             [
              0.2222222222222222,
              "#7201a8"
             ],
             [
              0.3333333333333333,
              "#9c179e"
             ],
             [
              0.4444444444444444,
              "#bd3786"
             ],
             [
              0.5555555555555556,
              "#d8576b"
             ],
             [
              0.6666666666666666,
              "#ed7953"
             ],
             [
              0.7777777777777778,
              "#fb9f3a"
             ],
             [
              0.8888888888888888,
              "#fdca26"
             ],
             [
              1,
              "#f0f921"
             ]
            ],
            "type": "surface"
           }
          ],
          "table": [
           {
            "cells": {
             "fill": {
              "color": "#EBF0F8"
             },
             "line": {
              "color": "white"
             }
            },
            "header": {
             "fill": {
              "color": "#C8D4E3"
             },
             "line": {
              "color": "white"
             }
            },
            "type": "table"
           }
          ]
         },
         "layout": {
          "annotationdefaults": {
           "arrowcolor": "#2a3f5f",
           "arrowhead": 0,
           "arrowwidth": 1
          },
          "autotypenumbers": "strict",
          "coloraxis": {
           "colorbar": {
            "outlinewidth": 0,
            "ticks": ""
           }
          },
          "colorscale": {
           "diverging": [
            [
             0,
             "#8e0152"
            ],
            [
             0.1,
             "#c51b7d"
            ],
            [
             0.2,
             "#de77ae"
            ],
            [
             0.3,
             "#f1b6da"
            ],
            [
             0.4,
             "#fde0ef"
            ],
            [
             0.5,
             "#f7f7f7"
            ],
            [
             0.6,
             "#e6f5d0"
            ],
            [
             0.7,
             "#b8e186"
            ],
            [
             0.8,
             "#7fbc41"
            ],
            [
             0.9,
             "#4d9221"
            ],
            [
             1,
             "#276419"
            ]
           ],
           "sequential": [
            [
             0,
             "#0d0887"
            ],
            [
             0.1111111111111111,
             "#46039f"
            ],
            [
             0.2222222222222222,
             "#7201a8"
            ],
            [
             0.3333333333333333,
             "#9c179e"
            ],
            [
             0.4444444444444444,
             "#bd3786"
            ],
            [
             0.5555555555555556,
             "#d8576b"
            ],
            [
             0.6666666666666666,
             "#ed7953"
            ],
            [
             0.7777777777777778,
             "#fb9f3a"
            ],
            [
             0.8888888888888888,
             "#fdca26"
            ],
            [
             1,
             "#f0f921"
            ]
           ],
           "sequentialminus": [
            [
             0,
             "#0d0887"
            ],
            [
             0.1111111111111111,
             "#46039f"
            ],
            [
             0.2222222222222222,
             "#7201a8"
            ],
            [
             0.3333333333333333,
             "#9c179e"
            ],
            [
             0.4444444444444444,
             "#bd3786"
            ],
            [
             0.5555555555555556,
             "#d8576b"
            ],
            [
             0.6666666666666666,
             "#ed7953"
            ],
            [
             0.7777777777777778,
             "#fb9f3a"
            ],
            [
             0.8888888888888888,
             "#fdca26"
            ],
            [
             1,
             "#f0f921"
            ]
           ]
          },
          "colorway": [
           "#636efa",
           "#EF553B",
           "#00cc96",
           "#ab63fa",
           "#FFA15A",
           "#19d3f3",
           "#FF6692",
           "#B6E880",
           "#FF97FF",
           "#FECB52"
          ],
          "font": {
           "color": "#2a3f5f"
          },
          "geo": {
           "bgcolor": "white",
           "lakecolor": "white",
           "landcolor": "#E5ECF6",
           "showlakes": true,
           "showland": true,
           "subunitcolor": "white"
          },
          "hoverlabel": {
           "align": "left"
          },
          "hovermode": "closest",
          "mapbox": {
           "style": "light"
          },
          "paper_bgcolor": "white",
          "plot_bgcolor": "#E5ECF6",
          "polar": {
           "angularaxis": {
            "gridcolor": "white",
            "linecolor": "white",
            "ticks": ""
           },
           "bgcolor": "#E5ECF6",
           "radialaxis": {
            "gridcolor": "white",
            "linecolor": "white",
            "ticks": ""
           }
          },
          "scene": {
           "xaxis": {
            "backgroundcolor": "#E5ECF6",
            "gridcolor": "white",
            "gridwidth": 2,
            "linecolor": "white",
            "showbackground": true,
            "ticks": "",
            "zerolinecolor": "white"
           },
           "yaxis": {
            "backgroundcolor": "#E5ECF6",
            "gridcolor": "white",
            "gridwidth": 2,
            "linecolor": "white",
            "showbackground": true,
            "ticks": "",
            "zerolinecolor": "white"
           },
           "zaxis": {
            "backgroundcolor": "#E5ECF6",
            "gridcolor": "white",
            "gridwidth": 2,
            "linecolor": "white",
            "showbackground": true,
            "ticks": "",
            "zerolinecolor": "white"
           }
          },
          "shapedefaults": {
           "line": {
            "color": "#2a3f5f"
           }
          },
          "ternary": {
           "aaxis": {
            "gridcolor": "white",
            "linecolor": "white",
            "ticks": ""
           },
           "baxis": {
            "gridcolor": "white",
            "linecolor": "white",
            "ticks": ""
           },
           "bgcolor": "#E5ECF6",
           "caxis": {
            "gridcolor": "white",
            "linecolor": "white",
            "ticks": ""
           }
          },
          "title": {
           "x": 0.05
          },
          "xaxis": {
           "automargin": true,
           "gridcolor": "white",
           "linecolor": "white",
           "ticks": "",
           "title": {
            "standoff": 15
           },
           "zerolinecolor": "white",
           "zerolinewidth": 2
          },
          "yaxis": {
           "automargin": true,
           "gridcolor": "white",
           "linecolor": "white",
           "ticks": "",
           "title": {
            "standoff": 15
           },
           "zerolinecolor": "white",
           "zerolinewidth": 2
          }
         }
        },
        "xaxis": {
         "anchor": "y",
         "domain": [
          0,
          1
         ],
         "title": {
          "text": "principal component 1"
         }
        },
        "yaxis": {
         "anchor": "x",
         "domain": [
          0,
          1
         ],
         "title": {
          "text": "principal component 2"
         }
        }
       }
      },
      "text/html": [
       "<div>                            <div id=\"b08e7a73-a13a-44c4-bcd6-e2f5e9b2071b\" class=\"plotly-graph-div\" style=\"height:525px; width:100%;\"></div>            <script type=\"text/javascript\">                require([\"plotly\"], function(Plotly) {                    window.PLOTLYENV=window.PLOTLYENV || {};                                    if (document.getElementById(\"b08e7a73-a13a-44c4-bcd6-e2f5e9b2071b\")) {                    Plotly.newPlot(                        \"b08e7a73-a13a-44c4-bcd6-e2f5e9b2071b\",                        [{\"customdata\":[[\"CARR\"],[\"CERN\"],[\"AAPL\"],[\"BF/B\"],[\"AMGN\"],[\"LNT\"],[\"CDW\"],[\"BBY\"],[\"AIG\"],[\"BSX\"],[\"ABBV\"],[\"AAP\"],[\"AIZ\"],[\"ARE\"],[\"KMX\"],[\"ATVI\"],[\"CNC\"],[\"AJG\"],[\"BLK\"],[\"A\"],[\"AMAT\"],[\"BLL\"],[\"CNP\"],[\"BK\"],[\"BR\"],[\"ABT\"],[\"ANSS\"],[\"BDX\"],[\"COG\"],[\"COF\"],[\"CE\"],[\"CF\"],[\"CBOE\"],[\"ACN\"],[\"CPB\"],[\"CHRW\"],[\"ALB\"],[\"ANTM\"],[\"ATO\"],[\"AMZN\"],[\"ALL\"],[\"GOOGL\"],[\"ANET\"],[\"AMCR\"],[\"ADI\"],[\"ADM\"],[\"ADP\"],[\"BWA\"],[\"AMD\"],[\"AME\"],[\"AEE\"],[\"MO\"],[\"AMP\"],[\"ADSK\"],[\"CTLT\"],[\"AMT\"],[\"CAH\"],[\"MMM\"],[\"AEP\"],[\"AVB\"],[\"CAT\"],[\"ADBE\"],[\"BXP\"],[\"BIIB\"],[\"AVGO\"],[\"AVY\"],[\"BRK/B\"],[\"AKAM\"],[\"CBRE\"],[\"AWK\"],[\"AON\"],[\"GOOG\"],[\"BAC\"],[\"AOS\"],[\"BIO\"],[\"APTV\"],[\"APD\"],[\"AXP\"],[\"APH\"],[\"BAX\"],[\"CDNS\"],[\"ALLE\"],[\"FRT\"],[\"CLX\"],[\"DFS\"],[\"GLW\"],[\"CMA\"],[\"STZ\"],[\"CME\"],[\"CMI\"],[\"DLTR\"],[\"EQR\"],[\"CMS\"],[\"DOV\"],[\"DOW\"],[\"DXC\"],[\"CTXS\"],[\"EIX\"],[\"CVS\"],[\"C\"],[\"CVX\"],[\"DHI\"],[\"D\"],[\"CFG\"],[\"FISV\"],[\"F\"],[\"DHR\"],[\"FLT\"],[\"FITB\"],[\"FDX\"],[\"FMC\"],[\"CB\"],[\"KO\"],[\"ESS\"],[\"COP\"],[\"CI\"],[\"ECL\"],[\"CPRT\"],[\"DRE\"],[\"SCHW\"],[\"DRI\"],[\"CTAS\"],[\"FAST\"],[\"CHD\"],[\"ETN\"],[\"DD\"],[\"CINF\"],[\"DE\"],[\"ETR\"],[\"DG\"],[\"EVRG\"],[\"CTSH\"],[\"XRAY\"],[\"EA\"],[\"ED\"],[\"EMN\"],[\"EL\"],[\"CAG\"],[\"EMR\"],[\"DISCA\"],[\"ES\"],[\"EW\"],[\"DTE\"],[\"EBAY\"],[\"DISCK\"],[\"DISH\"],[\"CRL\"],[\"CHTR\"],[\"FB\"],[\"FE\"],[\"CSCO\"],[\"CTVA\"],[\"EXPD\"],[\"DLR\"],[\"FFIV\"],[\"COST\"],[\"EFX\"],[\"LLY\"],[\"DUK\"],[\"EOG\"],[\"CCI\"],[\"CSX\"],[\"DVA\"],[\"EXC\"],[\"CMCSA\"],[\"FRC\"],[\"EQIX\"],[\"DVN\"],[\"EXR\"],[\"IPG\"],[\"HWM\"],[\"HON\"],[\"KMI\"],[\"IP\"],[\"IR\"],[\"IT\"],[\"IQV\"],[\"JKHY\"],[\"JCI\"],[\"FCX\"],[\"HPE\"],[\"KEY\"],[\"HSIC\"],[\"INTU\"],[\"IRM\"],[\"FTV\"],[\"J\"],[\"K\"],[\"FOXA\"],[\"LYB\"],[\"IBM\"],[\"LRCX\"],[\"LHX\"],[\"KLAC\"],[\"JNPR\"],[\"JBHT\"],[\"KR\"],[\"HII\"],[\"BEN\"],[\"ICE\"],[\"LIN\"],[\"HAL\"],[\"IPGP\"],[\"INTC\"],[\"GNRC\"],[\"INCY\"],[\"MTB\"],[\"GPC\"],[\"HAS\"],[\"LH\"],[\"LDOS\"],[\"HRL\"],[\"GPN\"],[\"HBAN\"],[\"MKTX\"],[\"JNJ\"],[\"KHC\"],[\"GPS\"],[\"LW\"],[\"INFO\"],[\"ITW\"],[\"MLM\"],[\"MMC\"],[\"FOX\"],[\"KIM\"],[\"GIS\"],[\"LKQ\"],[\"IEX\"],[\"JPM\"],[\"IFF\"],[\"IVZ\"],[\"SJM\"],[\"KEYS\"],[\"GD\"],[\"GE\"],[\"HUM\"],[\"GM\"],[\"FBHS\"],[\"GS\"],[\"KSU\"],[\"GRMN\"],[\"LEG\"],[\"HOLX\"],[\"LMT\"],[\"GILD\"],[\"ISRG\"],[\"NRG\"],[\"PVH\"],[\"PNC\"],[\"PFE\"],[\"RJF\"],[\"MHK\"],[\"PNR\"],[\"PNW\"],[\"NSC\"],[\"OMC\"],[\"RSG\"],[\"NKE\"],[\"PWR\"],[\"MAA\"],[\"DGX\"],[\"RF\"],[\"POOL\"],[\"MCHP\"],[\"PGR\"],[\"RL\"],[\"MRNA\"],[\"PXD\"],[\"MDLZ\"],[\"PCAR\"],[\"NDAQ\"],[\"PPG\"],[\"MRK\"],[\"PPL\"],[\"O\"],[\"PENN\"],[\"NTAP\"],[\"PHM\"],[\"QCOM\"],[\"RTX\"],[\"NUE\"],[\"NFLX\"],[\"MKC\"],[\"NXPI\"],[\"NEE\"],[\"REG\"],[\"NEM\"],[\"MCO\"],[\"REGN\"],[\"ODFL\"],[\"NVR\"],[\"PRU\"],[\"MDT\"],[\"PSA\"],[\"NWL\"],[\"NTRS\"],[\"NOC\"],[\"MS\"],[\"MU\"],[\"NWS\"],[\"PKG\"],[\"ROL\"],[\"PKI\"],[\"ROK\"],[\"NI\"],[\"QRVO\"],[\"NLSN\"],[\"PTC\"],[\"PBCT\"],[\"PLD\"],[\"MSFT\"],[\"RHI\"],[\"PYPL\"],[\"MNST\"],[\"OKE\"],[\"NWSA\"],[\"PEG\"],[\"PAYX\"],[\"PG\"],[\"PH\"],[\"PEP\"],[\"TER\"],[\"STE\"],[\"SLB\"],[\"TSCO\"],[\"TFC\"],[\"STT\"],[\"STX\"],[\"WDC\"],[\"UPS\"],[\"UHS\"],[\"TFX\"],[\"WMB\"],[\"WLTW\"],[\"UAA\"],[\"WEC\"],[\"VRSK\"],[\"VIAC\"],[\"WMT\"],[\"TGT\"],[\"SNA\"],[\"TXN\"],[\"URI\"],[\"TXT\"],[\"VTR\"],[\"WFC\"],[\"V\"],[\"TPR\"],[\"SO\"],[\"COO\"],[\"ULTA\"],[\"USB\"],[\"SWK\"],[\"TWTR\"],[\"GWW\"],[\"HIG\"],[\"VRTX\"],[\"XYL\"],[\"VMC\"],[\"ROST\"],[\"TTWO\"],[\"TT\"],[\"SPG\"],[\"UA\"],[\"VFC\"],[\"XLNX\"],[\"TRV\"],[\"WHR\"],[\"SYF\"],[\"SHW\"],[\"TJX\"],[\"SYK\"],[\"SIVB\"],[\"TSN\"],[\"HSY\"],[\"ROP\"],[\"SYY\"],[\"TRMB\"],[\"SNPS\"],[\"WAB\"],[\"CRM\"],[\"TROW\"],[\"VZ\"],[\"WRB\"],[\"SRE\"],[\"UNH\"],[\"UNM\"],[\"UNP\"],[\"WM\"],[\"WBA\"],[\"WU\"],[\"WY\"],[\"TDY\"],[\"SWKS\"],[\"TMUS\"],[\"MOS\"],[\"TMO\"],[\"WST\"],[\"TEL\"],[\"XEL\"],[\"ZBH\"],[\"ZION\"],[\"ZTS\"],[\"ZBRA\"]],\"hovertemplate\":\"principal component 1=%{x}<br>principal component 2=%{y}<br>hover_data_0=%{customdata[0]}<br>color=%{marker.color}<extra></extra>\",\"legendgroup\":\"\",\"marker\":{\"color\":[2.0,2.0,1.0,1.0,1.0,2.0,1.0,2.0,2.0,0.0,1.0,2.0,2.0,2.0,2.0,2.0,2.0,2.0,2.0,1.0,2.0,2.0,2.0,2.0,2.0,2.0,0.0,2.0,2.0,2.0,2.0,2.0,2.0,1.0,2.0,2.0,2.0,2.0,2.0,1.0,2.0,2.0,2.0,2.0,2.0,2.0,1.0,2.0,1.0,2.0,2.0,1.0,2.0,1.0,2.0,1.0,2.0,2.0,2.0,2.0,2.0,1.0,2.0,2.0,2.0,2.0,2.0,2.0,2.0,2.0,1.0,2.0,2.0,2.0,2.0,2.0,2.0,2.0,2.0,2.0,1.0,1.0,2.0,1.0,2.0,2.0,2.0,2.0,2.0,2.0,2.0,2.0,2.0,2.0,2.0,2.0,1.0,2.0,2.0,2.0,2.0,2.0,2.0,2.0,2.0,2.0,2.0,2.0,2.0,2.0,2.0,2.0,2.0,2.0,2.0,2.0,0.0,2.0,2.0,2.0,2.0,1.0,2.0,2.0,2.0,2.0,2.0,2.0,2.0,2.0,2.0,2.0,2.0,0.0,2.0,2.0,1.0,2.0,2.0,2.0,2.0,1.0,2.0,2.0,2.0,2.0,0.0,2.0,2.0,2.0,2.0,2.0,2.0,0.0,2.0,1.0,2.0,1.0,2.0,2.0,0.0,2.0,2.0,2.0,2.0,2.0,0.0,0.0,2.0,2.0,2.0,2.0,2.0,2.0,2.0,1.0,0.0,2.0,2.0,2.0,2.0,2.0,2.0,0.0,2.0,2.0,2.0,2.0,2.0,2.0,2.0,1.0,2.0,1.0,2.0,2.0,2.0,2.0,2.0,2.0,2.0,0.0,2.0,2.0,1.0,0.0,2.0,2.0,2.0,2.0,2.0,2.0,2.0,2.0,1.0,2.0,2.0,2.0,1.0,0.0,1.0,2.0,2.0,2.0,2.0,2.0,2.0,2.0,2.0,0.0,2.0,2.0,2.0,2.0,0.0,2.0,2.0,2.0,2.0,0.0,2.0,2.0,2.0,2.0,2.0,0.0,2.0,2.0,2.0,2.0,2.0,2.0,2.0,2.0,2.0,2.0,2.0,1.0,2.0,2.0,2.0,2.0,1.0,0.0,2.0,2.0,1.0,0.0,2.0,2.0,2.0,2.0,2.0,0.0,0.0,2.0,1.0,2.0,1.0,2.0,2.0,1.0,2.0,2.0,2.0,2.0,2.0,1.0,2.0,1.0,2.0,2.0,2.0,1.0,2.0,2.0,2.0,2.0,2.0,2.0,2.0,1.0,2.0,1.0,2.0,2.0,2.0,0.0,2.0,0.0,1.0,2.0,1.0,2.0,2.0,2.0,2.0,1.0,2.0,2.0,1.0,2.0,0.0,2.0,2.0,2.0,2.0,1.0,2.0,1.0,2.0,2.0,2.0,2.0,2.0,2.0,1.0,2.0,2.0,2.0,2.0,1.0,2.0,2.0,0.0,2.0,1.0,2.0,2.0,2.0,2.0,2.0,2.0,0.0,2.0,2.0,2.0,0.0,2.0,2.0,2.0,2.0,1.0,2.0,2.0,1.0,2.0,2.0,2.0,1.0,1.0,2.0,2.0,2.0,1.0,2.0,1.0,2.0,0.0,2.0,0.0,2.0,2.0,2.0,2.0,2.0,2.0,2.0,2.0,2.0,1.0,2.0,2.0,2.0,2.0,2.0,2.0,1.0,2.0,2.0,2.0,2.0,1.0,1.0],\"coloraxis\":\"coloraxis\",\"symbol\":\"circle\"},\"mode\":\"markers\",\"name\":\"\",\"orientation\":\"v\",\"showlegend\":false,\"type\":\"scatter\",\"x\":[-0.4095882009485438,-0.22444425347364105,3.96781887995042,1.639521219919456,0.6515955789726808,-0.9613948013096947,2.3230227889831654,-0.9168130671075426,-1.6735539293507062,2.4400968574548614,0.8172729642692348,-0.6859245009477354,-0.9092801894941572,-0.6530500184250939,-0.6282023030698073,-0.6360886567157414,-0.16384477001988215,-0.25515970920494285,-0.5359200639525319,1.73133170935064,0.34681162464499593,0.406351575931905,-1.2423777744435793,-1.5051551352850607,0.7121595870597918,0.21466326771460087,2.177282102918581,-0.22427849026792596,-0.7265943294705662,-1.75646058594649,-1.3248026633101455,-0.9959020811649731,-0.3358382061449141,1.1502239760257473,-1.070666724895815,-0.4952304761193276,0.06248520093781413,-0.7771306993940713,-1.2778506754691925,2.03728165598412,-1.7492020182409753,0.31742415855404305,0.7812074085570256,-0.867429956389465,0.5406655968318527,-1.3255265581162003,1.3293344427722482,-1.5169463356173065,2.0022377052559754,0.04378808833241767,-1.028199886507204,2.327323477123596,-0.1302312272798982,6.324991761375795,0.5406416479327094,2.898160649489049,-0.2119136770601389,-0.4464777903765246,-1.2506793552207276,-0.5911003209248701,-0.3240954882720321,3.5617464345959298,0.06908756522762836,-0.6169409798708212,0.2902598364134551,0.2754100900626659,-1.7255406417028174,-0.4625523428124638,-0.4513832312138437,0.24507198935763555,1.3052792515389715,0.31742415855404305,-1.345659209063773,-0.23450606817719832,-1.6325054371842223,-0.02002052014967563,-0.3715617834567575,-0.6102709077445272,0.39686085185087827,-0.0032548507860054154,3.419822571254824,1.1280484456520619,0.45023505742804626,5.44777390109513,-1.4072058477549185,-0.5093532803437422,-1.5639708241655927,-0.007381479939827318,-0.12415491124216821,-0.989207346990088,-1.2395052851310153,-0.1627321675935072,-0.9774317318428208,-0.11897101040324581,-1.4341228776587727,-1.1801422290557775,5.291861374006624,-1.1038592841590915,-1.336002220105911,-1.7690920751692287,-0.4845891071220755,-1.4359061752114177,-0.8443088926611314,-1.646288540040683,0.17734335764333153,-1.4985840352942088,0.6351852865120344,-0.12030996206914833,-1.4883575371390456,-1.2720398061194824,-0.6848685541807694,-1.5220005088793653,0.6190020463486029,0.25778016064401443,-0.41159658268337374,-1.6125353855615958,1.5091569062808958,0.9003326497345936,-0.12398210413692523,-0.34101915653688913,0.03986276527519207,1.0323646612336752,0.932683603305722,-0.1283290124903973,-0.1630267480955481,-0.964162175610572,-1.65697870256206,-0.43661947763948616,-1.3242027610900942,-0.10448886071638211,-1.2766871693593176,-0.6227629920726611,-0.43045309260110637,0.9972050209093374,-1.2243083519259215,-0.39156483835819095,2.1752028253938342,-1.3535198387041512,-0.3097401652969882,-1.7049633546267735,-0.9855754932831139,2.38486040375557,-1.3242276588403956,-0.6617242241884688,-1.7049633546267735,-1.5646299174454494,1.5125007593418853,-0.01518734588855305,0.07177473258182604,-1.1531437233972748,-0.34510775956089734,-1.1014270874484904,-0.2164287513831367,1.0602898515638088,0.42717037319578743,1.3731616006081837,0.9029587752353576,3.9379123629719177,-1.0608437484280036,-1.146778764789535,1.723963929838533,-0.6262952883293355,-0.33500662181277097,-0.6219555896188159,-1.0257098560676776,-0.347489476995585,5.552255688256695,1.8090341582945637,0.5822400634591979,-0.7113097115330224,0.14487815175777485,0.3677306725214251,-1.2250191518809515,-1.0937841113353945,0.2331627847448269,6.2554577649022125,1.7348696644026322,0.8191186677471775,-0.4713905640162328,-1.0712207565371368,-1.5197167177767927,-1.5962934297616274,-0.949212334538386,3.595603129661194,0.06882059284186465,-1.015114021929123,-0.22323826043983863,-0.43563193208069523,-1.4469628897768465,-1.490730273395342,-0.6292275002222318,0.7255772882853608,-0.5979139114537931,1.2276322209795076,-0.19048479098824864,-0.13303162564663537,-0.884064591429768,-1.249415925889193,-1.4695028820657052,-0.6761557262455911,0.07663224873882417,1.722501536812407,0.02675703135259821,-1.3747696083016807,2.6113016577215133,1.126346197393292,-1.5310193583040872,-0.4929071444316133,-0.2873201255436433,-1.3573226109318886,-0.9736965270593425,-0.47407069268695184,-0.03291438415533591,-1.2349145971619715,2.716818844336005,-0.255355140865617,-1.1040134274995463,-1.2433583125253358,1.5011123626789893,1.7089104350386068,1.4872390616931996,-0.48458095548883795,0.3456548984981495,-1.4469628897768465,-0.7301204933826515,-0.9595095060937101,-1.1197901779629786,0.5502600838822348,-1.4625697157586772,1.8292047910385367,-1.5821684280616504,-1.2525366319483997,0.7466747962255835,-0.9441981817531321,3.082605777360083,-0.7029619985712161,-1.7964896720970467,-0.7856952375251597,-1.681500007880803,5.3088270816588645,-0.03971242212328971,-1.0075116340432269,-1.07736843740329,0.2773539833473268,-0.784075981418827,3.0676917786743387,-1.2862309475556806,-0.9833402343221216,-1.340680042546679,-0.8113546580552914,-1.1155680658396108,-1.482800638347027,-0.14734306470744354,-1.422917857803431,-0.6502401848485097,-1.0581440225064955,-0.20383009852735984,2.503662786112208,-0.4026020507027321,0.3308679313414317,-1.3501866964809328,-1.6812001818547153,2.386881305822797,1.9325134508787265,-1.2922229048761964,-0.09695957690454649,4.020264105360116,2.6256117601687694,-0.4537192503488827,-1.2054312155147664,-0.13094916351461125,-0.40355570968686383,0.14600958326642513,0.7457778935314893,0.5462047344953815,-0.6285240133877623,2.4571561229687777,-1.5749765598968155,0.9554028357019441,0.08419658963913598,-1.4577653475158743,2.1500742248672253,0.06264543516104037,0.828201970771178,0.34255741114470256,-0.05216929729509629,-1.2554592166113094,3.570141328514529,-1.0010092352474051,1.0811681230694599,-0.5475578163527628,-1.843167616770917,0.15728640903801644,1.2138003009472502,-1.2387176518027134,-1.1158593012061735,-0.9679114696095933,-1.3295517689279097,-1.2202161776390974,-0.6231160826047809,-0.8114599662660299,2.7721209653066468,-0.6982123471811341,0.959013442311145,-0.4958748235601514,-0.7074183212582987,-0.9484619817629077,1.7200883273657976,-0.9952476320266279,0.6425494286394707,1.6590551722426552,0.3096534928877895,3.023245558047648,0.6031670114953703,-0.8749883398601613,-0.6231160826047809,-1.0772368412071094,1.336844695791206,0.07016051919781974,-0.6502648053921957,0.8236988988270585,-0.10947840237158704,1.1381084028121362,-0.5418240354061905,0.6790277651194775,-1.3724391281298596,-1.488997138310151,2.248932706831076,-1.2141439875024465,1.0125807090722851,-1.4504000108458155,0.676774232287845,-0.905730346090931,-0.9919041243531012,-0.2947806065941408,-0.9179396806399702,1.5098520260821207,-1.64919718803681,0.024421190377672104,-0.2957811543151322,-1.0895293857582495,1.2309900208850855,-0.7549179788208303,-0.9056409776320975,2.180897549222128,-1.494403016419551,1.9913293541189812,-1.0684135004666895,-1.0621247677050747,-1.4301061672735365,0.49615902200555256,-1.3236169423824808,-1.0547584089859254,3.739994211965446,0.4188297103914597,-1.4863784355720224,-0.2050584592942955,1.5050900811195929,-0.2336319425544368,0.6238823719072365,-0.33236492131591905,0.37324406028546964,0.6607286267027483,-0.2947806065941408,0.40778390649253665,1.8010439512045318,-1.5283266627548686,-1.5318592755000449,-1.5082727460261915,3.0092379900282435,1.076020309628319,1.0155607856054736,-0.870297345503673,-1.456517632429594,1.04872014576383,0.40103862164022724,3.8602056924215615,0.6269080679995607,2.267348070834546,-0.5640664580821533,2.441549505312391,-0.637471097333226,-1.3553743840318033,-1.2299179538563247,-1.028892907459126,-0.12382957760612304,-1.801949289623862,-0.0057423718345544815,0.5152365531319786,-1.0553250012906863,1.8813295975675146,-1.2945123450306977,0.348746541841026,-0.4856093366963342,-0.6804703268150537,-1.6712610824209448,-0.03300161546007092,3.2344026656979468,-0.36868041385026556,-1.0900841159541095,-0.6347529330616875,-1.239931432042686,3.1284872675234596,1.1702098343591547],\"xaxis\":\"x\",\"y\":[-0.5087399256113748,0.0866617657336423,-3.6931249357395144,-0.10652520904456415,-1.3990095962230569,0.09189822802728671,-2.261298242204852,-0.783050170741848,-0.1594160763064139,3.3864667660924574,-1.2020662280280283,-0.0773739157660026,0.2744564293733212,0.4314757721585162,-0.25331608139237094,0.013632173950124562,1.254857520305774,0.39204711170492157,0.08074579360094587,0.4728659080493138,-0.6873618598344148,-0.05073390167006946,-0.0407827070780061,-0.11789713757414653,-0.3285307437807677,0.1313219156812485,1.5165854647055093,0.684463072432861,0.1583176362561384,-0.39131716236889913,-0.731686648637743,-0.04276019290853991,0.2842568856653716,-0.19451307142815127,-0.45763817977686744,-0.44826977487439534,0.4829153110003489,0.11115715940988823,-0.008845832145391546,0.0038826411222020268,-0.4577437078494519,-0.15641242006994258,0.2957443194493153,-0.17566793127682703,0.541429390635473,-0.09118495976220177,-0.8748678736190548,-0.2055221101510091,-1.0130485635818365,0.35486577581940143,0.09244458313907136,-2.8869274844834463,0.10223529148288862,-4.005575449059825,0.5654078987021608,-1.0451697545996121,-0.5573973915834717,-0.625835687615795,-0.04368929859042076,0.3032134719058107,-0.25931269601530577,-0.7447262951220777,1.1947462713080266,-0.03583493030658378,-0.09633810642663561,-0.720376518721883,-0.40614937530725936,0.21591214312627002,0.0874720411261666,0.63162490194001,-0.8938834022031336,-0.15641242006994258,-0.09569335061070824,-0.22245303613475886,-0.49076502052015347,0.46941218681340646,0.14475779807266714,-0.31351867340055584,-0.052165325100268826,0.40184617658897176,0.20847725496390676,-1.2159965592343234,1.2386763604098017,-5.098250477849766,-0.5321693184601738,0.5861238700308246,-0.260138559125845,0.7077107906419614,0.6731232087885072,-0.37235122330999193,-0.28551850947264673,0.775434921276026,-0.04565238692632174,-0.13944997089170755,-0.41949699988181544,0.24800958800595105,-4.493832336652655,0.28909710183532333,-0.0697489987052235,-0.3024406114488616,1.1210333514066997,-0.3921011428903905,0.2059501397767094,-0.21773381487109084,1.5244113802917059,-0.13577182175294975,0.6135918024429146,-0.06750987240185018,-0.19137155982354717,-0.29842436236678477,-0.08746709534405912,-0.23692478443317322,-0.5160337062111285,1.0670143653825706,1.0815576187597007,-0.31186418244863057,0.7446816750238827,-0.07056399557801162,0.5793343579191472,0.41739025314832284,-0.07872977390933672,-0.23899699415696524,-0.2616428088184723,-0.13034314194034888,0.36701641175220606,0.4686658153881804,-0.4071151104555188,-0.49148940004144426,-0.09202441824905001,-0.6164965115784056,0.004760376230264827,0.060289650672288884,0.5684542963620685,1.1988786013927464,0.16884653275757075,0.8040181168333084,-1.0288911135182333,-0.20484692030416574,-0.23792833502116537,-0.21464173891890537,0.15993260986478336,0.016267924646233882,-0.07957715041944838,-0.017620226247561682,-0.21464173891890537,-0.28537204423307844,0.6315152645907218,0.06084369481528153,-0.2495446089634362,-0.1167558939315335,-0.2313178514251867,0.25531977685643353,-0.3817759291678735,2.35914954343225,0.5385031141795866,-0.18785087523490301,0.17076644166184327,-3.0884732054377504,0.2611510016479598,0.08500408632803584,1.1258050522429328,-0.2725338447900782,-1.0873927136135693,1.0153017574464227,-0.02094339594449704,0.3287728780227325,6.504494538767324,3.8616895830215463,0.05798727056197971,-0.2687006146016902,0.8359019352621894,-0.20465413531791804,0.16468214043112156,-0.06632185433044094,1.3009556769553632,-4.394801048750648,1.5025561434649928,0.018604042100288692,0.39645063709203,-0.325844364367687,-0.018977689164544627,-0.2738139893371447,-0.14014260839381204,0.8432454587379907,-1.0212705706205967,-0.1450382510486487,0.5819175375693036,-0.7721453087579156,-0.29996101767641536,-0.5421078522034999,-0.2774875461424668,-1.2088235438365595,0.4490182234745264,-1.2840287169008822,0.9548995585780283,-0.07946273031991671,0.08956470966297041,-0.5208431574156351,-0.1707592336739251,0.09560230802129863,0.9340227998069672,3.2958931930931343,0.7165057140519966,-0.3373953297814171,-0.16090619444347626,0.9567303928100804,-0.19817392777775636,-0.25528040001453406,0.18383921241938914,-0.41548506885806785,-0.1508040876604163,0.20864208716355856,1.3031560507600493,0.00299677703224577,0.029992712702482927,-0.23106876788249006,0.2620816214272156,-0.2952162616765497,-1.5565766080991597,1.9058781617736953,-1.7140255142225445,0.21333119784244658,-0.09815038524222569,-0.29996101767641536,0.3291084092361888,-0.2996916028494622,-0.14189451655000962,0.4252117006745296,-0.2890828962218107,3.227688462427182,-0.19030926035687684,-0.01630132849095348,0.09846559474332127,-0.22417803829559632,4.969837660020583,-0.024620162057092474,-0.4569931092163276,-0.25025380420807,-0.3767363445000795,6.083025769976868,-0.016458917774300637,-0.3578165577668136,-0.6859421259396767,-1.6477629312316942,-0.3208194959203323,1.3952820664078356,-0.6067224994002881,0.31719220979949164,-0.09370112091037963,-0.09731907453955835,-0.11368109407482718,-0.17978658738688416,-0.02530258902054867,-0.08195696923322025,-0.08985336457609451,-0.5654200140776695,0.3276317148261165,-0.9152099060106051,0.302463141636785,1.1031091457718123,-0.5018368685648048,-0.3166565167400472,-1.4835101130798551,1.9219501525669969,-0.4262955499122676,0.8555813237811006,-1.2543504805093004,4.9479213776958515,-0.11246427748968098,-0.17086717657924702,0.12455169906033499,-0.2175702994542044,0.3604277298787135,2.553475301841087,1.7801001024379381,0.08349976109469764,-2.776693301315475,-0.3856112013209339,-1.9656932759395698,1.4724190689152148,-0.3869992670936361,-0.4842671453171213,0.18128911289220734,0.7294677663030199,0.9036113069364025,1.1764284054672465,-0.06390953980399057,-2.8075216230674327,-0.5439446090413251,-0.011904949170807042,-0.4543633779944197,-0.34422644339591024,0.8738326307010157,-0.08086311250131752,-0.2340386653034949,-0.010668273811350508,-0.5759434235899773,-0.1741242026123047,0.0157188838192176,0.7672620252098501,-0.1315003781862677,-0.26655878921103016,-0.34307910534140074,-1.343610438309882,0.9019425354854392,-0.12488227763855997,0.2872658456501851,1.00672208354269,0.31644744564722344,1.533262883894251,-0.8023084583044772,-0.4355527112129241,0.47246329080575344,-0.07849392512796083,-0.2625056344562614,0.7672620252098501,0.0904650695844294,-0.5470178101480001,-0.31593915999844535,-0.14668424174696132,-1.0728102417479428,-0.46020314459232786,1.5545143557188204,0.5083967607184595,-0.775498774776716,-0.05826064622639089,-0.133067957263339,-3.383868264733585,0.09961623778047281,-1.2062648843487604,-0.2632394721462735,0.9249113213383584,0.16324563457888386,-0.018497459102862997,-0.01980466320977312,0.06044528705583161,0.045372378747536,-0.325015023876983,0.4559400585679973,-0.6638576852142164,-0.21749730956334992,-1.2501215721869265,-0.17665937719294836,0.08275872584620948,4.129366630764964,-0.11056256586453872,0.2211442368532938,-0.2844667378992563,0.03423296858031587,-0.561103871178655,-0.6109358074529895,-0.18928090767565658,-0.16151728237313176,3.8093997834839324,-0.8132838826093709,-0.18678217750253587,-0.05655736367977397,1.0447167665362747,0.4278687105262538,-0.46464877203887234,0.023880447435913884,-0.0028478354346287587,-0.997088589185095,-0.01980466320977312,-0.07440793810900931,0.16825554538867224,-0.22906623999133854,-0.5292387127576273,-0.38370198230865116,-2.184457558476548,-0.6521195737920925,0.6357593435450246,-0.17071439269040004,-0.22303112388724305,-1.305581196911431,0.8190397003495878,-0.6626643320279635,0.6065221177430961,1.157230740596435,0.6960253208462709,2.896708115330002,-0.51819426215837,-0.4293871510736765,-0.12522734435347835,0.09490521073509642,-0.026394605412518007,-0.26811256995731403,-0.6520825874898077,0.016543952490171723,0.1000722376138549,-3.438341237563756,-0.3169839578257093,1.0221282723632614,-0.32910434998402094,0.6307681469533132,-0.29643601322738933,-0.10583840297903306,0.3481247821368905,0.06914896792483281,0.03848479794712176,0.4441029735508723,-0.15332021857043965,-0.979535361145585,-0.20798052546733092],\"yaxis\":\"y\"}],                        {\"coloraxis\":{\"colorbar\":{\"title\":{\"text\":\"color\"}},\"colorscale\":[[0.0,\"#0d0887\"],[0.1111111111111111,\"#46039f\"],[0.2222222222222222,\"#7201a8\"],[0.3333333333333333,\"#9c179e\"],[0.4444444444444444,\"#bd3786\"],[0.5555555555555556,\"#d8576b\"],[0.6666666666666666,\"#ed7953\"],[0.7777777777777778,\"#fb9f3a\"],[0.8888888888888888,\"#fdca26\"],[1.0,\"#f0f921\"]]},\"legend\":{\"tracegroupgap\":0},\"margin\":{\"t\":60},\"template\":{\"data\":{\"bar\":[{\"error_x\":{\"color\":\"#2a3f5f\"},\"error_y\":{\"color\":\"#2a3f5f\"},\"marker\":{\"line\":{\"color\":\"#E5ECF6\",\"width\":0.5},\"pattern\":{\"fillmode\":\"overlay\",\"size\":10,\"solidity\":0.2}},\"type\":\"bar\"}],\"barpolar\":[{\"marker\":{\"line\":{\"color\":\"#E5ECF6\",\"width\":0.5},\"pattern\":{\"fillmode\":\"overlay\",\"size\":10,\"solidity\":0.2}},\"type\":\"barpolar\"}],\"carpet\":[{\"aaxis\":{\"endlinecolor\":\"#2a3f5f\",\"gridcolor\":\"white\",\"linecolor\":\"white\",\"minorgridcolor\":\"white\",\"startlinecolor\":\"#2a3f5f\"},\"baxis\":{\"endlinecolor\":\"#2a3f5f\",\"gridcolor\":\"white\",\"linecolor\":\"white\",\"minorgridcolor\":\"white\",\"startlinecolor\":\"#2a3f5f\"},\"type\":\"carpet\"}],\"choropleth\":[{\"colorbar\":{\"outlinewidth\":0,\"ticks\":\"\"},\"type\":\"choropleth\"}],\"contour\":[{\"colorbar\":{\"outlinewidth\":0,\"ticks\":\"\"},\"colorscale\":[[0.0,\"#0d0887\"],[0.1111111111111111,\"#46039f\"],[0.2222222222222222,\"#7201a8\"],[0.3333333333333333,\"#9c179e\"],[0.4444444444444444,\"#bd3786\"],[0.5555555555555556,\"#d8576b\"],[0.6666666666666666,\"#ed7953\"],[0.7777777777777778,\"#fb9f3a\"],[0.8888888888888888,\"#fdca26\"],[1.0,\"#f0f921\"]],\"type\":\"contour\"}],\"contourcarpet\":[{\"colorbar\":{\"outlinewidth\":0,\"ticks\":\"\"},\"type\":\"contourcarpet\"}],\"heatmap\":[{\"colorbar\":{\"outlinewidth\":0,\"ticks\":\"\"},\"colorscale\":[[0.0,\"#0d0887\"],[0.1111111111111111,\"#46039f\"],[0.2222222222222222,\"#7201a8\"],[0.3333333333333333,\"#9c179e\"],[0.4444444444444444,\"#bd3786\"],[0.5555555555555556,\"#d8576b\"],[0.6666666666666666,\"#ed7953\"],[0.7777777777777778,\"#fb9f3a\"],[0.8888888888888888,\"#fdca26\"],[1.0,\"#f0f921\"]],\"type\":\"heatmap\"}],\"heatmapgl\":[{\"colorbar\":{\"outlinewidth\":0,\"ticks\":\"\"},\"colorscale\":[[0.0,\"#0d0887\"],[0.1111111111111111,\"#46039f\"],[0.2222222222222222,\"#7201a8\"],[0.3333333333333333,\"#9c179e\"],[0.4444444444444444,\"#bd3786\"],[0.5555555555555556,\"#d8576b\"],[0.6666666666666666,\"#ed7953\"],[0.7777777777777778,\"#fb9f3a\"],[0.8888888888888888,\"#fdca26\"],[1.0,\"#f0f921\"]],\"type\":\"heatmapgl\"}],\"histogram\":[{\"marker\":{\"pattern\":{\"fillmode\":\"overlay\",\"size\":10,\"solidity\":0.2}},\"type\":\"histogram\"}],\"histogram2d\":[{\"colorbar\":{\"outlinewidth\":0,\"ticks\":\"\"},\"colorscale\":[[0.0,\"#0d0887\"],[0.1111111111111111,\"#46039f\"],[0.2222222222222222,\"#7201a8\"],[0.3333333333333333,\"#9c179e\"],[0.4444444444444444,\"#bd3786\"],[0.5555555555555556,\"#d8576b\"],[0.6666666666666666,\"#ed7953\"],[0.7777777777777778,\"#fb9f3a\"],[0.8888888888888888,\"#fdca26\"],[1.0,\"#f0f921\"]],\"type\":\"histogram2d\"}],\"histogram2dcontour\":[{\"colorbar\":{\"outlinewidth\":0,\"ticks\":\"\"},\"colorscale\":[[0.0,\"#0d0887\"],[0.1111111111111111,\"#46039f\"],[0.2222222222222222,\"#7201a8\"],[0.3333333333333333,\"#9c179e\"],[0.4444444444444444,\"#bd3786\"],[0.5555555555555556,\"#d8576b\"],[0.6666666666666666,\"#ed7953\"],[0.7777777777777778,\"#fb9f3a\"],[0.8888888888888888,\"#fdca26\"],[1.0,\"#f0f921\"]],\"type\":\"histogram2dcontour\"}],\"mesh3d\":[{\"colorbar\":{\"outlinewidth\":0,\"ticks\":\"\"},\"type\":\"mesh3d\"}],\"parcoords\":[{\"line\":{\"colorbar\":{\"outlinewidth\":0,\"ticks\":\"\"}},\"type\":\"parcoords\"}],\"pie\":[{\"automargin\":true,\"type\":\"pie\"}],\"scatter\":[{\"marker\":{\"colorbar\":{\"outlinewidth\":0,\"ticks\":\"\"}},\"type\":\"scatter\"}],\"scatter3d\":[{\"line\":{\"colorbar\":{\"outlinewidth\":0,\"ticks\":\"\"}},\"marker\":{\"colorbar\":{\"outlinewidth\":0,\"ticks\":\"\"}},\"type\":\"scatter3d\"}],\"scattercarpet\":[{\"marker\":{\"colorbar\":{\"outlinewidth\":0,\"ticks\":\"\"}},\"type\":\"scattercarpet\"}],\"scattergeo\":[{\"marker\":{\"colorbar\":{\"outlinewidth\":0,\"ticks\":\"\"}},\"type\":\"scattergeo\"}],\"scattergl\":[{\"marker\":{\"colorbar\":{\"outlinewidth\":0,\"ticks\":\"\"}},\"type\":\"scattergl\"}],\"scattermapbox\":[{\"marker\":{\"colorbar\":{\"outlinewidth\":0,\"ticks\":\"\"}},\"type\":\"scattermapbox\"}],\"scatterpolar\":[{\"marker\":{\"colorbar\":{\"outlinewidth\":0,\"ticks\":\"\"}},\"type\":\"scatterpolar\"}],\"scatterpolargl\":[{\"marker\":{\"colorbar\":{\"outlinewidth\":0,\"ticks\":\"\"}},\"type\":\"scatterpolargl\"}],\"scatterternary\":[{\"marker\":{\"colorbar\":{\"outlinewidth\":0,\"ticks\":\"\"}},\"type\":\"scatterternary\"}],\"surface\":[{\"colorbar\":{\"outlinewidth\":0,\"ticks\":\"\"},\"colorscale\":[[0.0,\"#0d0887\"],[0.1111111111111111,\"#46039f\"],[0.2222222222222222,\"#7201a8\"],[0.3333333333333333,\"#9c179e\"],[0.4444444444444444,\"#bd3786\"],[0.5555555555555556,\"#d8576b\"],[0.6666666666666666,\"#ed7953\"],[0.7777777777777778,\"#fb9f3a\"],[0.8888888888888888,\"#fdca26\"],[1.0,\"#f0f921\"]],\"type\":\"surface\"}],\"table\":[{\"cells\":{\"fill\":{\"color\":\"#EBF0F8\"},\"line\":{\"color\":\"white\"}},\"header\":{\"fill\":{\"color\":\"#C8D4E3\"},\"line\":{\"color\":\"white\"}},\"type\":\"table\"}]},\"layout\":{\"annotationdefaults\":{\"arrowcolor\":\"#2a3f5f\",\"arrowhead\":0,\"arrowwidth\":1},\"autotypenumbers\":\"strict\",\"coloraxis\":{\"colorbar\":{\"outlinewidth\":0,\"ticks\":\"\"}},\"colorscale\":{\"diverging\":[[0,\"#8e0152\"],[0.1,\"#c51b7d\"],[0.2,\"#de77ae\"],[0.3,\"#f1b6da\"],[0.4,\"#fde0ef\"],[0.5,\"#f7f7f7\"],[0.6,\"#e6f5d0\"],[0.7,\"#b8e186\"],[0.8,\"#7fbc41\"],[0.9,\"#4d9221\"],[1,\"#276419\"]],\"sequential\":[[0.0,\"#0d0887\"],[0.1111111111111111,\"#46039f\"],[0.2222222222222222,\"#7201a8\"],[0.3333333333333333,\"#9c179e\"],[0.4444444444444444,\"#bd3786\"],[0.5555555555555556,\"#d8576b\"],[0.6666666666666666,\"#ed7953\"],[0.7777777777777778,\"#fb9f3a\"],[0.8888888888888888,\"#fdca26\"],[1.0,\"#f0f921\"]],\"sequentialminus\":[[0.0,\"#0d0887\"],[0.1111111111111111,\"#46039f\"],[0.2222222222222222,\"#7201a8\"],[0.3333333333333333,\"#9c179e\"],[0.4444444444444444,\"#bd3786\"],[0.5555555555555556,\"#d8576b\"],[0.6666666666666666,\"#ed7953\"],[0.7777777777777778,\"#fb9f3a\"],[0.8888888888888888,\"#fdca26\"],[1.0,\"#f0f921\"]]},\"colorway\":[\"#636efa\",\"#EF553B\",\"#00cc96\",\"#ab63fa\",\"#FFA15A\",\"#19d3f3\",\"#FF6692\",\"#B6E880\",\"#FF97FF\",\"#FECB52\"],\"font\":{\"color\":\"#2a3f5f\"},\"geo\":{\"bgcolor\":\"white\",\"lakecolor\":\"white\",\"landcolor\":\"#E5ECF6\",\"showlakes\":true,\"showland\":true,\"subunitcolor\":\"white\"},\"hoverlabel\":{\"align\":\"left\"},\"hovermode\":\"closest\",\"mapbox\":{\"style\":\"light\"},\"paper_bgcolor\":\"white\",\"plot_bgcolor\":\"#E5ECF6\",\"polar\":{\"angularaxis\":{\"gridcolor\":\"white\",\"linecolor\":\"white\",\"ticks\":\"\"},\"bgcolor\":\"#E5ECF6\",\"radialaxis\":{\"gridcolor\":\"white\",\"linecolor\":\"white\",\"ticks\":\"\"}},\"scene\":{\"xaxis\":{\"backgroundcolor\":\"#E5ECF6\",\"gridcolor\":\"white\",\"gridwidth\":2,\"linecolor\":\"white\",\"showbackground\":true,\"ticks\":\"\",\"zerolinecolor\":\"white\"},\"yaxis\":{\"backgroundcolor\":\"#E5ECF6\",\"gridcolor\":\"white\",\"gridwidth\":2,\"linecolor\":\"white\",\"showbackground\":true,\"ticks\":\"\",\"zerolinecolor\":\"white\"},\"zaxis\":{\"backgroundcolor\":\"#E5ECF6\",\"gridcolor\":\"white\",\"gridwidth\":2,\"linecolor\":\"white\",\"showbackground\":true,\"ticks\":\"\",\"zerolinecolor\":\"white\"}},\"shapedefaults\":{\"line\":{\"color\":\"#2a3f5f\"}},\"ternary\":{\"aaxis\":{\"gridcolor\":\"white\",\"linecolor\":\"white\",\"ticks\":\"\"},\"baxis\":{\"gridcolor\":\"white\",\"linecolor\":\"white\",\"ticks\":\"\"},\"bgcolor\":\"#E5ECF6\",\"caxis\":{\"gridcolor\":\"white\",\"linecolor\":\"white\",\"ticks\":\"\"}},\"title\":{\"x\":0.05},\"xaxis\":{\"automargin\":true,\"gridcolor\":\"white\",\"linecolor\":\"white\",\"ticks\":\"\",\"title\":{\"standoff\":15},\"zerolinecolor\":\"white\",\"zerolinewidth\":2},\"yaxis\":{\"automargin\":true,\"gridcolor\":\"white\",\"linecolor\":\"white\",\"ticks\":\"\",\"title\":{\"standoff\":15},\"zerolinecolor\":\"white\",\"zerolinewidth\":2}}},\"xaxis\":{\"anchor\":\"y\",\"domain\":[0.0,1.0],\"title\":{\"text\":\"principal component 1\"}},\"yaxis\":{\"anchor\":\"x\",\"domain\":[0.0,1.0],\"title\":{\"text\":\"principal component 2\"}}},                        {\"responsive\": true}                    ).then(function(){\n",
       "                            \n",
       "var gd = document.getElementById('b08e7a73-a13a-44c4-bcd6-e2f5e9b2071b');\n",
       "var x = new MutationObserver(function (mutations, observer) {{\n",
       "        var display = window.getComputedStyle(gd).display;\n",
       "        if (!display || display === 'none') {{\n",
       "            console.log([gd, 'removed!']);\n",
       "            Plotly.purge(gd);\n",
       "            observer.disconnect();\n",
       "        }}\n",
       "}});\n",
       "\n",
       "// Listen for the removal of the full notebook cells\n",
       "var notebookContainer = gd.closest('#notebook-container');\n",
       "if (notebookContainer) {{\n",
       "    x.observe(notebookContainer, {childList: true});\n",
       "}}\n",
       "\n",
       "// Listen for the clearing of the current output cell\n",
       "var outputEl = gd.closest('.output');\n",
       "if (outputEl) {{\n",
       "    x.observe(outputEl, {childList: true});\n",
       "}}\n",
       "\n",
       "                        })                };                });            </script>        </div>"
      ]
     },
     "metadata": {},
     "output_type": "display_data"
    }
   ],
   "source": [
    "import plotly.express as px\n",
    "\n",
    "x = pca_dataset['principal component 1']\n",
    "y = pca_dataset['principal component 2']\n",
    "hover_data = pca_dataset.index\n",
    "fig = px.scatter(pca_dataset, x=x, y=y, color=kmeans.labels_.astype(float), hover_data=[indicators_df_o.index])\n",
    "fig.show()"
   ]
  },
  {
   "cell_type": "markdown",
   "metadata": {},
   "source": []
  }
 ],
 "metadata": {
  "kernelspec": {
   "display_name": "Python [conda env:geo_env]",
   "language": "python",
   "name": "conda-env-geo_env-py"
  },
  "language_info": {
   "codemirror_mode": {
    "name": "ipython",
    "version": 3
   },
   "file_extension": ".py",
   "mimetype": "text/x-python",
   "name": "python",
   "nbconvert_exporter": "python",
   "pygments_lexer": "ipython3",
   "version": "3.9.7"
  }
 },
 "nbformat": 4,
 "nbformat_minor": 4
}
