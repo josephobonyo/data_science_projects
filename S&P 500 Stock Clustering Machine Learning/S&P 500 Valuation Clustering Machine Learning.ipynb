{
 "cells": [
  {
   "cell_type": "markdown",
   "metadata": {},
   "source": [
    "# Clustering S&P 500 Stocks Based on Valuation Metrics"
   ]
  },
  {
   "cell_type": "markdown",
   "metadata": {},
   "source": [
    "## Import libraries and data\n",
    "Pandas allows us to import data, requests will allows us to retrieve data from the TD Ameritrade API and config is the python file in the project folder that contains my TD Ameritrade API client id."
   ]
  },
  {
   "cell_type": "code",
   "execution_count": 1,
   "metadata": {},
   "outputs": [],
   "source": [
    "import pandas as pd\n",
    "import requests\n",
    "from config import client_id"
   ]
  },
  {
   "cell_type": "markdown",
   "metadata": {},
   "source": [
    "CSV file download link: https://pkgstore.datahub.io/core/s-and-p-500-companies/constituents_csv/data/779b551ca54db43326b8035fca52cb1e/constituents_csv.csv"
   ]
  },
  {
   "cell_type": "code",
   "execution_count": 2,
   "metadata": {},
   "outputs": [
    {
     "data": {
      "text/plain": [
       "(505, 3)"
      ]
     },
     "execution_count": 2,
     "metadata": {},
     "output_type": "execute_result"
    }
   ],
   "source": [
    "path = 'constituents_csv.csv'\n",
    "stock_symbols = pd.read_csv(path)\n",
    "stock_symbols.shape"
   ]
  },
  {
   "cell_type": "markdown",
   "metadata": {},
   "source": [
    "Divide the list of stocks into 100s because TD Ameritrade's API will have errors if too many stocks are passed in at the same time."
   ]
  },
  {
   "cell_type": "code",
   "execution_count": 3,
   "metadata": {},
   "outputs": [
    {
     "data": {
      "text/html": [
       "<div>\n",
       "<style scoped>\n",
       "    .dataframe tbody tr th:only-of-type {\n",
       "        vertical-align: middle;\n",
       "    }\n",
       "\n",
       "    .dataframe tbody tr th {\n",
       "        vertical-align: top;\n",
       "    }\n",
       "\n",
       "    .dataframe thead th {\n",
       "        text-align: right;\n",
       "    }\n",
       "</style>\n",
       "<table border=\"1\" class=\"dataframe\">\n",
       "  <thead>\n",
       "    <tr style=\"text-align: right;\">\n",
       "      <th></th>\n",
       "      <th>Symbol</th>\n",
       "      <th>Name</th>\n",
       "      <th>Sector</th>\n",
       "    </tr>\n",
       "  </thead>\n",
       "  <tbody>\n",
       "    <tr>\n",
       "      <th>0</th>\n",
       "      <td>MMM</td>\n",
       "      <td>3M</td>\n",
       "      <td>Industrials</td>\n",
       "    </tr>\n",
       "    <tr>\n",
       "      <th>1</th>\n",
       "      <td>AOS</td>\n",
       "      <td>A. O. Smith</td>\n",
       "      <td>Industrials</td>\n",
       "    </tr>\n",
       "    <tr>\n",
       "      <th>2</th>\n",
       "      <td>ABT</td>\n",
       "      <td>Abbott Laboratories</td>\n",
       "      <td>Health Care</td>\n",
       "    </tr>\n",
       "    <tr>\n",
       "      <th>3</th>\n",
       "      <td>ABBV</td>\n",
       "      <td>AbbVie</td>\n",
       "      <td>Health Care</td>\n",
       "    </tr>\n",
       "    <tr>\n",
       "      <th>4</th>\n",
       "      <td>ABMD</td>\n",
       "      <td>Abiomed</td>\n",
       "      <td>Health Care</td>\n",
       "    </tr>\n",
       "    <tr>\n",
       "      <th>...</th>\n",
       "      <td>...</td>\n",
       "      <td>...</td>\n",
       "      <td>...</td>\n",
       "    </tr>\n",
       "    <tr>\n",
       "      <th>95</th>\n",
       "      <td>CE</td>\n",
       "      <td>Celanese</td>\n",
       "      <td>Materials</td>\n",
       "    </tr>\n",
       "    <tr>\n",
       "      <th>96</th>\n",
       "      <td>CNC</td>\n",
       "      <td>Centene Corporation</td>\n",
       "      <td>Health Care</td>\n",
       "    </tr>\n",
       "    <tr>\n",
       "      <th>97</th>\n",
       "      <td>CNP</td>\n",
       "      <td>CenterPoint Energy</td>\n",
       "      <td>Utilities</td>\n",
       "    </tr>\n",
       "    <tr>\n",
       "      <th>98</th>\n",
       "      <td>CERN</td>\n",
       "      <td>Cerner</td>\n",
       "      <td>Health Care</td>\n",
       "    </tr>\n",
       "    <tr>\n",
       "      <th>99</th>\n",
       "      <td>CF</td>\n",
       "      <td>CF Industries</td>\n",
       "      <td>Materials</td>\n",
       "    </tr>\n",
       "  </tbody>\n",
       "</table>\n",
       "<p>100 rows × 3 columns</p>\n",
       "</div>"
      ],
      "text/plain": [
       "   Symbol                 Name       Sector\n",
       "0     MMM                   3M  Industrials\n",
       "1     AOS          A. O. Smith  Industrials\n",
       "2     ABT  Abbott Laboratories  Health Care\n",
       "3    ABBV               AbbVie  Health Care\n",
       "4    ABMD              Abiomed  Health Care\n",
       "..    ...                  ...          ...\n",
       "95     CE             Celanese    Materials\n",
       "96    CNC  Centene Corporation  Health Care\n",
       "97    CNP   CenterPoint Energy    Utilities\n",
       "98   CERN               Cerner  Health Care\n",
       "99     CF        CF Industries    Materials\n",
       "\n",
       "[100 rows x 3 columns]"
      ]
     },
     "execution_count": 3,
     "metadata": {},
     "output_type": "execute_result"
    }
   ],
   "source": [
    "# Define the size of the chunks\n",
    "n = 100\n",
    "\n",
    "# Break the dataframe into chunks\n",
    "symbols_chunk = [stock_symbols[i:i+n] for i in range(0, stock_symbols.shape[0], n)]\n",
    "symbols_chunk[0]"
   ]
  },
  {
   "cell_type": "code",
   "execution_count": 4,
   "metadata": {},
   "outputs": [
    {
     "data": {
      "text/plain": [
       "['MMM', 'AOS', 'ABT', 'ABBV', 'ABMD']"
      ]
     },
     "execution_count": 4,
     "metadata": {},
     "output_type": "execute_result"
    }
   ],
   "source": [
    "# Grab an example to see the chunk\n",
    "example_chunk = list(symbols_chunk[0]['Symbol'])\n",
    "\n",
    "example_chunk[:5]"
   ]
  },
  {
   "cell_type": "markdown",
   "metadata": {},
   "source": [
    "## Get a dataset of fundamentals from TD Ameritrade"
   ]
  },
  {
   "cell_type": "code",
   "execution_count": 5,
   "metadata": {},
   "outputs": [],
   "source": [
    "# define an endpoint, in this case we will use the instruments endpoint\n",
    "endpoint = r\"https://api.tdameritrade.com/v1/instruments\"\n",
    "\n",
    "# we need a place to store all of our data, so a dictionary will do.\n",
    "stock_dict = {}\n",
    "\n",
    "# loop through each chunk\n",
    "for chunk in symbols_chunk:\n",
    "    \n",
    "    # define the payload\n",
    "    payload = {'apikey':client_id,\n",
    "               'projection':'fundamental',\n",
    "               'symbol':list(chunk['Symbol'])}\n",
    "    \n",
    "    # make a request\n",
    "    content = requests.get(url = endpoint, params = payload)\n",
    "\n",
    "    # convert it dictionary object\n",
    "    data = content.json()\n",
    "\n",
    "    # the ones that do exist, loop through each stock, grab the data, and store it in the dictionary\n",
    "    try:\n",
    "        for stock in data:\n",
    "            stock_dict[data[stock]['cusip']] = data[stock]['fundamental']\n",
    "    except:\n",
    "        continue"
   ]
  },
  {
   "cell_type": "code",
   "execution_count": 6,
   "metadata": {},
   "outputs": [],
   "source": [
    "# Create dataframe in newly collected data\n",
    "stock_df = pd.DataFrame(stock_dict)\n",
    "\n",
    "# Save a csv copy of the dataset\n",
    "stock_df.to_csv('new_symbols.csv')"
   ]
  },
  {
   "cell_type": "markdown",
   "metadata": {},
   "source": [
    "## Preprocessing the data"
   ]
  },
  {
   "cell_type": "code",
   "execution_count": 7,
   "metadata": {},
   "outputs": [
    {
     "data": {
      "text/html": [
       "<div>\n",
       "<style scoped>\n",
       "    .dataframe tbody tr th:only-of-type {\n",
       "        vertical-align: middle;\n",
       "    }\n",
       "\n",
       "    .dataframe tbody tr th {\n",
       "        vertical-align: top;\n",
       "    }\n",
       "\n",
       "    .dataframe thead th {\n",
       "        text-align: right;\n",
       "    }\n",
       "</style>\n",
       "<table border=\"1\" class=\"dataframe\">\n",
       "  <thead>\n",
       "    <tr style=\"text-align: right;\">\n",
       "      <th></th>\n",
       "      <th>symbol</th>\n",
       "      <th>high52</th>\n",
       "      <th>low52</th>\n",
       "      <th>dividendAmount</th>\n",
       "      <th>dividendYield</th>\n",
       "      <th>dividendDate</th>\n",
       "      <th>peRatio</th>\n",
       "      <th>pegRatio</th>\n",
       "      <th>pbRatio</th>\n",
       "      <th>prRatio</th>\n",
       "      <th>...</th>\n",
       "      <th>bookValuePerShare</th>\n",
       "      <th>shortIntToFloat</th>\n",
       "      <th>shortIntDayToCover</th>\n",
       "      <th>divGrowthRate3Year</th>\n",
       "      <th>dividendPayAmount</th>\n",
       "      <th>dividendPayDate</th>\n",
       "      <th>beta</th>\n",
       "      <th>vol1DayAvg</th>\n",
       "      <th>vol10DayAvg</th>\n",
       "      <th>vol3MonthAvg</th>\n",
       "    </tr>\n",
       "  </thead>\n",
       "  <tbody>\n",
       "    <tr>\n",
       "      <th>14448C104</th>\n",
       "      <td>CARR</td>\n",
       "      <td>58.89</td>\n",
       "      <td>28.79</td>\n",
       "      <td>0.48</td>\n",
       "      <td>0.91</td>\n",
       "      <td>2021-06-23 00:00:00.000</td>\n",
       "      <td>18.71783</td>\n",
       "      <td>0.21027</td>\n",
       "      <td>6.75435</td>\n",
       "      <td>2.31226</td>\n",
       "      <td>...</td>\n",
       "      <td>0.0</td>\n",
       "      <td>0.0</td>\n",
       "      <td>0.0</td>\n",
       "      <td>0.0</td>\n",
       "      <td>0.12</td>\n",
       "      <td>2021-08-10 00:00:00.000</td>\n",
       "      <td>0.0</td>\n",
       "      <td>6329970.0</td>\n",
       "      <td>6329965.0</td>\n",
       "      <td>95019030.0</td>\n",
       "    </tr>\n",
       "    <tr>\n",
       "      <th>156782104</th>\n",
       "      <td>CERN</td>\n",
       "      <td>84.2</td>\n",
       "      <td>66.75</td>\n",
       "      <td>0.88</td>\n",
       "      <td>1.21</td>\n",
       "      <td>2021-09-24 00:00:00.000</td>\n",
       "      <td>31.98205</td>\n",
       "      <td>0.849898</td>\n",
       "      <td>5.42659</td>\n",
       "      <td>3.84541</td>\n",
       "      <td>...</td>\n",
       "      <td>5.18097</td>\n",
       "      <td>0.0</td>\n",
       "      <td>0.0</td>\n",
       "      <td>0.0</td>\n",
       "      <td>0.22</td>\n",
       "      <td>2021-10-12 00:00:00.000</td>\n",
       "      <td>0.72512</td>\n",
       "      <td>2475640.0</td>\n",
       "      <td>2475637.0</td>\n",
       "      <td>47315800.0</td>\n",
       "    </tr>\n",
       "    <tr>\n",
       "      <th>037833100</th>\n",
       "      <td>AAPL</td>\n",
       "      <td>157.26</td>\n",
       "      <td>105.0</td>\n",
       "      <td>0.88</td>\n",
       "      <td>0.6</td>\n",
       "      <td>2021-08-06 00:00:00.000</td>\n",
       "      <td>28.56371</td>\n",
       "      <td>0.517139</td>\n",
       "      <td>37.56736</td>\n",
       "      <td>6.94481</td>\n",
       "      <td>...</td>\n",
       "      <td>0.0</td>\n",
       "      <td>0.0</td>\n",
       "      <td>0.0</td>\n",
       "      <td>0.0</td>\n",
       "      <td>0.22</td>\n",
       "      <td>2021-08-12 00:00:00.000</td>\n",
       "      <td>1.21577</td>\n",
       "      <td>96680100.0</td>\n",
       "      <td>96680104.0</td>\n",
       "      <td>1681568050.0</td>\n",
       "    </tr>\n",
       "    <tr>\n",
       "      <th>115637209</th>\n",
       "      <td>BF/B</td>\n",
       "      <td>82.24</td>\n",
       "      <td>67.74</td>\n",
       "      <td>0.718</td>\n",
       "      <td>1.05</td>\n",
       "      <td>2021-09-02 00:00:00.000</td>\n",
       "      <td>42.77581</td>\n",
       "      <td>0.0</td>\n",
       "      <td>12.24337</td>\n",
       "      <td>8.92612</td>\n",
       "      <td>...</td>\n",
       "      <td>9.92369</td>\n",
       "      <td>0.0</td>\n",
       "      <td>0.0</td>\n",
       "      <td>0.0</td>\n",
       "      <td>0.1795</td>\n",
       "      <td>2021-10-01 00:00:00.000</td>\n",
       "      <td>0.80664</td>\n",
       "      <td>1229740.0</td>\n",
       "      <td>1229745.0</td>\n",
       "      <td>18577500.0</td>\n",
       "    </tr>\n",
       "    <tr>\n",
       "      <th>031162100</th>\n",
       "      <td>AMGN</td>\n",
       "      <td>276.69</td>\n",
       "      <td>210.28</td>\n",
       "      <td>7.04</td>\n",
       "      <td>3.3</td>\n",
       "      <td>2021-08-16 00:00:00.000</td>\n",
       "      <td>21.72185</td>\n",
       "      <td>0.0</td>\n",
       "      <td>14.75559</td>\n",
       "      <td>4.76048</td>\n",
       "      <td>...</td>\n",
       "      <td>0.0</td>\n",
       "      <td>0.0</td>\n",
       "      <td>0.0</td>\n",
       "      <td>0.0</td>\n",
       "      <td>1.76</td>\n",
       "      <td>2021-09-08 00:00:00.000</td>\n",
       "      <td>0.68207</td>\n",
       "      <td>2890370.0</td>\n",
       "      <td>2890374.0</td>\n",
       "      <td>51060880.0</td>\n",
       "    </tr>\n",
       "  </tbody>\n",
       "</table>\n",
       "<p>5 rows × 46 columns</p>\n",
       "</div>"
      ],
      "text/plain": [
       "          symbol  high52   low52 dividendAmount dividendYield  \\\n",
       "14448C104   CARR   58.89   28.79           0.48          0.91   \n",
       "156782104   CERN    84.2   66.75           0.88          1.21   \n",
       "037833100   AAPL  157.26   105.0           0.88           0.6   \n",
       "115637209   BF/B   82.24   67.74          0.718          1.05   \n",
       "031162100   AMGN  276.69  210.28           7.04           3.3   \n",
       "\n",
       "                      dividendDate   peRatio  pegRatio   pbRatio  prRatio  \\\n",
       "14448C104  2021-06-23 00:00:00.000  18.71783   0.21027   6.75435  2.31226   \n",
       "156782104  2021-09-24 00:00:00.000  31.98205  0.849898   5.42659  3.84541   \n",
       "037833100  2021-08-06 00:00:00.000  28.56371  0.517139  37.56736  6.94481   \n",
       "115637209  2021-09-02 00:00:00.000  42.77581       0.0  12.24337  8.92612   \n",
       "031162100  2021-08-16 00:00:00.000  21.72185       0.0  14.75559  4.76048   \n",
       "\n",
       "           ... bookValuePerShare shortIntToFloat shortIntDayToCover  \\\n",
       "14448C104  ...               0.0             0.0                0.0   \n",
       "156782104  ...           5.18097             0.0                0.0   \n",
       "037833100  ...               0.0             0.0                0.0   \n",
       "115637209  ...           9.92369             0.0                0.0   \n",
       "031162100  ...               0.0             0.0                0.0   \n",
       "\n",
       "          divGrowthRate3Year dividendPayAmount          dividendPayDate  \\\n",
       "14448C104                0.0              0.12  2021-08-10 00:00:00.000   \n",
       "156782104                0.0              0.22  2021-10-12 00:00:00.000   \n",
       "037833100                0.0              0.22  2021-08-12 00:00:00.000   \n",
       "115637209                0.0            0.1795  2021-10-01 00:00:00.000   \n",
       "031162100                0.0              1.76  2021-09-08 00:00:00.000   \n",
       "\n",
       "              beta  vol1DayAvg vol10DayAvg  vol3MonthAvg  \n",
       "14448C104      0.0   6329970.0   6329965.0    95019030.0  \n",
       "156782104  0.72512   2475640.0   2475637.0    47315800.0  \n",
       "037833100  1.21577  96680100.0  96680104.0  1681568050.0  \n",
       "115637209  0.80664   1229740.0   1229745.0    18577500.0  \n",
       "031162100  0.68207   2890370.0   2890374.0    51060880.0  \n",
       "\n",
       "[5 rows x 46 columns]"
      ]
     },
     "metadata": {},
     "output_type": "display_data"
    },
    {
     "data": {
      "text/plain": [
       "(505, 46)"
      ]
     },
     "metadata": {},
     "output_type": "display_data"
    }
   ],
   "source": [
    "# Transpose the data\n",
    "stock_df = stock_df.transpose()\n",
    "\n",
    "# Display data\n",
    "display(stock_df.head())\n",
    "\n",
    "# Display shape (There are over 500 stocks because some companies have different classes of shares)\n",
    "display(stock_df.shape)"
   ]
  },
  {
   "cell_type": "markdown",
   "metadata": {},
   "source": [
    "Choose only the desired valuation metrics to use for the analysis and drop any rows with missing data"
   ]
  },
  {
   "cell_type": "code",
   "execution_count": 8,
   "metadata": {},
   "outputs": [
    {
     "data": {
      "text/html": [
       "<div>\n",
       "<style scoped>\n",
       "    .dataframe tbody tr th:only-of-type {\n",
       "        vertical-align: middle;\n",
       "    }\n",
       "\n",
       "    .dataframe tbody tr th {\n",
       "        vertical-align: top;\n",
       "    }\n",
       "\n",
       "    .dataframe thead th {\n",
       "        text-align: right;\n",
       "    }\n",
       "</style>\n",
       "<table border=\"1\" class=\"dataframe\">\n",
       "  <thead>\n",
       "    <tr style=\"text-align: right;\">\n",
       "      <th></th>\n",
       "      <th>peRatio</th>\n",
       "      <th>pbRatio</th>\n",
       "      <th>pcfRatio</th>\n",
       "      <th>symbol</th>\n",
       "    </tr>\n",
       "  </thead>\n",
       "  <tbody>\n",
       "    <tr>\n",
       "      <th>14448C104</th>\n",
       "      <td>18.71783</td>\n",
       "      <td>6.75435</td>\n",
       "      <td>15.90534</td>\n",
       "      <td>CARR</td>\n",
       "    </tr>\n",
       "    <tr>\n",
       "      <th>156782104</th>\n",
       "      <td>31.98205</td>\n",
       "      <td>5.42659</td>\n",
       "      <td>15.28211</td>\n",
       "      <td>CERN</td>\n",
       "    </tr>\n",
       "    <tr>\n",
       "      <th>037833100</th>\n",
       "      <td>28.56371</td>\n",
       "      <td>37.56736</td>\n",
       "      <td>24.65183</td>\n",
       "      <td>AAPL</td>\n",
       "    </tr>\n",
       "    <tr>\n",
       "      <th>115637209</th>\n",
       "      <td>42.77581</td>\n",
       "      <td>12.24337</td>\n",
       "      <td>38.04128</td>\n",
       "      <td>BF/B</td>\n",
       "    </tr>\n",
       "    <tr>\n",
       "      <th>031162100</th>\n",
       "      <td>21.72185</td>\n",
       "      <td>14.75559</td>\n",
       "      <td>13.16363</td>\n",
       "      <td>AMGN</td>\n",
       "    </tr>\n",
       "    <tr>\n",
       "      <th>...</th>\n",
       "      <td>...</td>\n",
       "      <td>...</td>\n",
       "      <td>...</td>\n",
       "      <td>...</td>\n",
       "    </tr>\n",
       "    <tr>\n",
       "      <th>98389B100</th>\n",
       "      <td>21.54435</td>\n",
       "      <td>2.29959</td>\n",
       "      <td>9.10214</td>\n",
       "      <td>XEL</td>\n",
       "    </tr>\n",
       "    <tr>\n",
       "      <th>98956P102</th>\n",
       "      <td>32.66216</td>\n",
       "      <td>2.41754</td>\n",
       "      <td>15.25216</td>\n",
       "      <td>ZBH</td>\n",
       "    </tr>\n",
       "    <tr>\n",
       "      <th>989701107</th>\n",
       "      <td>8.54843</td>\n",
       "      <td>1.21606</td>\n",
       "      <td>19.83533</td>\n",
       "      <td>ZION</td>\n",
       "    </tr>\n",
       "    <tr>\n",
       "      <th>98978V103</th>\n",
       "      <td>50.41375</td>\n",
       "      <td>21.94997</td>\n",
       "      <td>40.55617</td>\n",
       "      <td>ZTS</td>\n",
       "    </tr>\n",
       "    <tr>\n",
       "      <th>989207105</th>\n",
       "      <td>38.71145</td>\n",
       "      <td>11.29493</td>\n",
       "      <td>31.5112</td>\n",
       "      <td>ZBRA</td>\n",
       "    </tr>\n",
       "  </tbody>\n",
       "</table>\n",
       "<p>436 rows × 4 columns</p>\n",
       "</div>"
      ],
      "text/plain": [
       "            peRatio   pbRatio  pcfRatio symbol\n",
       "14448C104  18.71783   6.75435  15.90534   CARR\n",
       "156782104  31.98205   5.42659  15.28211   CERN\n",
       "037833100  28.56371  37.56736  24.65183   AAPL\n",
       "115637209  42.77581  12.24337  38.04128   BF/B\n",
       "031162100  21.72185  14.75559  13.16363   AMGN\n",
       "...             ...       ...       ...    ...\n",
       "98389B100  21.54435   2.29959   9.10214    XEL\n",
       "98956P102  32.66216   2.41754  15.25216    ZBH\n",
       "989701107   8.54843   1.21606  19.83533   ZION\n",
       "98978V103  50.41375  21.94997  40.55617    ZTS\n",
       "989207105  38.71145  11.29493   31.5112   ZBRA\n",
       "\n",
       "[436 rows x 4 columns]"
      ]
     },
     "metadata": {},
     "output_type": "display_data"
    }
   ],
   "source": [
    "# Define the indicator list\n",
    "metrics_list = ['peRatio', 'pbRatio', 'pcfRatio', 'symbol']\n",
    "\n",
    "# Select only columns we need\n",
    "indicators_df = stock_df[metrics_list]\n",
    "\n",
    "# Remove missing values\n",
    "indicators_df = indicators_df[indicators_df[metrics_list] != 0]\n",
    "indicators_df = indicators_df.dropna(how = 'any')\n",
    "\n",
    "# Display clean data\n",
    "display(indicators_df)"
   ]
  },
  {
   "cell_type": "markdown",
   "metadata": {},
   "source": [
    "Set the symbol attribute as the index and change the rest of the dataframe to a float data type"
   ]
  },
  {
   "cell_type": "code",
   "execution_count": 9,
   "metadata": {},
   "outputs": [
    {
     "data": {
      "text/html": [
       "<div>\n",
       "<style scoped>\n",
       "    .dataframe tbody tr th:only-of-type {\n",
       "        vertical-align: middle;\n",
       "    }\n",
       "\n",
       "    .dataframe tbody tr th {\n",
       "        vertical-align: top;\n",
       "    }\n",
       "\n",
       "    .dataframe thead th {\n",
       "        text-align: right;\n",
       "    }\n",
       "</style>\n",
       "<table border=\"1\" class=\"dataframe\">\n",
       "  <thead>\n",
       "    <tr style=\"text-align: right;\">\n",
       "      <th></th>\n",
       "      <th>peRatio</th>\n",
       "      <th>pbRatio</th>\n",
       "      <th>pcfRatio</th>\n",
       "    </tr>\n",
       "    <tr>\n",
       "      <th>symbol</th>\n",
       "      <th></th>\n",
       "      <th></th>\n",
       "      <th></th>\n",
       "    </tr>\n",
       "  </thead>\n",
       "  <tbody>\n",
       "    <tr>\n",
       "      <th>CARR</th>\n",
       "      <td>18.71783</td>\n",
       "      <td>6.75435</td>\n",
       "      <td>15.90534</td>\n",
       "    </tr>\n",
       "    <tr>\n",
       "      <th>CERN</th>\n",
       "      <td>31.98205</td>\n",
       "      <td>5.42659</td>\n",
       "      <td>15.28211</td>\n",
       "    </tr>\n",
       "    <tr>\n",
       "      <th>AAPL</th>\n",
       "      <td>28.56371</td>\n",
       "      <td>37.56736</td>\n",
       "      <td>24.65183</td>\n",
       "    </tr>\n",
       "    <tr>\n",
       "      <th>BF/B</th>\n",
       "      <td>42.77581</td>\n",
       "      <td>12.24337</td>\n",
       "      <td>38.04128</td>\n",
       "    </tr>\n",
       "    <tr>\n",
       "      <th>AMGN</th>\n",
       "      <td>21.72185</td>\n",
       "      <td>14.75559</td>\n",
       "      <td>13.16363</td>\n",
       "    </tr>\n",
       "  </tbody>\n",
       "</table>\n",
       "</div>"
      ],
      "text/plain": [
       "         peRatio   pbRatio  pcfRatio\n",
       "symbol                              \n",
       "CARR    18.71783   6.75435  15.90534\n",
       "CERN    31.98205   5.42659  15.28211\n",
       "AAPL    28.56371  37.56736  24.65183\n",
       "BF/B    42.77581  12.24337  38.04128\n",
       "AMGN    21.72185  14.75559  13.16363"
      ]
     },
     "execution_count": 9,
     "metadata": {},
     "output_type": "execute_result"
    }
   ],
   "source": [
    "indicators_df = indicators_df.set_index('symbol')\n",
    "indicators_df = indicators_df.astype('float')\n",
    "indicators_df.head()"
   ]
  },
  {
   "cell_type": "markdown",
   "metadata": {},
   "source": [
    "Show info on datatypes and the new shape. Notice we now have 436 stocks instead of 505"
   ]
  },
  {
   "cell_type": "code",
   "execution_count": 10,
   "metadata": {},
   "outputs": [
    {
     "name": "stdout",
     "output_type": "stream",
     "text": [
      "<class 'pandas.core.frame.DataFrame'>\n",
      "Index: 436 entries, CARR to ZBRA\n",
      "Data columns (total 3 columns):\n",
      " #   Column    Non-Null Count  Dtype  \n",
      "---  ------    --------------  -----  \n",
      " 0   peRatio   436 non-null    float64\n",
      " 1   pbRatio   436 non-null    float64\n",
      " 2   pcfRatio  436 non-null    float64\n",
      "dtypes: float64(3)\n",
      "memory usage: 13.6+ KB\n"
     ]
    },
    {
     "data": {
      "text/plain": [
       "None"
      ]
     },
     "metadata": {},
     "output_type": "display_data"
    },
    {
     "data": {
      "text/plain": [
       "(436, 3)"
      ]
     },
     "metadata": {},
     "output_type": "display_data"
    }
   ],
   "source": [
    "display(indicators_df.info(), indicators_df.shape)"
   ]
  },
  {
   "cell_type": "markdown",
   "metadata": {},
   "source": [
    "### Descriptive statistics are showing extremely high max values compared to the mean. Data must be severly skewed. We will plot histograms to confirm, then deal with any outliers."
   ]
  },
  {
   "cell_type": "code",
   "execution_count": 11,
   "metadata": {},
   "outputs": [
    {
     "data": {
      "text/html": [
       "<div>\n",
       "<style scoped>\n",
       "    .dataframe tbody tr th:only-of-type {\n",
       "        vertical-align: middle;\n",
       "    }\n",
       "\n",
       "    .dataframe tbody tr th {\n",
       "        vertical-align: top;\n",
       "    }\n",
       "\n",
       "    .dataframe thead th {\n",
       "        text-align: right;\n",
       "    }\n",
       "</style>\n",
       "<table border=\"1\" class=\"dataframe\">\n",
       "  <thead>\n",
       "    <tr style=\"text-align: right;\">\n",
       "      <th></th>\n",
       "      <th>peRatio</th>\n",
       "      <th>pbRatio</th>\n",
       "      <th>pcfRatio</th>\n",
       "    </tr>\n",
       "  </thead>\n",
       "  <tbody>\n",
       "    <tr>\n",
       "      <th>count</th>\n",
       "      <td>436.000000</td>\n",
       "      <td>436.000000</td>\n",
       "      <td>436.000000</td>\n",
       "    </tr>\n",
       "    <tr>\n",
       "      <th>mean</th>\n",
       "      <td>45.329002</td>\n",
       "      <td>9.916287</td>\n",
       "      <td>22.314968</td>\n",
       "    </tr>\n",
       "    <tr>\n",
       "      <th>std</th>\n",
       "      <td>96.888954</td>\n",
       "      <td>20.056250</td>\n",
       "      <td>20.811575</td>\n",
       "    </tr>\n",
       "    <tr>\n",
       "      <th>min</th>\n",
       "      <td>5.318950</td>\n",
       "      <td>0.440710</td>\n",
       "      <td>2.117060</td>\n",
       "    </tr>\n",
       "    <tr>\n",
       "      <th>25%</th>\n",
       "      <td>17.937015</td>\n",
       "      <td>2.327705</td>\n",
       "      <td>10.219978</td>\n",
       "    </tr>\n",
       "    <tr>\n",
       "      <th>50%</th>\n",
       "      <td>27.124220</td>\n",
       "      <td>4.248415</td>\n",
       "      <td>17.695555</td>\n",
       "    </tr>\n",
       "    <tr>\n",
       "      <th>75%</th>\n",
       "      <td>42.695455</td>\n",
       "      <td>9.257825</td>\n",
       "      <td>25.781525</td>\n",
       "    </tr>\n",
       "    <tr>\n",
       "      <th>max</th>\n",
       "      <td>1345.035000</td>\n",
       "      <td>196.974600</td>\n",
       "      <td>230.599700</td>\n",
       "    </tr>\n",
       "  </tbody>\n",
       "</table>\n",
       "</div>"
      ],
      "text/plain": [
       "           peRatio     pbRatio    pcfRatio\n",
       "count   436.000000  436.000000  436.000000\n",
       "mean     45.329002    9.916287   22.314968\n",
       "std      96.888954   20.056250   20.811575\n",
       "min       5.318950    0.440710    2.117060\n",
       "25%      17.937015    2.327705   10.219978\n",
       "50%      27.124220    4.248415   17.695555\n",
       "75%      42.695455    9.257825   25.781525\n",
       "max    1345.035000  196.974600  230.599700"
      ]
     },
     "metadata": {},
     "output_type": "display_data"
    }
   ],
   "source": [
    "# Show descriptive statisitics \n",
    "display(indicators_df.describe())"
   ]
  },
  {
   "cell_type": "code",
   "execution_count": 12,
   "metadata": {},
   "outputs": [],
   "source": [
    "def save_fig(fig_id, tight_layout=True, fig_extension=\"png\", resolution=300):\n",
    "    path = fig_id + \".\" + fig_extension\n",
    "    print(\"Saving figure\", fig_id)\n",
    "    if tight_layout:\n",
    "        plt.tight_layout()\n",
    "    plt.savefig(path, format=fig_extension, dpi=resolution)"
   ]
  },
  {
   "cell_type": "markdown",
   "metadata": {},
   "source": [
    "Plotting three histograms on different subplots, we can see the data is severly skewed for all attributes."
   ]
  },
  {
   "cell_type": "code",
   "execution_count": 13,
   "metadata": {},
   "outputs": [
    {
     "name": "stdout",
     "output_type": "stream",
     "text": [
      "Saving figure hist_with_outliers\n"
     ]
    },
    {
     "data": {
      "image/png": "[encoded data removed]",
      "text/plain": [
       "<Figure size 2160x720 with 3 Axes>"
      ]
     },
     "metadata": {
      "needs_background": "light"
     },
     "output_type": "display_data"
    }
   ],
   "source": [
    "import matplotlib.pyplot as plt\n",
    "import seaborn as sns\n",
    "\n",
    "fig, (ax, ax1, ax2) = plt.subplots(1, 3, figsize=(30, 10))\n",
    "sns.histplot(x=indicators_df['peRatio'], ax=ax)\n",
    "sns.histplot(x=indicators_df['pbRatio'], ax=ax1)\n",
    "sns.histplot(x=indicators_df['pcfRatio'], ax=ax2)\n",
    "save_fig(fig_id='hist_with_outliers')"
   ]
  },
  {
   "cell_type": "markdown",
   "metadata": {},
   "source": [
    "Use the stats library to calculate z scores and the numpy library to make the values absolute."
   ]
  },
  {
   "cell_type": "code",
   "execution_count": 14,
   "metadata": {},
   "outputs": [
    {
     "name": "stdout",
     "output_type": "stream",
     "text": [
      "         peRatio   pbRatio  pcfRatio\n",
      "symbol                              \n",
      "CARR    0.274972  0.157835  0.308338\n",
      "CERN    0.137913  0.224112  0.338318\n",
      "AAPL    0.173235  1.380260  0.112416\n",
      "BF/B    0.026382  0.116161  0.756520\n",
      "AMGN    0.243932  0.241564  0.440229\n",
      "...          ...       ...       ...\n",
      "XEL     0.245766  0.380203  0.635608\n",
      "ZBH     0.130886  0.374315  0.339759\n",
      "ZION    0.380052  0.434290  0.119284\n",
      "ZTS     0.052540  0.600686  0.877500\n",
      "ZBRA    0.068379  0.068818  0.442388\n",
      "\n",
      "[436 rows x 3 columns]\n"
     ]
    }
   ],
   "source": [
    "from scipy import stats\n",
    "import numpy as np\n",
    "z = np.abs(stats.zscore(indicators_df))\n",
    "print(z)"
   ]
  },
  {
   "cell_type": "markdown",
   "metadata": {},
   "source": [
    "Filter the dataframe with z scores above 2 considered to be outliers and notice the change in the number of stocks, dropping down to 404."
   ]
  },
  {
   "cell_type": "code",
   "execution_count": 15,
   "metadata": {},
   "outputs": [
    {
     "data": {
      "text/plain": [
       "(403, 3)"
      ]
     },
     "execution_count": 15,
     "metadata": {},
     "output_type": "execute_result"
    }
   ],
   "source": [
    "indicators_df_o = indicators_df[(z < 2).all(axis=1)]\n",
    "indicators_df_o.shape"
   ]
  },
  {
   "cell_type": "code",
   "execution_count": 16,
   "metadata": {},
   "outputs": [
    {
     "name": "stdout",
     "output_type": "stream",
     "text": [
      "Saving figure hist_without_outliers\n"
     ]
    },
    {
     "data": {
      "image/png": "[encoded data removed]",
      "text/plain": [
       "<Figure size 2160x720 with 3 Axes>"
      ]
     },
     "metadata": {
      "needs_background": "light"
     },
     "output_type": "display_data"
    }
   ],
   "source": [
    "fig, (ax, ax1, ax2) = plt.subplots(1, 3, figsize=(30, 10))\n",
    "sns.histplot(x=indicators_df_o['peRatio'], ax=ax)\n",
    "sns.histplot(x=indicators_df_o['pbRatio'], ax=ax1)\n",
    "sns.histplot(x=indicators_df_o['pcfRatio'], ax=ax2)\n",
    "save_fig(fig_id='hist_without_outliers')"
   ]
  },
  {
   "cell_type": "markdown",
   "metadata": {},
   "source": [
    "Extreme values are much more manageable now."
   ]
  },
  {
   "cell_type": "code",
   "execution_count": 17,
   "metadata": {},
   "outputs": [
    {
     "data": {
      "text/html": [
       "<div>\n",
       "<style scoped>\n",
       "    .dataframe tbody tr th:only-of-type {\n",
       "        vertical-align: middle;\n",
       "    }\n",
       "\n",
       "    .dataframe tbody tr th {\n",
       "        vertical-align: top;\n",
       "    }\n",
       "\n",
       "    .dataframe thead th {\n",
       "        text-align: right;\n",
       "    }\n",
       "</style>\n",
       "<table border=\"1\" class=\"dataframe\">\n",
       "  <thead>\n",
       "    <tr style=\"text-align: right;\">\n",
       "      <th></th>\n",
       "      <th>peRatio</th>\n",
       "      <th>pbRatio</th>\n",
       "      <th>pcfRatio</th>\n",
       "    </tr>\n",
       "  </thead>\n",
       "  <tbody>\n",
       "    <tr>\n",
       "      <th>count</th>\n",
       "      <td>403.000000</td>\n",
       "      <td>403.000000</td>\n",
       "      <td>403.000000</td>\n",
       "    </tr>\n",
       "    <tr>\n",
       "      <th>mean</th>\n",
       "      <td>32.315546</td>\n",
       "      <td>6.397429</td>\n",
       "      <td>18.669575</td>\n",
       "    </tr>\n",
       "    <tr>\n",
       "      <th>std</th>\n",
       "      <td>26.365464</td>\n",
       "      <td>6.952682</td>\n",
       "      <td>11.158602</td>\n",
       "    </tr>\n",
       "    <tr>\n",
       "      <th>min</th>\n",
       "      <td>5.318950</td>\n",
       "      <td>0.440710</td>\n",
       "      <td>2.117060</td>\n",
       "    </tr>\n",
       "    <tr>\n",
       "      <th>25%</th>\n",
       "      <td>16.926150</td>\n",
       "      <td>2.260425</td>\n",
       "      <td>9.967120</td>\n",
       "    </tr>\n",
       "    <tr>\n",
       "      <th>50%</th>\n",
       "      <td>26.136370</td>\n",
       "      <td>3.959960</td>\n",
       "      <td>16.785220</td>\n",
       "    </tr>\n",
       "    <tr>\n",
       "      <th>75%</th>\n",
       "      <td>38.720585</td>\n",
       "      <td>7.884870</td>\n",
       "      <td>23.638135</td>\n",
       "    </tr>\n",
       "    <tr>\n",
       "      <th>max</th>\n",
       "      <td>225.678600</td>\n",
       "      <td>48.451880</td>\n",
       "      <td>63.379850</td>\n",
       "    </tr>\n",
       "  </tbody>\n",
       "</table>\n",
       "</div>"
      ],
      "text/plain": [
       "          peRatio     pbRatio    pcfRatio\n",
       "count  403.000000  403.000000  403.000000\n",
       "mean    32.315546    6.397429   18.669575\n",
       "std     26.365464    6.952682   11.158602\n",
       "min      5.318950    0.440710    2.117060\n",
       "25%     16.926150    2.260425    9.967120\n",
       "50%     26.136370    3.959960   16.785220\n",
       "75%     38.720585    7.884870   23.638135\n",
       "max    225.678600   48.451880   63.379850"
      ]
     },
     "execution_count": 17,
     "metadata": {},
     "output_type": "execute_result"
    }
   ],
   "source": [
    "# Describe the dataset again. \n",
    "indicators_df_o.describe()"
   ]
  },
  {
   "cell_type": "markdown",
   "metadata": {},
   "source": [
    "## Visualizing and scale the data\n",
    "mpl toolkits allows us to plot 3d scatter plots"
   ]
  },
  {
   "cell_type": "code",
   "execution_count": 18,
   "metadata": {},
   "outputs": [
    {
     "name": "stdout",
     "output_type": "stream",
     "text": [
      "Saving figure 3d_scatter\n"
     ]
    },
    {
     "data": {
      "image/png": "[encoded data removed]",
      "text/plain": [
       "<Figure size 576x576 with 1 Axes>"
      ]
     },
     "metadata": {
      "needs_background": "light"
     },
     "output_type": "display_data"
    }
   ],
   "source": [
    "from mpl_toolkits.mplot3d import Axes3D\n",
    "\n",
    "# Define our figure\n",
    "fig = plt.figure(figsize=(8, 8))\n",
    "ax = Axes3D(fig, auto_add_to_figure=False)\n",
    "fig.add_axes(ax)\n",
    "\n",
    "# Define the x, y, & z of our scatter plot, this will just be the data from our data frame.\n",
    "x = list(indicators_df_o.iloc[:,0])\n",
    "y = list(indicators_df_o.iloc[:,1])\n",
    "z = list(indicators_df_o.iloc[:,2])\n",
    "\n",
    "# Define the axis labels\n",
    "column_names = indicators_df.columns\n",
    "ax.set_xlabel(column_names[0])\n",
    "ax.set_ylabel(column_names[1])\n",
    "ax.set_zlabel(column_names[2])\n",
    "\n",
    "# Define the markers, and the color\n",
    "ax.scatter(x, y, z, c='royalBlue', marker='o')\n",
    "\n",
    "# Save plot\n",
    "save_fig(fig_id='3d_scatter', tight_layout=False)"
   ]
  },
  {
   "cell_type": "markdown",
   "metadata": {},
   "source": [
    "In order to prepare the data for the machine learning algorithm, it needs to be scaled. We will create instances of the min-max scaler, standard scaler, and robust scaler for demonstration but only use the robust scaler."
   ]
  },
  {
   "cell_type": "code",
   "execution_count": 19,
   "metadata": {},
   "outputs": [
    {
     "name": "stdout",
     "output_type": "stream",
     "text": [
      "Saving figure 3d_scaled\n"
     ]
    },
    {
     "data": {
      "image/png": "[encoded data removed]",
      "text/plain": [
       "<Figure size 576x576 with 1 Axes>"
      ]
     },
     "metadata": {
      "needs_background": "light"
     },
     "output_type": "display_data"
    }
   ],
   "source": [
    "from sklearn.preprocessing import Normalizer\n",
    "from sklearn.preprocessing import MinMaxScaler, StandardScaler, RobustScaler\n",
    "\n",
    "# for demonstration purposes, I will be creating all three instances of the scalers.\n",
    "min_max_scaler = MinMaxScaler()\n",
    "std_scaler = StandardScaler()\n",
    "robust_scaler = RobustScaler()\n",
    "\n",
    "# scale the data\n",
    "X_train_minmax = min_max_scaler.fit_transform(indicators_df_o)\n",
    "X_train_standard = std_scaler.fit_transform(indicators_df_o)\n",
    "X_train_robust = robust_scaler.fit_transform(indicators_df_o)\n",
    "\n",
    "# create a new plot\n",
    "fig = plt.figure(figsize=(8, 8))\n",
    "ax = Axes3D(fig, auto_add_to_figure=False)\n",
    "fig.add_axes(ax)\n",
    "\n",
    "# take the scaled data in this example.\n",
    "x = X_train_robust[:,0]\n",
    "y = X_train_robust[:,1]\n",
    "z = X_train_robust[:,2]\n",
    "\n",
    "# define the axes labels\n",
    "column_names = indicators_df_o.columns\n",
    "ax.set_xlabel(column_names[0])\n",
    "ax.set_ylabel(column_names[1])\n",
    "ax.set_zlabel(column_names[2])\n",
    "\n",
    "# create a new plot\n",
    "ax.scatter(x, y, z, c='royalBlue')\n",
    "\n",
    "save_fig(fig_id='3d_scaled', tight_layout=False)"
   ]
  },
  {
   "cell_type": "markdown",
   "metadata": {},
   "source": [
    "I will run PCA analysis to check if it is necessary to carry on will all three metrics. The results show that about 95% of the variance can be explained by just two variables. No need to carry on with all three."
   ]
  },
  {
   "cell_type": "code",
   "execution_count": 20,
   "metadata": {},
   "outputs": [
    {
     "data": {
      "text/plain": [
       "Text(0.5, 1.0, 'Explained Variance')"
      ]
     },
     "execution_count": 20,
     "metadata": {},
     "output_type": "execute_result"
    },
    {
     "data": {
      "image/png": "[encoded data removed]",
      "text/plain": [
       "<Figure size 432x288 with 1 Axes>"
      ]
     },
     "metadata": {
      "needs_background": "light"
     },
     "output_type": "display_data"
    }
   ],
   "source": [
    "from sklearn.decomposition import PCA\n",
    "\n",
    "# pass through the scaled data set into our PCA class object\n",
    "pca = PCA().fit(X_train_robust)\n",
    "\n",
    "# plot the Cumulative Summation of the Explained Variance\n",
    "plt.figure()\n",
    "plt.plot(np.cumsum(pca.explained_variance_ratio_))\n",
    "\n",
    "# define the labels & title\n",
    "plt.xlabel('Number of Components', fontsize = 15)\n",
    "plt.ylabel('Variance (%)', fontsize = 15) \n",
    "plt.title('Explained Variance', fontsize = 20)"
   ]
  },
  {
   "cell_type": "code",
   "execution_count": 21,
   "metadata": {},
   "outputs": [],
   "source": [
    "# create a PCA modified dataset\n",
    "pca_dataset = PCA(n_components=2).fit(X_train_robust).transform(X_train_robust)\n",
    "\n",
    "# store it in a new data frame\n",
    "pca_dataset= pd.DataFrame(data = pca_dataset, columns = ['principal component 1', 'principal component 2'])"
   ]
  },
  {
   "cell_type": "code",
   "execution_count": 22,
   "metadata": {},
   "outputs": [
    {
     "name": "stdout",
     "output_type": "stream",
     "text": [
      "Saving figure 2_comp_pca\n"
     ]
    },
    {
     "data": {
      "image/png": "[encoded data removed]",
      "text/plain": [
       "<Figure size 432x288 with 1 Axes>"
      ]
     },
     "metadata": {
      "needs_background": "light"
     },
     "output_type": "display_data"
    }
   ],
   "source": [
    "# define a figure\n",
    "plt.figure()\n",
    "\n",
    "# define the label and title\n",
    "plt.xlabel('Principal Component 1', fontsize = 15)\n",
    "plt.ylabel('Principal Component 2', fontsize = 15)\n",
    "plt.title('2 Component PCA', fontsize = 20)\n",
    "\n",
    "# plot the figure\n",
    "plt.scatter(pca_dataset['principal component 1'], pca_dataset['principal component 2'], c='royalBlue', s = 50)\n",
    "\n",
    "save_fig(fig_id='2_comp_pca', tight_layout=False)"
   ]
  },
  {
   "cell_type": "markdown",
   "metadata": {},
   "source": [
    "## Build and Run the Model\n",
    "The model will be built and run using both the original scaled data and the pca data. Silhouette scores will show us the distance between the clusters that resulted from the algorithm. The larger the clusters, the better the results. The PCA data below gives us better results."
   ]
  },
  {
   "cell_type": "code",
   "execution_count": 23,
   "metadata": {},
   "outputs": [
    {
     "name": "stdout",
     "output_type": "stream",
     "text": [
      "----------------------------------------------------------------------------------------------------\n",
      "Number of Clusters: 2\n",
      "Silhouette Score: 0.5324456552875253\n",
      "----------------------------------------------------------------------------------------------------\n",
      "Number of Clusters: 3\n",
      "Silhouette Score: 0.5514543816977587\n",
      "----------------------------------------------------------------------------------------------------\n",
      "Number of Clusters: 4\n",
      "Silhouette Score: 0.4598089507355945\n",
      "----------------------------------------------------------------------------------------------------\n",
      "Number of Clusters: 5\n",
      "Silhouette Score: 0.3946786274050003\n",
      "----------------------------------------------------------------------------------------------------\n",
      "Number of Clusters: 6\n",
      "Silhouette Score: 0.4061789879098973\n"
     ]
    }
   ],
   "source": [
    "from sklearn.cluster import KMeans\n",
    "from sklearn import metrics\n",
    "\n",
    "# Create a dictionary to store our scores\n",
    "results_dict = {}\n",
    "\n",
    "# Set number of clusters\n",
    "num_of_clusters = 7\n",
    "\n",
    "# Define the number of iterations we want to do\n",
    "for k in range (2, num_of_clusters): \n",
    "    \n",
    "    print('-' * 100)\n",
    "    \n",
    "    # Define the key for this iteration\n",
    "    results_dict[k] = {}\n",
    "    \n",
    "    # create an instance of the model, and fit the training data to it.\n",
    "    kmeans = KMeans(n_clusters=k, random_state=0).fit(X_train_robust)\n",
    "    \n",
    "    # Create an instance of the kmeans model\n",
    "    sil_score = metrics.silhouette_score(X_train_robust, kmeans.labels_, metric = 'euclidean')\n",
    "    \n",
    "    # Store the different metrics\n",
    "    results_dict[k]['silhouette_score'] = sil_score\n",
    "    results_dict[k]['inertia'] = kmeans.inertia_\n",
    "    results_dict[k]['score'] = kmeans.score\n",
    "    results_dict[k]['model'] = kmeans\n",
    "    \n",
    "    # Print the results    \n",
    "    print(\"Number of Clusters: {}\".format(k))\n",
    "    print('Silhouette Score:', sil_score)"
   ]
  },
  {
   "cell_type": "code",
   "execution_count": 24,
   "metadata": {},
   "outputs": [
    {
     "name": "stdout",
     "output_type": "stream",
     "text": [
      "----------------------------------------------------------------------------------------------------\n",
      "Number of Clusters: 2\n",
      "Silhouette Score: 0.5488419776370469\n",
      "----------------------------------------------------------------------------------------------------\n",
      "Number of Clusters: 3\n",
      "Silhouette Score: 0.5727814295213477\n",
      "----------------------------------------------------------------------------------------------------\n",
      "Number of Clusters: 4\n",
      "Silhouette Score: 0.45469070501187775\n",
      "----------------------------------------------------------------------------------------------------\n",
      "Number of Clusters: 5\n",
      "Silhouette Score: 0.43451701619487476\n",
      "----------------------------------------------------------------------------------------------------\n",
      "Number of Clusters: 6\n",
      "Silhouette Score: 0.45099025385444563\n"
     ]
    }
   ],
   "source": [
    "# define a dictionary that contains all of our relevant info.\n",
    "results_dict_pca = {}\n",
    "\n",
    "# define how many clusters we want to test up to.\n",
    "num_of_clusters = 7\n",
    "\n",
    "# run through each instance of K\n",
    "for k in range(2, num_of_clusters):\n",
    "    \n",
    "    print(\"-\"*100)\n",
    "    \n",
    "    # define the next dictionary to hold all the results of this run.\n",
    "    results_dict_pca[k] = {}\n",
    "\n",
    "    # create an instance of the model, and fit the training data to it.\n",
    "    kmeans = KMeans(n_clusters=k, random_state=0).fit(pca_dataset)\n",
    "    \n",
    "    # define the silhouette score\n",
    "    sil_score = metrics.silhouette_score(pca_dataset, kmeans.labels_, metric='euclidean')\n",
    "    \n",
    "    # store the different metrics\n",
    "    results_dict_pca[k]['silhouette_score'] = sil_score\n",
    "    results_dict_pca[k]['inertia'] = kmeans.inertia_\n",
    "    results_dict_pca[k]['score'] = kmeans.score\n",
    "    results_dict_pca[k]['model'] = kmeans\n",
    "    \n",
    "    # print the results    \n",
    "    print(\"Number of Clusters: {}\".format(k))\n",
    "    print('Silhouette Score:', sil_score)"
   ]
  },
  {
   "cell_type": "markdown",
   "metadata": {},
   "source": [
    "## Visualize the clusters\n",
    "I will visualize the data with 3 clusters since that gave us the highest silhouette score. The cluster on the left is very dense."
   ]
  },
  {
   "cell_type": "code",
   "execution_count": 25,
   "metadata": {},
   "outputs": [
    {
     "name": "stdout",
     "output_type": "stream",
     "text": [
      "Saving figure pca_clusters\n"
     ]
    },
    {
     "data": {
      "image/png": "[encoded data removed]",
      "text/plain": [
       "<Figure size 432x288 with 1 Axes>"
      ]
     },
     "metadata": {
      "needs_background": "light"
     },
     "output_type": "display_data"
    }
   ],
   "source": [
    "kmeans = KMeans(n_clusters= 3, random_state=0).fit(pca_dataset)\n",
    "\n",
    "# Adding the clusters to the original dataset to show which stock is in which cluster\n",
    "predict = kmeans.predict(pca_dataset)\n",
    "predict = pd.Series(predict)\n",
    "indicators_df_o = indicators_df_o.assign(pca_clusters=predict.values)\n",
    "                    \n",
    "# define the cluster centers\n",
    "cluster_centers = kmeans.cluster_centers_\n",
    "C1 = cluster_centers[:, 0]\n",
    "C2 = cluster_centers[:, 1]\n",
    "\n",
    "# create a new plot\n",
    "plt.figure()\n",
    "\n",
    "# take the scaled data in this example.\n",
    "x = pca_dataset['principal component 1']\n",
    "y = pca_dataset['principal component 2']\n",
    "\n",
    "# define the axes labels\n",
    "column_names = pca_dataset.columns\n",
    "plt.xlabel(column_names[0])\n",
    "plt.ylabel(column_names[1])\n",
    "\n",
    "# Visualize it:\n",
    "plt.scatter(x, y, c=kmeans.labels_.astype(float), cmap='winter')\n",
    "plt.scatter(C1, C2, marker=\"x\", color='r')\n",
    "\n",
    "# Plot the clustered data\n",
    "plt.title('Visualization of clustered data with {} clusters'.format(3), fontweight='bold')\n",
    "\n",
    "save_fig(fig_id='pca_clusters', tight_layout=False)"
   ]
  },
  {
   "cell_type": "markdown",
   "metadata": {},
   "source": [
    "Saving the dataset containing the stocks in their clusters"
   ]
  },
  {
   "cell_type": "code",
   "execution_count": 26,
   "metadata": {},
   "outputs": [],
   "source": [
    "indicators_df_o.to_csv('indicators_with_clusters.csv')"
   ]
  },
  {
   "cell_type": "markdown",
   "metadata": {},
   "source": [
    "Grouping and sorting the dataset by clusters and symbol"
   ]
  },
  {
   "cell_type": "code",
   "execution_count": 27,
   "metadata": {},
   "outputs": [
    {
     "data": {
      "text/html": [
       "<div>\n",
       "<style scoped>\n",
       "    .dataframe tbody tr th:only-of-type {\n",
       "        vertical-align: middle;\n",
       "    }\n",
       "\n",
       "    .dataframe tbody tr th {\n",
       "        vertical-align: top;\n",
       "    }\n",
       "\n",
       "    .dataframe thead th {\n",
       "        text-align: right;\n",
       "    }\n",
       "</style>\n",
       "<table border=\"1\" class=\"dataframe\">\n",
       "  <thead>\n",
       "    <tr style=\"text-align: right;\">\n",
       "      <th></th>\n",
       "      <th>peRatio</th>\n",
       "      <th>pbRatio</th>\n",
       "      <th>pcfRatio</th>\n",
       "      <th>pca_clusters</th>\n",
       "    </tr>\n",
       "    <tr>\n",
       "      <th>symbol</th>\n",
       "      <th></th>\n",
       "      <th></th>\n",
       "      <th></th>\n",
       "      <th></th>\n",
       "    </tr>\n",
       "  </thead>\n",
       "  <tbody>\n",
       "    <tr>\n",
       "      <th>CDNS</th>\n",
       "      <td>66.89759</td>\n",
       "      <td>17.84132</td>\n",
       "      <td>54.36165</td>\n",
       "      <td>1</td>\n",
       "    </tr>\n",
       "    <tr>\n",
       "      <th>CPB</th>\n",
       "      <td>12.79233</td>\n",
       "      <td>4.06946</td>\n",
       "      <td>9.68850</td>\n",
       "      <td>0</td>\n",
       "    </tr>\n",
       "    <tr>\n",
       "      <th>TMO</th>\n",
       "      <td>28.07423</td>\n",
       "      <td>6.47582</td>\n",
       "      <td>21.59035</td>\n",
       "      <td>0</td>\n",
       "    </tr>\n",
       "    <tr>\n",
       "      <th>GPN</th>\n",
       "      <td>55.67707</td>\n",
       "      <td>1.77286</td>\n",
       "      <td>19.59347</td>\n",
       "      <td>0</td>\n",
       "    </tr>\n",
       "    <tr>\n",
       "      <th>RL</th>\n",
       "      <td>46.43030</td>\n",
       "      <td>3.06701</td>\n",
       "      <td>19.53293</td>\n",
       "      <td>0</td>\n",
       "    </tr>\n",
       "  </tbody>\n",
       "</table>\n",
       "</div>"
      ],
      "text/plain": [
       "         peRatio   pbRatio  pcfRatio  pca_clusters\n",
       "symbol                                            \n",
       "CDNS    66.89759  17.84132  54.36165             1\n",
       "CPB     12.79233   4.06946   9.68850             0\n",
       "TMO     28.07423   6.47582  21.59035             0\n",
       "GPN     55.67707   1.77286  19.59347             0\n",
       "RL      46.43030   3.06701  19.53293             0"
      ]
     },
     "metadata": {},
     "output_type": "display_data"
    }
   ],
   "source": [
    "indicators_grouped = indicators_df_o.sort_values(by=['pca_clusters', 'symbol'])\n",
    "display(indicators_grouped.sample(5))\n",
    "indicators_grouped.to_csv('indicators_grouped.csv')"
   ]
  },
  {
   "cell_type": "markdown",
   "metadata": {},
   "source": [
    "### Using Plotly to display stock info when hovering over a point\n",
    "The yellow cluster contains value stocks like GM, BRK, KO, and INTC, while the other clusters contain more growth stocks like CRM, AMZN, ISRG, and MSFT. Next step would be to compare the average performance accross the different clusters."
   ]
  },
  {
   "cell_type": "code",
   "execution_count": 32,
   "metadata": {
    "scrolled": false
   },
   "outputs": [
    {
     "data": {
      "application/vnd.plotly.v1+json": {
       "config": {
        "plotlyServerURL": "https://plot.ly"
       },
       "data": [
        {
         "customdata": [
          [
           "CARR"
          ],
          [
           "CERN"
          ],
          [
           "AAPL"
          ],
          [
           "BF/B"
          ],
          [
           "AMGN"
          ],
          [
           "LNT"
          ],
          [
           "CDW"
          ],
          [
           "BBY"
          ],
          [
           "AIG"
          ],
          [
           "BSX"
          ],
          [
           "ABBV"
          ],
          [
           "AAP"
          ],
          [
           "AIZ"
          ],
          [
           "ARE"
          ],
          [
           "KMX"
          ],
          [
           "ATVI"
          ],
          [
           "CNC"
          ],
          [
           "AJG"
          ],
          [
           "BLK"
          ],
          [
           "A"
          ],
          [
           "AMAT"
          ],
          [
           "BLL"
          ],
          [
           "CNP"
          ],
          [
           "BK"
          ],
          [
           "BR"
          ],
          [
           "ABT"
          ],
          [
           "ANSS"
          ],
          [
           "BDX"
          ],
          [
           "COG"
          ],
          [
           "COF"
          ],
          [
           "CE"
          ],
          [
           "CF"
          ],
          [
           "CBOE"
          ],
          [
           "ACN"
          ],
          [
           "CPB"
          ],
          [
           "CHRW"
          ],
          [
           "ALB"
          ],
          [
           "ANTM"
          ],
          [
           "ATO"
          ],
          [
           "AMZN"
          ],
          [
           "ALL"
          ],
          [
           "GOOGL"
          ],
          [
           "ANET"
          ],
          [
           "AMCR"
          ],
          [
           "ADI"
          ],
          [
           "ADM"
          ],
          [
           "ADP"
          ],
          [
           "BWA"
          ],
          [
           "AMD"
          ],
          [
           "AME"
          ],
          [
           "AEE"
          ],
          [
           "MO"
          ],
          [
           "AMP"
          ],
          [
           "ADSK"
          ],
          [
           "CTLT"
          ],
          [
           "AMT"
          ],
          [
           "CAH"
          ],
          [
           "MMM"
          ],
          [
           "AEP"
          ],
          [
           "AVB"
          ],
          [
           "CAT"
          ],
          [
           "ADBE"
          ],
          [
           "BXP"
          ],
          [
           "BIIB"
          ],
          [
           "AVGO"
          ],
          [
           "AVY"
          ],
          [
           "BRK/B"
          ],
          [
           "AKAM"
          ],
          [
           "CBRE"
          ],
          [
           "AWK"
          ],
          [
           "AON"
          ],
          [
           "GOOG"
          ],
          [
           "BAC"
          ],
          [
           "AOS"
          ],
          [
           "BIO"
          ],
          [
           "APTV"
          ],
          [
           "APD"
          ],
          [
           "AXP"
          ],
          [
           "APH"
          ],
          [
           "BAX"
          ],
          [
           "CDNS"
          ],
          [
           "ALLE"
          ],
          [
           "FRT"
          ],
          [
           "CLX"
          ],
          [
           "DFS"
          ],
          [
           "GLW"
          ],
          [
           "CMA"
          ],
          [
           "STZ"
          ],
          [
           "CME"
          ],
          [
           "CMI"
          ],
          [
           "DLTR"
          ],
          [
           "EQR"
          ],
          [
           "CMS"
          ],
          [
           "DOV"
          ],
          [
           "DOW"
          ],
          [
           "DXC"
          ],
          [
           "CTXS"
          ],
          [
           "EIX"
          ],
          [
           "CVS"
          ],
          [
           "C"
          ],
          [
           "CVX"
          ],
          [
           "DHI"
          ],
          [
           "D"
          ],
          [
           "CFG"
          ],
          [
           "FISV"
          ],
          [
           "F"
          ],
          [
           "DHR"
          ],
          [
           "FLT"
          ],
          [
           "FITB"
          ],
          [
           "FDX"
          ],
          [
           "FMC"
          ],
          [
           "CB"
          ],
          [
           "KO"
          ],
          [
           "ESS"
          ],
          [
           "COP"
          ],
          [
           "CI"
          ],
          [
           "ECL"
          ],
          [
           "CPRT"
          ],
          [
           "DRE"
          ],
          [
           "SCHW"
          ],
          [
           "DRI"
          ],
          [
           "CTAS"
          ],
          [
           "FAST"
          ],
          [
           "CHD"
          ],
          [
           "ETN"
          ],
          [
           "DD"
          ],
          [
           "CINF"
          ],
          [
           "DE"
          ],
          [
           "ETR"
          ],
          [
           "DG"
          ],
          [
           "EVRG"
          ],
          [
           "CTSH"
          ],
          [
           "XRAY"
          ],
          [
           "EA"
          ],
          [
           "ED"
          ],
          [
           "EMN"
          ],
          [
           "EL"
          ],
          [
           "CAG"
          ],
          [
           "EMR"
          ],
          [
           "DISCA"
          ],
          [
           "ES"
          ],
          [
           "EW"
          ],
          [
           "DTE"
          ],
          [
           "EBAY"
          ],
          [
           "DISCK"
          ],
          [
           "DISH"
          ],
          [
           "CRL"
          ],
          [
           "CHTR"
          ],
          [
           "FB"
          ],
          [
           "FE"
          ],
          [
           "CSCO"
          ],
          [
           "CTVA"
          ],
          [
           "EXPD"
          ],
          [
           "DLR"
          ],
          [
           "FFIV"
          ],
          [
           "COST"
          ],
          [
           "EFX"
          ],
          [
           "LLY"
          ],
          [
           "DUK"
          ],
          [
           "EOG"
          ],
          [
           "CCI"
          ],
          [
           "CSX"
          ],
          [
           "DVA"
          ],
          [
           "EXC"
          ],
          [
           "CMCSA"
          ],
          [
           "FRC"
          ],
          [
           "EQIX"
          ],
          [
           "DVN"
          ],
          [
           "EXR"
          ],
          [
           "IPG"
          ],
          [
           "HWM"
          ],
          [
           "HON"
          ],
          [
           "KMI"
          ],
          [
           "IP"
          ],
          [
           "IR"
          ],
          [
           "IQV"
          ],
          [
           "JKHY"
          ],
          [
           "JCI"
          ],
          [
           "FCX"
          ],
          [
           "HPE"
          ],
          [
           "KEY"
          ],
          [
           "HSIC"
          ],
          [
           "INTU"
          ],
          [
           "IRM"
          ],
          [
           "FTV"
          ],
          [
           "J"
          ],
          [
           "K"
          ],
          [
           "FOXA"
          ],
          [
           "LYB"
          ],
          [
           "IBM"
          ],
          [
           "LRCX"
          ],
          [
           "LHX"
          ],
          [
           "KLAC"
          ],
          [
           "JNPR"
          ],
          [
           "JBHT"
          ],
          [
           "KR"
          ],
          [
           "HII"
          ],
          [
           "BEN"
          ],
          [
           "ICE"
          ],
          [
           "LIN"
          ],
          [
           "HAL"
          ],
          [
           "IPGP"
          ],
          [
           "INTC"
          ],
          [
           "GNRC"
          ],
          [
           "INCY"
          ],
          [
           "MTB"
          ],
          [
           "GPC"
          ],
          [
           "HAS"
          ],
          [
           "LH"
          ],
          [
           "LDOS"
          ],
          [
           "HRL"
          ],
          [
           "GPN"
          ],
          [
           "HBAN"
          ],
          [
           "MKTX"
          ],
          [
           "JNJ"
          ],
          [
           "KHC"
          ],
          [
           "GPS"
          ],
          [
           "LW"
          ],
          [
           "INFO"
          ],
          [
           "ITW"
          ],
          [
           "MLM"
          ],
          [
           "MMC"
          ],
          [
           "FOX"
          ],
          [
           "KIM"
          ],
          [
           "GIS"
          ],
          [
           "LKQ"
          ],
          [
           "IEX"
          ],
          [
           "JPM"
          ],
          [
           "IFF"
          ],
          [
           "IVZ"
          ],
          [
           "SJM"
          ],
          [
           "KEYS"
          ],
          [
           "GD"
          ],
          [
           "GE"
          ],
          [
           "HUM"
          ],
          [
           "GM"
          ],
          [
           "FBHS"
          ],
          [
           "GS"
          ],
          [
           "KSU"
          ],
          [
           "GRMN"
          ],
          [
           "LEG"
          ],
          [
           "HOLX"
          ],
          [
           "LMT"
          ],
          [
           "GILD"
          ],
          [
           "ISRG"
          ],
          [
           "NRG"
          ],
          [
           "PVH"
          ],
          [
           "PNC"
          ],
          [
           "PFE"
          ],
          [
           "RJF"
          ],
          [
           "MHK"
          ],
          [
           "PNR"
          ],
          [
           "PNW"
          ],
          [
           "NSC"
          ],
          [
           "OMC"
          ],
          [
           "RSG"
          ],
          [
           "NKE"
          ],
          [
           "PWR"
          ],
          [
           "MAA"
          ],
          [
           "DGX"
          ],
          [
           "RF"
          ],
          [
           "POOL"
          ],
          [
           "MCHP"
          ],
          [
           "PGR"
          ],
          [
           "RL"
          ],
          [
           "MRNA"
          ],
          [
           "PXD"
          ],
          [
           "MDLZ"
          ],
          [
           "PCAR"
          ],
          [
           "NDAQ"
          ],
          [
           "PPG"
          ],
          [
           "MRK"
          ],
          [
           "PPL"
          ],
          [
           "O"
          ],
          [
           "PENN"
          ],
          [
           "NTAP"
          ],
          [
           "PHM"
          ],
          [
           "QCOM"
          ],
          [
           "RTX"
          ],
          [
           "NUE"
          ],
          [
           "NFLX"
          ],
          [
           "MKC"
          ],
          [
           "NXPI"
          ],
          [
           "NEE"
          ],
          [
           "REG"
          ],
          [
           "NEM"
          ],
          [
           "MCO"
          ],
          [
           "REGN"
          ],
          [
           "ODFL"
          ],
          [
           "NVR"
          ],
          [
           "PRU"
          ],
          [
           "MDT"
          ],
          [
           "PSA"
          ],
          [
           "NWL"
          ],
          [
           "NTRS"
          ],
          [
           "NOC"
          ],
          [
           "MS"
          ],
          [
           "MU"
          ],
          [
           "NWS"
          ],
          [
           "PKG"
          ],
          [
           "ROL"
          ],
          [
           "PKI"
          ],
          [
           "ROK"
          ],
          [
           "NI"
          ],
          [
           "QRVO"
          ],
          [
           "NLSN"
          ],
          [
           "PTC"
          ],
          [
           "PBCT"
          ],
          [
           "PLD"
          ],
          [
           "MSFT"
          ],
          [
           "RHI"
          ],
          [
           "PYPL"
          ],
          [
           "MNST"
          ],
          [
           "OKE"
          ],
          [
           "NWSA"
          ],
          [
           "PEG"
          ],
          [
           "PAYX"
          ],
          [
           "PG"
          ],
          [
           "PH"
          ],
          [
           "PEP"
          ],
          [
           "TER"
          ],
          [
           "STE"
          ],
          [
           "SLB"
          ],
          [
           "TSCO"
          ],
          [
           "TFC"
          ],
          [
           "STT"
          ],
          [
           "STX"
          ],
          [
           "WDC"
          ],
          [
           "UPS"
          ],
          [
           "UHS"
          ],
          [
           "TFX"
          ],
          [
           "WMB"
          ],
          [
           "WLTW"
          ],
          [
           "UAA"
          ],
          [
           "WEC"
          ],
          [
           "VRSK"
          ],
          [
           "VIAC"
          ],
          [
           "WMT"
          ],
          [
           "TGT"
          ],
          [
           "SNA"
          ],
          [
           "TXN"
          ],
          [
           "URI"
          ],
          [
           "TXT"
          ],
          [
           "VTR"
          ],
          [
           "WFC"
          ],
          [
           "V"
          ],
          [
           "TPR"
          ],
          [
           "SO"
          ],
          [
           "COO"
          ],
          [
           "ULTA"
          ],
          [
           "USB"
          ],
          [
           "SWK"
          ],
          [
           "TWTR"
          ],
          [
           "GWW"
          ],
          [
           "HIG"
          ],
          [
           "VRTX"
          ],
          [
           "XYL"
          ],
          [
           "VMC"
          ],
          [
           "ROST"
          ],
          [
           "TTWO"
          ],
          [
           "TT"
          ],
          [
           "SPG"
          ],
          [
           "UA"
          ],
          [
           "VFC"
          ],
          [
           "XLNX"
          ],
          [
           "TRV"
          ],
          [
           "WHR"
          ],
          [
           "SYF"
          ],
          [
           "SHW"
          ],
          [
           "TJX"
          ],
          [
           "SYK"
          ],
          [
           "SIVB"
          ],
          [
           "TSN"
          ],
          [
           "HSY"
          ],
          [
           "ROP"
          ],
          [
           "SYY"
          ],
          [
           "TRMB"
          ],
          [
           "SNPS"
          ],
          [
           "WAB"
          ],
          [
           "CRM"
          ],
          [
           "TROW"
          ],
          [
           "VZ"
          ],
          [
           "WRB"
          ],
          [
           "SRE"
          ],
          [
           "UNH"
          ],
          [
           "UNM"
          ],
          [
           "UNP"
          ],
          [
           "WM"
          ],
          [
           "WBA"
          ],
          [
           "WU"
          ],
          [
           "WY"
          ],
          [
           "TDY"
          ],
          [
           "SWKS"
          ],
          [
           "TMUS"
          ],
          [
           "MOS"
          ],
          [
           "TMO"
          ],
          [
           "WST"
          ],
          [
           "TEL"
          ],
          [
           "XEL"
          ],
          [
           "ZBH"
          ],
          [
           "ZION"
          ],
          [
           "ZTS"
          ],
          [
           "ZBRA"
          ]
         ],
         "hovertemplate": "principal component 1=%{x}<br>principal component 2=%{y}<br>hover_data_0=%{customdata[0]}<br>color=%{marker.color}<extra></extra>",
         "legendgroup": "",
         "marker": {
          "color": [
           0,
           0,
           1,
           1,
           1,
           0,
           1,
           0,
           0,
           2,
           1,
           0,
           0,
           0,
           0,
           0,
           0,
           0,
           0,
           1,
           0,
           0,
           0,
           0,
           0,
           0,
           2,
           0,
           0,
           0,
           0,
           0,
           0,
           1,
           0,
           0,
           0,
           0,
           0,
           1,
           0,
           0,
           0,
           0,
           0,
           0,
           1,
           0,
           1,
           0,
           0,
           1,
           0,
           1,
           0,
           1,
           0,
           0,
           0,
           0,
           0,
           1,
           0,
           0,
           0,
           0,
           0,
           0,
           0,
           0,
           1,
           0,
           0,
           0,
           0,
           0,
           0,
           0,
           0,
           0,
           1,
           1,
           0,
           1,
           0,
           0,
           0,
           0,
           0,
           0,
           0,
           0,
           0,
           0,
           0,
           0,
           1,
           0,
           0,
           0,
           0,
           0,
           0,
           0,
           0,
           0,
           0,
           0,
           0,
           0,
           0,
           0,
           0,
           0,
           0,
           0,
           1,
           1,
           0,
           0,
           0,
           1,
           1,
           0,
           0,
           0,
           0,
           0,
           0,
           0,
           0,
           0,
           0,
           0,
           0,
           0,
           1,
           0,
           0,
           0,
           0,
           1,
           0,
           0,
           0,
           0,
           1,
           0,
           0,
           0,
           0,
           0,
           0,
           2,
           0,
           1,
           0,
           1,
           0,
           0,
           1,
           0,
           0,
           0,
           0,
           0,
           2,
           2,
           0,
           0,
           0,
           0,
           0,
           0,
           0,
           2,
           0,
           0,
           0,
           0,
           0,
           0,
           1,
           0,
           0,
           0,
           0,
           0,
           0,
           0,
           1,
           0,
           1,
           0,
           0,
           0,
           0,
           0,
           0,
           0,
           2,
           0,
           0,
           1,
           0,
           0,
           0,
           0,
           0,
           0,
           0,
           0,
           0,
           1,
           0,
           0,
           0,
           1,
           2,
           1,
           0,
           0,
           0,
           0,
           0,
           0,
           0,
           0,
           2,
           0,
           0,
           0,
           0,
           2,
           0,
           0,
           0,
           0,
           2,
           0,
           0,
           0,
           0,
           0,
           2,
           0,
           0,
           0,
           0,
           0,
           0,
           0,
           0,
           0,
           0,
           0,
           1,
           0,
           0,
           0,
           0,
           1,
           2,
           0,
           0,
           1,
           2,
           0,
           0,
           0,
           0,
           0,
           2,
           0,
           0,
           1,
           0,
           1,
           0,
           0,
           1,
           0,
           0,
           0,
           0,
           0,
           1,
           0,
           1,
           0,
           0,
           0,
           1,
           0,
           0,
           0,
           0,
           0,
           0,
           0,
           1,
           0,
           1,
           0,
           0,
           0,
           1,
           0,
           0,
           1,
           0,
           1,
           0,
           0,
           0,
           0,
           1,
           0,
           0,
           1,
           0,
           2,
           0,
           1,
           0,
           0,
           1,
           0,
           1,
           0,
           0,
           0,
           0,
           0,
           0,
           1,
           0,
           0,
           0,
           0,
           1,
           0,
           0,
           2,
           0,
           1,
           0,
           0,
           0,
           0,
           0,
           0,
           2,
           0,
           0,
           0,
           1,
           0,
           0,
           0,
           0,
           1,
           0,
           0,
           1,
           0,
           0,
           0,
           1,
           1,
           0,
           0,
           0,
           1,
           0,
           1,
           0,
           1,
           0,
           2,
           0,
           0,
           0,
           0,
           0,
           0,
           0,
           0,
           0,
           1,
           0,
           0,
           0,
           0,
           0,
           0,
           1,
           0,
           0,
           0,
           0,
           1,
           1
          ],
          "coloraxis": "coloraxis",
          "symbol": "circle"
         },
         "mode": "markers",
         "name": "",
         "orientation": "v",
         "showlegend": false,
         "type": "scatter",
         "x": [
          -0.4528447787139594,
          -0.23062174885986134,
          3.500929213241192,
          1.6015184715085897,
          0.41720269579486163,
          -0.9513567184853738,
          2.0183128523177456,
          -1.0297496599183558,
          -1.683294212936391,
          2.9950154134957114,
          0.6086224029757694,
          -0.6554877013702348,
          -0.8584754646338207,
          -0.5780017345926648,
          -0.6231041129327078,
          -0.6385406091209997,
          -0.0026625909084597465,
          -0.16345518317182028,
          -0.5123702994466666,
          1.8069101637659193,
          0.29695713275496094,
          0.40003525030120685,
          -1.2631680172095319,
          -1.5079049496353794,
          0.6820381883691886,
          0.21589642253094374,
          2.4376860394143174,
          -0.15326304694335147,
          -0.6770055036369457,
          -1.7965641529984324,
          -1.4279511075819322,
          -0.9683873853331436,
          -0.2828308510678019,
          1.1484111737256975,
          -1.1304796086424718,
          -0.5593179505223339,
          0.20310412079272283,
          -0.7747863921987279,
          -1.2769880056572513,
          2.058505714011456,
          -1.8052940450258492,
          0.31217540901125457,
          0.804891540390901,
          -0.8871388021953386,
          0.6705962464855272,
          -1.3511790501501661,
          1.2128837154965704,
          -1.522662534587714,
          1.9031567055014775,
          0.09767333737422931,
          -1.0063322098601526,
          1.910419816306762,
          -0.071100176498073,
          5.794401274247118,
          0.6354166461507064,
          2.7403901225758296,
          -0.30110768157357076,
          -0.5247628607020638,
          -1.2594087266713212,
          -0.5286722131979343,
          -0.35023482006138296,
          3.120754041309762,
          0.2778996844106391,
          -0.658913375558647,
          0.31398111232868137,
          0.19813173057503666,
          -1.777373180338918,
          -0.4073465120588205,
          -0.39969554625373294,
          0.31446867373584375,
          1.2605559838037683,
          0.31217540901125457,
          -1.3303836363045471,
          -0.2710003069193211,
          -1.696483085665301,
          0.08474177480414287,
          -0.3511346980285241,
          -0.6138450860460648,
          0.4431329721417235,
          0.02060420747777581,
          3.472749326484014,
          0.9665383577303207,
          0.6566381746331871,
          4.6032745842180125,
          -1.467183572799637,
          -0.4331959068783489,
          -1.5736934229438513,
          0.11165120333715173,
          0.012559491289457297,
          -1.0294992115526762,
          -1.2895868204127747,
          -0.04231943658451871,
          -0.9893362708591701,
          -0.1297009174906397,
          -1.479873305239962,
          -1.1407299386166392,
          4.621758778436126,
          -1.0528271211586122,
          -1.3437454498520998,
          -1.7963155821787744,
          -0.28239618275747763,
          -1.4818842220999928,
          -0.8108332072277228,
          -1.6586188703425275,
          0.43741337772595695,
          -1.4889642379917905,
          0.7087399955905279,
          -0.09532160037807215,
          -1.494062363529941,
          -1.3371399498304586,
          -0.6851056121118032,
          -1.5452283931655755,
          0.5411026606366128,
          0.4460383099360408,
          -0.17333941540980388,
          -1.6529895111459179,
          1.6481533613299522,
          0.9560512621884117,
          -0.02307073709606095,
          -0.22425261137676863,
          0.08147502681406474,
          1.0095171910739964,
          0.9191511432545644,
          -0.17366562962219734,
          -0.08905283258339851,
          -0.8828077529404997,
          -1.705157722438532,
          -0.48936238911025276,
          -1.3543365069172848,
          -0.2022698131295262,
          -1.291287471745126,
          -0.5951451021930985,
          -0.33971107232793263,
          1.148218041979308,
          -1.1977696942938911,
          -0.26657981285776383,
          2.1044502229608733,
          -1.3694839050939083,
          -0.31044020340542083,
          -1.7261839230304465,
          -0.9724080741783668,
          2.4162404949183305,
          -1.3292575027644167,
          -0.6401717893868542,
          -1.7261839230304465,
          -1.5861023315834775,
          1.6405727022704162,
          -0.009290988362565356,
          -0.060721868811988926,
          -1.1638585126120227,
          -0.3708928267576958,
          -1.0489367570108008,
          -0.24405678611309647,
          1.4220572201980097,
          0.5164721166043951,
          1.3332919951370508,
          0.9543369907083415,
          3.4160835439352,
          -1.030820146853166,
          -1.0984164168393464,
          1.8504862026097029,
          -0.6585888540359904,
          -0.4781509002835471,
          -0.47925513771803757,
          -1.0304467521513339,
          -0.29640289631794947,
          6.50592224478165,
          2.615818144558131,
          0.5723288113350556,
          -0.7092865720338489,
          0.2964324666963212,
          0.3573164175058778,
          -1.1769563206433007,
          -1.0838423722896557,
          0.40506590882187216,
          1.9737512432465634,
          0.826096841943391,
          -0.40345612545615134,
          -1.0765308564359883,
          -1.5123717033972912,
          -1.6168518725634031,
          -0.9448959530251181,
          3.7734021421424435,
          -0.07205770727330237,
          -1.0166468105667692,
          -0.07846518057602685,
          -0.537086240367824,
          -1.4622215956696902,
          -1.5532074501849196,
          -0.6535300420637145,
          0.6148623940792157,
          -0.5149304910793738,
          1.1135442552920458,
          -0.033524088580697504,
          -0.17917666695073067,
          -0.8886465973864457,
          -1.3102273555225359,
          -1.464789601719804,
          -0.6602425040672627,
          0.20639249921727176,
          2.205316551844627,
          0.10817257903045291,
          -1.4097232232794814,
          2.7631918670906415,
          0.9545379765314216,
          -1.5365950023820345,
          -0.5136466968666636,
          -0.23438850700592492,
          -1.4207308787533819,
          -0.9757105593927228,
          -0.4662608898116875,
          0.20986934200504404,
          -1.2108333190467178,
          2.746894979981175,
          -0.29970190949344344,
          -1.0578654640215783,
          -1.268922881089028,
          1.2470154123401325,
          1.9775356488788516,
          1.2567447807666132,
          -0.4245522569148417,
          0.349328883676841,
          -1.4622215956696902,
          -0.6492037903443764,
          -0.9683705720190382,
          -1.114081601089123,
          0.628852278148789,
          -1.4839774096906642,
          2.2588545614844744,
          -1.5878644028786804,
          -1.2516420416626612,
          0.7936446757754702,
          -0.9573610416708559,
          3.8267678820791113,
          -0.7075883905777695,
          -1.8438629492220633,
          -0.8076337450831046,
          -1.7149659450120387,
          6.1052838816335155,
          -0.003609794386078565,
          -1.046012369762526,
          -1.169266310904834,
          0.07250177076117963,
          -0.8371656159120933,
          3.3251327917646063,
          -1.3632447784851887,
          -0.9132146368444751,
          -1.3311607426801328,
          -0.8241508022960926,
          -1.1145716735956301,
          -1.485337931776219,
          -0.12909482904171188,
          -1.4381548978067498,
          -0.6624666993514869,
          -1.1114903984930566,
          -0.1478887780557978,
          2.4247439692522734,
          -0.3467661200492019,
          0.507758014221777,
          -1.4273196252968128,
          -1.7080484335761446,
          2.1193641788799504,
          2.2894382543576506,
          -1.3492065241550688,
          0.07849017395269188,
          3.905528197785724,
          3.3414636852841726,
          -0.4577465904639615,
          -1.2219360205023222,
          -0.08636025966192162,
          -0.44226272567511116,
          0.19148270006438958,
          1.0835716029406823,
          0.8042687453097457,
          -0.535131493484602,
          2.128205154643017,
          -1.6133336116398915,
          0.6894049539670225,
          0.34426099532120336,
          -1.5009198134959236,
          2.178060958563863,
          0.08116697016036127,
          1.0208649542568962,
          0.4581839912015674,
          0.13669670339288634,
          -1.2601581513567086,
          3.152407049636749,
          -1.0763552422191272,
          1.0512193623487807,
          -0.5959809492742331,
          -1.8761600343722724,
          0.295211868754742,
          1.1572426375346536,
          -1.257170192673288,
          -1.0937583864588385,
          -1.0372050073482129,
          -1.326741251601056,
          -1.1912660147407717,
          -0.4505556015615235,
          -0.8027543411909411,
          2.7313719846144493,
          -0.7451911620505224,
          0.773444509614632,
          -0.3694832617581537,
          -0.7068429171653607,
          -0.896877404851623,
          1.8887741565247358,
          -0.9173003916755431,
          0.8739450543515537,
          1.5777503136373725,
          0.2579765693721219,
          3.1245044153335138,
          0.6104983002191944,
          -0.8729233539833209,
          -0.4505556015615235,
          -1.077517621094442,
          1.2742860410476766,
          0.027808214069876096,
          -0.6379190020343323,
          0.6675678104854209,
          -0.13739510951514738,
          1.3997308667299913,
          -0.46333147711611766,
          0.6245279562015871,
          -1.3583204962151458,
          -1.4902136830538315,
          1.8078734715661344,
          -1.1786416426478008,
          0.7533956748612175,
          -1.481848966535705,
          0.839152822418589,
          -0.8676965972438235,
          -0.9820256140367396,
          -0.27622903485581685,
          -0.9122870603235632,
          1.5471971002064902,
          -1.681205675992747,
          0.0740037712024951,
          -0.3913635938652062,
          -1.1064309043623513,
          1.0899626781628826,
          -0.7144543750740511,
          -0.8546993745605452,
          2.7002474879797447,
          -1.4855672879751858,
          2.055653682524697,
          -1.0908358292552318,
          -1.062064242975869,
          -1.4930623784798478,
          0.44268697715424904,
          -1.3324289669743747,
          -1.0627503357541,
          4.389732636995756,
          0.2999042060639175,
          -1.4956047890156403,
          -0.23124503263331764,
          1.7028660641778215,
          -0.1443220199571194,
          0.5574301135955656,
          -0.33747889005820364,
          0.3788746312014546,
          0.5734339305356724,
          -0.27622903485581685,
          0.3814023974720315,
          1.879279886351841,
          -1.5490183655916765,
          -1.5968995855547992,
          -1.545368933882694,
          2.6970407863168853,
          0.9808941140443913,
          1.1368777629658295,
          -0.8582318481115715,
          -1.4847328303851997,
          0.8604182094978394,
          0.5243911615770618,
          3.8175733956453666,
          0.7576744845768495,
          2.453828576923255,
          -0.44678609167740396,
          2.847403785627181,
          -0.6864028372202992,
          -1.4137987593008585,
          -1.2357640255948061,
          -1.0088569949182482,
          -0.14984883161570742,
          -1.82937525959307,
          -0.08892229231876311,
          0.5156206323853293,
          -1.0403571230579047,
          1.3971376959237027,
          -1.305161572645832,
          0.5512134502451316,
          -0.5130754138631808,
          -0.5631860014966483,
          -1.694937151391719,
          -0.016760496555359047,
          3.274130847280372,
          -0.3301063138217413,
          -1.0875127601538013,
          -0.5407388819825013,
          -1.2232212011337869,
          2.971750888906503,
          1.1576617281739014
         ],
         "xaxis": "x",
         "y": [
          -0.4760760686584838,
          0.09957061444575856,
          -4.210092659605868,
          -0.348358192747238,
          -1.4600755594395256,
          0.19610379699273164,
          -2.5524178639612662,
          -0.6712442878914516,
          0.04180624114586936,
          3.116360919538829,
          -1.2823363498339149,
          -0.0039549253082718176,
          0.36724747739362557,
          0.4940736373359273,
          -0.19249105769413402,
          0.06600155799251428,
          1.2492851807883953,
          0.4094193639604081,
          0.12219066177357657,
          0.21814605174738097,
          -0.7571999535350336,
          -0.1154663647386546,
          0.09963008413721224,
          0.05860151450152383,
          -0.43339685380718,
          0.08023475739313105,
          1.187987785274459,
          0.6825742945263066,
          0.2460379480500498,
          -0.18100812221982784,
          -0.5699625245241187,
          0.08543958735061817,
          0.3140694262069318,
          -0.37135864982674643,
          -0.3352123428987842,
          -0.4019021682985292,
          0.45821528334490524,
          0.17866353555120265,
          0.1337118280386979,
          -0.2600197678799334,
          -0.248880145776024,
          -0.22095270465460798,
          0.15352004709305936,
          -0.08092364464488401,
          0.43453669980384135,
          0.051865327459139396,
          -1.0583515437111193,
          -0.02097199759542888,
          -1.2943094895740814,
          0.31709276360342836,
          0.21054115294293577,
          -3.16042370401287,
          0.09813091656447899,
          -4.80836520751895,
          0.4704177965370493,
          -1.3902395589518972,
          -0.5298022086351288,
          -0.5815594532876097,
          0.09921548124515128,
          0.3607542071640699,
          -0.23274452368914653,
          -1.142359022851255,
          1.2040362865619076,
          0.017499994308287404,
          -0.13872526450422074,
          -0.7711060704603748,
          -0.20167116772348825,
          0.26386408233727277,
          0.1286492460300472,
          0.5704451969446303,
          -1.092058162948523,
          -0.22095270465460798,
          0.05857254025148743,
          -0.2149936449431937,
          -0.2969579439562327,
          0.46466964610341444,
          0.1715797278499801,
          -0.2545261645569396,
          -0.12501747852442927,
          0.37238564445719174,
          -0.2655954016624136,
          -1.3687459901365082,
          1.1833635846120272,
          -5.6476516799913234,
          -0.3678587556755521,
          0.6347785731791226,
          -0.0753788143263785,
          0.6838234056381963,
          0.6614869327588394,
          -0.2617482824104811,
          -0.14419491367023565,
          0.7796496720074908,
          0.0649564654892978,
          -0.1451765450458514,
          -0.24839004823262556,
          0.39842597730840096,
          -5.096857492959349,
          0.42473771078233963,
          0.08084775753636199,
          -0.09148801074964316,
          1.217016040750188,
          -0.2265411247328397,
          0.2970828786712055,
          -0.022513963969324632,
          1.5274124004349443,
          0.05456902632010477,
          0.4940215976683181,
          -0.07121172304052285,
          -0.017320722201049254,
          -0.20688238119539545,
          -0.021481965468925245,
          -0.06278471915694732,
          -0.6123775804946745,
          1.0322668458156423,
          1.194329972827703,
          -0.12260971598869952,
          0.5371198171578733,
          -0.2150066761614742,
          0.5725902812137281,
          0.44018972882715796,
          -0.0980777862885374,
          -0.3893306925654448,
          -0.4060620024670966,
          -0.13793692172884683,
          0.36469844616437885,
          0.5868788153947666,
          -0.21222772274410986,
          -0.45029960714246475,
          0.0594919190218153,
          -0.6134916142205739,
          0.14469723578269134,
          0.11832615458239304,
          0.6044294510382857,
          1.0173059207839044,
          0.3103434199617333,
          0.8465123906494062,
          -1.3351123794725968,
          -0.05066407154962222,
          -0.21553935318655554,
          -0.0031332280206364687,
          0.2610139674173902,
          -0.3271504469572266,
          0.07535062383792389,
          0.046795259087149675,
          -0.0031332280206364687,
          -0.09881736640074362,
          0.4201531661034382,
          0.06695699684329098,
          -0.27883294651420104,
          0.019264519843740353,
          -0.2096583281753345,
          0.38151066977434483,
          -0.3777537975241452,
          2.2431188254751886,
          0.4536692994840348,
          -0.38248748506765023,
          0.03870285858432072,
          -3.523256534871448,
          0.37851367864041996,
          0.23332324422024117,
          0.8883475196663492,
          -0.2092015826368738,
          -1.0455064989672243,
          1.1030491306526038,
          0.09413522447469072,
          0.3360352074022466,
          5.888511037255427,
          3.916861517708558,
          -0.04127248566699701,
          -0.19408858885139857,
          0.8061502938560975,
          -0.27382897039836407,
          0.31349171512959667,
          0.06216212367625078,
          1.2398578321801323,
          1.2949949939837728,
          -0.10336761174922005,
          0.43473769640304805,
          -0.19944571630426822,
          0.16737579585445714,
          -0.0870297758223867,
          -0.03637164964176861,
          0.3356389869301145,
          -1.027699145681349,
          -0.03573964172926523,
          0.5963795176958008,
          -0.7258108577024507,
          -0.13031281301598543,
          -0.36530773353817114,
          -0.20419057341920668,
          -1.330388963824199,
          0.5073317278368221,
          -1.4699841831655183,
          0.9663794959375229,
          -0.07704766557373038,
          0.19076859216690803,
          -0.37485161805375755,
          0.00523544081807396,
          0.1556679451120196,
          0.9066821879532858,
          3.128397980407973,
          0.6685163134231868,
          -0.175018711819603,
          -0.5362146021805609,
          0.6722664045143842,
          -0.019283243820811497,
          -0.2102878454174085,
          0.2045910645288137,
          -0.2572674515610216,
          -0.04326536611463514,
          0.23242564428955184,
          1.327998898211296,
          0.1376517067699216,
          -0.35386790930802514,
          -0.21589706250780763,
          0.37775916220054284,
          -0.1485047493818407,
          -1.7292012466324167,
          1.6544893187896703,
          -1.9048698614458535,
          0.2580868722683943,
          -0.1641836369144859,
          -0.13031281301598543,
          0.3966579436995597,
          -0.18058459130697202,
          -0.015508151034564266,
          0.3204665796225591,
          -0.11877177585423533,
          2.9522376515902575,
          -0.0019174478413594665,
          0.12308830499890083,
          -0.018912448741484813,
          -0.12191697897551082,
          4.6760699461469715,
          0.039235869700025315,
          -0.23915311476525103,
          -0.16884532955543635,
          -0.1770262370761694,
          5.396891098493269,
          -0.03794394365370032,
          -0.24353772217157862,
          -0.559074782410947,
          -1.6953808375777804,
          -0.23724284511431584,
          0.9542814184936905,
          -0.4520368390195818,
          0.4345152642294026,
          0.06068775342552462,
          -0.014708626810486179,
          0.006792321626572368,
          -0.002443047382500559,
          -0.032438107798216244,
          0.08268479333065394,
          -0.027004994758862973,
          -0.44717067146339884,
          0.3387928075197421,
          -1.2617248987194514,
          0.3340013058200326,
          1.0502092616439795,
          -0.3413800861359411,
          -0.11750978175296706,
          -1.7761344028289907,
          1.7177096879323808,
          -0.278545295263222,
          0.8751154482256686,
          -1.8002779803342372,
          4.697283858320352,
          -0.08636380814026655,
          -0.033023473856962374,
          0.1148907410641448,
          -0.18528502423446652,
          0.3182562040091114,
          2.459841224092626,
          1.697559553706525,
          0.16534939006916663,
          -3.1129861849065006,
          -0.2012404382989694,
          -2.086662394586368,
          1.4850228342410396,
          -0.21586330242170482,
          -0.7447886174881233,
          0.13857920424366735,
          0.6422178104337141,
          0.8338912282375168,
          1.174954917715305,
          0.07917990315920376,
          -3.2381825269745557,
          -0.4309391841058041,
          -0.17587219527036907,
          -0.4037533374352662,
          -0.12403814375463192,
          0.8281022497517757,
          -0.25454186349107993,
          -0.09148824146930741,
          0.11519500711779306,
          -0.465909815269596,
          -0.01989570804453658,
          0.1670894997372756,
          0.8741253521738794,
          -0.04129437343214069,
          -0.6444809128792165,
          -0.27218635231048227,
          -1.4718064838796854,
          0.9622056976142082,
          -0.05118333099617756,
          0.4068822190586544,
          0.7485251791386998,
          0.42485334109962364,
          1.431070784086289,
          -1.0352561771447377,
          -0.4963540171780211,
          0.04837452334534196,
          -0.1880775328231776,
          -0.16545647621332898,
          0.8741253521738794,
          0.2033595235263133,
          -0.7394383446467808,
          -0.3444839278029305,
          -0.08114380418066004,
          -1.1809079624506054,
          -0.4658254525068688,
          1.3958931657251297,
          0.5718631031987652,
          -0.8847592681908213,
          0.10019604924960328,
          0.04374183557181289,
          -3.673421863159536,
          0.2483340451778916,
          -1.3040488758924154,
          -0.09422644441416257,
          0.8177866133560093,
          0.27097743191991364,
          0.08900769232997362,
          -0.0003839849672960962,
          0.15736401928584626,
          -0.1644530181196237,
          -0.13113724005439836,
          0.4326012267774798,
          -0.6344665648621196,
          -0.09875890108618911,
          -1.4256310709902686,
          -0.07909987094389595,
          0.18742383005234337,
          3.8443846463378297,
          0.06981686718841348,
          -0.06248193853701491,
          -0.16521615218044022,
          0.15305840786127767,
          -0.39385303489351914,
          -0.6901705373223037,
          -0.04040932818122646,
          -0.04608548803784176,
          3.36508793267099,
          -0.8747342463796958,
          -0.013230413864251238,
          -0.062047950541322325,
          0.8338484231709559,
          0.43972814480158223,
          -0.5612453334858408,
          0.0394049680716729,
          -0.07681322271904828,
          -1.0933013185700025,
          -0.0003839849672960962,
          -0.14967109609778526,
          -0.0922600975261828,
          -0.05194699773179637,
          -0.34716651497013773,
          -0.20752258339865043,
          -2.557062472080129,
          -0.8005577979699999,
          0.47982330489924435,
          -0.08034634193715645,
          -0.054660600610432306,
          -1.4407668468790542,
          0.7369859662131676,
          -1.143467981202705,
          0.5015020761516001,
          0.8219179934801326,
          0.7537380945693382,
          2.547415938279669,
          -0.4549533332892906,
          -0.26721412764812963,
          0.010697253165567184,
          0.19900164011752242,
          -0.038482759697652934,
          -0.055637359375971134,
          -0.6627312080089168,
          -0.05663551929389151,
          0.21223587637679195,
          -3.651182790693985,
          -0.16783832990426814,
          0.9490923483709882,
          -0.28586269321176877,
          0.732941544418239,
          -0.09524203424182952,
          -0.123014004274997,
          -0.10640650753950266,
          0.09826727653485032,
          0.1620440016727556,
          0.5187211599278732,
          -0.029560410679013105,
          -1.3880752424818674,
          -0.3827129503344897
         ],
         "yaxis": "y"
        }
       ],
       "layout": {
        "coloraxis": {
         "colorbar": {
          "title": {
           "text": "color"
          }
         },
         "colorscale": [
          [
           0,
           "#0d0887"
          ],
          [
           0.1111111111111111,
           "#46039f"
          ],
          [
           0.2222222222222222,
           "#7201a8"
          ],
          [
           0.3333333333333333,
           "#9c179e"
          ],
          [
           0.4444444444444444,
           "#bd3786"
          ],
          [
           0.5555555555555556,
           "#d8576b"
          ],
          [
           0.6666666666666666,
           "#ed7953"
          ],
          [
           0.7777777777777778,
           "#fb9f3a"
          ],
          [
           0.8888888888888888,
           "#fdca26"
          ],
          [
           1,
           "#f0f921"
          ]
         ]
        },
        "legend": {
         "tracegroupgap": 0
        },
        "margin": {
         "t": 60
        },
        "template": {
         "data": {
          "bar": [
           {
            "error_x": {
             "color": "#2a3f5f"
            },
            "error_y": {
             "color": "#2a3f5f"
            },
            "marker": {
             "line": {
              "color": "#E5ECF6",
              "width": 0.5
             },
             "pattern": {
              "fillmode": "overlay",
              "size": 10,
              "solidity": 0.2
             }
            },
            "type": "bar"
           }
          ],
          "barpolar": [
           {
            "marker": {
             "line": {
              "color": "#E5ECF6",
              "width": 0.5
             },
             "pattern": {
              "fillmode": "overlay",
              "size": 10,
              "solidity": 0.2
             }
            },
            "type": "barpolar"
           }
          ],
          "carpet": [
           {
            "aaxis": {
             "endlinecolor": "#2a3f5f",
             "gridcolor": "white",
             "linecolor": "white",
             "minorgridcolor": "white",
             "startlinecolor": "#2a3f5f"
            },
            "baxis": {
             "endlinecolor": "#2a3f5f",
             "gridcolor": "white",
             "linecolor": "white",
             "minorgridcolor": "white",
             "startlinecolor": "#2a3f5f"
            },
            "type": "carpet"
           }
          ],
          "choropleth": [
           {
            "colorbar": {
             "outlinewidth": 0,
             "ticks": ""
            },
            "type": "choropleth"
           }
          ],
          "contour": [
           {
            "colorbar": {
             "outlinewidth": 0,
             "ticks": ""
            },
            "colorscale": [
             [
              0,
              "#0d0887"
             ],
             [
              0.1111111111111111,
              "#46039f"
             ],
             [
              0.2222222222222222,
              "#7201a8"
             ],
             [
              0.3333333333333333,
              "#9c179e"
             ],
             [
              0.4444444444444444,
              "#bd3786"
             ],
             [
              0.5555555555555556,
              "#d8576b"
             ],
             [
              0.6666666666666666,
              "#ed7953"
             ],
             [
              0.7777777777777778,
              "#fb9f3a"
             ],
             [
              0.8888888888888888,
              "#fdca26"
             ],
             [
              1,
              "#f0f921"
             ]
            ],
            "type": "contour"
           }
          ],
          "contourcarpet": [
           {
            "colorbar": {
             "outlinewidth": 0,
             "ticks": ""
            },
            "type": "contourcarpet"
           }
          ],
          "heatmap": [
           {
            "colorbar": {
             "outlinewidth": 0,
             "ticks": ""
            },
            "colorscale": [
             [
              0,
              "#0d0887"
             ],
             [
              0.1111111111111111,
              "#46039f"
             ],
             [
              0.2222222222222222,
              "#7201a8"
             ],
             [
              0.3333333333333333,
              "#9c179e"
             ],
             [
              0.4444444444444444,
              "#bd3786"
             ],
             [
              0.5555555555555556,
              "#d8576b"
             ],
             [
              0.6666666666666666,
              "#ed7953"
             ],
             [
              0.7777777777777778,
              "#fb9f3a"
             ],
             [
              0.8888888888888888,
              "#fdca26"
             ],
             [
              1,
              "#f0f921"
             ]
            ],
            "type": "heatmap"
           }
          ],
          "heatmapgl": [
           {
            "colorbar": {
             "outlinewidth": 0,
             "ticks": ""
            },
            "colorscale": [
             [
              0,
              "#0d0887"
             ],
             [
              0.1111111111111111,
              "#46039f"
             ],
             [
              0.2222222222222222,
              "#7201a8"
             ],
             [
              0.3333333333333333,
              "#9c179e"
             ],
             [
              0.4444444444444444,
              "#bd3786"
             ],
             [
              0.5555555555555556,
              "#d8576b"
             ],
             [
              0.6666666666666666,
              "#ed7953"
             ],
             [
              0.7777777777777778,
              "#fb9f3a"
             ],
             [
              0.8888888888888888,
              "#fdca26"
             ],
             [
              1,
              "#f0f921"
             ]
            ],
            "type": "heatmapgl"
           }
          ],
          "histogram": [
           {
            "marker": {
             "pattern": {
              "fillmode": "overlay",
              "size": 10,
              "solidity": 0.2
             }
            },
            "type": "histogram"
           }
          ],
          "histogram2d": [
           {
            "colorbar": {
             "outlinewidth": 0,
             "ticks": ""
            },
            "colorscale": [
             [
              0,
              "#0d0887"
             ],
             [
              0.1111111111111111,
              "#46039f"
             ],
             [
              0.2222222222222222,
              "#7201a8"
             ],
             [
              0.3333333333333333,
              "#9c179e"
             ],
             [
              0.4444444444444444,
              "#bd3786"
             ],
             [
              0.5555555555555556,
              "#d8576b"
             ],
             [
              0.6666666666666666,
              "#ed7953"
             ],
             [
              0.7777777777777778,
              "#fb9f3a"
             ],
             [
              0.8888888888888888,
              "#fdca26"
             ],
             [
              1,
              "#f0f921"
             ]
            ],
            "type": "histogram2d"
           }
          ],
          "histogram2dcontour": [
           {
            "colorbar": {
             "outlinewidth": 0,
             "ticks": ""
            },
            "colorscale": [
             [
              0,
              "#0d0887"
             ],
             [
              0.1111111111111111,
              "#46039f"
             ],
             [
              0.2222222222222222,
              "#7201a8"
             ],
             [
              0.3333333333333333,
              "#9c179e"
             ],
             [
              0.4444444444444444,
              "#bd3786"
             ],
             [
              0.5555555555555556,
              "#d8576b"
             ],
             [
              0.6666666666666666,
              "#ed7953"
             ],
             [
              0.7777777777777778,
              "#fb9f3a"
             ],
             [
              0.8888888888888888,
              "#fdca26"
             ],
             [
              1,
              "#f0f921"
             ]
            ],
            "type": "histogram2dcontour"
           }
          ],
          "mesh3d": [
           {
            "colorbar": {
             "outlinewidth": 0,
             "ticks": ""
            },
            "type": "mesh3d"
           }
          ],
          "parcoords": [
           {
            "line": {
             "colorbar": {
              "outlinewidth": 0,
              "ticks": ""
             }
            },
            "type": "parcoords"
           }
          ],
          "pie": [
           {
            "automargin": true,
            "type": "pie"
           }
          ],
          "scatter": [
           {
            "marker": {
             "colorbar": {
              "outlinewidth": 0,
              "ticks": ""
             }
            },
            "type": "scatter"
           }
          ],
          "scatter3d": [
           {
            "line": {
             "colorbar": {
              "outlinewidth": 0,
              "ticks": ""
             }
            },
            "marker": {
             "colorbar": {
              "outlinewidth": 0,
              "ticks": ""
             }
            },
            "type": "scatter3d"
           }
          ],
          "scattercarpet": [
           {
            "marker": {
             "colorbar": {
              "outlinewidth": 0,
              "ticks": ""
             }
            },
            "type": "scattercarpet"
           }
          ],
          "scattergeo": [
           {
            "marker": {
             "colorbar": {
              "outlinewidth": 0,
              "ticks": ""
             }
            },
            "type": "scattergeo"
           }
          ],
          "scattergl": [
           {
            "marker": {
             "colorbar": {
              "outlinewidth": 0,
              "ticks": ""
             }
            },
            "type": "scattergl"
           }
          ],
          "scattermapbox": [
           {
            "marker": {
             "colorbar": {
              "outlinewidth": 0,
              "ticks": ""
             }
            },
            "type": "scattermapbox"
           }
          ],
          "scatterpolar": [
           {
            "marker": {
             "colorbar": {
              "outlinewidth": 0,
              "ticks": ""
             }
            },
            "type": "scatterpolar"
           }
          ],
          "scatterpolargl": [
           {
            "marker": {
             "colorbar": {
              "outlinewidth": 0,
              "ticks": ""
             }
            },
            "type": "scatterpolargl"
           }
          ],
          "scatterternary": [
           {
            "marker": {
             "colorbar": {
              "outlinewidth": 0,
              "ticks": ""
             }
            },
            "type": "scatterternary"
           }
          ],
          "surface": [
           {
            "colorbar": {
             "outlinewidth": 0,
             "ticks": ""
            },
            "colorscale": [
             [
              0,
              "#0d0887"
             ],
             [
              0.1111111111111111,
              "#46039f"
             ],
             [
              0.2222222222222222,
              "#7201a8"
             ],
             [
              0.3333333333333333,
              "#9c179e"
             ],
             [
              0.4444444444444444,
              "#bd3786"
             ],
             [
              0.5555555555555556,
              "#d8576b"
             ],
             [
              0.6666666666666666,
              "#ed7953"
             ],
             [
              0.7777777777777778,
              "#fb9f3a"
             ],
             [
              0.8888888888888888,
              "#fdca26"
             ],
             [
              1,
              "#f0f921"
             ]
            ],
            "type": "surface"
           }
          ],
          "table": [
           {
            "cells": {
             "fill": {
              "color": "#EBF0F8"
             },
             "line": {
              "color": "white"
             }
            },
            "header": {
             "fill": {
              "color": "#C8D4E3"
             },
             "line": {
              "color": "white"
             }
            },
            "type": "table"
           }
          ]
         },
         "layout": {
          "annotationdefaults": {
           "arrowcolor": "#2a3f5f",
           "arrowhead": 0,
           "arrowwidth": 1
          },
          "autotypenumbers": "strict",
          "coloraxis": {
           "colorbar": {
            "outlinewidth": 0,
            "ticks": ""
           }
          },
          "colorscale": {
           "diverging": [
            [
             0,
             "#8e0152"
            ],
            [
             0.1,
             "#c51b7d"
            ],
            [
             0.2,
             "#de77ae"
            ],
            [
             0.3,
             "#f1b6da"
            ],
            [
             0.4,
             "#fde0ef"
            ],
            [
             0.5,
             "#f7f7f7"
            ],
            [
             0.6,
             "#e6f5d0"
            ],
            [
             0.7,
             "#b8e186"
            ],
            [
             0.8,
             "#7fbc41"
            ],
            [
             0.9,
             "#4d9221"
            ],
            [
             1,
             "#276419"
            ]
           ],
           "sequential": [
            [
             0,
             "#0d0887"
            ],
            [
             0.1111111111111111,
             "#46039f"
            ],
            [
             0.2222222222222222,
             "#7201a8"
            ],
            [
             0.3333333333333333,
             "#9c179e"
            ],
            [
             0.4444444444444444,
             "#bd3786"
            ],
            [
             0.5555555555555556,
             "#d8576b"
            ],
            [
             0.6666666666666666,
             "#ed7953"
            ],
            [
             0.7777777777777778,
             "#fb9f3a"
            ],
            [
             0.8888888888888888,
             "#fdca26"
            ],
            [
             1,
             "#f0f921"
            ]
           ],
           "sequentialminus": [
            [
             0,
             "#0d0887"
            ],
            [
             0.1111111111111111,
             "#46039f"
            ],
            [
             0.2222222222222222,
             "#7201a8"
            ],
            [
             0.3333333333333333,
             "#9c179e"
            ],
            [
             0.4444444444444444,
             "#bd3786"
            ],
            [
             0.5555555555555556,
             "#d8576b"
            ],
            [
             0.6666666666666666,
             "#ed7953"
            ],
            [
             0.7777777777777778,
             "#fb9f3a"
            ],
            [
             0.8888888888888888,
             "#fdca26"
            ],
            [
             1,
             "#f0f921"
            ]
           ]
          },
          "colorway": [
           "#636efa",
           "#EF553B",
           "#00cc96",
           "#ab63fa",
           "#FFA15A",
           "#19d3f3",
           "#FF6692",
           "#B6E880",
           "#FF97FF",
           "#FECB52"
          ],
          "font": {
           "color": "#2a3f5f"
          },
          "geo": {
           "bgcolor": "white",
           "lakecolor": "white",
           "landcolor": "#E5ECF6",
           "showlakes": true,
           "showland": true,
           "subunitcolor": "white"
          },
          "hoverlabel": {
           "align": "left"
          },
          "hovermode": "closest",
          "mapbox": {
           "style": "light"
          },
          "paper_bgcolor": "white",
          "plot_bgcolor": "#E5ECF6",
          "polar": {
           "angularaxis": {
            "gridcolor": "white",
            "linecolor": "white",
            "ticks": ""
           },
           "bgcolor": "#E5ECF6",
           "radialaxis": {
            "gridcolor": "white",
            "linecolor": "white",
            "ticks": ""
           }
          },
          "scene": {
           "xaxis": {
            "backgroundcolor": "#E5ECF6",
            "gridcolor": "white",
            "gridwidth": 2,
            "linecolor": "white",
            "showbackground": true,
            "ticks": "",
            "zerolinecolor": "white"
           },
           "yaxis": {
            "backgroundcolor": "#E5ECF6",
            "gridcolor": "white",
            "gridwidth": 2,
            "linecolor": "white",
            "showbackground": true,
            "ticks": "",
            "zerolinecolor": "white"
           },
           "zaxis": {
            "backgroundcolor": "#E5ECF6",
            "gridcolor": "white",
            "gridwidth": 2,
            "linecolor": "white",
            "showbackground": true,
            "ticks": "",
            "zerolinecolor": "white"
           }
          },
          "shapedefaults": {
           "line": {
            "color": "#2a3f5f"
           }
          },
          "ternary": {
           "aaxis": {
            "gridcolor": "white",
            "linecolor": "white",
            "ticks": ""
           },
           "baxis": {
            "gridcolor": "white",
            "linecolor": "white",
            "ticks": ""
           },
           "bgcolor": "#E5ECF6",
           "caxis": {
            "gridcolor": "white",
            "linecolor": "white",
            "ticks": ""
           }
          },
          "title": {
           "x": 0.05
          },
          "xaxis": {
           "automargin": true,
           "gridcolor": "white",
           "linecolor": "white",
           "ticks": "",
           "title": {
            "standoff": 15
           },
           "zerolinecolor": "white",
           "zerolinewidth": 2
          },
          "yaxis": {
           "automargin": true,
           "gridcolor": "white",
           "linecolor": "white",
           "ticks": "",
           "title": {
            "standoff": 15
           },
           "zerolinecolor": "white",
           "zerolinewidth": 2
          }
         }
        },
        "xaxis": {
         "anchor": "y",
         "domain": [
          0,
          1
         ],
         "title": {
          "text": "principal component 1"
         }
        },
        "yaxis": {
         "anchor": "x",
         "domain": [
          0,
          1
         ],
         "title": {
          "text": "principal component 2"
         }
        }
       }
      },
      "text/html": [
       "<div>                            <div id=\"d1d53c68-3624-4138-8f6c-2d66b604efa1\" class=\"plotly-graph-div\" style=\"height:525px; width:100%;\"></div>            <script type=\"text/javascript\">                require([\"plotly\"], function(Plotly) {                    window.PLOTLYENV=window.PLOTLYENV || {};                                    if (document.getElementById(\"d1d53c68-3624-4138-8f6c-2d66b604efa1\")) {                    Plotly.newPlot(                        \"d1d53c68-3624-4138-8f6c-2d66b604efa1\",                        [{\"customdata\":[[\"CARR\"],[\"CERN\"],[\"AAPL\"],[\"BF/B\"],[\"AMGN\"],[\"LNT\"],[\"CDW\"],[\"BBY\"],[\"AIG\"],[\"BSX\"],[\"ABBV\"],[\"AAP\"],[\"AIZ\"],[\"ARE\"],[\"KMX\"],[\"ATVI\"],[\"CNC\"],[\"AJG\"],[\"BLK\"],[\"A\"],[\"AMAT\"],[\"BLL\"],[\"CNP\"],[\"BK\"],[\"BR\"],[\"ABT\"],[\"ANSS\"],[\"BDX\"],[\"COG\"],[\"COF\"],[\"CE\"],[\"CF\"],[\"CBOE\"],[\"ACN\"],[\"CPB\"],[\"CHRW\"],[\"ALB\"],[\"ANTM\"],[\"ATO\"],[\"AMZN\"],[\"ALL\"],[\"GOOGL\"],[\"ANET\"],[\"AMCR\"],[\"ADI\"],[\"ADM\"],[\"ADP\"],[\"BWA\"],[\"AMD\"],[\"AME\"],[\"AEE\"],[\"MO\"],[\"AMP\"],[\"ADSK\"],[\"CTLT\"],[\"AMT\"],[\"CAH\"],[\"MMM\"],[\"AEP\"],[\"AVB\"],[\"CAT\"],[\"ADBE\"],[\"BXP\"],[\"BIIB\"],[\"AVGO\"],[\"AVY\"],[\"BRK/B\"],[\"AKAM\"],[\"CBRE\"],[\"AWK\"],[\"AON\"],[\"GOOG\"],[\"BAC\"],[\"AOS\"],[\"BIO\"],[\"APTV\"],[\"APD\"],[\"AXP\"],[\"APH\"],[\"BAX\"],[\"CDNS\"],[\"ALLE\"],[\"FRT\"],[\"CLX\"],[\"DFS\"],[\"GLW\"],[\"CMA\"],[\"STZ\"],[\"CME\"],[\"CMI\"],[\"DLTR\"],[\"EQR\"],[\"CMS\"],[\"DOV\"],[\"DOW\"],[\"DXC\"],[\"CTXS\"],[\"EIX\"],[\"CVS\"],[\"C\"],[\"CVX\"],[\"DHI\"],[\"D\"],[\"CFG\"],[\"FISV\"],[\"F\"],[\"DHR\"],[\"FLT\"],[\"FITB\"],[\"FDX\"],[\"FMC\"],[\"CB\"],[\"KO\"],[\"ESS\"],[\"COP\"],[\"CI\"],[\"ECL\"],[\"CPRT\"],[\"DRE\"],[\"SCHW\"],[\"DRI\"],[\"CTAS\"],[\"FAST\"],[\"CHD\"],[\"ETN\"],[\"DD\"],[\"CINF\"],[\"DE\"],[\"ETR\"],[\"DG\"],[\"EVRG\"],[\"CTSH\"],[\"XRAY\"],[\"EA\"],[\"ED\"],[\"EMN\"],[\"EL\"],[\"CAG\"],[\"EMR\"],[\"DISCA\"],[\"ES\"],[\"EW\"],[\"DTE\"],[\"EBAY\"],[\"DISCK\"],[\"DISH\"],[\"CRL\"],[\"CHTR\"],[\"FB\"],[\"FE\"],[\"CSCO\"],[\"CTVA\"],[\"EXPD\"],[\"DLR\"],[\"FFIV\"],[\"COST\"],[\"EFX\"],[\"LLY\"],[\"DUK\"],[\"EOG\"],[\"CCI\"],[\"CSX\"],[\"DVA\"],[\"EXC\"],[\"CMCSA\"],[\"FRC\"],[\"EQIX\"],[\"DVN\"],[\"EXR\"],[\"IPG\"],[\"HWM\"],[\"HON\"],[\"KMI\"],[\"IP\"],[\"IR\"],[\"IQV\"],[\"JKHY\"],[\"JCI\"],[\"FCX\"],[\"HPE\"],[\"KEY\"],[\"HSIC\"],[\"INTU\"],[\"IRM\"],[\"FTV\"],[\"J\"],[\"K\"],[\"FOXA\"],[\"LYB\"],[\"IBM\"],[\"LRCX\"],[\"LHX\"],[\"KLAC\"],[\"JNPR\"],[\"JBHT\"],[\"KR\"],[\"HII\"],[\"BEN\"],[\"ICE\"],[\"LIN\"],[\"HAL\"],[\"IPGP\"],[\"INTC\"],[\"GNRC\"],[\"INCY\"],[\"MTB\"],[\"GPC\"],[\"HAS\"],[\"LH\"],[\"LDOS\"],[\"HRL\"],[\"GPN\"],[\"HBAN\"],[\"MKTX\"],[\"JNJ\"],[\"KHC\"],[\"GPS\"],[\"LW\"],[\"INFO\"],[\"ITW\"],[\"MLM\"],[\"MMC\"],[\"FOX\"],[\"KIM\"],[\"GIS\"],[\"LKQ\"],[\"IEX\"],[\"JPM\"],[\"IFF\"],[\"IVZ\"],[\"SJM\"],[\"KEYS\"],[\"GD\"],[\"GE\"],[\"HUM\"],[\"GM\"],[\"FBHS\"],[\"GS\"],[\"KSU\"],[\"GRMN\"],[\"LEG\"],[\"HOLX\"],[\"LMT\"],[\"GILD\"],[\"ISRG\"],[\"NRG\"],[\"PVH\"],[\"PNC\"],[\"PFE\"],[\"RJF\"],[\"MHK\"],[\"PNR\"],[\"PNW\"],[\"NSC\"],[\"OMC\"],[\"RSG\"],[\"NKE\"],[\"PWR\"],[\"MAA\"],[\"DGX\"],[\"RF\"],[\"POOL\"],[\"MCHP\"],[\"PGR\"],[\"RL\"],[\"MRNA\"],[\"PXD\"],[\"MDLZ\"],[\"PCAR\"],[\"NDAQ\"],[\"PPG\"],[\"MRK\"],[\"PPL\"],[\"O\"],[\"PENN\"],[\"NTAP\"],[\"PHM\"],[\"QCOM\"],[\"RTX\"],[\"NUE\"],[\"NFLX\"],[\"MKC\"],[\"NXPI\"],[\"NEE\"],[\"REG\"],[\"NEM\"],[\"MCO\"],[\"REGN\"],[\"ODFL\"],[\"NVR\"],[\"PRU\"],[\"MDT\"],[\"PSA\"],[\"NWL\"],[\"NTRS\"],[\"NOC\"],[\"MS\"],[\"MU\"],[\"NWS\"],[\"PKG\"],[\"ROL\"],[\"PKI\"],[\"ROK\"],[\"NI\"],[\"QRVO\"],[\"NLSN\"],[\"PTC\"],[\"PBCT\"],[\"PLD\"],[\"MSFT\"],[\"RHI\"],[\"PYPL\"],[\"MNST\"],[\"OKE\"],[\"NWSA\"],[\"PEG\"],[\"PAYX\"],[\"PG\"],[\"PH\"],[\"PEP\"],[\"TER\"],[\"STE\"],[\"SLB\"],[\"TSCO\"],[\"TFC\"],[\"STT\"],[\"STX\"],[\"WDC\"],[\"UPS\"],[\"UHS\"],[\"TFX\"],[\"WMB\"],[\"WLTW\"],[\"UAA\"],[\"WEC\"],[\"VRSK\"],[\"VIAC\"],[\"WMT\"],[\"TGT\"],[\"SNA\"],[\"TXN\"],[\"URI\"],[\"TXT\"],[\"VTR\"],[\"WFC\"],[\"V\"],[\"TPR\"],[\"SO\"],[\"COO\"],[\"ULTA\"],[\"USB\"],[\"SWK\"],[\"TWTR\"],[\"GWW\"],[\"HIG\"],[\"VRTX\"],[\"XYL\"],[\"VMC\"],[\"ROST\"],[\"TTWO\"],[\"TT\"],[\"SPG\"],[\"UA\"],[\"VFC\"],[\"XLNX\"],[\"TRV\"],[\"WHR\"],[\"SYF\"],[\"SHW\"],[\"TJX\"],[\"SYK\"],[\"SIVB\"],[\"TSN\"],[\"HSY\"],[\"ROP\"],[\"SYY\"],[\"TRMB\"],[\"SNPS\"],[\"WAB\"],[\"CRM\"],[\"TROW\"],[\"VZ\"],[\"WRB\"],[\"SRE\"],[\"UNH\"],[\"UNM\"],[\"UNP\"],[\"WM\"],[\"WBA\"],[\"WU\"],[\"WY\"],[\"TDY\"],[\"SWKS\"],[\"TMUS\"],[\"MOS\"],[\"TMO\"],[\"WST\"],[\"TEL\"],[\"XEL\"],[\"ZBH\"],[\"ZION\"],[\"ZTS\"],[\"ZBRA\"]],\"hovertemplate\":\"principal component 1=%{x}<br>principal component 2=%{y}<br>hover_data_0=%{customdata[0]}<br>color=%{marker.color}<extra></extra>\",\"legendgroup\":\"\",\"marker\":{\"color\":[0.0,0.0,1.0,1.0,1.0,0.0,1.0,0.0,0.0,2.0,1.0,0.0,0.0,0.0,0.0,0.0,0.0,0.0,0.0,1.0,0.0,0.0,0.0,0.0,0.0,0.0,2.0,0.0,0.0,0.0,0.0,0.0,0.0,1.0,0.0,0.0,0.0,0.0,0.0,1.0,0.0,0.0,0.0,0.0,0.0,0.0,1.0,0.0,1.0,0.0,0.0,1.0,0.0,1.0,0.0,1.0,0.0,0.0,0.0,0.0,0.0,1.0,0.0,0.0,0.0,0.0,0.0,0.0,0.0,0.0,1.0,0.0,0.0,0.0,0.0,0.0,0.0,0.0,0.0,0.0,1.0,1.0,0.0,1.0,0.0,0.0,0.0,0.0,0.0,0.0,0.0,0.0,0.0,0.0,0.0,0.0,1.0,0.0,0.0,0.0,0.0,0.0,0.0,0.0,0.0,0.0,0.0,0.0,0.0,0.0,0.0,0.0,0.0,0.0,0.0,0.0,1.0,1.0,0.0,0.0,0.0,1.0,1.0,0.0,0.0,0.0,0.0,0.0,0.0,0.0,0.0,0.0,0.0,0.0,0.0,0.0,1.0,0.0,0.0,0.0,0.0,1.0,0.0,0.0,0.0,0.0,1.0,0.0,0.0,0.0,0.0,0.0,0.0,2.0,0.0,1.0,0.0,1.0,0.0,0.0,1.0,0.0,0.0,0.0,0.0,0.0,2.0,2.0,0.0,0.0,0.0,0.0,0.0,0.0,0.0,2.0,0.0,0.0,0.0,0.0,0.0,0.0,1.0,0.0,0.0,0.0,0.0,0.0,0.0,0.0,1.0,0.0,1.0,0.0,0.0,0.0,0.0,0.0,0.0,0.0,2.0,0.0,0.0,1.0,0.0,0.0,0.0,0.0,0.0,0.0,0.0,0.0,0.0,1.0,0.0,0.0,0.0,1.0,2.0,1.0,0.0,0.0,0.0,0.0,0.0,0.0,0.0,0.0,2.0,0.0,0.0,0.0,0.0,2.0,0.0,0.0,0.0,0.0,2.0,0.0,0.0,0.0,0.0,0.0,2.0,0.0,0.0,0.0,0.0,0.0,0.0,0.0,0.0,0.0,0.0,0.0,1.0,0.0,0.0,0.0,0.0,1.0,2.0,0.0,0.0,1.0,2.0,0.0,0.0,0.0,0.0,0.0,2.0,0.0,0.0,1.0,0.0,1.0,0.0,0.0,1.0,0.0,0.0,0.0,0.0,0.0,1.0,0.0,1.0,0.0,0.0,0.0,1.0,0.0,0.0,0.0,0.0,0.0,0.0,0.0,1.0,0.0,1.0,0.0,0.0,0.0,1.0,0.0,0.0,1.0,0.0,1.0,0.0,0.0,0.0,0.0,1.0,0.0,0.0,1.0,0.0,2.0,0.0,1.0,0.0,0.0,1.0,0.0,1.0,0.0,0.0,0.0,0.0,0.0,0.0,1.0,0.0,0.0,0.0,0.0,1.0,0.0,0.0,2.0,0.0,1.0,0.0,0.0,0.0,0.0,0.0,0.0,2.0,0.0,0.0,0.0,1.0,0.0,0.0,0.0,0.0,1.0,0.0,0.0,1.0,0.0,0.0,0.0,1.0,1.0,0.0,0.0,0.0,1.0,0.0,1.0,0.0,1.0,0.0,2.0,0.0,0.0,0.0,0.0,0.0,0.0,0.0,0.0,0.0,1.0,0.0,0.0,0.0,0.0,0.0,0.0,1.0,0.0,0.0,0.0,0.0,1.0,1.0],\"coloraxis\":\"coloraxis\",\"symbol\":\"circle\"},\"mode\":\"markers\",\"name\":\"\",\"orientation\":\"v\",\"showlegend\":false,\"type\":\"scatter\",\"x\":[-0.4528447787139594,-0.23062174885986134,3.500929213241192,1.6015184715085897,0.41720269579486163,-0.9513567184853738,2.0183128523177456,-1.0297496599183558,-1.683294212936391,2.9950154134957114,0.6086224029757694,-0.6554877013702348,-0.8584754646338207,-0.5780017345926648,-0.6231041129327078,-0.6385406091209997,-0.0026625909084597465,-0.16345518317182028,-0.5123702994466666,1.8069101637659193,0.29695713275496094,0.40003525030120685,-1.2631680172095319,-1.5079049496353794,0.6820381883691886,0.21589642253094374,2.4376860394143174,-0.15326304694335147,-0.6770055036369457,-1.7965641529984324,-1.4279511075819322,-0.9683873853331436,-0.2828308510678019,1.1484111737256975,-1.1304796086424718,-0.5593179505223339,0.20310412079272283,-0.7747863921987279,-1.2769880056572513,2.058505714011456,-1.8052940450258492,0.31217540901125457,0.804891540390901,-0.8871388021953386,0.6705962464855272,-1.3511790501501661,1.2128837154965704,-1.522662534587714,1.9031567055014775,0.09767333737422931,-1.0063322098601526,1.910419816306762,-0.071100176498073,5.794401274247118,0.6354166461507064,2.7403901225758296,-0.30110768157357076,-0.5247628607020638,-1.2594087266713212,-0.5286722131979343,-0.35023482006138296,3.120754041309762,0.2778996844106391,-0.658913375558647,0.31398111232868137,0.19813173057503666,-1.777373180338918,-0.4073465120588205,-0.39969554625373294,0.31446867373584375,1.2605559838037683,0.31217540901125457,-1.3303836363045471,-0.2710003069193211,-1.696483085665301,0.08474177480414287,-0.3511346980285241,-0.6138450860460648,0.4431329721417235,0.02060420747777581,3.472749326484014,0.9665383577303207,0.6566381746331871,4.6032745842180125,-1.467183572799637,-0.4331959068783489,-1.5736934229438513,0.11165120333715173,0.012559491289457297,-1.0294992115526762,-1.2895868204127747,-0.04231943658451871,-0.9893362708591701,-0.1297009174906397,-1.479873305239962,-1.1407299386166392,4.621758778436126,-1.0528271211586122,-1.3437454498520998,-1.7963155821787744,-0.28239618275747763,-1.4818842220999928,-0.8108332072277228,-1.6586188703425275,0.43741337772595695,-1.4889642379917905,0.7087399955905279,-0.09532160037807215,-1.494062363529941,-1.3371399498304586,-0.6851056121118032,-1.5452283931655755,0.5411026606366128,0.4460383099360408,-0.17333941540980388,-1.6529895111459179,1.6481533613299522,0.9560512621884117,-0.02307073709606095,-0.22425261137676863,0.08147502681406474,1.0095171910739964,0.9191511432545644,-0.17366562962219734,-0.08905283258339851,-0.8828077529404997,-1.705157722438532,-0.48936238911025276,-1.3543365069172848,-0.2022698131295262,-1.291287471745126,-0.5951451021930985,-0.33971107232793263,1.148218041979308,-1.1977696942938911,-0.26657981285776383,2.1044502229608733,-1.3694839050939083,-0.31044020340542083,-1.7261839230304465,-0.9724080741783668,2.4162404949183305,-1.3292575027644167,-0.6401717893868542,-1.7261839230304465,-1.5861023315834775,1.6405727022704162,-0.009290988362565356,-0.060721868811988926,-1.1638585126120227,-0.3708928267576958,-1.0489367570108008,-0.24405678611309647,1.4220572201980097,0.5164721166043951,1.3332919951370508,0.9543369907083415,3.4160835439352,-1.030820146853166,-1.0984164168393464,1.8504862026097029,-0.6585888540359904,-0.4781509002835471,-0.47925513771803757,-1.0304467521513339,-0.29640289631794947,6.50592224478165,2.615818144558131,0.5723288113350556,-0.7092865720338489,0.2964324666963212,0.3573164175058778,-1.1769563206433007,-1.0838423722896557,0.40506590882187216,1.9737512432465634,0.826096841943391,-0.40345612545615134,-1.0765308564359883,-1.5123717033972912,-1.6168518725634031,-0.9448959530251181,3.7734021421424435,-0.07205770727330237,-1.0166468105667692,-0.07846518057602685,-0.537086240367824,-1.4622215956696902,-1.5532074501849196,-0.6535300420637145,0.6148623940792157,-0.5149304910793738,1.1135442552920458,-0.033524088580697504,-0.17917666695073067,-0.8886465973864457,-1.3102273555225359,-1.464789601719804,-0.6602425040672627,0.20639249921727176,2.205316551844627,0.10817257903045291,-1.4097232232794814,2.7631918670906415,0.9545379765314216,-1.5365950023820345,-0.5136466968666636,-0.23438850700592492,-1.4207308787533819,-0.9757105593927228,-0.4662608898116875,0.20986934200504404,-1.2108333190467178,2.746894979981175,-0.29970190949344344,-1.0578654640215783,-1.268922881089028,1.2470154123401325,1.9775356488788516,1.2567447807666132,-0.4245522569148417,0.349328883676841,-1.4622215956696902,-0.6492037903443764,-0.9683705720190382,-1.114081601089123,0.628852278148789,-1.4839774096906642,2.2588545614844744,-1.5878644028786804,-1.2516420416626612,0.7936446757754702,-0.9573610416708559,3.8267678820791113,-0.7075883905777695,-1.8438629492220633,-0.8076337450831046,-1.7149659450120387,6.1052838816335155,-0.003609794386078565,-1.046012369762526,-1.169266310904834,0.07250177076117963,-0.8371656159120933,3.3251327917646063,-1.3632447784851887,-0.9132146368444751,-1.3311607426801328,-0.8241508022960926,-1.1145716735956301,-1.485337931776219,-0.12909482904171188,-1.4381548978067498,-0.6624666993514869,-1.1114903984930566,-0.1478887780557978,2.4247439692522734,-0.3467661200492019,0.507758014221777,-1.4273196252968128,-1.7080484335761446,2.1193641788799504,2.2894382543576506,-1.3492065241550688,0.07849017395269188,3.905528197785724,3.3414636852841726,-0.4577465904639615,-1.2219360205023222,-0.08636025966192162,-0.44226272567511116,0.19148270006438958,1.0835716029406823,0.8042687453097457,-0.535131493484602,2.128205154643017,-1.6133336116398915,0.6894049539670225,0.34426099532120336,-1.5009198134959236,2.178060958563863,0.08116697016036127,1.0208649542568962,0.4581839912015674,0.13669670339288634,-1.2601581513567086,3.152407049636749,-1.0763552422191272,1.0512193623487807,-0.5959809492742331,-1.8761600343722724,0.295211868754742,1.1572426375346536,-1.257170192673288,-1.0937583864588385,-1.0372050073482129,-1.326741251601056,-1.1912660147407717,-0.4505556015615235,-0.8027543411909411,2.7313719846144493,-0.7451911620505224,0.773444509614632,-0.3694832617581537,-0.7068429171653607,-0.896877404851623,1.8887741565247358,-0.9173003916755431,0.8739450543515537,1.5777503136373725,0.2579765693721219,3.1245044153335138,0.6104983002191944,-0.8729233539833209,-0.4505556015615235,-1.077517621094442,1.2742860410476766,0.027808214069876096,-0.6379190020343323,0.6675678104854209,-0.13739510951514738,1.3997308667299913,-0.46333147711611766,0.6245279562015871,-1.3583204962151458,-1.4902136830538315,1.8078734715661344,-1.1786416426478008,0.7533956748612175,-1.481848966535705,0.839152822418589,-0.8676965972438235,-0.9820256140367396,-0.27622903485581685,-0.9122870603235632,1.5471971002064902,-1.681205675992747,0.0740037712024951,-0.3913635938652062,-1.1064309043623513,1.0899626781628826,-0.7144543750740511,-0.8546993745605452,2.7002474879797447,-1.4855672879751858,2.055653682524697,-1.0908358292552318,-1.062064242975869,-1.4930623784798478,0.44268697715424904,-1.3324289669743747,-1.0627503357541,4.389732636995756,0.2999042060639175,-1.4956047890156403,-0.23124503263331764,1.7028660641778215,-0.1443220199571194,0.5574301135955656,-0.33747889005820364,0.3788746312014546,0.5734339305356724,-0.27622903485581685,0.3814023974720315,1.879279886351841,-1.5490183655916765,-1.5968995855547992,-1.545368933882694,2.6970407863168853,0.9808941140443913,1.1368777629658295,-0.8582318481115715,-1.4847328303851997,0.8604182094978394,0.5243911615770618,3.8175733956453666,0.7576744845768495,2.453828576923255,-0.44678609167740396,2.847403785627181,-0.6864028372202992,-1.4137987593008585,-1.2357640255948061,-1.0088569949182482,-0.14984883161570742,-1.82937525959307,-0.08892229231876311,0.5156206323853293,-1.0403571230579047,1.3971376959237027,-1.305161572645832,0.5512134502451316,-0.5130754138631808,-0.5631860014966483,-1.694937151391719,-0.016760496555359047,3.274130847280372,-0.3301063138217413,-1.0875127601538013,-0.5407388819825013,-1.2232212011337869,2.971750888906503,1.1576617281739014],\"xaxis\":\"x\",\"y\":[-0.4760760686584838,0.09957061444575856,-4.210092659605868,-0.348358192747238,-1.4600755594395256,0.19610379699273164,-2.5524178639612662,-0.6712442878914516,0.04180624114586936,3.116360919538829,-1.2823363498339149,-0.0039549253082718176,0.36724747739362557,0.4940736373359273,-0.19249105769413402,0.06600155799251428,1.2492851807883953,0.4094193639604081,0.12219066177357657,0.21814605174738097,-0.7571999535350336,-0.1154663647386546,0.09963008413721224,0.05860151450152383,-0.43339685380718,0.08023475739313105,1.187987785274459,0.6825742945263066,0.2460379480500498,-0.18100812221982784,-0.5699625245241187,0.08543958735061817,0.3140694262069318,-0.37135864982674643,-0.3352123428987842,-0.4019021682985292,0.45821528334490524,0.17866353555120265,0.1337118280386979,-0.2600197678799334,-0.248880145776024,-0.22095270465460798,0.15352004709305936,-0.08092364464488401,0.43453669980384135,0.051865327459139396,-1.0583515437111193,-0.02097199759542888,-1.2943094895740814,0.31709276360342836,0.21054115294293577,-3.16042370401287,0.09813091656447899,-4.80836520751895,0.4704177965370493,-1.3902395589518972,-0.5298022086351288,-0.5815594532876097,0.09921548124515128,0.3607542071640699,-0.23274452368914653,-1.142359022851255,1.2040362865619076,0.017499994308287404,-0.13872526450422074,-0.7711060704603748,-0.20167116772348825,0.26386408233727277,0.1286492460300472,0.5704451969446303,-1.092058162948523,-0.22095270465460798,0.05857254025148743,-0.2149936449431937,-0.2969579439562327,0.46466964610341444,0.1715797278499801,-0.2545261645569396,-0.12501747852442927,0.37238564445719174,-0.2655954016624136,-1.3687459901365082,1.1833635846120272,-5.6476516799913234,-0.3678587556755521,0.6347785731791226,-0.0753788143263785,0.6838234056381963,0.6614869327588394,-0.2617482824104811,-0.14419491367023565,0.7796496720074908,0.0649564654892978,-0.1451765450458514,-0.24839004823262556,0.39842597730840096,-5.096857492959349,0.42473771078233963,0.08084775753636199,-0.09148801074964316,1.217016040750188,-0.2265411247328397,0.2970828786712055,-0.022513963969324632,1.5274124004349443,0.05456902632010477,0.4940215976683181,-0.07121172304052285,-0.017320722201049254,-0.20688238119539545,-0.021481965468925245,-0.06278471915694732,-0.6123775804946745,1.0322668458156423,1.194329972827703,-0.12260971598869952,0.5371198171578733,-0.2150066761614742,0.5725902812137281,0.44018972882715796,-0.0980777862885374,-0.3893306925654448,-0.4060620024670966,-0.13793692172884683,0.36469844616437885,0.5868788153947666,-0.21222772274410986,-0.45029960714246475,0.0594919190218153,-0.6134916142205739,0.14469723578269134,0.11832615458239304,0.6044294510382857,1.0173059207839044,0.3103434199617333,0.8465123906494062,-1.3351123794725968,-0.05066407154962222,-0.21553935318655554,-0.0031332280206364687,0.2610139674173902,-0.3271504469572266,0.07535062383792389,0.046795259087149675,-0.0031332280206364687,-0.09881736640074362,0.4201531661034382,0.06695699684329098,-0.27883294651420104,0.019264519843740353,-0.2096583281753345,0.38151066977434483,-0.3777537975241452,2.2431188254751886,0.4536692994840348,-0.38248748506765023,0.03870285858432072,-3.523256534871448,0.37851367864041996,0.23332324422024117,0.8883475196663492,-0.2092015826368738,-1.0455064989672243,1.1030491306526038,0.09413522447469072,0.3360352074022466,5.888511037255427,3.916861517708558,-0.04127248566699701,-0.19408858885139857,0.8061502938560975,-0.27382897039836407,0.31349171512959667,0.06216212367625078,1.2398578321801323,1.2949949939837728,-0.10336761174922005,0.43473769640304805,-0.19944571630426822,0.16737579585445714,-0.0870297758223867,-0.03637164964176861,0.3356389869301145,-1.027699145681349,-0.03573964172926523,0.5963795176958008,-0.7258108577024507,-0.13031281301598543,-0.36530773353817114,-0.20419057341920668,-1.330388963824199,0.5073317278368221,-1.4699841831655183,0.9663794959375229,-0.07704766557373038,0.19076859216690803,-0.37485161805375755,0.00523544081807396,0.1556679451120196,0.9066821879532858,3.128397980407973,0.6685163134231868,-0.175018711819603,-0.5362146021805609,0.6722664045143842,-0.019283243820811497,-0.2102878454174085,0.2045910645288137,-0.2572674515610216,-0.04326536611463514,0.23242564428955184,1.327998898211296,0.1376517067699216,-0.35386790930802514,-0.21589706250780763,0.37775916220054284,-0.1485047493818407,-1.7292012466324167,1.6544893187896703,-1.9048698614458535,0.2580868722683943,-0.1641836369144859,-0.13031281301598543,0.3966579436995597,-0.18058459130697202,-0.015508151034564266,0.3204665796225591,-0.11877177585423533,2.9522376515902575,-0.0019174478413594665,0.12308830499890083,-0.018912448741484813,-0.12191697897551082,4.6760699461469715,0.039235869700025315,-0.23915311476525103,-0.16884532955543635,-0.1770262370761694,5.396891098493269,-0.03794394365370032,-0.24353772217157862,-0.559074782410947,-1.6953808375777804,-0.23724284511431584,0.9542814184936905,-0.4520368390195818,0.4345152642294026,0.06068775342552462,-0.014708626810486179,0.006792321626572368,-0.002443047382500559,-0.032438107798216244,0.08268479333065394,-0.027004994758862973,-0.44717067146339884,0.3387928075197421,-1.2617248987194514,0.3340013058200326,1.0502092616439795,-0.3413800861359411,-0.11750978175296706,-1.7761344028289907,1.7177096879323808,-0.278545295263222,0.8751154482256686,-1.8002779803342372,4.697283858320352,-0.08636380814026655,-0.033023473856962374,0.1148907410641448,-0.18528502423446652,0.3182562040091114,2.459841224092626,1.697559553706525,0.16534939006916663,-3.1129861849065006,-0.2012404382989694,-2.086662394586368,1.4850228342410396,-0.21586330242170482,-0.7447886174881233,0.13857920424366735,0.6422178104337141,0.8338912282375168,1.174954917715305,0.07917990315920376,-3.2381825269745557,-0.4309391841058041,-0.17587219527036907,-0.4037533374352662,-0.12403814375463192,0.8281022497517757,-0.25454186349107993,-0.09148824146930741,0.11519500711779306,-0.465909815269596,-0.01989570804453658,0.1670894997372756,0.8741253521738794,-0.04129437343214069,-0.6444809128792165,-0.27218635231048227,-1.4718064838796854,0.9622056976142082,-0.05118333099617756,0.4068822190586544,0.7485251791386998,0.42485334109962364,1.431070784086289,-1.0352561771447377,-0.4963540171780211,0.04837452334534196,-0.1880775328231776,-0.16545647621332898,0.8741253521738794,0.2033595235263133,-0.7394383446467808,-0.3444839278029305,-0.08114380418066004,-1.1809079624506054,-0.4658254525068688,1.3958931657251297,0.5718631031987652,-0.8847592681908213,0.10019604924960328,0.04374183557181289,-3.673421863159536,0.2483340451778916,-1.3040488758924154,-0.09422644441416257,0.8177866133560093,0.27097743191991364,0.08900769232997362,-0.0003839849672960962,0.15736401928584626,-0.1644530181196237,-0.13113724005439836,0.4326012267774798,-0.6344665648621196,-0.09875890108618911,-1.4256310709902686,-0.07909987094389595,0.18742383005234337,3.8443846463378297,0.06981686718841348,-0.06248193853701491,-0.16521615218044022,0.15305840786127767,-0.39385303489351914,-0.6901705373223037,-0.04040932818122646,-0.04608548803784176,3.36508793267099,-0.8747342463796958,-0.013230413864251238,-0.062047950541322325,0.8338484231709559,0.43972814480158223,-0.5612453334858408,0.0394049680716729,-0.07681322271904828,-1.0933013185700025,-0.0003839849672960962,-0.14967109609778526,-0.0922600975261828,-0.05194699773179637,-0.34716651497013773,-0.20752258339865043,-2.557062472080129,-0.8005577979699999,0.47982330489924435,-0.08034634193715645,-0.054660600610432306,-1.4407668468790542,0.7369859662131676,-1.143467981202705,0.5015020761516001,0.8219179934801326,0.7537380945693382,2.547415938279669,-0.4549533332892906,-0.26721412764812963,0.010697253165567184,0.19900164011752242,-0.038482759697652934,-0.055637359375971134,-0.6627312080089168,-0.05663551929389151,0.21223587637679195,-3.651182790693985,-0.16783832990426814,0.9490923483709882,-0.28586269321176877,0.732941544418239,-0.09524203424182952,-0.123014004274997,-0.10640650753950266,0.09826727653485032,0.1620440016727556,0.5187211599278732,-0.029560410679013105,-1.3880752424818674,-0.3827129503344897],\"yaxis\":\"y\"}],                        {\"coloraxis\":{\"colorbar\":{\"title\":{\"text\":\"color\"}},\"colorscale\":[[0.0,\"#0d0887\"],[0.1111111111111111,\"#46039f\"],[0.2222222222222222,\"#7201a8\"],[0.3333333333333333,\"#9c179e\"],[0.4444444444444444,\"#bd3786\"],[0.5555555555555556,\"#d8576b\"],[0.6666666666666666,\"#ed7953\"],[0.7777777777777778,\"#fb9f3a\"],[0.8888888888888888,\"#fdca26\"],[1.0,\"#f0f921\"]]},\"legend\":{\"tracegroupgap\":0},\"margin\":{\"t\":60},\"template\":{\"data\":{\"bar\":[{\"error_x\":{\"color\":\"#2a3f5f\"},\"error_y\":{\"color\":\"#2a3f5f\"},\"marker\":{\"line\":{\"color\":\"#E5ECF6\",\"width\":0.5},\"pattern\":{\"fillmode\":\"overlay\",\"size\":10,\"solidity\":0.2}},\"type\":\"bar\"}],\"barpolar\":[{\"marker\":{\"line\":{\"color\":\"#E5ECF6\",\"width\":0.5},\"pattern\":{\"fillmode\":\"overlay\",\"size\":10,\"solidity\":0.2}},\"type\":\"barpolar\"}],\"carpet\":[{\"aaxis\":{\"endlinecolor\":\"#2a3f5f\",\"gridcolor\":\"white\",\"linecolor\":\"white\",\"minorgridcolor\":\"white\",\"startlinecolor\":\"#2a3f5f\"},\"baxis\":{\"endlinecolor\":\"#2a3f5f\",\"gridcolor\":\"white\",\"linecolor\":\"white\",\"minorgridcolor\":\"white\",\"startlinecolor\":\"#2a3f5f\"},\"type\":\"carpet\"}],\"choropleth\":[{\"colorbar\":{\"outlinewidth\":0,\"ticks\":\"\"},\"type\":\"choropleth\"}],\"contour\":[{\"colorbar\":{\"outlinewidth\":0,\"ticks\":\"\"},\"colorscale\":[[0.0,\"#0d0887\"],[0.1111111111111111,\"#46039f\"],[0.2222222222222222,\"#7201a8\"],[0.3333333333333333,\"#9c179e\"],[0.4444444444444444,\"#bd3786\"],[0.5555555555555556,\"#d8576b\"],[0.6666666666666666,\"#ed7953\"],[0.7777777777777778,\"#fb9f3a\"],[0.8888888888888888,\"#fdca26\"],[1.0,\"#f0f921\"]],\"type\":\"contour\"}],\"contourcarpet\":[{\"colorbar\":{\"outlinewidth\":0,\"ticks\":\"\"},\"type\":\"contourcarpet\"}],\"heatmap\":[{\"colorbar\":{\"outlinewidth\":0,\"ticks\":\"\"},\"colorscale\":[[0.0,\"#0d0887\"],[0.1111111111111111,\"#46039f\"],[0.2222222222222222,\"#7201a8\"],[0.3333333333333333,\"#9c179e\"],[0.4444444444444444,\"#bd3786\"],[0.5555555555555556,\"#d8576b\"],[0.6666666666666666,\"#ed7953\"],[0.7777777777777778,\"#fb9f3a\"],[0.8888888888888888,\"#fdca26\"],[1.0,\"#f0f921\"]],\"type\":\"heatmap\"}],\"heatmapgl\":[{\"colorbar\":{\"outlinewidth\":0,\"ticks\":\"\"},\"colorscale\":[[0.0,\"#0d0887\"],[0.1111111111111111,\"#46039f\"],[0.2222222222222222,\"#7201a8\"],[0.3333333333333333,\"#9c179e\"],[0.4444444444444444,\"#bd3786\"],[0.5555555555555556,\"#d8576b\"],[0.6666666666666666,\"#ed7953\"],[0.7777777777777778,\"#fb9f3a\"],[0.8888888888888888,\"#fdca26\"],[1.0,\"#f0f921\"]],\"type\":\"heatmapgl\"}],\"histogram\":[{\"marker\":{\"pattern\":{\"fillmode\":\"overlay\",\"size\":10,\"solidity\":0.2}},\"type\":\"histogram\"}],\"histogram2d\":[{\"colorbar\":{\"outlinewidth\":0,\"ticks\":\"\"},\"colorscale\":[[0.0,\"#0d0887\"],[0.1111111111111111,\"#46039f\"],[0.2222222222222222,\"#7201a8\"],[0.3333333333333333,\"#9c179e\"],[0.4444444444444444,\"#bd3786\"],[0.5555555555555556,\"#d8576b\"],[0.6666666666666666,\"#ed7953\"],[0.7777777777777778,\"#fb9f3a\"],[0.8888888888888888,\"#fdca26\"],[1.0,\"#f0f921\"]],\"type\":\"histogram2d\"}],\"histogram2dcontour\":[{\"colorbar\":{\"outlinewidth\":0,\"ticks\":\"\"},\"colorscale\":[[0.0,\"#0d0887\"],[0.1111111111111111,\"#46039f\"],[0.2222222222222222,\"#7201a8\"],[0.3333333333333333,\"#9c179e\"],[0.4444444444444444,\"#bd3786\"],[0.5555555555555556,\"#d8576b\"],[0.6666666666666666,\"#ed7953\"],[0.7777777777777778,\"#fb9f3a\"],[0.8888888888888888,\"#fdca26\"],[1.0,\"#f0f921\"]],\"type\":\"histogram2dcontour\"}],\"mesh3d\":[{\"colorbar\":{\"outlinewidth\":0,\"ticks\":\"\"},\"type\":\"mesh3d\"}],\"parcoords\":[{\"line\":{\"colorbar\":{\"outlinewidth\":0,\"ticks\":\"\"}},\"type\":\"parcoords\"}],\"pie\":[{\"automargin\":true,\"type\":\"pie\"}],\"scatter\":[{\"marker\":{\"colorbar\":{\"outlinewidth\":0,\"ticks\":\"\"}},\"type\":\"scatter\"}],\"scatter3d\":[{\"line\":{\"colorbar\":{\"outlinewidth\":0,\"ticks\":\"\"}},\"marker\":{\"colorbar\":{\"outlinewidth\":0,\"ticks\":\"\"}},\"type\":\"scatter3d\"}],\"scattercarpet\":[{\"marker\":{\"colorbar\":{\"outlinewidth\":0,\"ticks\":\"\"}},\"type\":\"scattercarpet\"}],\"scattergeo\":[{\"marker\":{\"colorbar\":{\"outlinewidth\":0,\"ticks\":\"\"}},\"type\":\"scattergeo\"}],\"scattergl\":[{\"marker\":{\"colorbar\":{\"outlinewidth\":0,\"ticks\":\"\"}},\"type\":\"scattergl\"}],\"scattermapbox\":[{\"marker\":{\"colorbar\":{\"outlinewidth\":0,\"ticks\":\"\"}},\"type\":\"scattermapbox\"}],\"scatterpolar\":[{\"marker\":{\"colorbar\":{\"outlinewidth\":0,\"ticks\":\"\"}},\"type\":\"scatterpolar\"}],\"scatterpolargl\":[{\"marker\":{\"colorbar\":{\"outlinewidth\":0,\"ticks\":\"\"}},\"type\":\"scatterpolargl\"}],\"scatterternary\":[{\"marker\":{\"colorbar\":{\"outlinewidth\":0,\"ticks\":\"\"}},\"type\":\"scatterternary\"}],\"surface\":[{\"colorbar\":{\"outlinewidth\":0,\"ticks\":\"\"},\"colorscale\":[[0.0,\"#0d0887\"],[0.1111111111111111,\"#46039f\"],[0.2222222222222222,\"#7201a8\"],[0.3333333333333333,\"#9c179e\"],[0.4444444444444444,\"#bd3786\"],[0.5555555555555556,\"#d8576b\"],[0.6666666666666666,\"#ed7953\"],[0.7777777777777778,\"#fb9f3a\"],[0.8888888888888888,\"#fdca26\"],[1.0,\"#f0f921\"]],\"type\":\"surface\"}],\"table\":[{\"cells\":{\"fill\":{\"color\":\"#EBF0F8\"},\"line\":{\"color\":\"white\"}},\"header\":{\"fill\":{\"color\":\"#C8D4E3\"},\"line\":{\"color\":\"white\"}},\"type\":\"table\"}]},\"layout\":{\"annotationdefaults\":{\"arrowcolor\":\"#2a3f5f\",\"arrowhead\":0,\"arrowwidth\":1},\"autotypenumbers\":\"strict\",\"coloraxis\":{\"colorbar\":{\"outlinewidth\":0,\"ticks\":\"\"}},\"colorscale\":{\"diverging\":[[0,\"#8e0152\"],[0.1,\"#c51b7d\"],[0.2,\"#de77ae\"],[0.3,\"#f1b6da\"],[0.4,\"#fde0ef\"],[0.5,\"#f7f7f7\"],[0.6,\"#e6f5d0\"],[0.7,\"#b8e186\"],[0.8,\"#7fbc41\"],[0.9,\"#4d9221\"],[1,\"#276419\"]],\"sequential\":[[0.0,\"#0d0887\"],[0.1111111111111111,\"#46039f\"],[0.2222222222222222,\"#7201a8\"],[0.3333333333333333,\"#9c179e\"],[0.4444444444444444,\"#bd3786\"],[0.5555555555555556,\"#d8576b\"],[0.6666666666666666,\"#ed7953\"],[0.7777777777777778,\"#fb9f3a\"],[0.8888888888888888,\"#fdca26\"],[1.0,\"#f0f921\"]],\"sequentialminus\":[[0.0,\"#0d0887\"],[0.1111111111111111,\"#46039f\"],[0.2222222222222222,\"#7201a8\"],[0.3333333333333333,\"#9c179e\"],[0.4444444444444444,\"#bd3786\"],[0.5555555555555556,\"#d8576b\"],[0.6666666666666666,\"#ed7953\"],[0.7777777777777778,\"#fb9f3a\"],[0.8888888888888888,\"#fdca26\"],[1.0,\"#f0f921\"]]},\"colorway\":[\"#636efa\",\"#EF553B\",\"#00cc96\",\"#ab63fa\",\"#FFA15A\",\"#19d3f3\",\"#FF6692\",\"#B6E880\",\"#FF97FF\",\"#FECB52\"],\"font\":{\"color\":\"#2a3f5f\"},\"geo\":{\"bgcolor\":\"white\",\"lakecolor\":\"white\",\"landcolor\":\"#E5ECF6\",\"showlakes\":true,\"showland\":true,\"subunitcolor\":\"white\"},\"hoverlabel\":{\"align\":\"left\"},\"hovermode\":\"closest\",\"mapbox\":{\"style\":\"light\"},\"paper_bgcolor\":\"white\",\"plot_bgcolor\":\"#E5ECF6\",\"polar\":{\"angularaxis\":{\"gridcolor\":\"white\",\"linecolor\":\"white\",\"ticks\":\"\"},\"bgcolor\":\"#E5ECF6\",\"radialaxis\":{\"gridcolor\":\"white\",\"linecolor\":\"white\",\"ticks\":\"\"}},\"scene\":{\"xaxis\":{\"backgroundcolor\":\"#E5ECF6\",\"gridcolor\":\"white\",\"gridwidth\":2,\"linecolor\":\"white\",\"showbackground\":true,\"ticks\":\"\",\"zerolinecolor\":\"white\"},\"yaxis\":{\"backgroundcolor\":\"#E5ECF6\",\"gridcolor\":\"white\",\"gridwidth\":2,\"linecolor\":\"white\",\"showbackground\":true,\"ticks\":\"\",\"zerolinecolor\":\"white\"},\"zaxis\":{\"backgroundcolor\":\"#E5ECF6\",\"gridcolor\":\"white\",\"gridwidth\":2,\"linecolor\":\"white\",\"showbackground\":true,\"ticks\":\"\",\"zerolinecolor\":\"white\"}},\"shapedefaults\":{\"line\":{\"color\":\"#2a3f5f\"}},\"ternary\":{\"aaxis\":{\"gridcolor\":\"white\",\"linecolor\":\"white\",\"ticks\":\"\"},\"baxis\":{\"gridcolor\":\"white\",\"linecolor\":\"white\",\"ticks\":\"\"},\"bgcolor\":\"#E5ECF6\",\"caxis\":{\"gridcolor\":\"white\",\"linecolor\":\"white\",\"ticks\":\"\"}},\"title\":{\"x\":0.05},\"xaxis\":{\"automargin\":true,\"gridcolor\":\"white\",\"linecolor\":\"white\",\"ticks\":\"\",\"title\":{\"standoff\":15},\"zerolinecolor\":\"white\",\"zerolinewidth\":2},\"yaxis\":{\"automargin\":true,\"gridcolor\":\"white\",\"linecolor\":\"white\",\"ticks\":\"\",\"title\":{\"standoff\":15},\"zerolinecolor\":\"white\",\"zerolinewidth\":2}}},\"xaxis\":{\"anchor\":\"y\",\"domain\":[0.0,1.0],\"title\":{\"text\":\"principal component 1\"}},\"yaxis\":{\"anchor\":\"x\",\"domain\":[0.0,1.0],\"title\":{\"text\":\"principal component 2\"}}},                        {\"responsive\": true}                    ).then(function(){\n",
       "                            \n",
       "var gd = document.getElementById('d1d53c68-3624-4138-8f6c-2d66b604efa1');\n",
       "var x = new MutationObserver(function (mutations, observer) {{\n",
       "        var display = window.getComputedStyle(gd).display;\n",
       "        if (!display || display === 'none') {{\n",
       "            console.log([gd, 'removed!']);\n",
       "            Plotly.purge(gd);\n",
       "            observer.disconnect();\n",
       "        }}\n",
       "}});\n",
       "\n",
       "// Listen for the removal of the full notebook cells\n",
       "var notebookContainer = gd.closest('#notebook-container');\n",
       "if (notebookContainer) {{\n",
       "    x.observe(notebookContainer, {childList: true});\n",
       "}}\n",
       "\n",
       "// Listen for the clearing of the current output cell\n",
       "var outputEl = gd.closest('.output');\n",
       "if (outputEl) {{\n",
       "    x.observe(outputEl, {childList: true});\n",
       "}}\n",
       "\n",
       "                        })                };                });            </script>        </div>"
      ]
     },
     "metadata": {},
     "output_type": "display_data"
    }
   ],
   "source": [
    "import plotly.express as px\n",
    "\n",
    "x = pca_dataset['principal component 1']\n",
    "y = pca_dataset['principal component 2']\n",
    "hover_data = pca_dataset.index\n",
    "fig = px.scatter(pca_dataset, x=x, y=y, color=kmeans.labels_.astype(float), hover_data=[indicators_df_o.index])\n",
    "fig.show()"
   ]
  }
 ],
 "metadata": {
  "kernelspec": {
   "display_name": "Python [conda env:geo_env]",
   "language": "python",
   "name": "conda-env-geo_env-py"
  },
  "language_info": {
   "codemirror_mode": {
    "name": "ipython",
    "version": 3
   },
   "file_extension": ".py",
   "mimetype": "text/x-python",
   "name": "python",
   "nbconvert_exporter": "python",
   "pygments_lexer": "ipython3",
   "version": "3.9.7"
  },
  "widgets": {
   "application/vnd.jupyter.widget-state+json": {
    "state": {},
    "version_major": 2,
    "version_minor": 0
   }
  }
 },
 "nbformat": 4,
 "nbformat_minor": 4
}
