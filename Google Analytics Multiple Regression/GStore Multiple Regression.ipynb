{
  "nbformat": 4,
  "nbformat_minor": 0,
  "metadata": {
    "kernelspec": {
      "language": "python",
      "display_name": "Python 3",
      "name": "python3"
    },
    "language_info": {
      "name": "python",
      "version": "3.7.10",
      "mimetype": "text/x-python",
      "codemirror_mode": {
        "name": "ipython",
        "version": 3
      },
      "pygments_lexer": "ipython3",
      "nbconvert_exporter": "python",
      "file_extension": ".py"
    },
    "colab": {
      "name": "gstore-multiple-regression.ipynb",
      "provenance": [],
      "include_colab_link": true
    }
  },
  "cells": [
    {
      "cell_type": "markdown",
      "metadata": {
        "id": "view-in-github",
        "colab_type": "text"
      },
      "source": [
        "<a href=\"https://colab.research.google.com/github/josephobonyo/data_science_projects/blob/main/Google%20Analytics%20Multiple%20Regression/GStore%20Multiple%20Regression.ipynb\" target=\"_parent\"><img src=\"https://colab.research.google.com/assets/colab-badge.svg\" alt=\"Open In Colab\"/></a>"
      ]
    },
    {
      "cell_type": "markdown",
      "metadata": {
        "id": "lSTd2X7jDjDX"
      },
      "source": [
        "# GStore Customer Revenue Analytics\n",
        "In this competition, the aim is to analyze a Google Merchandise Store (also known as GStore, where Google swag is sold) customer dataset to predict revenue per customer. The results of predictions and analysis might lead to more actionable operational changes and a better use of marketing budgets for those companies who choose to use data analysis on top of GA data. This is the starter baseline kernel, I will be updating it frequently."
      ]
    },
    {
      "cell_type": "code",
      "metadata": {
        "colab": {
          "base_uri": "https://localhost:8080/"
        },
        "id": "6rjyDuTKNhvG",
        "outputId": "57410297-796c-44e3-e5f6-217168516065"
      },
      "source": [
        "!kaggle competitions download -c ga-customer-revenue-prediction -f train.csv"
      ],
      "execution_count": 17,
      "outputs": [
        {
          "output_type": "stream",
          "name": "stdout",
          "text": [
            "Downloading train.csv.zip to /content\n",
            " 83% 51.0M/61.1M [00:02<00:00, 34.0MB/s]\n",
            "100% 61.1M/61.1M [00:03<00:00, 19.5MB/s]\n"
          ]
        }
      ]
    },
    {
      "cell_type": "code",
      "metadata": {
        "colab": {
          "base_uri": "https://localhost:8080/"
        },
        "id": "pKzGaz5WSX3N",
        "outputId": "d0c7517b-b676-4963-fc32-a6e2ff92741b"
      },
      "source": [
        "! unzip train.csv.zip"
      ],
      "execution_count": 18,
      "outputs": [
        {
          "output_type": "stream",
          "name": "stdout",
          "text": [
            "Archive:  train.csv.zip\n",
            "  inflating: train.csv               \n"
          ]
        }
      ]
    },
    {
      "cell_type": "code",
      "metadata": {
        "colab": {
          "base_uri": "https://localhost:8080/"
        },
        "id": "A_YkgmlvSpr2",
        "outputId": "9fad9df2-e0ec-4488-b681-a9b6e22c579d"
      },
      "source": [
        "from google.colab import drive\n",
        "drive.mount('/content/drive')"
      ],
      "execution_count": 19,
      "outputs": [
        {
          "output_type": "stream",
          "name": "stdout",
          "text": [
            "Mounted at /content/drive\n"
          ]
        }
      ]
    },
    {
      "cell_type": "code",
      "metadata": {
        "_uuid": "8f2839f25d086af736a60e9eeb907d3b93b6e0e5",
        "_cell_guid": "b1076dfc-b9ad-4769-8c92-a6c4dae69d19",
        "execution": {
          "iopub.status.busy": "2021-11-30T14:40:05.852157Z",
          "iopub.execute_input": "2021-11-30T14:40:05.852475Z",
          "iopub.status.idle": "2021-11-30T14:40:05.886315Z",
          "shell.execute_reply.started": "2021-11-30T14:40:05.852394Z",
          "shell.execute_reply": "2021-11-30T14:40:05.885704Z"
        },
        "trusted": true,
        "id": "4MbUUX0tDjDY"
      },
      "source": [
        "# This Python 3 environment comes with many helpful analytics libraries installed\n",
        "# It is defined by the kaggle/python Docker image: https://github.com/kaggle/docker-python\n",
        "# For example, here's several helpful packages to load\n",
        "\n",
        "import numpy as np # linear algebra\n",
        "import pandas as pd # data processing, CSV file I/O (e.g. pd.read_csv)\n",
        "\n",
        "# Input data files are available in the read-only \"../input/\" directory\n",
        "# For example, running this (by clicking run or pressing Shift+Enter) will list all files under the input directory\n",
        "\n",
        "import os\n",
        "for dirname, _, filenames in os.walk('/kaggle/input'):\n",
        "    for filename in filenames:\n",
        "        print(os.path.join(dirname, filename))\n",
        "\n",
        "# You can write up to 20GB to the current directory (/kaggle/working/) that gets preserved as output when you create a version using \"Save & Run All\" \n",
        "# You can also write temporary files to /kaggle/temp/, but they won't be saved outside of the current session"
      ],
      "execution_count": 1,
      "outputs": []
    },
    {
      "cell_type": "code",
      "metadata": {
        "execution": {
          "iopub.status.busy": "2021-11-30T14:40:05.887432Z",
          "iopub.execute_input": "2021-11-30T14:40:05.888037Z",
          "iopub.status.idle": "2021-11-30T14:40:05.891825Z",
          "shell.execute_reply.started": "2021-11-30T14:40:05.88798Z",
          "shell.execute_reply": "2021-11-30T14:40:05.891269Z"
        },
        "trusted": true,
        "id": "3BZ6N7GsDjDb"
      },
      "source": [
        "import numpy as np \n",
        "import pandas as pd \n",
        "import json  # For columns that need to be extracted from json format\n",
        "from pandas import json_normalize  # For columns that need to be extracted from json format\n",
        "from datetime import datetime  # For handling datetime format\n",
        "import random"
      ],
      "execution_count": 6,
      "outputs": []
    },
    {
      "cell_type": "markdown",
      "metadata": {
        "id": "c-Juqjq0DjDc"
      },
      "source": [
        "## Step 1: Import Data"
      ]
    },
    {
      "cell_type": "code",
      "metadata": {
        "execution": {
          "iopub.status.busy": "2021-11-30T14:40:05.892966Z",
          "iopub.execute_input": "2021-11-30T14:40:05.893225Z",
          "iopub.status.idle": "2021-11-30T14:40:05.90598Z",
          "shell.execute_reply.started": "2021-11-30T14:40:05.893195Z",
          "shell.execute_reply": "2021-11-30T14:40:05.905374Z"
        },
        "trusted": true,
        "id": "VF5ylufbDjDc"
      },
      "source": [
        "DATA_FILE = 'train.csv'\n",
        "\n",
        "json_cols = ['device', 'geoNetwork', 'totals', 'trafficSource']\n",
        "def load_data(path):\n",
        "    \n",
        "    df = pd.read_csv(path, converters={column: json.loads for column in json_cols}, \n",
        "                     dtype={'fullVisitorId': 'str'})\n",
        "    \n",
        "    for column in json_cols:\n",
        "        column_as_df = json_normalize(df[column])\n",
        "        column_as_df.columns = [f\"{column}_{subcolumn}\" for subcolumn in column_as_df.columns]\n",
        "        df = df.drop(column, axis=1).merge(column_as_df, right_index=True, left_index=True)\n",
        "    \n",
        "    print('Dataframe shape: ', df.shape)\n",
        "    \n",
        "    return df\n",
        "\n",
        "def process_date(df):\n",
        "    df[\"date\"] = pd.to_datetime(df[\"date\"], format=\"%Y%m%d\") # seting the column as pandas datetime\n",
        "    df[\"_weekday\"] = df['date'].dt.weekday #extracting week day\n",
        "    df[\"_day\"] = df['date'].dt.day # extracting day\n",
        "    df[\"_month\"] = df['date'].dt.month # extracting day\n",
        "    df[\"_year\"] = df['date'].dt.year # extracting day\n",
        "    df['_visitHour'] = (df['visitStartTime'].apply(lambda x: str(datetime.fromtimestamp(x).hour))).astype(int)\n",
        "\n",
        "    return df\n",
        "\n",
        "def read_data(path):\n",
        "    df = load_data(path)\n",
        "    df = process_date(df)\n",
        "    \n",
        "    return df"
      ],
      "execution_count": 20,
      "outputs": []
    },
    {
      "cell_type": "code",
      "metadata": {
        "execution": {
          "iopub.status.busy": "2021-11-30T14:40:05.907478Z",
          "iopub.execute_input": "2021-11-30T14:40:05.90805Z",
          "iopub.status.idle": "2021-11-30T14:41:51.176704Z",
          "shell.execute_reply.started": "2021-11-30T14:40:05.908007Z",
          "shell.execute_reply": "2021-11-30T14:41:51.175926Z"
        },
        "trusted": true,
        "colab": {
          "base_uri": "https://localhost:8080/"
        },
        "id": "msuXyYaBDjDc",
        "outputId": "850e5d23-c012-4121-bd28-de1d84a28128"
      },
      "source": [
        "train = read_data(DATA_FILE)"
      ],
      "execution_count": 21,
      "outputs": [
        {
          "output_type": "stream",
          "name": "stdout",
          "text": [
            "Dataframe shape:  (903653, 55)\n"
          ]
        }
      ]
    },
    {
      "cell_type": "markdown",
      "metadata": {
        "id": "jvg6oOu_DjDd"
      },
      "source": [
        "## Step 2: Clean Data"
      ]
    },
    {
      "cell_type": "markdown",
      "metadata": {
        "id": "VjyLypC7DjDd"
      },
      "source": [
        "#### Check for missing values"
      ]
    },
    {
      "cell_type": "code",
      "metadata": {
        "execution": {
          "iopub.status.busy": "2021-11-30T14:41:51.178431Z",
          "iopub.execute_input": "2021-11-30T14:41:51.178739Z",
          "iopub.status.idle": "2021-11-30T14:41:51.191352Z",
          "shell.execute_reply.started": "2021-11-30T14:41:51.178698Z",
          "shell.execute_reply": "2021-11-30T14:41:51.190493Z"
        },
        "trusted": true,
        "id": "Ww2GDRzVDjDd"
      },
      "source": [
        "# The following are data analysis functions that will inform decision making on how the data is cleaned\n",
        "\n",
        "def display_shape(df):\n",
        "    '''\n",
        "    This function displays the shape of the dataframe and the counts of the different variable types\n",
        "    '''\n",
        "    print('Number of rows : {} / number of columns : {}'.format(df.shape[0], df.shape[1]))\n",
        "\n",
        "    print('\\ntypes of variables :\\n')\n",
        "    print(df.dtypes.value_counts())\n",
        "    \n",
        "\n",
        "def display_homogeneous_columns(df):\n",
        "    ''' \n",
        "    This function displays all columns where we have only one unique value (constants)\n",
        "    This is useful because these columns don't give us any information \n",
        "    '''\n",
        "    discovering_consts = [col for col in df.columns if df[col].nunique() == 1]\n",
        "\n",
        "    # printing the total of columns dropped and the name of columns\n",
        "    print(\"\\nNumber of columns with just one value: \", len(discovering_consts), \"columns\")\n",
        "    print(\"Name of constant columns: \\n\", discovering_consts)\n",
        "    \n",
        "    \n",
        "def display_id_columns(df):\n",
        "    ''' \n",
        "    This function displays all columns where the number of unique values is the same as the entire dataset like an id.\n",
        "    This is useful because these columns don't give us any information .\n",
        "    '''\n",
        "    discovering_shape = [col for col in df.columns if df[col].nunique() == df.shape[0]]\n",
        "\n",
        "    # printing the total of columns dropped and the name of columns\n",
        "    print(\"\\nNumber of columns with same size as df rows: \", len(discovering_shape), \"columns\")\n",
        "    print(\"Name of id columns: \\n\", discovering_shape)\n",
        "    \n",
        "\n",
        "def display_high_missing_vals(df):\n",
        "    '''\n",
        "    This function displays the percentage of missing values in columns that have them.\n",
        "    It also displays the columns with more that 50% missing values. These will be dropped as they don't add \n",
        "    much information to the analysis.\n",
        "    '''\n",
        "    # Percentage of NAN Values \n",
        "    nan = [(i, df[i].isna().mean()*100) for i in df]\n",
        "    nan = pd.DataFrame(nan, columns=[\"column_name\", \"percentage\"])\n",
        "\n",
        "    # Display the columns with missing values\n",
        "    nan = nan[nan.percentage > 0]\n",
        "    print(\"\\nPercentage of missing values: \\n\", nan.sort_values(\"percentage\", ascending=False))\n",
        "    \n",
        "    # Display the columns with more than 50% missing values\n",
        "    high_nan = nan.loc[nan['percentage'] > 50, 'column_name']\n",
        "    print(\"\\nColumns with more than 50% missing values: \\n\", list(high_nan.values))"
      ],
      "execution_count": 22,
      "outputs": []
    },
    {
      "cell_type": "code",
      "metadata": {
        "execution": {
          "iopub.status.busy": "2021-11-30T14:41:51.192864Z",
          "iopub.execute_input": "2021-11-30T14:41:51.193337Z",
          "iopub.status.idle": "2021-11-30T14:41:51.209304Z",
          "shell.execute_reply.started": "2021-11-30T14:41:51.193295Z",
          "shell.execute_reply": "2021-11-30T14:41:51.208564Z"
        },
        "trusted": true,
        "id": "APNi0320DjDe"
      },
      "source": [
        "def display_descriptive_stats(df):\n",
        "    '''\n",
        "    This function calls all the functions above that will be used to analyse the data.\n",
        "    '''\n",
        "    df = df.copy()\n",
        "    display_shape(df)\n",
        "    display_homogeneous_columns(df)\n",
        "    display_id_columns(df)\n",
        "    display_high_missing_vals(df)"
      ],
      "execution_count": 23,
      "outputs": []
    },
    {
      "cell_type": "code",
      "metadata": {
        "execution": {
          "iopub.status.busy": "2021-11-30T14:41:51.210382Z",
          "iopub.execute_input": "2021-11-30T14:41:51.21072Z",
          "iopub.status.idle": "2021-11-30T14:42:19.807181Z",
          "shell.execute_reply.started": "2021-11-30T14:41:51.210691Z",
          "shell.execute_reply": "2021-11-30T14:42:19.806353Z"
        },
        "trusted": true,
        "colab": {
          "base_uri": "https://localhost:8080/"
        },
        "id": "PNPEBskpDjDe",
        "outputId": "7264e875-a4f1-4b61-dc9d-640f926ac99e"
      },
      "source": [
        "display_descriptive_stats(train)"
      ],
      "execution_count": 24,
      "outputs": [
        {
          "output_type": "stream",
          "name": "stdout",
          "text": [
            "Number of rows : 903653 / number of columns : 60\n",
            "\n",
            "types of variables :\n",
            "\n",
            "object            50\n",
            "int64              8\n",
            "bool               1\n",
            "datetime64[ns]     1\n",
            "dtype: int64\n",
            "\n",
            "Number of columns with just one value:  24 columns\n",
            "Name of constant columns: \n",
            " ['socialEngagementType', 'device_browserVersion', 'device_browserSize', 'device_operatingSystemVersion', 'device_mobileDeviceBranding', 'device_mobileDeviceModel', 'device_mobileInputSelector', 'device_mobileDeviceInfo', 'device_mobileDeviceMarketingName', 'device_flashVersion', 'device_language', 'device_screenColors', 'device_screenResolution', 'geoNetwork_cityId', 'geoNetwork_latitude', 'geoNetwork_longitude', 'geoNetwork_networkLocation', 'totals_visits', 'totals_bounces', 'totals_newVisits', 'trafficSource_adwordsClickInfo.criteriaParameters', 'trafficSource_isTrueDirect', 'trafficSource_adwordsClickInfo.isVideoAd', 'trafficSource_campaignCode']\n",
            "\n",
            "Number of columns with same size as df rows:  0 columns\n",
            "Name of id columns: \n",
            " []\n",
            "\n",
            "Percentage of missing values: \n",
            "                                      column_name  percentage\n",
            "54                    trafficSource_campaignCode   99.999889\n",
            "53                       trafficSource_adContent   98.788694\n",
            "40                     totals_transactionRevenue   98.725728\n",
            "48           trafficSource_adwordsClickInfo.page   97.625195\n",
            "49           trafficSource_adwordsClickInfo.slot   97.625195\n",
            "51  trafficSource_adwordsClickInfo.adNetworkType   97.625195\n",
            "52      trafficSource_adwordsClickInfo.isVideoAd   97.625195\n",
            "50          trafficSource_adwordsClickInfo.gclId   97.614018\n",
            "46                    trafficSource_isTrueDirect   69.678073\n",
            "47                    trafficSource_referralPath   63.377425\n",
            "44                         trafficSource_keyword   55.655102\n",
            "38                                totals_bounces   50.132407\n",
            "39                              totals_newVisits   22.198012\n",
            "37                              totals_pageviews    0.011066\n",
            "\n",
            "Columns with more than 50% missing values: \n",
            " ['totals_bounces', 'totals_transactionRevenue', 'trafficSource_keyword', 'trafficSource_isTrueDirect', 'trafficSource_referralPath', 'trafficSource_adwordsClickInfo.page', 'trafficSource_adwordsClickInfo.slot', 'trafficSource_adwordsClickInfo.gclId', 'trafficSource_adwordsClickInfo.adNetworkType', 'trafficSource_adwordsClickInfo.isVideoAd', 'trafficSource_adContent', 'trafficSource_campaignCode']\n"
          ]
        }
      ]
    },
    {
      "cell_type": "markdown",
      "metadata": {
        "id": "BVUh95eWDjDe"
      },
      "source": [
        "Most of the columns we're dealing with are object columns.  \n",
        "The columns with one unique value and with more than 50% missing values will be dropped."
      ]
    },
    {
      "cell_type": "code",
      "metadata": {
        "execution": {
          "iopub.status.busy": "2021-11-30T14:42:19.809287Z",
          "iopub.execute_input": "2021-11-30T14:42:19.809523Z",
          "iopub.status.idle": "2021-11-30T14:42:25.235162Z",
          "shell.execute_reply.started": "2021-11-30T14:42:19.809494Z",
          "shell.execute_reply": "2021-11-30T14:42:25.234366Z"
        },
        "trusted": true,
        "colab": {
          "base_uri": "https://localhost:8080/"
        },
        "id": "fHXU5Hg8DjDe",
        "outputId": "49433f39-30ee-44dc-dd23-50803ffacd2c"
      },
      "source": [
        "# Create list to drop all the columns with one unique value\n",
        "unique_columns_drop = set(['socialEngagementType', 'device_browserVersion', 'device_browserSize', 'device_operatingSystemVersion', 'device_mobileDeviceBranding',\n",
        "                           'device_mobileDeviceModel', 'device_mobileInputSelector', 'device_mobileDeviceInfo', 'device_mobileDeviceMarketingName', \n",
        "                           'device_flashVersion', 'device_language', 'device_screenColors', 'device_screenResolution', 'geoNetwork_cityId', \n",
        "                           'geoNetwork_latitude', 'geoNetwork_longitude', 'geoNetwork_networkLocation', 'totals_visits', 'totals_bounces', 'totals_newVisits', \n",
        "                           'trafficSource_adwordsClickInfo.criteriaParameters', 'trafficSource_isTrueDirect', 'trafficSource_adwordsClickInfo.isVideoAd', \n",
        "                           'trafficSource_campaignCode', 'date'])\n",
        "\n",
        "# Drop columns\n",
        "train = train.drop(unique_columns_drop, axis=1)\n",
        "print(\"Total unique features dropped: \", len(unique_columns_drop))\n",
        "\n",
        "# Create list to drop columns with a high percentage of missing values and any ID columns that do not add any information\n",
        "high_missing_vals_drop = set(['totals_bounces', 'trafficSource_keyword', 'trafficSource_isTrueDirect', \n",
        "                              'trafficSource_referralPath', 'trafficSource_adwordsClickInfo.page', 'trafficSource_adwordsClickInfo.slot', \n",
        "                              'trafficSource_adwordsClickInfo.gclId', 'trafficSource_adwordsClickInfo.adNetworkType', \n",
        "                              'trafficSource_adwordsClickInfo.isVideoAd', 'trafficSource_adContent', 'trafficSource_campaignCode', 'sessionId',\n",
        "                              'fullVisitorId', 'visitId', 'visitStartTime'])\n",
        "high_missing_vals_drop = [x for x in high_missing_vals_drop if x not in unique_columns_drop]\n",
        "\n",
        "# Drop columns\n",
        "train = train.drop(high_missing_vals_drop, axis=1)\n",
        "print(\"Total high missing value features dropped: \", len(high_missing_vals_drop))\n",
        "\n",
        "# Display shape after columns have been dropped\n",
        "print(\"\\nShape after dropping columns: \")\n",
        "display_shape(train)"
      ],
      "execution_count": 25,
      "outputs": [
        {
          "output_type": "stream",
          "name": "stdout",
          "text": [
            "Total unique features dropped:  25\n",
            "Total high missing value features dropped:  11\n",
            "\n",
            "Shape after dropping columns: \n",
            "Number of rows : 903653 / number of columns : 24\n",
            "\n",
            "types of variables :\n",
            "\n",
            "object    17\n",
            "int64      6\n",
            "bool       1\n",
            "dtype: int64\n"
          ]
        }
      ]
    },
    {
      "cell_type": "markdown",
      "metadata": {
        "id": "B1P5jCuXDjDe"
      },
      "source": [
        ""
      ]
    },
    {
      "cell_type": "code",
      "metadata": {
        "execution": {
          "iopub.status.busy": "2021-11-30T14:42:25.236378Z",
          "iopub.execute_input": "2021-11-30T14:42:25.236793Z",
          "iopub.status.idle": "2021-11-30T14:42:34.476978Z",
          "shell.execute_reply.started": "2021-11-30T14:42:25.236764Z",
          "shell.execute_reply": "2021-11-30T14:42:34.476155Z"
        },
        "trusted": true,
        "colab": {
          "base_uri": "https://localhost:8080/"
        },
        "id": "x5vMo5HbDjDf",
        "outputId": "5747d06f-c385-4758-d530-48f8f8090448"
      },
      "source": [
        "# We'll display the descriptive statistics again to get a good view of all the remaining data\n",
        "display_descriptive_stats(train)"
      ],
      "execution_count": 26,
      "outputs": [
        {
          "output_type": "stream",
          "name": "stdout",
          "text": [
            "Number of rows : 903653 / number of columns : 24\n",
            "\n",
            "types of variables :\n",
            "\n",
            "object    17\n",
            "int64      6\n",
            "bool       1\n",
            "dtype: int64\n",
            "\n",
            "Number of columns with just one value:  0 columns\n",
            "Name of constant columns: \n",
            " []\n",
            "\n",
            "Number of columns with same size as df rows:  0 columns\n",
            "Name of id columns: \n",
            " []\n",
            "\n",
            "Percentage of missing values: \n",
            "                   column_name  percentage\n",
            "15  totals_transactionRevenue   98.725728\n",
            "14           totals_pageviews    0.011066\n",
            "\n",
            "Columns with more than 50% missing values: \n",
            " ['totals_transactionRevenue']\n"
          ]
        }
      ]
    },
    {
      "cell_type": "markdown",
      "metadata": {
        "id": "5G2KCWQzDjDf"
      },
      "source": [
        "'totals_transactionRevenue' is exluded from being dropped because it will be used for our target. It has a high percentage of missing values because of the general low turnover in E-Commerce sites.  \n",
        "The next step is to take a look at the unique values of each column, grouping them by data type"
      ]
    },
    {
      "cell_type": "code",
      "metadata": {
        "execution": {
          "iopub.status.busy": "2021-11-30T14:42:34.478369Z",
          "iopub.execute_input": "2021-11-30T14:42:34.47865Z",
          "iopub.status.idle": "2021-11-30T14:42:34.486229Z",
          "shell.execute_reply.started": "2021-11-30T14:42:34.478609Z",
          "shell.execute_reply": "2021-11-30T14:42:34.485165Z"
        },
        "trusted": true,
        "id": "jThNlJ7aDjDf"
      },
      "source": [
        "def display_unique_values(df, data_type, limit=10): \n",
        "    '''\n",
        "    This function displays all the unique values in a certain column based on the data type\n",
        "    '''\n",
        "    n = df.select_dtypes(include=data_type) #selecting the desired data type\n",
        "    for column in n.columns: #initializing the loop\n",
        "        print(\"##############################################\")\n",
        "        print(\"Name of column \", column, ': \\n', \"Uniques: \", df[column].unique()[:limit], \"\\n\",\n",
        "              \" | ## Total nulls: \", (round(df[column].isnull().sum() / len(df[column]) * 100,2)),\n",
        "              \" | ## Total unique values: \", df.nunique()[column]) #print the data and % of nulls)\n",
        "        print(\"#############################################\")"
      ],
      "execution_count": 27,
      "outputs": []
    },
    {
      "cell_type": "code",
      "metadata": {
        "execution": {
          "iopub.status.busy": "2021-11-30T14:42:34.487438Z",
          "iopub.execute_input": "2021-11-30T14:42:34.487778Z",
          "iopub.status.idle": "2021-11-30T14:44:00.207487Z",
          "shell.execute_reply.started": "2021-11-30T14:42:34.487735Z",
          "shell.execute_reply": "2021-11-30T14:44:00.206637Z"
        },
        "trusted": true,
        "colab": {
          "base_uri": "https://localhost:8080/"
        },
        "id": "PMKcD3KSDjDf",
        "outputId": "92184d1a-919a-46d4-f782-ae007cd12196"
      },
      "source": [
        "print(\"\\n Object --------\")\n",
        "display_unique_values(train, data_type= object)\n",
        "print(\"\\n int --------\")\n",
        "display_unique_values(train, data_type= int)\n",
        "print(\"\\n float --------\")\n",
        "display_unique_values(train, data_type= float)\n",
        "print(\"\\n bool --------\")\n",
        "display_unique_values(train, data_type= bool)"
      ],
      "execution_count": 28,
      "outputs": [
        {
          "output_type": "stream",
          "name": "stdout",
          "text": [
            "\n",
            " Object --------\n",
            "##############################################\n",
            "Name of column  channelGrouping : \n",
            " Uniques:  ['Organic Search' 'Referral' 'Paid Search' 'Affiliates' 'Direct' 'Display'\n",
            " 'Social' '(Other)'] \n",
            "  | ## Total nulls:  0.0  | ## Total unique values:  8\n",
            "#############################################\n",
            "##############################################\n",
            "Name of column  device_browser : \n",
            " Uniques:  ['Chrome' 'Firefox' 'UC Browser' 'Internet Explorer' 'Safari' 'Edge'\n",
            " 'Opera Mini' 'Opera' 'BlackBerry' 'Safari (in-app)'] \n",
            "  | ## Total nulls:  0.0  | ## Total unique values:  54\n",
            "#############################################\n",
            "##############################################\n",
            "Name of column  device_operatingSystem : \n",
            " Uniques:  ['Windows' 'Macintosh' 'Linux' 'Android' 'iOS' 'Chrome OS' 'BlackBerry'\n",
            " '(not set)' 'Samsung' 'Windows Phone'] \n",
            "  | ## Total nulls:  0.0  | ## Total unique values:  20\n",
            "#############################################\n",
            "##############################################\n",
            "Name of column  device_deviceCategory : \n",
            " Uniques:  ['desktop' 'mobile' 'tablet'] \n",
            "  | ## Total nulls:  0.0  | ## Total unique values:  3\n",
            "#############################################\n",
            "##############################################\n",
            "Name of column  geoNetwork_continent : \n",
            " Uniques:  ['Asia' 'Oceania' 'Europe' 'Americas' 'Africa' '(not set)'] \n",
            "  | ## Total nulls:  0.0  | ## Total unique values:  6\n",
            "#############################################\n",
            "##############################################\n",
            "Name of column  geoNetwork_subContinent : \n",
            " Uniques:  ['Western Asia' 'Australasia' 'Southern Europe' 'Southeast Asia'\n",
            " 'Northern Europe' 'Southern Asia' 'Western Europe' 'South America'\n",
            " 'Eastern Asia' 'Eastern Europe'] \n",
            "  | ## Total nulls:  0.0  | ## Total unique values:  23\n",
            "#############################################\n",
            "##############################################\n",
            "Name of column  geoNetwork_country : \n",
            " Uniques:  ['Turkey' 'Australia' 'Spain' 'Indonesia' 'United Kingdom' 'Italy'\n",
            " 'Pakistan' 'Austria' 'Netherlands' 'India'] \n",
            "  | ## Total nulls:  0.0  | ## Total unique values:  222\n",
            "#############################################\n",
            "##############################################\n",
            "Name of column  geoNetwork_region : \n",
            " Uniques:  ['Izmir' 'not available in demo dataset' 'Community of Madrid'\n",
            " 'Queensland' 'Sindh' 'Ile-de-France' '(not set)' 'Buenos Aires' 'Bangkok'\n",
            " 'Jakarta'] \n",
            "  | ## Total nulls:  0.0  | ## Total unique values:  376\n",
            "#############################################\n",
            "##############################################\n",
            "Name of column  geoNetwork_metro : \n",
            " Uniques:  ['(not set)' 'not available in demo dataset' 'London'\n",
            " 'San Francisco-Oakland-San Jose CA' 'New York NY'\n",
            " 'Washington DC (Hagerstown MD)' 'Los Angeles CA' 'Seattle-Tacoma WA'\n",
            " 'Chicago IL' 'Boston MA-Manchester NH'] \n",
            "  | ## Total nulls:  0.0  | ## Total unique values:  94\n",
            "#############################################\n",
            "##############################################\n",
            "Name of column  geoNetwork_city : \n",
            " Uniques:  ['Izmir' 'not available in demo dataset' 'Madrid' 'Brisbane' 'Karachi'\n",
            " 'Paris' 'Singapore' 'Buenos Aires' '(not set)' 'Bangkok'] \n",
            "  | ## Total nulls:  0.0  | ## Total unique values:  649\n",
            "#############################################\n",
            "##############################################\n",
            "Name of column  geoNetwork_networkDomain : \n",
            " Uniques:  ['ttnet.com.tr' 'dodo.net.au' 'unknown.unknown' 'fastwebnet.it'\n",
            " 'bigpond.net.au' 'spar.at' 'chello.nl' 'airtelbroadband.in' 'wanadoo.fr'\n",
            " 'cabotelecom.com.br'] \n",
            "  | ## Total nulls:  0.0  | ## Total unique values:  28064\n",
            "#############################################\n",
            "##############################################\n",
            "Name of column  totals_hits : \n",
            " Uniques:  ['1' '2' '3' '4' '5' '6' '7' '8' '9' '10'] \n",
            "  | ## Total nulls:  0.0  | ## Total unique values:  274\n",
            "#############################################\n",
            "##############################################\n",
            "Name of column  totals_pageviews : \n",
            " Uniques:  ['1' '2' '3' '4' '5' '6' '7' '8' '9' '10'] \n",
            "  | ## Total nulls:  0.01  | ## Total unique values:  213\n",
            "#############################################\n",
            "##############################################\n",
            "Name of column  totals_transactionRevenue : \n",
            " Uniques:  [nan '37860000' '306670000' '68030000' '26250000' '574150000' '8380000'\n",
            " '395730000' '24080000' '35480000'] \n",
            "  | ## Total nulls:  98.73  | ## Total unique values:  5332\n",
            "#############################################\n",
            "##############################################\n",
            "Name of column  trafficSource_campaign : \n",
            " Uniques:  ['(not set)' 'AW - Dynamic Search Ads Whole Site' 'Data Share Promo'\n",
            " 'AW - Electronics' 'test-liyuhz' 'AW - Accessories'\n",
            " 'Retail (DO NOT EDIT owners nophakun and tianyu)' 'AW - Apparel'\n",
            " 'All Products' 'Data Share'] \n",
            "  | ## Total nulls:  0.0  | ## Total unique values:  10\n",
            "#############################################\n",
            "##############################################\n",
            "Name of column  trafficSource_source : \n",
            " Uniques:  ['google' 'baidu' 'googleweblight.com' 'sites.google.com' 'bing'\n",
            " 'siliconvalley.about.com' 'analytics.google.com' 'Partners' '(direct)'\n",
            " 'mall.googleplex.com'] \n",
            "  | ## Total nulls:  0.0  | ## Total unique values:  380\n",
            "#############################################\n",
            "##############################################\n",
            "Name of column  trafficSource_medium : \n",
            " Uniques:  ['organic' 'referral' 'cpc' 'affiliate' '(none)' 'cpm' '(not set)'] \n",
            "  | ## Total nulls:  0.0  | ## Total unique values:  7\n",
            "#############################################\n",
            "\n",
            " int --------\n",
            "##############################################\n",
            "Name of column  visitNumber : \n",
            " Uniques:  [ 1  2  3  5 11  4 57  6 56  7] \n",
            "  | ## Total nulls:  0.0  | ## Total unique values:  384\n",
            "#############################################\n",
            "##############################################\n",
            "Name of column  _weekday : \n",
            " Uniques:  [4 3 6 1 5 2 0] \n",
            "  | ## Total nulls:  0.0  | ## Total unique values:  7\n",
            "#############################################\n",
            "##############################################\n",
            "Name of column  _day : \n",
            " Uniques:  [ 2 26 23 12  3 11 13 18 10 21] \n",
            "  | ## Total nulls:  0.0  | ## Total unique values:  31\n",
            "#############################################\n",
            "##############################################\n",
            "Name of column  _month : \n",
            " Uniques:  [ 9  1  6  3  2  8 11  5 12 10] \n",
            "  | ## Total nulls:  0.0  | ## Total unique values:  12\n",
            "#############################################\n",
            "##############################################\n",
            "Name of column  _year : \n",
            " Uniques:  [2016 2017] \n",
            "  | ## Total nulls:  0.0  | ## Total unique values:  2\n",
            "#############################################\n",
            "##############################################\n",
            "Name of column  _visitHour : \n",
            " Uniques:  [15  5  1 13  9 11 10  8 16 20] \n",
            "  | ## Total nulls:  0.0  | ## Total unique values:  24\n",
            "#############################################\n",
            "\n",
            " float --------\n",
            "\n",
            " bool --------\n",
            "##############################################\n",
            "Name of column  device_isMobile : \n",
            " Uniques:  [False  True] \n",
            "  | ## Total nulls:  0.0  | ## Total unique values:  2\n",
            "#############################################\n"
          ]
        }
      ]
    },
    {
      "cell_type": "markdown",
      "metadata": {
        "id": "_8d3pTDKDjDg"
      },
      "source": [
        "Some numerical values should be integer like page views and hits, the nan transaction value will be set to 0 (nan mean no conversion : no transaction).\n",
        "\n",
        "Some object features get values like 'not set' because they are not missing\n",
        "\n",
        "Let's clean and replace some values to get a better view on our data :"
      ]
    },
    {
      "cell_type": "code",
      "metadata": {
        "execution": {
          "iopub.status.busy": "2021-11-30T14:44:00.210684Z",
          "iopub.execute_input": "2021-11-30T14:44:00.210908Z",
          "iopub.status.idle": "2021-11-30T14:44:00.217686Z",
          "shell.execute_reply.started": "2021-11-30T14:44:00.21088Z",
          "shell.execute_reply": "2021-11-30T14:44:00.217057Z"
        },
        "trusted": true,
        "id": "uXn5d1pUDjDg"
      },
      "source": [
        "def fill_replace_values(df):\n",
        "    # fillna numeric feature\n",
        "    df['totals_pageviews'].fillna(df['totals_pageviews'].value_counts().index[0], inplace=True) #filling NA's with the most Frequent value\n",
        "    df[\"totals_pageviews\"] = df[\"totals_pageviews\"].astype(int) # setting numerical to int\n",
        "    df[\"totals_hits\"] = df[\"totals_hits\"].astype(int) # setting numerical to int\n",
        "    df[\"totals_transactionRevenue\"] = df[\"totals_transactionRevenue\"].fillna(0.0).astype(float)\n",
        "\n",
        "    #object feature\n",
        "    # --> Replace unknown values\n",
        "    df.loc[df['channelGrouping'] == '(Other)', 'channelGrouping'] = np.nan\n",
        "    df.loc[df['device_operatingSystem'] == '(not set)', 'device_operatingSystem'] = np.nan\n",
        "    df.loc[df['geoNetwork_continent'] == '(not set)', 'geoNetwork_continent'] = np.nan\n",
        "  \n",
        "    return df #return the transformed dataframe"
      ],
      "execution_count": 29,
      "outputs": []
    },
    {
      "cell_type": "code",
      "metadata": {
        "execution": {
          "iopub.status.busy": "2021-11-30T14:44:00.218439Z",
          "iopub.execute_input": "2021-11-30T14:44:00.218629Z",
          "iopub.status.idle": "2021-11-30T14:44:11.521817Z",
          "shell.execute_reply.started": "2021-11-30T14:44:00.218605Z",
          "shell.execute_reply": "2021-11-30T14:44:11.520947Z"
        },
        "trusted": true,
        "colab": {
          "base_uri": "https://localhost:8080/"
        },
        "id": "_ib4EWj8DjDg",
        "outputId": "acdbb71c-8320-4740-9926-11f982bbc0eb"
      },
      "source": [
        "train = fill_replace_values(train)\n",
        "display_descriptive_stats(train)"
      ],
      "execution_count": 30,
      "outputs": [
        {
          "output_type": "stream",
          "name": "stdout",
          "text": [
            "Number of rows : 903653 / number of columns : 24\n",
            "\n",
            "types of variables :\n",
            "\n",
            "object     14\n",
            "int64       8\n",
            "bool        1\n",
            "float64     1\n",
            "dtype: int64\n",
            "\n",
            "Number of columns with just one value:  0 columns\n",
            "Name of constant columns: \n",
            " []\n",
            "\n",
            "Number of columns with same size as df rows:  0 columns\n",
            "Name of id columns: \n",
            " []\n",
            "\n",
            "Percentage of missing values: \n",
            "               column_name  percentage\n",
            "3  device_operatingSystem    0.519558\n",
            "6    geoNetwork_continent    0.162452\n",
            "0         channelGrouping    0.013279\n",
            "\n",
            "Columns with more than 50% missing values: \n",
            " []\n"
          ]
        }
      ]
    },
    {
      "cell_type": "code",
      "metadata": {
        "execution": {
          "iopub.status.busy": "2021-11-30T14:44:11.523368Z",
          "iopub.execute_input": "2021-11-30T14:44:11.523657Z",
          "iopub.status.idle": "2021-11-30T14:44:14.047293Z",
          "shell.execute_reply.started": "2021-11-30T14:44:11.523623Z",
          "shell.execute_reply": "2021-11-30T14:44:14.046346Z"
        },
        "trusted": true,
        "colab": {
          "base_uri": "https://localhost:8080/"
        },
        "id": "F07HVk1jDjDg",
        "outputId": "28377413-0f3f-4907-9f3d-9fef6559334d"
      },
      "source": [
        "#to clean the data we drop nan rows\n",
        "train.dropna(axis = 0, inplace=True)\n",
        "print(\"Shape after dropping: \", train.shape)"
      ],
      "execution_count": 31,
      "outputs": [
        {
          "output_type": "stream",
          "name": "stdout",
          "text": [
            "Shape after dropping:  (897549, 24)\n"
          ]
        }
      ]
    },
    {
      "cell_type": "markdown",
      "metadata": {
        "id": "n7WdREDMDjDg"
      },
      "source": [
        "## Step 3: Explore Data"
      ]
    },
    {
      "cell_type": "code",
      "metadata": {
        "execution": {
          "iopub.status.busy": "2021-11-30T14:44:14.048584Z",
          "iopub.execute_input": "2021-11-30T14:44:14.049274Z",
          "iopub.status.idle": "2021-11-30T14:44:14.88511Z",
          "shell.execute_reply.started": "2021-11-30T14:44:14.049237Z",
          "shell.execute_reply": "2021-11-30T14:44:14.884335Z"
        },
        "trusted": true,
        "id": "JXHRkPz-DjDh"
      },
      "source": [
        "import matplotlib.pyplot as plt\n",
        "import seaborn as sns\n",
        "from numpy import mean"
      ],
      "execution_count": 32,
      "outputs": []
    },
    {
      "cell_type": "code",
      "metadata": {
        "execution": {
          "iopub.status.busy": "2021-11-30T14:44:14.886286Z",
          "iopub.execute_input": "2021-11-30T14:44:14.886506Z",
          "iopub.status.idle": "2021-11-30T14:44:15.1946Z",
          "shell.execute_reply.started": "2021-11-30T14:44:14.886479Z",
          "shell.execute_reply": "2021-11-30T14:44:15.193864Z"
        },
        "trusted": true,
        "id": "xzbBBEGiDjDh"
      },
      "source": [
        "# We will split data into predictors and the target\n",
        "y = train['totals_transactionRevenue']\n",
        "X = train.drop('totals_transactionRevenue', axis=1)\n",
        "\n",
        "# Since most values of y are zero, we will get the non-zero values\n",
        "y_non_zero = y[y > 0]\n",
        "\n",
        "# We will also calculate the natural log of the non_zero values for the purpose of making the visualizations\n",
        "y_log = np.log1p(y_non_zero)"
      ],
      "execution_count": 33,
      "outputs": []
    },
    {
      "cell_type": "code",
      "metadata": {
        "execution": {
          "iopub.status.busy": "2021-11-30T14:44:15.195871Z",
          "iopub.execute_input": "2021-11-30T14:44:15.196177Z",
          "iopub.status.idle": "2021-11-30T14:44:15.218403Z",
          "shell.execute_reply.started": "2021-11-30T14:44:15.196139Z",
          "shell.execute_reply": "2021-11-30T14:44:15.217423Z"
        },
        "trusted": true,
        "colab": {
          "base_uri": "https://localhost:8080/"
        },
        "id": "mvpDIaLjDjDh",
        "outputId": "a16b42b4-5b08-4210-f680-a2111611bf3e"
      },
      "source": [
        "# Here we create a new dataframe that excludes non-zero values of transaction revenue and calculates the natural log of these values\n",
        "# This is to improve to give a better representation of the instances in which there is revenue being made\n",
        "plot_df = train\n",
        "plot_df = plot_df[plot_df['totals_transactionRevenue'] > 0]\n",
        "plot_df.loc[:,'totals_transactionRevenue'] = np.log1p(plot_df['totals_transactionRevenue'].values)"
      ],
      "execution_count": 34,
      "outputs": [
        {
          "output_type": "stream",
          "name": "stderr",
          "text": [
            "/usr/local/lib/python3.7/dist-packages/pandas/core/indexing.py:1743: SettingWithCopyWarning: \n",
            "A value is trying to be set on a copy of a slice from a DataFrame.\n",
            "Try using .loc[row_indexer,col_indexer] = value instead\n",
            "\n",
            "See the caveats in the documentation: https://pandas.pydata.org/pandas-docs/stable/user_guide/indexing.html#returning-a-view-versus-a-copy\n",
            "  isetter(ilocs[0], value)\n"
          ]
        }
      ]
    },
    {
      "cell_type": "markdown",
      "metadata": {
        "id": "ro1CL0udDjDh"
      },
      "source": [
        "#### 3.1: Transaction Revenue"
      ]
    },
    {
      "cell_type": "code",
      "metadata": {
        "execution": {
          "iopub.status.busy": "2021-11-30T14:44:15.220213Z",
          "iopub.execute_input": "2021-11-30T14:44:15.220506Z",
          "iopub.status.idle": "2021-11-30T14:44:15.732864Z",
          "shell.execute_reply.started": "2021-11-30T14:44:15.220467Z",
          "shell.execute_reply": "2021-11-30T14:44:15.732255Z"
        },
        "trusted": true,
        "colab": {
          "base_uri": "https://localhost:8080/",
          "height": 318
        },
        "id": "-_EyCecGDjDh",
        "outputId": "b939ce71-5c39-45ff-cd69-3d6266ce69f0"
      },
      "source": [
        "# Plotting histogram of Transaction Revenue\n",
        "fig, ax = plt.subplots()\n",
        "sns.histplot(x=plot_df['totals_transactionRevenue'], ax=ax)\n",
        "ax.set_title('Distribution of Non-Zero Transaction Revenue', fontsize=20)"
      ],
      "execution_count": 35,
      "outputs": [
        {
          "output_type": "execute_result",
          "data": {
            "text/plain": [
              "Text(0.5, 1.0, 'Distribution of Non-Zero Transaction Revenue')"
            ]
          },
          "metadata": {},
          "execution_count": 35
        },
        {
          "output_type": "display_data",
          "data": {
            "image/png": "[encoded data removed]",
            "text/plain": [
              "<Figure size 432x288 with 1 Axes>"
            ]
          },
          "metadata": {
            "needs_background": "light"
          }
        }
      ]
    },
    {
      "cell_type": "markdown",
      "metadata": {
        "id": "Qxk6XViiDjDi"
      },
      "source": [
        "Despite 98% of the transactions having a value of 0, the non-zero values are negatively skewed."
      ]
    },
    {
      "cell_type": "markdown",
      "metadata": {
        "id": "szoxYLA3DjDi"
      },
      "source": [
        "#### 3.2: Time Attributes"
      ]
    },
    {
      "cell_type": "code",
      "metadata": {
        "execution": {
          "iopub.status.busy": "2021-11-30T14:44:15.735345Z",
          "iopub.execute_input": "2021-11-30T14:44:15.735572Z",
          "iopub.status.idle": "2021-11-30T14:44:18.008742Z",
          "shell.execute_reply.started": "2021-11-30T14:44:15.735541Z",
          "shell.execute_reply": "2021-11-30T14:44:18.0079Z"
        },
        "trusted": true,
        "colab": {
          "base_uri": "https://localhost:8080/",
          "height": 594
        },
        "id": "Ji_BhbLtDjDi",
        "outputId": "c89bde16-6f32-4bbe-8765-c7ffab8c074e"
      },
      "source": [
        "# Plotting box plots of revenue for different time periods. Non-zero values are used for these plots.\n",
        "fig, ((ax, ax1, ax2), (ax3, ax4, ax5)) = plt.subplots(2, 3, figsize=(22, 10))\n",
        "plt.suptitle('Transaction Revenue by Time', fontsize=20)\n",
        "sns.boxplot(x=plot_df['_visitHour'], y=plot_df['totals_transactionRevenue'], ax=ax).set_title('Hour')\n",
        "sns.boxplot(x=plot_df['_weekday'], y=plot_df['totals_transactionRevenue'], ax=ax1).set_title('Day of the Week')\n",
        "sns.boxplot(x=plot_df['_day'], y=plot_df['totals_transactionRevenue'], ax=ax2).set_title('Day of the Month')\n",
        "sns.boxplot(x=plot_df['_month'], y=plot_df['totals_transactionRevenue'], ax=ax3).set_title('Month')\n",
        "sns.boxplot(x=plot_df['_year'], y=plot_df['totals_transactionRevenue'], ax=ax4).set_title('Year')\n",
        "fig.delaxes(ax=ax5)  # This line will delete the last empty plot. Use if number of axes doesn't match the subplots"
      ],
      "execution_count": 36,
      "outputs": [
        {
          "output_type": "display_data",
          "data": {
            "image/png": "[encoded data removed]",
            "text/plain": [
              "<Figure size 1584x720 with 5 Axes>"
            ]
          },
          "metadata": {
            "needs_background": "light"
          }
        }
      ]
    },
    {
      "cell_type": "markdown",
      "metadata": {
        "id": "YcvWAkffDjDi"
      },
      "source": [
        "The spread in Transaction Revenues is consistent in all time periods with slight differences in skew."
      ]
    },
    {
      "cell_type": "markdown",
      "metadata": {
        "id": "9IEEdLqzDjDi"
      },
      "source": [
        "#### 3.3: Device Attributes"
      ]
    },
    {
      "cell_type": "code",
      "metadata": {
        "execution": {
          "iopub.status.busy": "2021-11-30T14:44:18.010327Z",
          "iopub.execute_input": "2021-11-30T14:44:18.010839Z",
          "iopub.status.idle": "2021-11-30T14:44:22.742701Z",
          "shell.execute_reply.started": "2021-11-30T14:44:18.010797Z",
          "shell.execute_reply": "2021-11-30T14:44:22.741787Z"
        },
        "trusted": true,
        "colab": {
          "base_uri": "https://localhost:8080/",
          "height": 325
        },
        "id": "MNYdkrXMDjDi",
        "outputId": "9aae2bb3-9954-4191-bf5c-16af907c8e97"
      },
      "source": [
        "fig, (ax, ax1, ax2) = plt.subplots(1, 3, figsize=(22, 5))\n",
        "plt.suptitle('Device Access Value Counts', fontsize=20)\n",
        "sns.countplot(y=train['device_browser'], order=train['device_browser'].value_counts().iloc[:8].index, ax=ax).set_title('Browser')\n",
        "sns.countplot(y=train['device_operatingSystem'], order=train['device_operatingSystem'].value_counts().iloc[:8].index, ax=ax1).set_title('Operating System')\n",
        "sns.countplot(y=train['device_deviceCategory'], order=train['device_deviceCategory'].value_counts().index, ax=ax2).set_title('Device')"
      ],
      "execution_count": 37,
      "outputs": [
        {
          "output_type": "execute_result",
          "data": {
            "text/plain": [
              "Text(0.5, 1.0, 'Device')"
            ]
          },
          "metadata": {},
          "execution_count": 37
        },
        {
          "output_type": "display_data",
          "data": {
            "image/png": "[encoded data removed]",
            "text/plain": [
              "<Figure size 1584x360 with 3 Axes>"
            ]
          },
          "metadata": {
            "needs_background": "light"
          }
        }
      ]
    },
    {
      "cell_type": "markdown",
      "metadata": {
        "id": "TB5ZVMg_DjDj"
      },
      "source": [
        "Chrome, as the most popular internet browser, also account for the highest number of visits for the GStore.  \n",
        "Desktops account for a much higher number of visits. This is also seen when comparing operating systems."
      ]
    },
    {
      "cell_type": "code",
      "metadata": {
        "execution": {
          "iopub.status.busy": "2021-11-30T14:44:22.743947Z",
          "iopub.execute_input": "2021-11-30T14:44:22.744215Z",
          "iopub.status.idle": "2021-11-30T14:44:33.193461Z",
          "shell.execute_reply.started": "2021-11-30T14:44:22.744184Z",
          "shell.execute_reply": "2021-11-30T14:44:33.192424Z"
        },
        "trusted": true,
        "colab": {
          "base_uri": "https://localhost:8080/",
          "height": 298
        },
        "id": "VRFoB5LLDjDj",
        "outputId": "267748c2-2ecd-4174-f150-169839d126c7"
      },
      "source": [
        "# Plotting mean transaction revenue\n",
        "fig, ax = plt.subplots()\n",
        "sns.barplot(data=train, y='device_deviceCategory', x=np.log1p(train['totals_transactionRevenue'].values), ax=ax).set_title('Mean Transaction Revenue by Device')"
      ],
      "execution_count": 38,
      "outputs": [
        {
          "output_type": "execute_result",
          "data": {
            "text/plain": [
              "Text(0.5, 1.0, 'Mean Transaction Revenue by Device')"
            ]
          },
          "metadata": {},
          "execution_count": 38
        },
        {
          "output_type": "display_data",
          "data": {
            "image/png": "[encoded data removed]",
            "text/plain": [
              "<Figure size 432x288 with 1 Axes>"
            ]
          },
          "metadata": {
            "needs_background": "light"
          }
        }
      ]
    },
    {
      "cell_type": "markdown",
      "metadata": {
        "id": "0DRpmJJ-DjDj"
      },
      "source": [
        "Tablets have a higher mean transaction revenue despite having fewer visits."
      ]
    },
    {
      "cell_type": "markdown",
      "metadata": {
        "id": "T-Vqq94XDjDj"
      },
      "source": [
        "#### 3.4: Geographic Attributes"
      ]
    },
    {
      "cell_type": "code",
      "metadata": {
        "execution": {
          "iopub.status.busy": "2021-11-30T14:44:33.194771Z",
          "iopub.execute_input": "2021-11-30T14:44:33.195028Z",
          "iopub.status.idle": "2021-11-30T14:44:33.990724Z",
          "shell.execute_reply.started": "2021-11-30T14:44:33.194978Z",
          "shell.execute_reply": "2021-11-30T14:44:33.989773Z"
        },
        "trusted": true,
        "colab": {
          "base_uri": "https://localhost:8080/",
          "height": 334
        },
        "id": "Q8U2WCF4DjDj",
        "outputId": "8e5f7e24-e069-48de-88a8-d40823498b77"
      },
      "source": [
        "fig, (ax, ax1, ax2) = plt.subplots(1, 3, figsize=(22, 5))\n",
        "plt.suptitle('Region Value Counts', fontsize=20)\n",
        "sns.countplot(y=plot_df['geoNetwork_continent'], order=plot_df['geoNetwork_continent'].value_counts().index, ax=ax).set_title('Continent')\n",
        "sns.countplot(y=plot_df['geoNetwork_country'], order=plot_df['geoNetwork_country'].value_counts().iloc[:5].index, ax=ax1).set_title('Country')\n",
        "sns.countplot(y=plot_df['geoNetwork_city'], order=plot_df['geoNetwork_city'].value_counts().iloc[1:14].index, ax=ax2).set_title('City')"
      ],
      "execution_count": 39,
      "outputs": [
        {
          "output_type": "execute_result",
          "data": {
            "text/plain": [
              "Text(0.5, 1.0, 'City')"
            ]
          },
          "metadata": {},
          "execution_count": 39
        },
        {
          "output_type": "display_data",
          "data": {
            "image/png": "[encoded data removed]",
            "text/plain": [
              "<Figure size 1584x360 with 3 Axes>"
            ]
          },
          "metadata": {
            "needs_background": "light"
          }
        }
      ]
    },
    {
      "cell_type": "markdown",
      "metadata": {
        "id": "zCVUnJ1ZDjDj"
      },
      "source": [
        "The Americas make up most of the visits to the store. Considering the ease of shipping within the United States, this makes sense, as can be seen from the Country graph.  \n",
        "The cities that have the most visits are all large, densely populated cities."
      ]
    },
    {
      "cell_type": "code",
      "metadata": {
        "execution": {
          "iopub.status.busy": "2021-11-30T14:44:33.992134Z",
          "iopub.execute_input": "2021-11-30T14:44:33.992445Z",
          "iopub.status.idle": "2021-11-30T14:44:43.010625Z",
          "shell.execute_reply.started": "2021-11-30T14:44:33.992404Z",
          "shell.execute_reply": "2021-11-30T14:44:43.009854Z"
        },
        "trusted": true,
        "colab": {
          "base_uri": "https://localhost:8080/",
          "height": 298
        },
        "id": "jtWEaedSDjDj",
        "outputId": "9fb2bc7b-109d-463b-f78d-6b24cd7bce18"
      },
      "source": [
        "# We will only use the continent in this section as the other have too much information and sorting takes too much computing power\n",
        "fig, ax = plt.subplots()\n",
        "sns.barplot(data=train, y='geoNetwork_continent', x=np.log1p(train['totals_transactionRevenue'].values),order=train['geoNetwork_continent'].value_counts().index,\n",
        "            ax=ax).set_title('Mean Transaction Revenue by Continent')"
      ],
      "execution_count": 40,
      "outputs": [
        {
          "output_type": "execute_result",
          "data": {
            "text/plain": [
              "Text(0.5, 1.0, 'Mean Transaction Revenue by Continent')"
            ]
          },
          "metadata": {},
          "execution_count": 40
        },
        {
          "output_type": "display_data",
          "data": {
            "image/png": "[encoded data removed]",
            "text/plain": [
              "<Figure size 432x288 with 1 Axes>"
            ]
          },
          "metadata": {
            "needs_background": "light"
          }
        }
      ]
    },
    {
      "cell_type": "markdown",
      "metadata": {
        "id": "nVcCsegaDjDk"
      },
      "source": [
        "The Mean Transaction Revenue by Continent follows the same patter as the number of visits."
      ]
    },
    {
      "cell_type": "markdown",
      "metadata": {
        "id": "Z25dp-tXDjDk"
      },
      "source": [
        "## 4: Train Models"
      ]
    },
    {
      "cell_type": "markdown",
      "metadata": {
        "id": "4toDbCLdDjDk"
      },
      "source": [
        "### Models Used\n",
        "- #### Ordinary Least Squares (sklearn LinearRegression)\n",
        " - LinearRegression fits a linear model with coefficients w = (w1, …, wp) to minimize the residual sum of squares between the observed targets in the dataset, and the targets predicted by the linear approximation.\n",
        "- #### Linear Support Vector Regression\n",
        " - SVR tries to find the best fit line. In SVR, the best fit line is the hyperplane that has the maximum number of points. SVR is slow and doesn't scale well to datasets with more than 10,000 samples so Linear SVR is used.\n",
        "- #### Decision Tree Regression\n",
        " - Decision tree builds regression or classification models in the form of a tree structure. It breaks down a dataset into smaller and smaller subsets while at the same time an associated decision tree is incrementally developed. The final result is a tree with decision nodes and leaf nodes.\n",
        "- #### Gradient Boosting Regression\n",
        " - Gradient Boosting Regression starts with a leaf that is the average of the target and creates trees to make predictions. Each tree is based on the error of the previous tree, and scales the tree to avoid overfitting.\n",
        "- #### K-Neighbors Regression\n",
        " - K-Neighbors uses feature similarity to make predictions.\n",
        "- #### Ridge Regression\n",
        " - Ridge Regression is a variant of Ordinary Least Squares that shrinks the parameters and reduces variances, helping to deal with data that has multicollinearity. "
      ]
    },
    {
      "cell_type": "code",
      "metadata": {
        "execution": {
          "iopub.status.busy": "2021-11-30T14:44:43.011947Z",
          "iopub.execute_input": "2021-11-30T14:44:43.012257Z",
          "iopub.status.idle": "2021-11-30T14:44:43.379935Z",
          "shell.execute_reply.started": "2021-11-30T14:44:43.012216Z",
          "shell.execute_reply": "2021-11-30T14:44:43.379047Z"
        },
        "trusted": true,
        "id": "cpSC40LzDjDk"
      },
      "source": [
        "from sklearn.model_selection import train_test_split\n",
        "from sklearn.tree import DecisionTreeRegressor\n",
        "from sklearn.linear_model import Ridge\n",
        "from sklearn.svm import LinearSVR\n",
        "from sklearn.neighbors import KNeighborsRegressor\n",
        "from sklearn.ensemble import GradientBoostingRegressor\n",
        "from sklearn.linear_model import LinearRegression\n",
        "from sklearn.pipeline import make_pipeline\n",
        "from sklearn.preprocessing import StandardScaler\n",
        "from sklearn.preprocessing import OrdinalEncoder\n",
        "from sklearn.feature_selection import RFECV"
      ],
      "execution_count": 41,
      "outputs": []
    },
    {
      "cell_type": "code",
      "metadata": {
        "execution": {
          "iopub.status.busy": "2021-11-30T16:04:53.754963Z",
          "iopub.execute_input": "2021-11-30T16:04:53.755272Z",
          "iopub.status.idle": "2021-11-30T16:04:56.43384Z",
          "shell.execute_reply.started": "2021-11-30T16:04:53.755238Z",
          "shell.execute_reply": "2021-11-30T16:04:56.432955Z"
        },
        "trusted": true,
        "id": "pW0JFm5XDjDk"
      },
      "source": [
        "# train/test set\n",
        "X_train, X_test, y_train, y_test = train_test_split(X, y, test_size = 0.2, random_state = 0)"
      ],
      "execution_count": 42,
      "outputs": []
    },
    {
      "cell_type": "code",
      "metadata": {
        "execution": {
          "iopub.status.busy": "2021-11-30T14:44:46.052251Z",
          "iopub.execute_input": "2021-11-30T14:44:46.052476Z",
          "iopub.status.idle": "2021-11-30T14:44:46.061222Z",
          "shell.execute_reply.started": "2021-11-30T14:44:46.052447Z",
          "shell.execute_reply": "2021-11-30T14:44:46.060446Z"
        },
        "trusted": true,
        "id": "67a3YjFuDjDk"
      },
      "source": [
        "def evaluation(model, X_train, X_test, y_train, y_test):\n",
        "    from sklearn.metrics import mean_squared_error\n",
        "    from sklearn.model_selection import learning_curve\n",
        "    \n",
        "    print('\\n ----- RMSE Evaluation : \\n')\n",
        "\n",
        "    y_test = np.log1p(y_test)\n",
        "    y_train = np.log1p(y_train)\n",
        "\n",
        "    model.fit(X_train, y_train)\n",
        "\n",
        "    y_predict_test = model.predict(X_test)\n",
        "    y_predict_train = model.predict(X_train)\n",
        "\n",
        "    train_score = mean_squared_error(y_train, y_predict_train, squared=False)\n",
        "    print('train score =', train_score)\n",
        "\n",
        "    test_score = mean_squared_error(y_test, y_predict_test, squared=False)\n",
        "    print('test score =', test_score)\n",
        "\n",
        "    '''\n",
        "    learning curve visualisation\n",
        "    '''\n",
        "    \n",
        "    N, train_score, val_score = learning_curve(model, X_train, y_train, train_sizes = np.linspace(0.1, 1.0, 10), cv=4, scoring='neg_root_mean_squared_error')\n",
        "\n",
        "#     print(N)\n",
        "#     plt.plot(N,train_score.mean(axis=1), label='train')\n",
        "#     plt.plot(N,val_score.mean(axis=1), label='validation')\n",
        "#     plt.xlabel('train_sizes')\n",
        "#     plt.legend()\n",
        "#     plt.show()\n",
        "\n",
        "    print('-----End Evaluation-----\\n')"
      ],
      "execution_count": 43,
      "outputs": []
    },
    {
      "cell_type": "code",
      "metadata": {
        "execution": {
          "iopub.status.busy": "2021-11-30T14:44:46.062449Z",
          "iopub.execute_input": "2021-11-30T14:44:46.062669Z",
          "iopub.status.idle": "2021-11-30T15:41:01.767856Z",
          "shell.execute_reply.started": "2021-11-30T14:44:46.06264Z",
          "shell.execute_reply": "2021-11-30T15:41:01.766233Z"
        },
        "trusted": true,
        "colab": {
          "base_uri": "https://localhost:8080/",
          "height": 438
        },
        "id": "vJ39cBP6DjDl",
        "outputId": "f4699695-2345-4748-d61c-ca54a90d4a17"
      },
      "source": [
        "# Fit the data to the ordinal encoder\n",
        "X_copy = X_train\n",
        "X_copy_test = X_test\n",
        "encoder = OrdinalEncoder()\n",
        "encoder.fit(X)\n",
        "\n",
        "X_train = encoder.transform(X_train)\n",
        "X_test = encoder.transform(X_test)\n",
        "\n",
        "# Prepare to fit all the models\n",
        "preprocessor = make_pipeline(StandardScaler())\n",
        "DTR = make_pipeline(preprocessor, DecisionTreeRegressor(random_state = 0))\n",
        "SVR = make_pipeline(preprocessor, LinearSVR(random_state = 0))\n",
        "OLS = make_pipeline(preprocessor, LinearRegression())\n",
        "BOOST = make_pipeline(preprocessor, GradientBoostingRegressor(random_state = 0))\n",
        "# NKR = make_pipeline(preprocessor, KNeighborsRegressor(n_jobs = -1))\n",
        "# Ridge_algo = make_pipeline(preprocessor, Ridge(random_state = 0, alpha=.5))  \n",
        "\n",
        "# dict_of_models = {'SVR':SVR,\n",
        "#                   'OLS': OLS,\n",
        "#                   'DTR':DTR,\n",
        "#                   'BOOST':BOOST}\n",
        "dict_of_models = {'BOOST':BOOST}\n",
        "\n",
        "# Fit all the models 1 by 1\n",
        "for name, model in dict_of_models.items():\n",
        "    print('Evaluation of -----',name)\n",
        "    evaluation(model, X_train, X_test, y_train, y_test)"
      ],
      "execution_count": 44,
      "outputs": [
        {
          "output_type": "stream",
          "name": "stdout",
          "text": [
            "Evaluation of ----- BOOST\n",
            "\n",
            " ----- RMSE Evaluation : \n",
            "\n",
            "train score = 1.6546486636816253\n",
            "test score = 1.653435712340953\n"
          ]
        },
        {
          "output_type": "error",
          "ename": "KeyboardInterrupt",
          "evalue": "ignored",
          "traceback": [
            "\u001b[0;31m---------------------------------------------------------------------------\u001b[0m",
            "\u001b[0;31mKeyboardInterrupt\u001b[0m                         Traceback (most recent call last)",
            "\u001b[0;32m<ipython-input-44-feac964678dc>\u001b[0m in \u001b[0;36m<module>\u001b[0;34m()\u001b[0m\n\u001b[1;32m     26\u001b[0m \u001b[0;32mfor\u001b[0m \u001b[0mname\u001b[0m\u001b[0;34m,\u001b[0m \u001b[0mmodel\u001b[0m \u001b[0;32min\u001b[0m \u001b[0mdict_of_models\u001b[0m\u001b[0;34m.\u001b[0m\u001b[0mitems\u001b[0m\u001b[0;34m(\u001b[0m\u001b[0;34m)\u001b[0m\u001b[0;34m:\u001b[0m\u001b[0;34m\u001b[0m\u001b[0;34m\u001b[0m\u001b[0m\n\u001b[1;32m     27\u001b[0m     \u001b[0mprint\u001b[0m\u001b[0;34m(\u001b[0m\u001b[0;34m'Evaluation of -----'\u001b[0m\u001b[0;34m,\u001b[0m\u001b[0mname\u001b[0m\u001b[0;34m)\u001b[0m\u001b[0;34m\u001b[0m\u001b[0;34m\u001b[0m\u001b[0m\n\u001b[0;32m---> 28\u001b[0;31m     \u001b[0mevaluation\u001b[0m\u001b[0;34m(\u001b[0m\u001b[0mmodel\u001b[0m\u001b[0;34m,\u001b[0m \u001b[0mX_train\u001b[0m\u001b[0;34m,\u001b[0m \u001b[0mX_test\u001b[0m\u001b[0;34m,\u001b[0m \u001b[0my_train\u001b[0m\u001b[0;34m,\u001b[0m \u001b[0my_test\u001b[0m\u001b[0;34m)\u001b[0m\u001b[0;34m\u001b[0m\u001b[0;34m\u001b[0m\u001b[0m\n\u001b[0m",
            "\u001b[0;32m<ipython-input-43-01675550b596>\u001b[0m in \u001b[0;36mevaluation\u001b[0;34m(model, X_train, X_test, y_train, y_test)\u001b[0m\n\u001b[1;32m     23\u001b[0m     '''\n\u001b[1;32m     24\u001b[0m \u001b[0;34m\u001b[0m\u001b[0m\n\u001b[0;32m---> 25\u001b[0;31m     \u001b[0mN\u001b[0m\u001b[0;34m,\u001b[0m \u001b[0mtrain_score\u001b[0m\u001b[0;34m,\u001b[0m \u001b[0mval_score\u001b[0m \u001b[0;34m=\u001b[0m \u001b[0mlearning_curve\u001b[0m\u001b[0;34m(\u001b[0m\u001b[0mmodel\u001b[0m\u001b[0;34m,\u001b[0m \u001b[0mX_train\u001b[0m\u001b[0;34m,\u001b[0m \u001b[0my_train\u001b[0m\u001b[0;34m,\u001b[0m \u001b[0mtrain_sizes\u001b[0m \u001b[0;34m=\u001b[0m \u001b[0mnp\u001b[0m\u001b[0;34m.\u001b[0m\u001b[0mlinspace\u001b[0m\u001b[0;34m(\u001b[0m\u001b[0;36m0.1\u001b[0m\u001b[0;34m,\u001b[0m \u001b[0;36m1.0\u001b[0m\u001b[0;34m,\u001b[0m \u001b[0;36m10\u001b[0m\u001b[0;34m)\u001b[0m\u001b[0;34m,\u001b[0m \u001b[0mcv\u001b[0m\u001b[0;34m=\u001b[0m\u001b[0;36m4\u001b[0m\u001b[0;34m,\u001b[0m \u001b[0mscoring\u001b[0m\u001b[0;34m=\u001b[0m\u001b[0;34m'neg_root_mean_squared_error'\u001b[0m\u001b[0;34m)\u001b[0m\u001b[0;34m\u001b[0m\u001b[0;34m\u001b[0m\u001b[0m\n\u001b[0m\u001b[1;32m     26\u001b[0m \u001b[0;34m\u001b[0m\u001b[0m\n\u001b[1;32m     27\u001b[0m \u001b[0;31m#     print(N)\u001b[0m\u001b[0;34m\u001b[0m\u001b[0;34m\u001b[0m\u001b[0;34m\u001b[0m\u001b[0m\n",
            "\u001b[0;32m/usr/local/lib/python3.7/dist-packages/sklearn/model_selection/_validation.py\u001b[0m in \u001b[0;36mlearning_curve\u001b[0;34m(estimator, X, y, groups, train_sizes, cv, scoring, exploit_incremental_learning, n_jobs, pre_dispatch, verbose, shuffle, random_state, error_score, return_times, fit_params)\u001b[0m\n\u001b[1;32m   1567\u001b[0m                 \u001b[0mreturn_times\u001b[0m\u001b[0;34m=\u001b[0m\u001b[0mreturn_times\u001b[0m\u001b[0;34m,\u001b[0m\u001b[0;34m\u001b[0m\u001b[0;34m\u001b[0m\u001b[0m\n\u001b[1;32m   1568\u001b[0m             )\n\u001b[0;32m-> 1569\u001b[0;31m             \u001b[0;32mfor\u001b[0m \u001b[0mtrain\u001b[0m\u001b[0;34m,\u001b[0m \u001b[0mtest\u001b[0m \u001b[0;32min\u001b[0m \u001b[0mtrain_test_proportions\u001b[0m\u001b[0;34m\u001b[0m\u001b[0;34m\u001b[0m\u001b[0m\n\u001b[0m\u001b[1;32m   1570\u001b[0m         )\n\u001b[1;32m   1571\u001b[0m         \u001b[0mresults\u001b[0m \u001b[0;34m=\u001b[0m \u001b[0m_aggregate_score_dicts\u001b[0m\u001b[0;34m(\u001b[0m\u001b[0mresults\u001b[0m\u001b[0;34m)\u001b[0m\u001b[0;34m\u001b[0m\u001b[0;34m\u001b[0m\u001b[0m\n",
            "\u001b[0;32m/usr/local/lib/python3.7/dist-packages/joblib/parallel.py\u001b[0m in \u001b[0;36m__call__\u001b[0;34m(self, iterable)\u001b[0m\n\u001b[1;32m   1044\u001b[0m                 \u001b[0mself\u001b[0m\u001b[0;34m.\u001b[0m\u001b[0m_iterating\u001b[0m \u001b[0;34m=\u001b[0m \u001b[0mself\u001b[0m\u001b[0;34m.\u001b[0m\u001b[0m_original_iterator\u001b[0m \u001b[0;32mis\u001b[0m \u001b[0;32mnot\u001b[0m \u001b[0;32mNone\u001b[0m\u001b[0;34m\u001b[0m\u001b[0;34m\u001b[0m\u001b[0m\n\u001b[1;32m   1045\u001b[0m \u001b[0;34m\u001b[0m\u001b[0m\n\u001b[0;32m-> 1046\u001b[0;31m             \u001b[0;32mwhile\u001b[0m \u001b[0mself\u001b[0m\u001b[0;34m.\u001b[0m\u001b[0mdispatch_one_batch\u001b[0m\u001b[0;34m(\u001b[0m\u001b[0miterator\u001b[0m\u001b[0;34m)\u001b[0m\u001b[0;34m:\u001b[0m\u001b[0;34m\u001b[0m\u001b[0;34m\u001b[0m\u001b[0m\n\u001b[0m\u001b[1;32m   1047\u001b[0m                 \u001b[0;32mpass\u001b[0m\u001b[0;34m\u001b[0m\u001b[0;34m\u001b[0m\u001b[0m\n\u001b[1;32m   1048\u001b[0m \u001b[0;34m\u001b[0m\u001b[0m\n",
            "\u001b[0;32m/usr/local/lib/python3.7/dist-packages/joblib/parallel.py\u001b[0m in \u001b[0;36mdispatch_one_batch\u001b[0;34m(self, iterator)\u001b[0m\n\u001b[1;32m    859\u001b[0m                 \u001b[0;32mreturn\u001b[0m \u001b[0;32mFalse\u001b[0m\u001b[0;34m\u001b[0m\u001b[0;34m\u001b[0m\u001b[0m\n\u001b[1;32m    860\u001b[0m             \u001b[0;32melse\u001b[0m\u001b[0;34m:\u001b[0m\u001b[0;34m\u001b[0m\u001b[0;34m\u001b[0m\u001b[0m\n\u001b[0;32m--> 861\u001b[0;31m                 \u001b[0mself\u001b[0m\u001b[0;34m.\u001b[0m\u001b[0m_dispatch\u001b[0m\u001b[0;34m(\u001b[0m\u001b[0mtasks\u001b[0m\u001b[0;34m)\u001b[0m\u001b[0;34m\u001b[0m\u001b[0;34m\u001b[0m\u001b[0m\n\u001b[0m\u001b[1;32m    862\u001b[0m                 \u001b[0;32mreturn\u001b[0m \u001b[0;32mTrue\u001b[0m\u001b[0;34m\u001b[0m\u001b[0;34m\u001b[0m\u001b[0m\n\u001b[1;32m    863\u001b[0m \u001b[0;34m\u001b[0m\u001b[0m\n",
            "\u001b[0;32m/usr/local/lib/python3.7/dist-packages/joblib/parallel.py\u001b[0m in \u001b[0;36m_dispatch\u001b[0;34m(self, batch)\u001b[0m\n\u001b[1;32m    777\u001b[0m         \u001b[0;32mwith\u001b[0m \u001b[0mself\u001b[0m\u001b[0;34m.\u001b[0m\u001b[0m_lock\u001b[0m\u001b[0;34m:\u001b[0m\u001b[0;34m\u001b[0m\u001b[0;34m\u001b[0m\u001b[0m\n\u001b[1;32m    778\u001b[0m             \u001b[0mjob_idx\u001b[0m \u001b[0;34m=\u001b[0m \u001b[0mlen\u001b[0m\u001b[0;34m(\u001b[0m\u001b[0mself\u001b[0m\u001b[0;34m.\u001b[0m\u001b[0m_jobs\u001b[0m\u001b[0;34m)\u001b[0m\u001b[0;34m\u001b[0m\u001b[0;34m\u001b[0m\u001b[0m\n\u001b[0;32m--> 779\u001b[0;31m             \u001b[0mjob\u001b[0m \u001b[0;34m=\u001b[0m \u001b[0mself\u001b[0m\u001b[0;34m.\u001b[0m\u001b[0m_backend\u001b[0m\u001b[0;34m.\u001b[0m\u001b[0mapply_async\u001b[0m\u001b[0;34m(\u001b[0m\u001b[0mbatch\u001b[0m\u001b[0;34m,\u001b[0m \u001b[0mcallback\u001b[0m\u001b[0;34m=\u001b[0m\u001b[0mcb\u001b[0m\u001b[0;34m)\u001b[0m\u001b[0;34m\u001b[0m\u001b[0;34m\u001b[0m\u001b[0m\n\u001b[0m\u001b[1;32m    780\u001b[0m             \u001b[0;31m# A job can complete so quickly than its callback is\u001b[0m\u001b[0;34m\u001b[0m\u001b[0;34m\u001b[0m\u001b[0;34m\u001b[0m\u001b[0m\n\u001b[1;32m    781\u001b[0m             \u001b[0;31m# called before we get here, causing self._jobs to\u001b[0m\u001b[0;34m\u001b[0m\u001b[0;34m\u001b[0m\u001b[0;34m\u001b[0m\u001b[0m\n",
            "\u001b[0;32m/usr/local/lib/python3.7/dist-packages/joblib/_parallel_backends.py\u001b[0m in \u001b[0;36mapply_async\u001b[0;34m(self, func, callback)\u001b[0m\n\u001b[1;32m    206\u001b[0m     \u001b[0;32mdef\u001b[0m \u001b[0mapply_async\u001b[0m\u001b[0;34m(\u001b[0m\u001b[0mself\u001b[0m\u001b[0;34m,\u001b[0m \u001b[0mfunc\u001b[0m\u001b[0;34m,\u001b[0m \u001b[0mcallback\u001b[0m\u001b[0;34m=\u001b[0m\u001b[0;32mNone\u001b[0m\u001b[0;34m)\u001b[0m\u001b[0;34m:\u001b[0m\u001b[0;34m\u001b[0m\u001b[0;34m\u001b[0m\u001b[0m\n\u001b[1;32m    207\u001b[0m         \u001b[0;34m\"\"\"Schedule a func to be run\"\"\"\u001b[0m\u001b[0;34m\u001b[0m\u001b[0;34m\u001b[0m\u001b[0m\n\u001b[0;32m--> 208\u001b[0;31m         \u001b[0mresult\u001b[0m \u001b[0;34m=\u001b[0m \u001b[0mImmediateResult\u001b[0m\u001b[0;34m(\u001b[0m\u001b[0mfunc\u001b[0m\u001b[0;34m)\u001b[0m\u001b[0;34m\u001b[0m\u001b[0;34m\u001b[0m\u001b[0m\n\u001b[0m\u001b[1;32m    209\u001b[0m         \u001b[0;32mif\u001b[0m \u001b[0mcallback\u001b[0m\u001b[0;34m:\u001b[0m\u001b[0;34m\u001b[0m\u001b[0;34m\u001b[0m\u001b[0m\n\u001b[1;32m    210\u001b[0m             \u001b[0mcallback\u001b[0m\u001b[0;34m(\u001b[0m\u001b[0mresult\u001b[0m\u001b[0;34m)\u001b[0m\u001b[0;34m\u001b[0m\u001b[0;34m\u001b[0m\u001b[0m\n",
            "\u001b[0;32m/usr/local/lib/python3.7/dist-packages/joblib/_parallel_backends.py\u001b[0m in \u001b[0;36m__init__\u001b[0;34m(self, batch)\u001b[0m\n\u001b[1;32m    570\u001b[0m         \u001b[0;31m# Don't delay the application, to avoid keeping the input\u001b[0m\u001b[0;34m\u001b[0m\u001b[0;34m\u001b[0m\u001b[0;34m\u001b[0m\u001b[0m\n\u001b[1;32m    571\u001b[0m         \u001b[0;31m# arguments in memory\u001b[0m\u001b[0;34m\u001b[0m\u001b[0;34m\u001b[0m\u001b[0;34m\u001b[0m\u001b[0m\n\u001b[0;32m--> 572\u001b[0;31m         \u001b[0mself\u001b[0m\u001b[0;34m.\u001b[0m\u001b[0mresults\u001b[0m \u001b[0;34m=\u001b[0m \u001b[0mbatch\u001b[0m\u001b[0;34m(\u001b[0m\u001b[0;34m)\u001b[0m\u001b[0;34m\u001b[0m\u001b[0;34m\u001b[0m\u001b[0m\n\u001b[0m\u001b[1;32m    573\u001b[0m \u001b[0;34m\u001b[0m\u001b[0m\n\u001b[1;32m    574\u001b[0m     \u001b[0;32mdef\u001b[0m \u001b[0mget\u001b[0m\u001b[0;34m(\u001b[0m\u001b[0mself\u001b[0m\u001b[0;34m)\u001b[0m\u001b[0;34m:\u001b[0m\u001b[0;34m\u001b[0m\u001b[0;34m\u001b[0m\u001b[0m\n",
            "\u001b[0;32m/usr/local/lib/python3.7/dist-packages/joblib/parallel.py\u001b[0m in \u001b[0;36m__call__\u001b[0;34m(self)\u001b[0m\n\u001b[1;32m    261\u001b[0m         \u001b[0;32mwith\u001b[0m \u001b[0mparallel_backend\u001b[0m\u001b[0;34m(\u001b[0m\u001b[0mself\u001b[0m\u001b[0;34m.\u001b[0m\u001b[0m_backend\u001b[0m\u001b[0;34m,\u001b[0m \u001b[0mn_jobs\u001b[0m\u001b[0;34m=\u001b[0m\u001b[0mself\u001b[0m\u001b[0;34m.\u001b[0m\u001b[0m_n_jobs\u001b[0m\u001b[0;34m)\u001b[0m\u001b[0;34m:\u001b[0m\u001b[0;34m\u001b[0m\u001b[0;34m\u001b[0m\u001b[0m\n\u001b[1;32m    262\u001b[0m             return [func(*args, **kwargs)\n\u001b[0;32m--> 263\u001b[0;31m                     for func, args, kwargs in self.items]\n\u001b[0m\u001b[1;32m    264\u001b[0m \u001b[0;34m\u001b[0m\u001b[0m\n\u001b[1;32m    265\u001b[0m     \u001b[0;32mdef\u001b[0m \u001b[0m__reduce__\u001b[0m\u001b[0;34m(\u001b[0m\u001b[0mself\u001b[0m\u001b[0;34m)\u001b[0m\u001b[0;34m:\u001b[0m\u001b[0;34m\u001b[0m\u001b[0;34m\u001b[0m\u001b[0m\n",
            "\u001b[0;32m/usr/local/lib/python3.7/dist-packages/joblib/parallel.py\u001b[0m in \u001b[0;36m<listcomp>\u001b[0;34m(.0)\u001b[0m\n\u001b[1;32m    261\u001b[0m         \u001b[0;32mwith\u001b[0m \u001b[0mparallel_backend\u001b[0m\u001b[0;34m(\u001b[0m\u001b[0mself\u001b[0m\u001b[0;34m.\u001b[0m\u001b[0m_backend\u001b[0m\u001b[0;34m,\u001b[0m \u001b[0mn_jobs\u001b[0m\u001b[0;34m=\u001b[0m\u001b[0mself\u001b[0m\u001b[0;34m.\u001b[0m\u001b[0m_n_jobs\u001b[0m\u001b[0;34m)\u001b[0m\u001b[0;34m:\u001b[0m\u001b[0;34m\u001b[0m\u001b[0;34m\u001b[0m\u001b[0m\n\u001b[1;32m    262\u001b[0m             return [func(*args, **kwargs)\n\u001b[0;32m--> 263\u001b[0;31m                     for func, args, kwargs in self.items]\n\u001b[0m\u001b[1;32m    264\u001b[0m \u001b[0;34m\u001b[0m\u001b[0m\n\u001b[1;32m    265\u001b[0m     \u001b[0;32mdef\u001b[0m \u001b[0m__reduce__\u001b[0m\u001b[0;34m(\u001b[0m\u001b[0mself\u001b[0m\u001b[0;34m)\u001b[0m\u001b[0;34m:\u001b[0m\u001b[0;34m\u001b[0m\u001b[0;34m\u001b[0m\u001b[0m\n",
            "\u001b[0;32m/usr/local/lib/python3.7/dist-packages/sklearn/utils/fixes.py\u001b[0m in \u001b[0;36m__call__\u001b[0;34m(self, *args, **kwargs)\u001b[0m\n\u001b[1;32m    209\u001b[0m     \u001b[0;32mdef\u001b[0m \u001b[0m__call__\u001b[0m\u001b[0;34m(\u001b[0m\u001b[0mself\u001b[0m\u001b[0;34m,\u001b[0m \u001b[0;34m*\u001b[0m\u001b[0margs\u001b[0m\u001b[0;34m,\u001b[0m \u001b[0;34m**\u001b[0m\u001b[0mkwargs\u001b[0m\u001b[0;34m)\u001b[0m\u001b[0;34m:\u001b[0m\u001b[0;34m\u001b[0m\u001b[0;34m\u001b[0m\u001b[0m\n\u001b[1;32m    210\u001b[0m         \u001b[0;32mwith\u001b[0m \u001b[0mconfig_context\u001b[0m\u001b[0;34m(\u001b[0m\u001b[0;34m**\u001b[0m\u001b[0mself\u001b[0m\u001b[0;34m.\u001b[0m\u001b[0mconfig\u001b[0m\u001b[0;34m)\u001b[0m\u001b[0;34m:\u001b[0m\u001b[0;34m\u001b[0m\u001b[0;34m\u001b[0m\u001b[0m\n\u001b[0;32m--> 211\u001b[0;31m             \u001b[0;32mreturn\u001b[0m \u001b[0mself\u001b[0m\u001b[0;34m.\u001b[0m\u001b[0mfunction\u001b[0m\u001b[0;34m(\u001b[0m\u001b[0;34m*\u001b[0m\u001b[0margs\u001b[0m\u001b[0;34m,\u001b[0m \u001b[0;34m**\u001b[0m\u001b[0mkwargs\u001b[0m\u001b[0;34m)\u001b[0m\u001b[0;34m\u001b[0m\u001b[0;34m\u001b[0m\u001b[0m\n\u001b[0m\u001b[1;32m    212\u001b[0m \u001b[0;34m\u001b[0m\u001b[0m\n\u001b[1;32m    213\u001b[0m \u001b[0;34m\u001b[0m\u001b[0m\n",
            "\u001b[0;32m/usr/local/lib/python3.7/dist-packages/sklearn/model_selection/_validation.py\u001b[0m in \u001b[0;36m_fit_and_score\u001b[0;34m(estimator, X, y, scorer, train, test, verbose, parameters, fit_params, return_train_score, return_parameters, return_n_test_samples, return_times, return_estimator, split_progress, candidate_progress, error_score)\u001b[0m\n\u001b[1;32m    679\u001b[0m             \u001b[0mestimator\u001b[0m\u001b[0;34m.\u001b[0m\u001b[0mfit\u001b[0m\u001b[0;34m(\u001b[0m\u001b[0mX_train\u001b[0m\u001b[0;34m,\u001b[0m \u001b[0;34m**\u001b[0m\u001b[0mfit_params\u001b[0m\u001b[0;34m)\u001b[0m\u001b[0;34m\u001b[0m\u001b[0;34m\u001b[0m\u001b[0m\n\u001b[1;32m    680\u001b[0m         \u001b[0;32melse\u001b[0m\u001b[0;34m:\u001b[0m\u001b[0;34m\u001b[0m\u001b[0;34m\u001b[0m\u001b[0m\n\u001b[0;32m--> 681\u001b[0;31m             \u001b[0mestimator\u001b[0m\u001b[0;34m.\u001b[0m\u001b[0mfit\u001b[0m\u001b[0;34m(\u001b[0m\u001b[0mX_train\u001b[0m\u001b[0;34m,\u001b[0m \u001b[0my_train\u001b[0m\u001b[0;34m,\u001b[0m \u001b[0;34m**\u001b[0m\u001b[0mfit_params\u001b[0m\u001b[0;34m)\u001b[0m\u001b[0;34m\u001b[0m\u001b[0;34m\u001b[0m\u001b[0m\n\u001b[0m\u001b[1;32m    682\u001b[0m \u001b[0;34m\u001b[0m\u001b[0m\n\u001b[1;32m    683\u001b[0m     \u001b[0;32mexcept\u001b[0m \u001b[0mException\u001b[0m\u001b[0;34m:\u001b[0m\u001b[0;34m\u001b[0m\u001b[0;34m\u001b[0m\u001b[0m\n",
            "\u001b[0;32m/usr/local/lib/python3.7/dist-packages/sklearn/pipeline.py\u001b[0m in \u001b[0;36mfit\u001b[0;34m(self, X, y, **fit_params)\u001b[0m\n\u001b[1;32m    392\u001b[0m             \u001b[0;32mif\u001b[0m \u001b[0mself\u001b[0m\u001b[0;34m.\u001b[0m\u001b[0m_final_estimator\u001b[0m \u001b[0;34m!=\u001b[0m \u001b[0;34m\"passthrough\"\u001b[0m\u001b[0;34m:\u001b[0m\u001b[0;34m\u001b[0m\u001b[0;34m\u001b[0m\u001b[0m\n\u001b[1;32m    393\u001b[0m                 \u001b[0mfit_params_last_step\u001b[0m \u001b[0;34m=\u001b[0m \u001b[0mfit_params_steps\u001b[0m\u001b[0;34m[\u001b[0m\u001b[0mself\u001b[0m\u001b[0;34m.\u001b[0m\u001b[0msteps\u001b[0m\u001b[0;34m[\u001b[0m\u001b[0;34m-\u001b[0m\u001b[0;36m1\u001b[0m\u001b[0;34m]\u001b[0m\u001b[0;34m[\u001b[0m\u001b[0;36m0\u001b[0m\u001b[0;34m]\u001b[0m\u001b[0;34m]\u001b[0m\u001b[0;34m\u001b[0m\u001b[0;34m\u001b[0m\u001b[0m\n\u001b[0;32m--> 394\u001b[0;31m                 \u001b[0mself\u001b[0m\u001b[0;34m.\u001b[0m\u001b[0m_final_estimator\u001b[0m\u001b[0;34m.\u001b[0m\u001b[0mfit\u001b[0m\u001b[0;34m(\u001b[0m\u001b[0mXt\u001b[0m\u001b[0;34m,\u001b[0m \u001b[0my\u001b[0m\u001b[0;34m,\u001b[0m \u001b[0;34m**\u001b[0m\u001b[0mfit_params_last_step\u001b[0m\u001b[0;34m)\u001b[0m\u001b[0;34m\u001b[0m\u001b[0;34m\u001b[0m\u001b[0m\n\u001b[0m\u001b[1;32m    395\u001b[0m \u001b[0;34m\u001b[0m\u001b[0m\n\u001b[1;32m    396\u001b[0m         \u001b[0;32mreturn\u001b[0m \u001b[0mself\u001b[0m\u001b[0;34m\u001b[0m\u001b[0;34m\u001b[0m\u001b[0m\n",
            "\u001b[0;32m/usr/local/lib/python3.7/dist-packages/sklearn/ensemble/_gb.py\u001b[0m in \u001b[0;36mfit\u001b[0;34m(self, X, y, sample_weight, monitor)\u001b[0m\n\u001b[1;32m    594\u001b[0m             \u001b[0msample_weight_val\u001b[0m\u001b[0;34m,\u001b[0m\u001b[0;34m\u001b[0m\u001b[0;34m\u001b[0m\u001b[0m\n\u001b[1;32m    595\u001b[0m             \u001b[0mbegin_at_stage\u001b[0m\u001b[0;34m,\u001b[0m\u001b[0;34m\u001b[0m\u001b[0;34m\u001b[0m\u001b[0m\n\u001b[0;32m--> 596\u001b[0;31m             \u001b[0mmonitor\u001b[0m\u001b[0;34m,\u001b[0m\u001b[0;34m\u001b[0m\u001b[0;34m\u001b[0m\u001b[0m\n\u001b[0m\u001b[1;32m    597\u001b[0m         )\n\u001b[1;32m    598\u001b[0m \u001b[0;34m\u001b[0m\u001b[0m\n",
            "\u001b[0;32m/usr/local/lib/python3.7/dist-packages/sklearn/ensemble/_gb.py\u001b[0m in \u001b[0;36m_fit_stages\u001b[0;34m(self, X, y, raw_predictions, sample_weight, random_state, X_val, y_val, sample_weight_val, begin_at_stage, monitor)\u001b[0m\n\u001b[1;32m    670\u001b[0m                 \u001b[0mrandom_state\u001b[0m\u001b[0;34m,\u001b[0m\u001b[0;34m\u001b[0m\u001b[0;34m\u001b[0m\u001b[0m\n\u001b[1;32m    671\u001b[0m                 \u001b[0mX_csc\u001b[0m\u001b[0;34m,\u001b[0m\u001b[0;34m\u001b[0m\u001b[0;34m\u001b[0m\u001b[0m\n\u001b[0;32m--> 672\u001b[0;31m                 \u001b[0mX_csr\u001b[0m\u001b[0;34m,\u001b[0m\u001b[0;34m\u001b[0m\u001b[0;34m\u001b[0m\u001b[0m\n\u001b[0m\u001b[1;32m    673\u001b[0m             )\n\u001b[1;32m    674\u001b[0m \u001b[0;34m\u001b[0m\u001b[0m\n",
            "\u001b[0;32m/usr/local/lib/python3.7/dist-packages/sklearn/ensemble/_gb.py\u001b[0m in \u001b[0;36m_fit_stage\u001b[0;34m(self, i, X, y, raw_predictions, sample_weight, sample_mask, random_state, X_csc, X_csr)\u001b[0m\n\u001b[1;32m    244\u001b[0m \u001b[0;34m\u001b[0m\u001b[0m\n\u001b[1;32m    245\u001b[0m             \u001b[0mX\u001b[0m \u001b[0;34m=\u001b[0m \u001b[0mX_csr\u001b[0m \u001b[0;32mif\u001b[0m \u001b[0mX_csr\u001b[0m \u001b[0;32mis\u001b[0m \u001b[0;32mnot\u001b[0m \u001b[0;32mNone\u001b[0m \u001b[0;32melse\u001b[0m \u001b[0mX\u001b[0m\u001b[0;34m\u001b[0m\u001b[0;34m\u001b[0m\u001b[0m\n\u001b[0;32m--> 246\u001b[0;31m             \u001b[0mtree\u001b[0m\u001b[0;34m.\u001b[0m\u001b[0mfit\u001b[0m\u001b[0;34m(\u001b[0m\u001b[0mX\u001b[0m\u001b[0;34m,\u001b[0m \u001b[0mresidual\u001b[0m\u001b[0;34m,\u001b[0m \u001b[0msample_weight\u001b[0m\u001b[0;34m=\u001b[0m\u001b[0msample_weight\u001b[0m\u001b[0;34m,\u001b[0m \u001b[0mcheck_input\u001b[0m\u001b[0;34m=\u001b[0m\u001b[0;32mFalse\u001b[0m\u001b[0;34m)\u001b[0m\u001b[0;34m\u001b[0m\u001b[0;34m\u001b[0m\u001b[0m\n\u001b[0m\u001b[1;32m    247\u001b[0m \u001b[0;34m\u001b[0m\u001b[0m\n\u001b[1;32m    248\u001b[0m             \u001b[0;31m# update tree leaves\u001b[0m\u001b[0;34m\u001b[0m\u001b[0;34m\u001b[0m\u001b[0;34m\u001b[0m\u001b[0m\n",
            "\u001b[0;32m/usr/local/lib/python3.7/dist-packages/sklearn/tree/_classes.py\u001b[0m in \u001b[0;36mfit\u001b[0;34m(self, X, y, sample_weight, check_input, X_idx_sorted)\u001b[0m\n\u001b[1;32m   1318\u001b[0m             \u001b[0msample_weight\u001b[0m\u001b[0;34m=\u001b[0m\u001b[0msample_weight\u001b[0m\u001b[0;34m,\u001b[0m\u001b[0;34m\u001b[0m\u001b[0;34m\u001b[0m\u001b[0m\n\u001b[1;32m   1319\u001b[0m             \u001b[0mcheck_input\u001b[0m\u001b[0;34m=\u001b[0m\u001b[0mcheck_input\u001b[0m\u001b[0;34m,\u001b[0m\u001b[0;34m\u001b[0m\u001b[0;34m\u001b[0m\u001b[0m\n\u001b[0;32m-> 1320\u001b[0;31m             \u001b[0mX_idx_sorted\u001b[0m\u001b[0;34m=\u001b[0m\u001b[0mX_idx_sorted\u001b[0m\u001b[0;34m,\u001b[0m\u001b[0;34m\u001b[0m\u001b[0;34m\u001b[0m\u001b[0m\n\u001b[0m\u001b[1;32m   1321\u001b[0m         )\n\u001b[1;32m   1322\u001b[0m         \u001b[0;32mreturn\u001b[0m \u001b[0mself\u001b[0m\u001b[0;34m\u001b[0m\u001b[0;34m\u001b[0m\u001b[0m\n",
            "\u001b[0;32m/usr/local/lib/python3.7/dist-packages/sklearn/tree/_classes.py\u001b[0m in \u001b[0;36mfit\u001b[0;34m(self, X, y, sample_weight, check_input, X_idx_sorted)\u001b[0m\n\u001b[1;32m    418\u001b[0m             )\n\u001b[1;32m    419\u001b[0m \u001b[0;34m\u001b[0m\u001b[0m\n\u001b[0;32m--> 420\u001b[0;31m         \u001b[0mbuilder\u001b[0m\u001b[0;34m.\u001b[0m\u001b[0mbuild\u001b[0m\u001b[0;34m(\u001b[0m\u001b[0mself\u001b[0m\u001b[0;34m.\u001b[0m\u001b[0mtree_\u001b[0m\u001b[0;34m,\u001b[0m \u001b[0mX\u001b[0m\u001b[0;34m,\u001b[0m \u001b[0my\u001b[0m\u001b[0;34m,\u001b[0m \u001b[0msample_weight\u001b[0m\u001b[0;34m)\u001b[0m\u001b[0;34m\u001b[0m\u001b[0;34m\u001b[0m\u001b[0m\n\u001b[0m\u001b[1;32m    421\u001b[0m \u001b[0;34m\u001b[0m\u001b[0m\n\u001b[1;32m    422\u001b[0m         \u001b[0;32mif\u001b[0m \u001b[0mself\u001b[0m\u001b[0;34m.\u001b[0m\u001b[0mn_outputs_\u001b[0m \u001b[0;34m==\u001b[0m \u001b[0;36m1\u001b[0m \u001b[0;32mand\u001b[0m \u001b[0mis_classifier\u001b[0m\u001b[0;34m(\u001b[0m\u001b[0mself\u001b[0m\u001b[0;34m)\u001b[0m\u001b[0;34m:\u001b[0m\u001b[0;34m\u001b[0m\u001b[0;34m\u001b[0m\u001b[0m\n",
            "\u001b[0;31mKeyboardInterrupt\u001b[0m: "
          ]
        }
      ]
    },
    {
      "cell_type": "markdown",
      "metadata": {
        "id": "uVnLIuZlDjDl"
      },
      "source": [
        "- K-Neigbours Regresion was left out because it requires to much time and too much of the computer's resources to be efficient in this project.  \n",
        "- Ridge Regression is left out because there is not advantage to using Ridge over OLS in this case due to the number of observations. Results were exactly the same.\n",
        "- Decision Tree Regressor overfits the data all the way through. These results are not useful to us.\n",
        "- Testing scores for OLS and SVR are both constant throughout, though OLS has better scores.\n",
        "- The testing score for Gradient Boosting Regressor gets better as more observations are added."
      ]
    },
    {
      "cell_type": "markdown",
      "metadata": {
        "id": "O_AxjwJ3DjDl"
      },
      "source": [
        "## 5: Model Evaluation\n",
        "Since we got by far the best results out of the Gradient Boosting Regressor, we will calculate feature importances of each of the attributes and test the model again after dropping some attributes."
      ]
    },
    {
      "cell_type": "markdown",
      "metadata": {
        "id": "KlpsHpgBDjDl"
      },
      "source": [
        "### Feature Importances"
      ]
    },
    {
      "cell_type": "code",
      "metadata": {
        "execution": {
          "iopub.status.busy": "2021-11-30T15:41:01.771533Z",
          "iopub.execute_input": "2021-11-30T15:41:01.771938Z",
          "iopub.status.idle": "2021-11-30T15:41:02.186767Z",
          "shell.execute_reply.started": "2021-11-30T15:41:01.771888Z",
          "shell.execute_reply": "2021-11-30T15:41:02.185948Z"
        },
        "trusted": true,
        "id": "fNZ7SsA-DjDl"
      },
      "source": [
        "# Using the Gradient Boosting Model to calculate feature importances\n",
        "IFe = BOOST.named_steps[\"gradientboostingregressor\"].feature_importances_\n",
        "print(pd.DataFrame(IFe, index=X_copy.columns))\n",
        "pd.DataFrame(IFe, index=X_copy.columns).plot.bar()\n",
        "plt.show()"
      ],
      "execution_count": null,
      "outputs": []
    },
    {
      "cell_type": "code",
      "metadata": {
        "execution": {
          "iopub.status.busy": "2021-11-30T15:41:02.188168Z",
          "iopub.execute_input": "2021-11-30T15:41:02.188364Z",
          "iopub.status.idle": "2021-11-30T15:41:02.194043Z",
          "shell.execute_reply.started": "2021-11-30T15:41:02.18834Z",
          "shell.execute_reply": "2021-11-30T15:41:02.193019Z"
        },
        "trusted": true,
        "id": "EJRjpsgWDjDl"
      },
      "source": [
        "# Select and display features with less than 0.01 importance\n",
        "selection = X_copy.columns[IFe<0.01]\n",
        "print(selection)"
      ],
      "execution_count": null,
      "outputs": []
    },
    {
      "cell_type": "markdown",
      "metadata": {
        "id": "cyV-5tsoDjDl"
      },
      "source": [
        "Page views is by far the most important. We will remove the columns with a feauture importance of less than 0.01 as they don't contribute anything significant to the results. According to the feature importances, most of the columns are not very important. We expect that the RMSE will increase marginally (not enough to really affect the accuracy), since some information that the Gradient Boosting would have otherwise used is lost, however, the algorithm should be a lot faster to run with fewer attributes."
      ]
    },
    {
      "cell_type": "code",
      "metadata": {
        "execution": {
          "iopub.status.busy": "2021-11-30T16:05:48.163879Z",
          "iopub.execute_input": "2021-11-30T16:05:48.164159Z",
          "iopub.status.idle": "2021-11-30T16:06:03.405722Z",
          "shell.execute_reply.started": "2021-11-30T16:05:48.164129Z",
          "shell.execute_reply": "2021-11-30T16:06:03.404922Z"
        },
        "trusted": true,
        "id": "OpvFfW2kDjDl"
      },
      "source": [
        "# Fit the data to the ordinal encoder\n",
        "X_copy = X_train\n",
        "X_copy_test = X_test\n",
        "encoder = OrdinalEncoder()\n",
        "encoder.fit(X)\n",
        "\n",
        "X_train = encoder.transform(X_train)\n",
        "X_test = encoder.transform(X_test)"
      ],
      "execution_count": null,
      "outputs": []
    },
    {
      "cell_type": "code",
      "metadata": {
        "execution": {
          "iopub.status.busy": "2021-11-30T16:07:17.758066Z",
          "iopub.execute_input": "2021-11-30T16:07:17.758347Z",
          "iopub.status.idle": "2021-11-30T16:24:06.058389Z",
          "shell.execute_reply.started": "2021-11-30T16:07:17.758318Z",
          "shell.execute_reply": "2021-11-30T16:24:06.05643Z"
        },
        "trusted": true,
        "id": "WlFdGk5ZDjDm"
      },
      "source": [
        "# Create a list of columns to drop\n",
        "to_drop = ['channelGrouping', 'device_browser', 'device_operatingSystem', 'device_deviceCategory', 'geoNetwork_continent', 'geoNetwork_subContinent','geoNetwork_region', 'geoNetwork_metro', 'geoNetwork_city','geoNetwork_networkDomain', 'trafficSource_campaign','trafficSource_medium', \n",
        "          '_weekday', '_day', '_year', '_visitHour']\n",
        "\n",
        "X_train = pd.DataFrame(data = X_train, index = X_copy.index, columns = X_copy.columns)\n",
        "X_test = pd.DataFrame(data = X_test, index = X_copy_test.index, columns = X_copy_test.columns)\n",
        "\n",
        "X_train.isna().sum()\n",
        "# Drop columns with low feature importance\n",
        "X_train.drop(to_drop, axis=1, inplace=True)\n",
        "X_test.drop(to_drop, axis=1, inplace=True)\n",
        "\n",
        "# Create a new model dictionary\n",
        "new_model_dict = {'BOOST':BOOST}\n",
        "\n",
        "for name, model in new_model_dict.items():\n",
        "    print('Evaluation of -----',name)\n",
        "    evaluation(model, X_train, X_test, y_train, y_test)"
      ],
      "execution_count": null,
      "outputs": []
    },
    {
      "cell_type": "markdown",
      "metadata": {
        "id": "sP51Tv0_DjDm"
      },
      "source": [
        "## Conclusions\n",
        "- As expected there was a marginal increase in RMSE after removing features \n",
        "- Final testing RMSE of 1.66 which is less than our target of 2.0\n",
        "- We have learned through the process cleaning an feature selection that only 8 of the total of 55 columns were actually useful in predicting the Transaction Revenue\n",
        "- The most important features are: Total Page Views, Country, Traffic Source (e.g. Google, Baidu, Bing), and Total Hits (total interactions with website)\n",
        "\n",
        "### How does this help businesses?\n",
        "- Businesses can focus marketing on certain regions\n",
        "- It is important for them to get as much interaction with their website as possible\n",
        "- This interaction can come in many forms e.g. social media views, likes, ads, clicks "
      ]
    }
  ]
}